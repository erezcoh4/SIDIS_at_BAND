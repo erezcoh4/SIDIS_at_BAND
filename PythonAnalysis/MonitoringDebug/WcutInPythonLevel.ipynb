{
 "cells": [
  {
   "cell_type": "markdown",
   "id": "1e30185d-b4cf-4059-b94e-9171f6fe8c0e",
   "metadata": {
    "tags": []
   },
   "source": [
    "# $W>2.5$ GeV cut on untagged data: is there a difference between C++ and Python level?\n",
    "last edit Sep-17, 2022"
   ]
  },
  {
   "cell_type": "markdown",
   "id": "79a1f377-5bd5-43ba-8a4a-4cb54f37a6bc",
   "metadata": {
    "tags": []
   },
   "source": [
    "## Imports and definitions"
   ]
  },
  {
   "cell_type": "code",
   "execution_count": 1,
   "id": "004e7dab-d231-4947-8ab5-4256ea735722",
   "metadata": {},
   "outputs": [],
   "source": [
    "import sys; \n",
    "software_path = '/Users/erezcohen/Desktop/Software/'\n",
    "sys.path.insert(0, software_path + '/mySoftware/Python/');\n",
    "sys.path.insert(0, software_path + '/CLAS12/BAND/SIDIS_at_BAND/PythonAnalysis/AcceptanceCorrections/');\n",
    "sys.path.insert(0, software_path + '/CLAS12/BAND/SIDIS_at_BAND/PythonAnalysis/python_auxiliary/');\n",
    "from my_tools                     import *; \n",
    "from plot_tools                   import *;\n",
    "from my_data_analysis_tools       import *;\n",
    "from acceptance_correction_tools  import *;\n",
    "from sidis_analysis_tools         import *;\n",
    "# from event_selection_tools        import *;"
   ]
  },
  {
   "cell_type": "code",
   "execution_count": 2,
   "id": "851ff650-2150-418c-aba3-d02dd579452f",
   "metadata": {},
   "outputs": [],
   "source": [
    "%config InlineBackend.figure_format = 'retina'\n",
    "plt.rcParams['mathtext.fontset']    = 'stix'\n",
    "plt.rcParams['font.family']         = 'STIXGeneral'"
   ]
  },
  {
   "cell_type": "markdown",
   "id": "64686df2-853e-4af6-8a73-3909b0743e0b",
   "metadata": {
    "tags": []
   },
   "source": [
    "# (1) Load data:\n",
    "All runs of $(e,e'\\pi)$ data and all runs of $(e,e'\\pi n)$ - as with a small number of runs normalization is off"
   ]
  },
  {
   "cell_type": "code",
   "execution_count": 3,
   "id": "9307fe9a-39be-42b0-95a9-7222e4a9dac8",
   "metadata": {},
   "outputs": [],
   "source": [
    "Nruns = 1"
   ]
  },
  {
   "cell_type": "code",
   "execution_count": 4,
   "id": "9b8a77ca-8f37-457f-9702-4769540cf16d",
   "metadata": {},
   "outputs": [
    {
     "name": "stdout",
     "output_type": "stream",
     "text": [
      "Run number  6421 (1/1 runs)\n",
      "Loaded 580329  d(e,e'π+) events\n",
      "Loaded 261185  d(e,e'π-) events\n",
      "Done loading files.\n",
      "\n",
      "Total statistics:\n",
      "580329  d(e,e'π+)  events\n",
      "261185  d(e,e'π-)  events\n",
      "Applying selection cuts not previously imposed\n",
      "(1) Applying cuts to d(e,e'π) data\n",
      "Apply a π+/π- acceptance matching cut on the in p-theta plane\n",
      "Applying p-theta on cut for piplus on 580329 events\n",
      "101318 in sector 1\n",
      "97822 in sector 2\n",
      "97176 in sector 3\n",
      "96421 in sector 4\n",
      "98778 in sector 5\n",
      "88814 in sector 6\n",
      "Applying p-theta on cut for piminus on 261185 events\n",
      "44143 in sector 1\n",
      "43794 in sector 2\n",
      "43193 in sector 3\n",
      "43429 in sector 4\n",
      "43687 in sector 5\n",
      "42939 in sector 6\n",
      "Apply a cut on the missing mass of a (e,e'π) reaction: 1.3<Mx<5.0 GeV/c2\n",
      "(e,e π+ )\n",
      "580329 events after original cut (100.0 %)\n",
      "422567 events after p-theta cut (72.8 %)\n",
      "358324 events after Mx cut (61.7 %)\n",
      "246777 events after Kinematical cut (42.5 %)\n",
      "(e,e π- )\n",
      "261185 events after original cut (100.0 %)\n",
      "253926 events after p-theta cut (97.2 %)\n",
      "223527 events after Mx cut (85.6 %)\n",
      "151144 events after Kinematical cut (57.9 %)\n",
      " \n",
      "Done applying event-selection cuts\n"
     ]
    }
   ],
   "source": [
    "load_SIDIS_data(Nruns = Nruns, do_e_e_pi=True, \n",
    "                subdirname = \"code_versions_July_Aug_2022/Sep_14_Wcut0.5_commit_869e7a8\",\n",
    "                do_e_e_pi_n=False, do_e_e_pi_FreeP=False)\n",
    "e_e_pi_pass_cuts_Python,_,_,_ = apply_further_selection_cuts_to_data();"
   ]
  },
  {
   "cell_type": "code",
   "execution_count": 5,
   "id": "4baf0a28-5089-4cf6-8dab-c7f87854882e",
   "metadata": {},
   "outputs": [
    {
     "name": "stdout",
     "output_type": "stream",
     "text": [
      "Run number  6421 (1/1 runs)\n",
      "Loaded 385297  d(e,e'π+) events\n",
      "Loaded 162638  d(e,e'π-) events\n",
      "Done loading files.\n",
      "\n",
      "Total statistics:\n",
      "385297  d(e,e'π+)  events\n",
      "162638  d(e,e'π-)  events\n",
      "Applying selection cuts not previously imposed\n",
      "(1) Applying cuts to d(e,e'π) data\n",
      "Apply a π+/π- acceptance matching cut on the in p-theta plane\n",
      "Applying p-theta on cut for piplus on 385297 events\n",
      "66888 in sector 1\n",
      "64718 in sector 2\n",
      "65112 in sector 3\n",
      "64743 in sector 4\n",
      "65374 in sector 5\n",
      "58462 in sector 6\n",
      "Applying p-theta on cut for piminus on 162638 events\n",
      "27498 in sector 1\n",
      "27281 in sector 2\n",
      "26959 in sector 3\n",
      "27151 in sector 4\n",
      "27016 in sector 5\n",
      "26733 in sector 6\n",
      "Apply a cut on the missing mass of a (e,e'π) reaction: 1.3<Mx<5.0 GeV/c2\n",
      "(e,e π+ )\n",
      "385297 events after original cut (100.0 %)\n",
      "261356 events after p-theta cut (67.8 %)\n",
      "247299 events after Mx cut (64.2 %)\n",
      "246777 events after Kinematical cut (64.0 %)\n",
      "(e,e π- )\n",
      "162638 events after original cut (100.0 %)\n",
      "157486 events after p-theta cut (96.8 %)\n",
      "151486 events after Mx cut (93.1 %)\n",
      "151144 events after Kinematical cut (92.9 %)\n",
      " \n",
      "Done applying event-selection cuts\n"
     ]
    }
   ],
   "source": [
    "load_SIDIS_data(Nruns = Nruns, do_e_e_pi=True, \n",
    "                subdirname = \"code_versions_July_Aug_2022/Sep_14_Wcut2.5_commit_741b80a\",\n",
    "                do_e_e_pi_n=False, do_e_e_pi_FreeP=False)\n",
    "e_e_pi_pass_cuts_CPP,_,_,_ = apply_further_selection_cuts_to_data();"
   ]
  },
  {
   "cell_type": "code",
   "execution_count": 6,
   "id": "45446c4f-12af-4440-a6c7-857a7e7c7177",
   "metadata": {},
   "outputs": [
    {
     "data": {
      "text/plain": [
       "{'piplus':           runnum      evnum       e_P   e_Theta     e_Phi      pi_P  pi_Theta  \\\n",
       " 1.0         6421       1362  4.421875  0.258057  0.933105  3.615234  0.370605   \n",
       " 3.0         6421       2044  5.386719  0.242310 -3.046875  2.419922  0.406494   \n",
       " 4.0         6421       2412  3.458984  0.289551 -2.156250  2.156250  0.252441   \n",
       " 5.0         6421       2975  4.519531  0.212646 -0.111328  4.429688  0.183960   \n",
       " 8.0         6421       3738  3.339844  0.342529 -3.011719  2.210938  0.559082   \n",
       " ...          ...        ...       ...       ...       ...       ...       ...   \n",
       " 385289.0    6421  139333010  5.093750  0.268066 -0.016510  1.816406  0.415039   \n",
       " 385291.0    6421  139333801  3.339844  0.253662 -0.720215  3.781250  0.313232   \n",
       " 385292.0    6421  139334118  3.242188  0.367188 -1.696289  2.785156  0.266113   \n",
       " 385293.0    6421  139334178  5.988281  0.202393 -1.993164  2.962891  0.373291   \n",
       " 385294.0    6421  139334832  3.310547  0.395752 -0.054382  2.738281  0.284180   \n",
       " \n",
       "             pi_Phi        Q2        xB  e_DC_sector  pi_DC_sector  \\\n",
       " 1.0      -2.248047  2.984375  0.275391            2             5   \n",
       " 3.0       0.034973  3.210938  0.355469            4             1   \n",
       " 4.0       1.050781  2.935547  0.232056            5             2   \n",
       " 5.0      -3.044922  2.076172  0.194702            1             4   \n",
       " 8.0       0.419922  3.958984  0.307617            4             2   \n",
       " ...            ...       ...       ...          ...           ...   \n",
       " 385289.0  2.544922  3.710938  0.387207            1             4   \n",
       " 385291.0  1.606445  2.177734  0.169189            6             3   \n",
       " 385292.0  0.864258  4.410156  0.337646            5             2   \n",
       " 385293.0  0.958496  2.492188  0.315186            5             2   \n",
       " 385294.0 -2.074219  5.218750  0.403564            1             5   \n",
       " \n",
       "           pi_qFrame_pT  pi_qFrame_pL       Zpi         W       M_x    weight  \n",
       " 1.0           0.656738      3.554688  0.625977  2.955078  1.743164  0.000002  \n",
       " 3.0           0.369385      2.392578  0.503906  2.589844  1.844727  0.000002  \n",
       " 4.0           0.238037      2.142578  0.320557  3.253906  2.691406  0.000002  \n",
       " 5.0           0.183350      4.425781  0.779785  3.076172  1.641602  0.000002  \n",
       " 8.0           0.882324      2.027344  0.322998  3.128906  2.054688  0.000002  \n",
       " ...                ...           ...       ...       ...       ...       ...  \n",
       " 385289.0      0.441162      1.761719  0.356689  2.597656  1.995117  0.000002  \n",
       " 385291.0      0.922363      3.667969  0.551758  3.402344  2.009766  0.000002  \n",
       " 385292.0      0.437988      2.751953  0.400879  3.085938  2.341797  0.000002  \n",
       " 385293.0      0.350098      2.941406  0.704102  2.509766  1.493164  0.000002  \n",
       " 385294.0      0.703613      2.644531  0.397949  2.931641  2.025391  0.000002  \n",
       " \n",
       " [246777 rows x 18 columns],\n",
       " 'piminus':           runnum      evnum       e_P   e_Theta     e_Phi      pi_P  pi_Theta  \\\n",
       " 0.0         6421          7  4.257812  0.249390 -0.697266  3.693359  0.281006   \n",
       " 2.0         6421       1072  4.480469  0.225098  0.164917  1.718750  0.585449   \n",
       " 3.0         6421       1753  5.265625  0.253906  0.404785  2.931641  0.404297   \n",
       " 4.0         6421       2584  3.357422  0.297852  2.414062  2.548828  0.336426   \n",
       " 5.0         6421       2896  5.199219  0.238770  2.419922  2.914062  0.270996   \n",
       " ...          ...        ...       ...       ...       ...       ...       ...   \n",
       " 162633.0    6421  139333816  4.632812  0.311768 -1.829102  4.300781  0.273193   \n",
       " 162634.0    6421  139335260  4.351562  0.353516 -0.900391  2.527344  0.271240   \n",
       " 162635.0    6421  139335345  5.656250  0.194214 -2.994141  1.445312  0.395752   \n",
       " 162636.0    6421  139335434  5.007812  0.279297  0.815918  2.425781  0.364014   \n",
       " 162637.0    6421  139335763  3.988281  0.230591 -1.013672  2.251953  0.378906   \n",
       " \n",
       "             pi_Phi        Q2        xB  e_DC_sector  pi_DC_sector  \\\n",
       " 0.0       2.166016  2.685547  0.240845            6             3   \n",
       " 2.0       3.099609  2.306641  0.215088            1             4   \n",
       " 3.0      -2.597656  3.439453  0.371338            1             4   \n",
       " 4.0      -1.537109  3.015625  0.234863            3             5   \n",
       " 5.0      -0.686523  3.009766  0.320801            3             6   \n",
       " ...            ...       ...       ...          ...           ...   \n",
       " 162633.0  1.424805  4.554688  0.436035            5             2   \n",
       " 162634.0  2.333984  5.488281  0.500000            6             3   \n",
       " 162635.0  0.090698  2.167969  0.254395            4             1   \n",
       " 162636.0 -2.203125  3.962891  0.406982            2             5   \n",
       " 162637.0  1.556641  2.154297  0.184814            6             2   \n",
       " \n",
       "           pi_qFrame_pT  pi_qFrame_pL       Zpi         W       M_x    weight  \n",
       " 0.0           0.461426      3.664062  0.622070  3.056641  1.918945  0.000002  \n",
       " 2.0           0.701660      1.569336  0.301514  3.050781  2.220703  0.000002  \n",
       " 3.0           0.459229      2.896484  0.594727  2.589844  1.666016  0.000002  \n",
       " 4.0           0.654785      2.462891  0.373291  3.271484  2.404297  0.000002  \n",
       " 5.0           0.109680      2.912109  0.583496  2.693359  1.856445  0.000002  \n",
       " ...                ...           ...       ...       ...       ...       ...  \n",
       " 162633.0      0.185913      4.296875  0.772949  2.601562  1.428711  0.000002  \n",
       " 162634.0      0.096436      2.527344  0.432861  2.523438  1.962891  0.000002  \n",
       " 162635.0      0.239014      1.424805  0.319336  2.689453  2.226562  0.000002  \n",
       " 162636.0      0.286865      2.408203  0.468018  2.580078  1.916992  0.000002  \n",
       " 162637.0      0.599121      2.171875  0.363281  3.222656  2.417969  0.000002  \n",
       " \n",
       " [151144 rows x 18 columns]}"
      ]
     },
     "execution_count": 6,
     "metadata": {},
     "output_type": "execute_result"
    }
   ],
   "source": [
    "# e_e_pi_pass_cuts_CPP"
   ]
  },
  {
   "cell_type": "code",
   "execution_count": null,
   "id": "b4ec2877-9546-4b43-a869-acc570b819d7",
   "metadata": {},
   "outputs": [],
   "source": []
  },
  {
   "cell_type": "code",
   "execution_count": null,
   "id": "21e60631-4920-44ed-acad-383c30a874c4",
   "metadata": {},
   "outputs": [],
   "source": []
  },
  {
   "cell_type": "code",
   "execution_count": null,
   "id": "669c0413-711c-4c23-a231-480e8f16804f",
   "metadata": {},
   "outputs": [],
   "source": []
  },
  {
   "cell_type": "code",
   "execution_count": null,
   "id": "b8ea96df-0a18-4a88-a089-17c397de50cf",
   "metadata": {},
   "outputs": [],
   "source": []
  },
  {
   "cell_type": "code",
   "execution_count": null,
   "id": "ef451247-2af7-457b-a743-4c369a515169",
   "metadata": {},
   "outputs": [],
   "source": []
  },
  {
   "cell_type": "code",
   "execution_count": null,
   "id": "9435c37b-27db-4ee4-a338-b4bd4a0b8427",
   "metadata": {},
   "outputs": [],
   "source": []
  },
  {
   "cell_type": "code",
   "execution_count": null,
   "id": "8d48decd-e06e-4fe5-8327-cbd7d2a9be80",
   "metadata": {},
   "outputs": [],
   "source": []
  },
  {
   "cell_type": "code",
   "execution_count": null,
   "id": "c1c849b6-c075-4767-99f4-4b429b9b3b60",
   "metadata": {},
   "outputs": [],
   "source": []
  },
  {
   "cell_type": "code",
   "execution_count": null,
   "id": "914724d2-3c1f-4b7f-a443-c21fa2a912e6",
   "metadata": {},
   "outputs": [],
   "source": []
  },
  {
   "cell_type": "code",
   "execution_count": 7,
   "id": "f96f5c21-7e30-43d9-b74f-ebd9cad2b1c0",
   "metadata": {},
   "outputs": [],
   "source": [
    "# load_SIDIS_data( Nruns = 1, do_e_e_pi=True, \n",
    "#                 subdirname = \"With_W0.5_cut\",\n",
    "#                 do_e_e_pi_n=False, \n",
    "#                 do_e_e_pi_FreeP=False,\n",
    "#                 fdebug=1)\n",
    "# # \n",
    "# No_Wcut_e_e_pi_pass_cuts,_,_,_ = apply_further_selection_cuts_to_data();"
   ]
  },
  {
   "cell_type": "code",
   "execution_count": 8,
   "id": "524fbee5-b5da-4244-9730-1d25f5b7b4f8",
   "metadata": {},
   "outputs": [],
   "source": [
    "# load_SIDIS_data( Nruns = 1, do_e_e_pi=True, \n",
    "#                 subdirname = \"With_W2.5_cut\",\n",
    "#                 do_e_e_pi_n=False, \n",
    "#                 do_e_e_pi_FreeP=False,\n",
    "#                 fdebug=1)\n",
    "\n",
    "# With_Wcut_e_e_pi_pass_cuts,_,_,_ = apply_further_selection_cuts_to_data();"
   ]
  },
  {
   "cell_type": "code",
   "execution_count": 9,
   "id": "36bc1d78-25ee-4b7f-b020-9748ead85093",
   "metadata": {},
   "outputs": [
    {
     "ename": "NameError",
     "evalue": "name 'nominal_e_e_pi_pass_cuts' is not defined",
     "output_type": "error",
     "traceback": [
      "\u001b[0;31m---------------------------------------------------------------------------\u001b[0m",
      "\u001b[0;31mNameError\u001b[0m                                 Traceback (most recent call last)",
      "\u001b[0;32m/var/folders/42/n5_htl9n34j9wpgd5rqsnmv40000gn/T/ipykernel_20300/965582146.py\u001b[0m in \u001b[0;36m<module>\u001b[0;34m\u001b[0m\n\u001b[0;32m----> 1\u001b[0;31m for df_dict,df_label in zip([nominal_e_e_pi_pass_cuts,No_Wcut_e_e_pi_pass_cuts],\n\u001b[0m\u001b[1;32m      2\u001b[0m                             [\"with $W>2.5$ cut in the C-script\",\"no $W$ cut in C-script\"]):\n\u001b[1;32m      3\u001b[0m     \u001b[0mprint\u001b[0m\u001b[0;34m(\u001b[0m\u001b[0mdf_label\u001b[0m\u001b[0;34m)\u001b[0m\u001b[0;34m\u001b[0m\u001b[0;34m\u001b[0m\u001b[0m\n\u001b[1;32m      4\u001b[0m     \u001b[0;32mfor\u001b[0m \u001b[0mpi_ch\u001b[0m\u001b[0;34m,\u001b[0m\u001b[0mpi_print\u001b[0m \u001b[0;32min\u001b[0m \u001b[0mzip\u001b[0m\u001b[0;34m(\u001b[0m\u001b[0mpi_charge_names\u001b[0m\u001b[0;34m,\u001b[0m\u001b[0mpi_prints\u001b[0m\u001b[0;34m)\u001b[0m\u001b[0;34m:\u001b[0m\u001b[0;34m\u001b[0m\u001b[0;34m\u001b[0m\u001b[0m\n\u001b[1;32m      5\u001b[0m         \u001b[0mprint\u001b[0m\u001b[0;34m(\u001b[0m\u001b[0mlen\u001b[0m\u001b[0;34m(\u001b[0m\u001b[0mdf_dict\u001b[0m\u001b[0;34m[\u001b[0m\u001b[0mpi_ch\u001b[0m\u001b[0;34m]\u001b[0m\u001b[0;34m)\u001b[0m\u001b[0;34m,\u001b[0m\u001b[0;34m'events with '\u001b[0m\u001b[0;34m,\u001b[0m\u001b[0mpi_print\u001b[0m\u001b[0;34m)\u001b[0m\u001b[0;34m\u001b[0m\u001b[0;34m\u001b[0m\u001b[0m\n",
      "\u001b[0;31mNameError\u001b[0m: name 'nominal_e_e_pi_pass_cuts' is not defined"
     ]
    }
   ],
   "source": [
    "for df_dict,df_label in zip([nominal_e_e_pi_pass_cuts,No_Wcut_e_e_pi_pass_cuts],\n",
    "                            [\"with $W>2.5$ cut in the C-script\",\"no $W$ cut in C-script\"]):\n",
    "    print(df_label)\n",
    "    for pi_ch,pi_print in zip(pi_charge_names,pi_prints):\n",
    "        print(len(df_dict[pi_ch]),'events with ',pi_print)\n",
    "        \n",
    "    print()"
   ]
  },
  {
   "cell_type": "code",
   "execution_count": null,
   "id": "f0425e0b-d787-47c3-bd56-e482fe4207b2",
   "metadata": {},
   "outputs": [],
   "source": [
    "fig = plt.figure(figsize=(16,6), tight_layout=True)\n",
    "\n",
    "for pi_ch,pi_print,pi_idx in zip(pi_charge_names,pi_prints,[1,2]):\n",
    "    ax = fig.add_subplot(1,2,pi_idx)\n",
    "\n",
    "    for df_dict,df_label,df_color in zip([nominal_e_e_pi_pass_cuts,No_Wcut_e_e_pi_pass_cuts],\n",
    "                                         [\"with $W>2.5$ cut in the C-script\",\"no $W$ cut in C-script\"],\n",
    "                                         ['k','forestgreen']):\n",
    "        df = df_dict[pi_ch]\n",
    "\n",
    "        plot_step_hist( df.W, bins=np.linspace(2,4.,100), density=False,\n",
    "                       color=df_color, label=df_label)\n",
    "\n",
    "    set_axes(ax,'$W$ [GeV/c$^2$]',\n",
    "                 'Frequency [a.u.]' if pi_idx==1 else '' , \n",
    "             remove_ticks_y=False if pi_idx==1 else True, \n",
    "                 title=\"$(e,e'\"+pi_print+\")$\",\n",
    "                 do_add_grid=True, \n",
    "             do_add_legend=True if pi_idx==1 else False);"
   ]
  },
  {
   "cell_type": "code",
   "execution_count": null,
   "id": "3498166e-2916-40f2-83ac-112835178439",
   "metadata": {},
   "outputs": [],
   "source": [
    "df.keys()"
   ]
  },
  {
   "cell_type": "code",
   "execution_count": null,
   "id": "535f5a5a-1462-44d7-8c9e-8240dfa26cbf",
   "metadata": {},
   "outputs": [],
   "source": [
    "# var,vlabel,bins = 'xB',\"$x_B$\",np.linspace(0,3.6,100)\n",
    "# var,vlabel,bins = 'e_Theta',\"$\\theta_e$\",np.linspace(0,2,100)\n",
    "# var,vlabel,bins = 'pi_Theta',\"$\\theta_\\pi$\",np.linspace(0,2,100)\n",
    "# var,vlabel,bins = 'weight',\"weight\",np.linspace(0.1e-6,0.2e-4,100)\n",
    "var,vlabel,bins = 'evnum',\"evnum\",np.linspace(0.622e8,0.623e8,100)# np.linspace(0,1.5e8,100)#np.linspace(0.622e8,0.623e8,100)# np.linspace(0,1.5e8,100)\n",
    "fig = plt.figure(figsize=(16,6), tight_layout=True)\n",
    "for pi_ch,pi_print,pi_idx in zip(pi_charge_names,pi_prints,[1,2]):\n",
    "    ax = fig.add_subplot(1,2,pi_idx)\n",
    "    for df_dict,df_label,df_color in zip([nominal_e_e_pi_pass_cuts,No_Wcut_e_e_pi_pass_cuts],\n",
    "                                         [\"with $W>2.5$ cut in the C-script\",\"no $W$ cut in C-script\"],\n",
    "                                         ['k','forestgreen']):\n",
    "        df = df_dict[pi_ch]\n",
    "        plot_step_hist( df[var], bins=bins, density=False,color=df_color, label=df_label, do_plot_errorbar=False)\n",
    "    set_axes(ax,vlabel,'Frequency [a.u.]' if pi_idx==1 else '' , \n",
    "             remove_ticks_y=False if pi_idx==1 else False, title=\"$(e,e'\"+pi_print+\")$\",\n",
    "             do_add_grid=True, do_add_legend=False if pi_idx==1 else False);"
   ]
  },
  {
   "cell_type": "markdown",
   "id": "62b0e388-3d08-4aeb-9059-410bdeff1dd5",
   "metadata": {
    "tags": []
   },
   "source": [
    "# (2) Apply selection cuts not previously imposed\n",
    "Except from $M_x$ cut"
   ]
  },
  {
   "cell_type": "markdown",
   "id": "0f65765c-6d65-4920-9e24-f1ee2d093cb6",
   "metadata": {
    "tags": []
   },
   "source": [
    "# (3) plot $M_x$ for $\\pi^+$ and $\\pi^-$"
   ]
  },
  {
   "cell_type": "code",
   "execution_count": null,
   "id": "16ee02c1-02bb-48f0-b1a5-cd35d765b0cc",
   "metadata": {},
   "outputs": [],
   "source": [
    "fig = plt.figure(figsize=(9,6), tight_layout=True)\n",
    "ax = fig.add_subplot(1,1,1)\n",
    "for pi_ch,pi_print,pi_label,pi_color,pi_idx in zip(pi_charge_names,pi_prints,pi_labels,pi_colors,[1,2]):\n",
    "\n",
    "    df = e_e_pi_pass_cuts[pi_ch]\n",
    "    plot_step_hist( df.M_x, bins=np.linspace(.75,3.,51), density=True,\n",
    "                   color=pi_color, label=\"$(e,e'\"+pi_print+\")$\")\n",
    "\n",
    "set_axes(ax,'$M_x$ [GeV/c$^2$]',\n",
    "             'Frequency [a.u.]' , \n",
    "             title=\"$W$ distribution for untagged events\",\n",
    "             do_add_grid=True, do_add_legend=True);"
   ]
  }
 ],
 "metadata": {
  "kernelspec": {
   "display_name": "Python 3 (ipykernel)",
   "language": "python",
   "name": "python3"
  },
  "language_info": {
   "codemirror_mode": {
    "name": "ipython",
    "version": 3
   },
   "file_extension": ".py",
   "mimetype": "text/x-python",
   "name": "python",
   "nbconvert_exporter": "python",
   "pygments_lexer": "ipython3",
   "version": "3.9.13"
  }
 },
 "nbformat": 4,
 "nbformat_minor": 5
}
