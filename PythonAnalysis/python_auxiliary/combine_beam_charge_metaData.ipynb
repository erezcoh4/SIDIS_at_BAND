{
 "cells": [
  {
   "cell_type": "markdown",
   "id": "95b7da66-ab9c-411d-a4c1-12e99a4cad25",
   "metadata": {
    "tags": []
   },
   "source": [
    "# Combine beam charge meta data\n",
    "last edit Jan-31, 2023"
   ]
  },
  {
   "cell_type": "markdown",
   "id": "e4fb031e-a3e0-455c-92e6-ff5c4bf88910",
   "metadata": {
    "jp-MarkdownHeadingCollapsed": true,
    "tags": []
   },
   "source": [
    "## Imports and definitions"
   ]
  },
  {
   "cell_type": "code",
   "execution_count": 1,
   "id": "004e7dab-d231-4947-8ab5-4256ea735722",
   "metadata": {},
   "outputs": [],
   "source": [
    "import sys; \n",
    "software_path = '/Users/erezcohen/Desktop/Software/'\n",
    "sys.path.insert(0, software_path + '/mySoftware/Python/');\n",
    "sys.path.insert(0, software_path + '/CLAS12/BAND/SIDIS_at_BAND/PythonAnalysis/AcceptanceCorrections/');\n",
    "sys.path.insert(0, software_path + '/CLAS12/BAND/SIDIS_at_BAND/PythonAnalysis/python_auxiliary/');\n",
    "from my_tools                     import *; \n",
    "from plot_tools                   import *;\n",
    "from my_data_analysis_tools       import *;\n",
    "from acceptance_correction_tools  import *;\n",
    "from sidis_analysis_tools         import *;"
   ]
  },
  {
   "cell_type": "code",
   "execution_count": 2,
   "id": "851ff650-2150-418c-aba3-d02dd579452f",
   "metadata": {},
   "outputs": [],
   "source": [
    "%config InlineBackend.figure_format = 'retina'\n",
    "plt.rcParams['mathtext.fontset']    = 'stix'\n",
    "plt.rcParams['font.family']         = 'STIXGeneral'"
   ]
  },
  {
   "cell_type": "code",
   "execution_count": 3,
   "id": "31b05bb0-2511-449a-86db-e42435ec1263",
   "metadata": {},
   "outputs": [],
   "source": [
    "figures_path = '/Users/erezcohen/Desktop/Projects/BAND/AnalysisNote/Figures/runsInformation/'"
   ]
  },
  {
   "cell_type": "markdown",
   "id": "c2b5f971-a488-422e-9388-509e63f66e33",
   "metadata": {},
   "source": [
    "## load run-by-run beam charges and combine them"
   ]
  },
  {
   "cell_type": "code",
   "execution_count": 38,
   "id": "c15eb0b2-04e1-4aa7-a4dd-4acccc5bdead",
   "metadata": {},
   "outputs": [],
   "source": [
    "def beam_energy_from_run(run,rungroup = 'rgb'):\n",
    "    if rungroup == 'rga':\n",
    "        return 10.6  \n",
    "    if rungroup == 'rgb':\n",
    "        if (6400 < run) and (run < 6600):\n",
    "            return 10.2\n",
    "        elif (11360 < run) and (run < 11570):\n",
    "            return 10.4\n",
    "        elif (6160 < run) and (run < 6400):\n",
    "            return 10.6        \n",
    "    return 0"
   ]
  },
  {
   "cell_type": "code",
   "execution_count": 43,
   "id": "3ebdd30b-b4b1-49a0-93c5-5f4968236b89",
   "metadata": {},
   "outputs": [
    {
     "data": {
      "text/html": [
       "<div>\n",
       "<style scoped>\n",
       "    .dataframe tbody tr th:only-of-type {\n",
       "        vertical-align: middle;\n",
       "    }\n",
       "\n",
       "    .dataframe tbody tr th {\n",
       "        vertical-align: top;\n",
       "    }\n",
       "\n",
       "    .dataframe thead th {\n",
       "        text-align: right;\n",
       "    }\n",
       "</style>\n",
       "<table border=\"1\" class=\"dataframe\">\n",
       "  <thead>\n",
       "    <tr style=\"text-align: right;\">\n",
       "      <th></th>\n",
       "      <th>runnum</th>\n",
       "      <th>beam_charge</th>\n",
       "      <th>Unnamed: 2</th>\n",
       "      <th>Ebeam</th>\n",
       "    </tr>\n",
       "  </thead>\n",
       "  <tbody>\n",
       "    <tr>\n",
       "      <th>0</th>\n",
       "      <td>6484</td>\n",
       "      <td>560589.0</td>\n",
       "      <td>NaN</td>\n",
       "      <td>10.2</td>\n",
       "    </tr>\n",
       "    <tr>\n",
       "      <th>0</th>\n",
       "      <td>6453</td>\n",
       "      <td>522578.0</td>\n",
       "      <td>NaN</td>\n",
       "      <td>10.2</td>\n",
       "    </tr>\n",
       "    <tr>\n",
       "      <th>0</th>\n",
       "      <td>6249</td>\n",
       "      <td>14491.7</td>\n",
       "      <td>NaN</td>\n",
       "      <td>10.6</td>\n",
       "    </tr>\n",
       "    <tr>\n",
       "      <th>0</th>\n",
       "      <td>6329</td>\n",
       "      <td>57723.8</td>\n",
       "      <td>NaN</td>\n",
       "      <td>10.6</td>\n",
       "    </tr>\n",
       "    <tr>\n",
       "      <th>0</th>\n",
       "      <td>11443</td>\n",
       "      <td>46326.1</td>\n",
       "      <td>NaN</td>\n",
       "      <td>10.4</td>\n",
       "    </tr>\n",
       "    <tr>\n",
       "      <th>...</th>\n",
       "      <td>...</td>\n",
       "      <td>...</td>\n",
       "      <td>...</td>\n",
       "      <td>...</td>\n",
       "    </tr>\n",
       "    <tr>\n",
       "      <th>0</th>\n",
       "      <td>6476</td>\n",
       "      <td>374049.0</td>\n",
       "      <td>NaN</td>\n",
       "      <td>10.2</td>\n",
       "    </tr>\n",
       "    <tr>\n",
       "      <th>0</th>\n",
       "      <td>6462</td>\n",
       "      <td>542215.0</td>\n",
       "      <td>NaN</td>\n",
       "      <td>10.2</td>\n",
       "    </tr>\n",
       "    <tr>\n",
       "      <th>0</th>\n",
       "      <td>6489</td>\n",
       "      <td>534213.0</td>\n",
       "      <td>NaN</td>\n",
       "      <td>10.2</td>\n",
       "    </tr>\n",
       "    <tr>\n",
       "      <th>0</th>\n",
       "      <td>11512</td>\n",
       "      <td>240127.0</td>\n",
       "      <td>NaN</td>\n",
       "      <td>10.4</td>\n",
       "    </tr>\n",
       "    <tr>\n",
       "      <th>0</th>\n",
       "      <td>11506</td>\n",
       "      <td>239254.0</td>\n",
       "      <td>NaN</td>\n",
       "      <td>10.4</td>\n",
       "    </tr>\n",
       "  </tbody>\n",
       "</table>\n",
       "<p>329 rows × 4 columns</p>\n",
       "</div>"
      ],
      "text/plain": [
       "    runnum  beam_charge  Unnamed: 2  Ebeam\n",
       "0     6484     560589.0         NaN   10.2\n",
       "0     6453     522578.0         NaN   10.2\n",
       "0     6249      14491.7         NaN   10.6\n",
       "0     6329      57723.8         NaN   10.6\n",
       "0    11443      46326.1         NaN   10.4\n",
       "..     ...          ...         ...    ...\n",
       "0     6476     374049.0         NaN   10.2\n",
       "0     6462     542215.0         NaN   10.2\n",
       "0     6489     534213.0         NaN   10.2\n",
       "0    11512     240127.0         NaN   10.4\n",
       "0    11506     239254.0         NaN   10.4\n",
       "\n",
       "[329 rows x 4 columns]"
      ]
     },
     "execution_count": 43,
     "metadata": {},
     "output_type": "execute_result"
    }
   ],
   "source": [
    "rungroup = 'rgb';\n",
    "# rungroup = 'rga';\n",
    "data_path = '/Users/erezcohen/Desktop/data/BAND/metaData/' +rungroup + '/';\n",
    "filelist = os.listdir(data_path)\n",
    "run_beam_charges = pd.DataFrame()\n",
    "for filename in filelist:\n",
    "    if 'csv' in filename:\n",
    "        run_beam_charge = pd.read_csv(data_path + filename)\n",
    "        if (run_beam_charge.empty): continue\n",
    "        run_beam_charge['Ebeam'] = beam_energy_from_run(int(run_beam_charge['runnum']),rungroup)\n",
    "        run_beam_charges = pd.concat([run_beam_charges,run_beam_charge])        \n",
    "        \n",
    "run_beam_charges[['runnum','beam_charge','Ebeam']].to_csv('/Users/erezcohen/Desktop/data/BAND/metaData/' \n",
    "                        + rungroup + '_all_runs.csv')\n",
    "run_beam_charges        "
   ]
  },
  {
   "cell_type": "code",
   "execution_count": 22,
   "id": "ea9b94f9-efb9-4621-9606-fcb93cf23ff3",
   "metadata": {},
   "outputs": [
    {
     "data": {
      "text/plain": [
       "11506"
      ]
     },
     "execution_count": 22,
     "metadata": {},
     "output_type": "execute_result"
    }
   ],
   "source": [
    "# float(run_beam_charge['runnum'])\n",
    "int(run_beam_charge['runnum'])"
   ]
  },
  {
   "cell_type": "code",
   "execution_count": null,
   "id": "cb024a8e-09ed-4781-9e09-1f0fe1283dec",
   "metadata": {},
   "outputs": [],
   "source": []
  }
 ],
 "metadata": {
  "kernelspec": {
   "display_name": "Python 3 (ipykernel)",
   "language": "python",
   "name": "python3"
  },
  "language_info": {
   "codemirror_mode": {
    "name": "ipython",
    "version": 3
   },
   "file_extension": ".py",
   "mimetype": "text/x-python",
   "name": "python",
   "nbconvert_exporter": "python",
   "pygments_lexer": "ipython3",
   "version": "3.10.8"
  }
 },
 "nbformat": 4,
 "nbformat_minor": 5
}
