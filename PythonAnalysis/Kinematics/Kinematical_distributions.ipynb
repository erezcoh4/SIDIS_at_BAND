{
 "cells": [
  {
   "cell_type": "markdown",
   "id": "1e30185d-b4cf-4059-b94e-9171f6fe8c0e",
   "metadata": {
    "tags": []
   },
   "source": [
    "# Plot Kinematical distribution of tagged and untagged events \n",
    "$x_B, Q^2, W, z_{\\pi}...$\n",
    "\n",
    "If possible, apply background subtraction of tagged events, based on ToF\n",
    "\n",
    "last edit Feb-18, 2023"
   ]
  },
  {
   "cell_type": "markdown",
   "id": "79a1f377-5bd5-43ba-8a4a-4cb54f37a6bc",
   "metadata": {
    "jp-MarkdownHeadingCollapsed": true,
    "tags": []
   },
   "source": [
    "## Imports and definitions"
   ]
  },
  {
   "cell_type": "code",
   "execution_count": 1,
   "id": "004e7dab-d231-4947-8ab5-4256ea735722",
   "metadata": {},
   "outputs": [],
   "source": [
    "import sys; \n",
    "software_path = '/Users/erezcohen/Desktop/Software/'\n",
    "sys.path.insert(0, software_path + '/mySoftware/Python/');\n",
    "sys.path.insert(0, software_path + '/CLAS12/BAND/SIDIS_at_BAND/PythonAnalysis/AcceptanceCorrections/');\n",
    "sys.path.insert(0, software_path + '/CLAS12/BAND/SIDIS_at_BAND/PythonAnalysis/python_auxiliary/');\n",
    "from my_tools                     import *; \n",
    "from plot_tools                   import *;\n",
    "from my_data_analysis_tools       import *;\n",
    "from acceptance_correction_tools  import *;\n",
    "from sidis_analysis_tools         import *;\n",
    "# from event_selection_tools        import *;"
   ]
  },
  {
   "cell_type": "code",
   "execution_count": 2,
   "id": "851ff650-2150-418c-aba3-d02dd579452f",
   "metadata": {},
   "outputs": [],
   "source": [
    "%config InlineBackend.figure_format = 'retina'\n",
    "plt.rcParams['mathtext.fontset']    = 'stix'\n",
    "plt.rcParams['font.family']         = 'STIXGeneral'"
   ]
  },
  {
   "cell_type": "code",
   "execution_count": 3,
   "id": "31b05bb0-2511-449a-86db-e42435ec1263",
   "metadata": {},
   "outputs": [],
   "source": [
    "figures_path = '/Users/erezcohen/Desktop/Projects/BAND/AnalysisNote/Figures/KinematicalDistributions/'"
   ]
  },
  {
   "cell_type": "markdown",
   "id": "64686df2-853e-4af6-8a73-3909b0743e0b",
   "metadata": {
    "jp-MarkdownHeadingCollapsed": true,
    "tags": []
   },
   "source": [
    "# (1) Load data and apply selection cuts not previously imposed\n",
    "All runs of $(e,e'\\pi)$ data and all runs of $(e,e'\\pi n)$ - as with a small number of runs normalization is off"
   ]
  },
  {
   "cell_type": "code",
   "execution_count": 5,
   "id": "9b8a77ca-8f37-457f-9702-4769540cf16d",
   "metadata": {},
   "outputs": [
    {
     "name": "stdout",
     "output_type": "stream",
     "text": [
      "Done loading files.\n",
      "Applying selection cuts not previously imposed\n",
      "Apply a π+/π- acceptance matching cut on the in p-theta plane\n"
     ]
    },
    {
     "name": "stderr",
     "output_type": "stream",
     "text": [
      "/Users/erezcohen/Desktop/Software//CLAS12/BAND/SIDIS_at_BAND/PythonAnalysis/python_auxiliary/sidis_analysis_tools.py:943: FutureWarning: The frame.append method is deprecated and will be removed from pandas in a future version. Use pandas.concat instead.\n",
      "  df_after_cut = df_after_cut.append(df_in_sector_pass_cut);\n",
      "/Users/erezcohen/Desktop/Software//CLAS12/BAND/SIDIS_at_BAND/PythonAnalysis/python_auxiliary/sidis_analysis_tools.py:943: FutureWarning: The frame.append method is deprecated and will be removed from pandas in a future version. Use pandas.concat instead.\n",
      "  df_after_cut = df_after_cut.append(df_in_sector_pass_cut);\n",
      "/Users/erezcohen/Desktop/Software//CLAS12/BAND/SIDIS_at_BAND/PythonAnalysis/python_auxiliary/sidis_analysis_tools.py:943: FutureWarning: The frame.append method is deprecated and will be removed from pandas in a future version. Use pandas.concat instead.\n",
      "  df_after_cut = df_after_cut.append(df_in_sector_pass_cut);\n",
      "/Users/erezcohen/Desktop/Software//CLAS12/BAND/SIDIS_at_BAND/PythonAnalysis/python_auxiliary/sidis_analysis_tools.py:943: FutureWarning: The frame.append method is deprecated and will be removed from pandas in a future version. Use pandas.concat instead.\n",
      "  df_after_cut = df_after_cut.append(df_in_sector_pass_cut);\n",
      "/Users/erezcohen/Desktop/Software//CLAS12/BAND/SIDIS_at_BAND/PythonAnalysis/python_auxiliary/sidis_analysis_tools.py:943: FutureWarning: The frame.append method is deprecated and will be removed from pandas in a future version. Use pandas.concat instead.\n",
      "  df_after_cut = df_after_cut.append(df_in_sector_pass_cut);\n",
      "/Users/erezcohen/Desktop/Software//CLAS12/BAND/SIDIS_at_BAND/PythonAnalysis/python_auxiliary/sidis_analysis_tools.py:943: FutureWarning: The frame.append method is deprecated and will be removed from pandas in a future version. Use pandas.concat instead.\n",
      "  df_after_cut = df_after_cut.append(df_in_sector_pass_cut);\n",
      "/Users/erezcohen/Desktop/Software//CLAS12/BAND/SIDIS_at_BAND/PythonAnalysis/python_auxiliary/sidis_analysis_tools.py:943: FutureWarning: The frame.append method is deprecated and will be removed from pandas in a future version. Use pandas.concat instead.\n",
      "  df_after_cut = df_after_cut.append(df_in_sector_pass_cut);\n",
      "/Users/erezcohen/Desktop/Software//CLAS12/BAND/SIDIS_at_BAND/PythonAnalysis/python_auxiliary/sidis_analysis_tools.py:943: FutureWarning: The frame.append method is deprecated and will be removed from pandas in a future version. Use pandas.concat instead.\n",
      "  df_after_cut = df_after_cut.append(df_in_sector_pass_cut);\n",
      "/Users/erezcohen/Desktop/Software//CLAS12/BAND/SIDIS_at_BAND/PythonAnalysis/python_auxiliary/sidis_analysis_tools.py:943: FutureWarning: The frame.append method is deprecated and will be removed from pandas in a future version. Use pandas.concat instead.\n",
      "  df_after_cut = df_after_cut.append(df_in_sector_pass_cut);\n",
      "/Users/erezcohen/Desktop/Software//CLAS12/BAND/SIDIS_at_BAND/PythonAnalysis/python_auxiliary/sidis_analysis_tools.py:943: FutureWarning: The frame.append method is deprecated and will be removed from pandas in a future version. Use pandas.concat instead.\n",
      "  df_after_cut = df_after_cut.append(df_in_sector_pass_cut);\n",
      "/Users/erezcohen/Desktop/Software//CLAS12/BAND/SIDIS_at_BAND/PythonAnalysis/python_auxiliary/sidis_analysis_tools.py:943: FutureWarning: The frame.append method is deprecated and will be removed from pandas in a future version. Use pandas.concat instead.\n",
      "  df_after_cut = df_after_cut.append(df_in_sector_pass_cut);\n",
      "/Users/erezcohen/Desktop/Software//CLAS12/BAND/SIDIS_at_BAND/PythonAnalysis/python_auxiliary/sidis_analysis_tools.py:943: FutureWarning: The frame.append method is deprecated and will be removed from pandas in a future version. Use pandas.concat instead.\n",
      "  df_after_cut = df_after_cut.append(df_in_sector_pass_cut);\n"
     ]
    },
    {
     "name": "stdout",
     "output_type": "stream",
     "text": [
      "(e,e π+ )\n",
      "831003 events after original cut (100.0 %)\n",
      "564621 events after p-theta cut (67.9 %)\n",
      "564621 events after Mx cut (67.9 %)\n",
      "564621 events after Kinematical cut (67.9 %)\n",
      "(e,e π- )\n",
      "349907 events after original cut (100.0 %)\n",
      "339080 events after p-theta cut (96.9 %)\n",
      "339080 events after Mx cut (96.9 %)\n",
      "339080 events after Kinematical cut (96.9 %)\n",
      " \n",
      "Done applying event-selection cuts\n"
     ]
    }
   ],
   "source": [
    "subdirname = \"sidisdvcs_31Jan2023_commit_2e77f15\" \n",
    "[e_e_pi,e_e_pi_n,e_e_pi_FreeP] = load_SIDIS_data( Nruns = 1,\n",
    "                             rgb_runs_filenames = [\"good_runs_10-2-final.txt\",\n",
    "                                                   \"good_runs_10-4.txt\",\n",
    "                                                   \"good_runs_10-6.txt\"], \n",
    "                             subdirname = subdirname,\n",
    "                             do_e_e_pi_n=False, do_e_e_pi_FreeP=False, do_all_vars=True, \n",
    "                             fdebug=0 );\n",
    "e_e_pi_pass_cuts,e_e_pi_n_pass_cuts,e_e_pi_FreeP_pass_cuts,_ = apply_further_selection_cuts_to_data(doApply_Mx_cut=False,\n",
    "                                                                                                    fdebug=0);"
   ]
  },
  {
   "cell_type": "markdown",
   "id": "0c6fe85e-40f0-4a44-9cbf-e8250a552d2d",
   "metadata": {
    "jp-MarkdownHeadingCollapsed": true,
    "tags": []
   },
   "source": [
    "# (2) Count event statistics"
   ]
  },
  {
   "cell_type": "code",
   "execution_count": 8,
   "id": "5ea0066f-60bd-4cb8-8022-e0bcbcdbe7cb",
   "metadata": {},
   "outputs": [
    {
     "data": {
      "text/plain": [
       "{\"$d(e,e'\\\\pi^{+})$\": 564621.0,\n",
       " \"$d(e,e'\\\\pi^{-})$\": 339080.0,\n",
       " \"$d(e,e'\\\\pi^{+})/d(e,e'\\\\pi^{-})$\": 1.6651557154653769}"
      ]
     },
     "metadata": {},
     "output_type": "display_data"
    }
   ],
   "source": [
    "Stats = dict()\n",
    "for pi_ch,pi_print,pi_label,pi_color,pi_idx in zip(pi_charge_names,pi_prints,pi_labels,pi_colors,[1,2]):\n",
    "    Stats[\"$d(e,e'\"+pi_label+\")$\"]  = float(len(e_e_pi_pass_cuts[pi_ch]))\n",
    "    # Stats[\"$d(e,e'\"+pi_label+\"n)$\"] = float(len(e_e_pi_n_pass_cuts[pi_ch]))\n",
    "    # Stats[\"$p(e,e'\"+pi_label+\")$\"] = float(len(e_e_pi_FreeP_pass_cuts[pi_ch]))\n",
    "\n",
    "Stats[\"$d(e,e'\\\\pi^{+})/d(e,e'\\\\pi^{-})$\"] = Stats[\"$d(e,e'\\\\pi^{+})$\"]/Stats[\"$d(e,e'\\\\pi^{-})$\"]\n",
    "# Stats[\"$d(e,e'\\\\pi^{+}n)/d(e,e'\\\\pi^{-}n)$\"] = Stats[\"$d(e,e'\\\\pi^{+}n)$\"]/Stats[\"$d(e,e'\\\\pi^{-}n)$\"]\n",
    "# Stats[\"$p(e,e'\\\\pi^{+})/p(e,e'\\\\pi^{-})$\"] = Stats[\"$p(e,e'\\\\pi^{+})$\"]/Stats[\"$p(e,e'\\\\pi^{-})$\"]\n",
    "\n",
    "display(Stats)"
   ]
  },
  {
   "cell_type": "markdown",
   "id": "36cd99bc-210a-4f0a-9e1e-213fe9819cfa",
   "metadata": {
    "tags": []
   },
   "source": [
    "# (3) Plot kinematical distributions\n",
    "$ x_B = Q^2/2m_p\\omega$"
   ]
  },
  {
   "cell_type": "markdown",
   "id": "7ff47831-ed4a-467b-b7d6-3fd19dbcc47d",
   "metadata": {
    "jp-MarkdownHeadingCollapsed": true,
    "tags": []
   },
   "source": [
    "### auxiliary"
   ]
  },
  {
   "cell_type": "code",
   "execution_count": 9,
   "id": "5a13e19c-17b3-4221-a4a8-6bfb66763967",
   "metadata": {},
   "outputs": [],
   "source": [
    "def plot_SIDIS_variable(var  = 'Q2', \n",
    "                        var_tagged = None, # None = same as (untagged) var\n",
    "                        bins = np.linspace(1.8,7.8,31),\n",
    "                        xScaling=1,\n",
    "                        varlabel = '$Q^2$',\n",
    "                        varlabel_tagged = '',\n",
    "                        varunits = '[(GeV/c)$^2$]',\n",
    "                        xticks = None, \n",
    "                        fdebug=1, \n",
    "                        ylim_ratio=(0,10),ylim_hists=None,\n",
    "                        add_published_pips2pims_ratio=[],\n",
    "                        do_only_top_2=False, \n",
    "                        do_add_legends=True,\n",
    "                        do_save_figure=True):#{\n",
    "    \n",
    "    if fdebug>2: print(bins)\n",
    "    ax = dict()\n",
    "    \n",
    "    if do_only_top_2==True: fig = plt.figure(figsize=(16,8),tight_layout=True)\n",
    "    else:                   fig = plt.figure(figsize=(16,10),tight_layout=True)\n",
    "    \n",
    "    if var_tagged is None: #{\n",
    "        var_tagged = var;\n",
    "    #}\n",
    "    \n",
    "    h,NeventsTot = dict(),dict()\n",
    "    # compare untagged to tagged seperately for π+ and π-\n",
    "    for pi_ch,pi_print,pi_label,pi_color,pi_idx in zip(pi_charge_names,pi_prints,\n",
    "                                                       pi_labels,pi_colors,[1,2]):\n",
    "        ax[pi_idx] = fig.add_subplot(2,2,pi_idx)\n",
    "\n",
    "        # d(e,e'π)\n",
    "        df = e_e_pi_pass_cuts[pi_ch]\n",
    "        NeventsTot['untagged'] = len(df)\n",
    "        x,h['untagged'+pi_ch],x_err,h_err['untagged'+pi_ch] = plot_step_squares( df[var], ax=ax[pi_idx],\n",
    "                                                                                bins=bins, xScaling=xScaling,\n",
    "                                                                                density=True, color='k', alpha=0.5, label='Untagged' )\n",
    "        ax[pi_idx].step(x,h['untagged'+pi_ch],'-k',where='mid')\n",
    "        \n",
    "        # d(e,e'πn)\n",
    "        df = e_e_pi_n_pass_cuts[pi_ch]\n",
    "        NeventsTot['tagged'] = len(df)\n",
    "        \n",
    "        tagged_label = 'Tagged ' + varlabel_tagged\n",
    "        x,h['tagged'+pi_ch],x_err,h_err['tagged'+pi_ch] = plot_step_hist( df[var_tagged], bins=bins, xScaling=xScaling,\n",
    "                                                                         marker='s', markersize=1, color=pi_color,\n",
    "                                                                         label=tagged_label, \n",
    "                                                                         alpha=1, density=True)\n",
    "        # p(e,e'π)\n",
    "        df = e_e_pi_FreeP_pass_cuts[pi_ch]\n",
    "        NeventsTot['Free-p'] = len(df)\n",
    "        x,h['Free-p'+pi_ch],x_err,h_err['Free-p'+pi_ch] = plot_step_squares( df[var], ax=ax[pi_idx],                                                                            \n",
    "                                                                            bins=bins, xScaling=xScaling,                                                                                \n",
    "                                                                            density=True, color='m', \n",
    "                                                                            alpha=0.5, label='Free-p' )\n",
    "        ax[pi_idx].step(x,h['Free-p'+pi_ch],'-m',where='mid')\n",
    "        \n",
    "\n",
    "        set_axes(ax[pi_idx],\n",
    "                 varlabel+varunits if do_only_top_2==True else '',\n",
    "                 'Frequency [a.u.]' if pi_idx==1 else '', \n",
    "                 title=\"$(e,e'\"+pi_label+\")$ events as a function of \"+varlabel,\n",
    "                 do_add_grid=True,\n",
    "                 remove_ticks_x=False if do_only_top_2==True else True,\n",
    "                 do_add_legend=do_add_legends,\n",
    "                 xticks=xticks,\n",
    "                 ylim=ylim_hists)\n",
    "        \n",
    "    \n",
    "    if do_only_top_2==True: return ax\n",
    "\n",
    "    # compare tagged π+ to π-\n",
    "    ax[3] = fig.add_subplot(2,2,3)\n",
    "    for pi_ch,pi_print,pi_label,pi_color,pi_idx in zip(pi_charge_names,pi_prints,pi_labels,pi_colors,[1,2]):\n",
    "        df = e_e_pi_n_pass_cuts[pi_ch]\n",
    "        plot_step_hist( df[var_tagged]*xScaling, bins=bins, marker='s', markersize=1, \n",
    "                       color=pi_color,label='$'+pi_label+'$', alpha=1, density=True)\n",
    "        \n",
    "    set_axes(ax[3],varlabel+varunits,\n",
    "             'Frequency [a.u.]', \n",
    "             title=\"Tagged events: $\\pi^\\pm$ comparison\",\n",
    "             do_add_grid=True, do_add_legend=True,xticks=xticks)\n",
    "\n",
    "    # Take the ratio of π+/π-\n",
    "    ax[4] = fig.add_subplot(2,2,4)\n",
    "    # add existing data\n",
    "    do_add_legend = True\n",
    "    if add_published_pips2pims_ratio is not []:\n",
    "        do_add_legend = False\n",
    "        for dataset in add_published_pips2pims_ratio:\n",
    "            plot_pT_published_pips2pims_ratio( dataset, ax=ax[4])\n",
    "\n",
    "\n",
    "    R, R_err = dict(), dict()\n",
    "    for datalabel,color,scaleFactor in zip(['untagged','tagged','Free-p'],\n",
    "                                           ['blue','red','magenta'],\n",
    "                                           [Stats[\"$d(e,e'\\\\pi^{+})/d(e,e'\\\\pi^{-})$\"],\n",
    "                                            Stats[\"$d(e,e'\\\\pi^{+}n)/d(e,e'\\\\pi^{-}n)$\"],\n",
    "                                                  Stats[\"$p(e,e'\\\\pi^{+})/p(e,e'\\\\pi^{-})$\"]]):#{\n",
    "        R[datalabel]      = np.zeros(len(x))\n",
    "        R_err[datalabel]  = np.zeros(len(x))\n",
    "        cutoff = 1./NeventsTot[datalabel]\n",
    "        \n",
    "        Npts = len(h_err[datalabel+'piminus'])\n",
    "        for i in range(Npts):\n",
    "            R[datalabel][i] = (h[datalabel+'piplus'][i]/np.max([cutoff,h[datalabel+'piminus'][i]])) * scaleFactor\n",
    "            R_err[datalabel][i] = R[datalabel][i] * np.sqrt(  np.square(h_err[datalabel+'piplus'][i]\n",
    "                                                                        /np.max([cutoff,h[datalabel+'piplus'][i]]) )                                       \n",
    "                                                            + np.square(h_err[datalabel+'piminus'][i]\n",
    "                                                                        /np.max([cutoff,h[datalabel+'piminus'][i]])) )    \n",
    "            \n",
    "        # plt.step ( x, R, color=color, where='mid', label=None )\n",
    "        plt.errorbar ( x=x, xerr=x_err, \n",
    "                      y=R[datalabel], yerr=R_err[datalabel], \n",
    "                      markersize=8,\n",
    "                      color=color, marker='o', markeredgecolor='k',\n",
    "                      linestyle='None',label='This work-'+datalabel,                      \n",
    "                      capsize=4, capthick=1, alpha=1 )\n",
    "    #}\n",
    "    # super-ratio\n",
    "    SuperR      = np.zeros(len(x))\n",
    "    SuperR_err  = np.zeros(len(x))\n",
    "    for i in range(Npts):\n",
    "        SuperR[i] = R['tagged'][i]/np.max([cutoff,R['untagged'][i]])\n",
    "        SuperR_err[i] = SuperR[i] * np.sqrt(  np.square(R_err['untagged'][i] /np.max([cutoff,R['untagged'][i]])) \n",
    "                                            + np.square(R_err['tagged'][i]  /np.max([cutoff,R['tagged'][i]])   )  )\n",
    "    plt.errorbar (x=x + 0.01*(x[1]-x[0]), xerr=x_err, \n",
    "                  y=SuperR, yerr=SuperR_err, \n",
    "                  markersize=6,\n",
    "                  color='forestgreen', marker='^', markeredgecolor='k',\n",
    "                  linestyle='None',label='tagged/untagged',\n",
    "                  capsize=4, capthick=1, alpha=1 );\n",
    "\n",
    "    # cosmetics\n",
    "    set_axes(ax[4],varlabel+varunits,\n",
    "             \"$N(e,e' \\pi^+) / N(e,e' \\pi^-)$\", \n",
    "             title=\"Cross-section ratio $\\pi^+/\\pi^-$\",\n",
    "             do_add_grid=True, do_add_legend=do_add_legend,\n",
    "             xticks=xticks, \n",
    "             ylim=ylim_ratio);\n",
    "    \n",
    "    if do_add_legend is False:\n",
    "        ax[4].legend(bbox_to_anchor=(0.63,0.55),fontsize=18);\n",
    "    \n",
    "    if do_save_figure:\n",
    "        save_figure(filename=figures_path + var + '.pdf')\n",
    "    return ax\n",
    "#}"
   ]
  },
  {
   "cell_type": "markdown",
   "id": "268cedd2-9575-4aac-845c-bc9f5e6c321a",
   "metadata": {},
   "source": [
    "## (3.0) electron momentum..."
   ]
  },
  {
   "cell_type": "code",
   "execution_count": 33,
   "id": "e0110a1d-fda0-491a-b9a4-0d2656158e8a",
   "metadata": {},
   "outputs": [
    {
     "name": "stdout",
     "output_type": "stream",
     "text": [
      "saved /Users/erezcohen/Desktop/Projects/BAND/AnalysisNote/Figures/KinematicalDistributions/e_P.pdf\n"
     ]
    },
    {
     "data": {
      "image/png": "[encoded data removed]",
      "text/plain": [
       "<Figure size 900x600 with 1 Axes>"
      ]
     },
     "metadata": {
      "image/png": {
       "height": 604,
       "width": 805
      }
     },
     "output_type": "display_data"
    }
   ],
   "source": [
    "var,varlabel,varunits = 'e_P','$p_e$',' [GeV/c]'\n",
    "bins = np.arange(2.9,6.9,0.1)\n",
    "fig = plt.figure(figsize=(9,6))\n",
    "ax = fig.add_subplot(1,1,1)\n",
    "# compare untagged to tagged seperately for π+ and π-\n",
    "for pi_ch,pi_print,pi_label,pi_color,pi_idx in zip(pi_charge_names,pi_prints,\n",
    "                                               pi_labels,pi_colors,[1,2]):\n",
    "\n",
    "\n",
    "    df = e_e_pi_pass_cuts[pi_ch]\n",
    "    x,h['untagged'+pi_ch],x_err,h_err['untagged'+pi_ch] = plot_step_squares( df[var], ax=ax,\n",
    "                                                                            bins=bins, \n",
    "                                                                            density=True, color=pi_color, alpha=0.5, label=\"$(e,e'\"+pi_label+\")$\" )\n",
    "    ax.step(x,h['untagged'+pi_ch],'-',color=pi_color,where='mid')\n",
    "\n",
    "set_axes(ax,\n",
    "         varlabel+varunits,\n",
    "         'Frequency [a.u.]' if pi_idx==1 else '', \n",
    "         title=\"Event distribution as a function of \"+varlabel,\n",
    "         do_add_grid=True,\n",
    "         remove_ticks_x=False,\n",
    "         do_add_legend=True,\n",
    "         # xticks=xticks\n",
    "        );\n",
    "save_figure( filename = figures_path + var + '.pdf' )"
   ]
  },
  {
   "cell_type": "markdown",
   "id": "39261c71-aed5-4598-bc57-8da6d80d1f66",
   "metadata": {
    "tags": []
   },
   "source": [
    "### (3.1) $Q^2$"
   ]
  },
  {
   "cell_type": "code",
   "execution_count": null,
   "id": "775f1c7c-75ea-4767-af95-823a7d21ebfc",
   "metadata": {},
   "outputs": [],
   "source": [
    "ax=plot_SIDIS_variable(var  = 'Q2',\n",
    "                        bins = np.linspace(1.8,6,22),\n",
    "                        varlabel = '$Q^2$',\n",
    "                        varunits = '[(GeV/c)$^2$]',ylim_ratio=(0.1,6));\n",
    "ax[4].legend(loc=(0.6,0.7),fontsize=17);"
   ]
  },
  {
   "cell_type": "markdown",
   "id": "9df401a3-cd13-414c-b4db-a2edf4592f4f",
   "metadata": {
    "tags": []
   },
   "source": [
    "### (3.2) $x_B$ and $x_B'$"
   ]
  },
  {
   "cell_type": "code",
   "execution_count": null,
   "id": "f2b35bfe-029f-4f8a-a0f0-b497abba7a30",
   "metadata": {},
   "outputs": [],
   "source": [
    "plot_SIDIS_variable(var  = 'xB',\n",
    "                        bins = np.linspace(0.14,0.6,21),\n",
    "                        varlabel = '$x_B$',\n",
    "                        varunits = '',ylim_ratio=(0.1,5),ylim_hists=(0,0.18));"
   ]
  },
  {
   "cell_type": "code",
   "execution_count": null,
   "id": "d1fca8ba-5bab-4b60-bb85-fcef004e41c7",
   "metadata": {},
   "outputs": [],
   "source": [
    "plot_SIDIS_variable(var  = 'xB',\n",
    "                    var_tagged = 'xB_Prime',\n",
    "                    bins = np.linspace(0.14,0.6,21),                    \n",
    "                    varlabel = '$x_B$',\n",
    "                    varlabel_tagged=\"$x_B'$\",\n",
    "                    varunits='',\n",
    "                    do_only_top_2=True,\n",
    "                    do_add_legends=False,\n",
    "                    ylim_hists=(0,0.18));"
   ]
  },
  {
   "cell_type": "markdown",
   "id": "5d06df38-ee3f-44e5-96c0-fa9d7838bd6e",
   "metadata": {
    "tags": []
   },
   "source": [
    "### (3.3) $W$ and $W'$"
   ]
  },
  {
   "cell_type": "code",
   "execution_count": null,
   "id": "8c87d41c-b209-4bbb-8db2-3e3dae448f74",
   "metadata": {},
   "outputs": [],
   "source": [
    "ax=plot_SIDIS_variable(var  = 'W',\n",
    "                       bins = np.linspace(2.2,4.2,21),\n",
    "                       varlabel = '$W = \\sqrt{|p_{rest} + q|^2}$',\n",
    "                       varunits = ' [GeV/c$^2$]', ylim_ratio=(0.1,5)\n",
    "                      );\n",
    "ax[1].set_yticks([0,0.1,0.2]);\n",
    "ax[3].set_yticks([0,0.06,0.12]);\n",
    "ax[4].legend(loc=(0.5,0.5),fontsize=18);"
   ]
  },
  {
   "cell_type": "code",
   "execution_count": null,
   "id": "0a464c7b-2df7-4549-b8a1-d37ad3a3875f",
   "metadata": {},
   "outputs": [],
   "source": [
    "plot_SIDIS_variable(var  = 'W',                      \n",
    "                    bins = np.linspace(1.7,3.7,21),                    \n",
    "                    varlabel = '$W$',\n",
    "                    varunits = ' [GeV/c$^2$]', \n",
    "                    var_tagged = 'W_Prime',\n",
    "                    varlabel_tagged=\"$W'$\",\n",
    "                    ylim_ratio=(0.1,5), \n",
    "                    do_only_top_2=True);"
   ]
  },
  {
   "cell_type": "markdown",
   "id": "eb77369c-37f9-4d4d-bb7e-6c54baf83dca",
   "metadata": {
    "tags": []
   },
   "source": [
    "### (3.4) $z_{\\pi}$ and $z_{\\pi}^{LC}$"
   ]
  },
  {
   "cell_type": "code",
   "execution_count": null,
   "id": "7879d7d6-9b35-4e5a-ab1c-b4d266dfdcc4",
   "metadata": {},
   "outputs": [],
   "source": [
    "ax=plot_SIDIS_variable(var  = 'Zpi',                    \n",
    "                    bins = np.linspace(0.25,0.85,13),  \n",
    "                    varlabel = '$z_{\\pi}$',                    \n",
    "                    varunits = '',ylim_ratio=(0.1,8));\n",
    "ax[4].legend(loc='best',fontsize=18);"
   ]
  },
  {
   "cell_type": "code",
   "execution_count": null,
   "id": "97cf8c8f-0f10-412d-a917-29e7b951be27",
   "metadata": {},
   "outputs": [],
   "source": [
    "ax=plot_SIDIS_variable(var  = 'Zpi_LC',                    \n",
    "                    bins = np.linspace(-1.25,0.85,13),  \n",
    "                    varlabel = '$z_{\\pi}^{LC}$',                    \n",
    "                    varunits = '',ylim_ratio=(0.1,8));\n",
    "ax[4].legend(loc='best',fontsize=18);"
   ]
  },
  {
   "cell_type": "code",
   "execution_count": null,
   "id": "328b9acf-1f9e-45aa-a3ef-41dd86f8c8b8",
   "metadata": {},
   "outputs": [],
   "source": [
    "plot_SIDIS_variable(var  = 'pi_P',                    \n",
    "                    bins = np.linspace(0,6,21),                    \n",
    "                    varlabel = '$p_{\\pi}$', \n",
    "                    varunits = '[GeV/c]');"
   ]
  },
  {
   "cell_type": "markdown",
   "id": "ea70c7a7-e69d-4fed-b0f5-d791e6a59d06",
   "metadata": {
    "tags": []
   },
   "source": [
    "### (3.5) rapidity \n",
    "$$\\eta_\\pi = \n",
    "\\frac{1}{2}\\ln{\\frac{p^+}{p^-}}\n",
    "=\n",
    "\\frac{1}{2}\n",
    "\\ln{\\frac{E_\\pi + \\vec{p}_\\pi \\cdot \\vec{q}}\n",
    "{E_\\pi - \\vec{p}_\\pi \\cdot \\vec{q}}\n",
    "}$$"
   ]
  },
  {
   "cell_type": "code",
   "execution_count": null,
   "id": "f1648d8f-7c5f-4fce-bb78-b20e914c0d33",
   "metadata": {},
   "outputs": [],
   "source": [
    "ax=plot_SIDIS_variable(var  = 'eta_pi',                    \n",
    "                    bins = np.linspace(1.0,4.85,13),  \n",
    "                    varlabel = '$\\eta_{\\pi}$',\n",
    "                    varunits = '',ylim_ratio=(0.1,10));\n",
    "ax[4].legend(loc='best',fontsize=18);"
   ]
  },
  {
   "cell_type": "markdown",
   "id": "ebc36398-8594-43e0-8d8a-156cc1c7248a",
   "metadata": {
    "tags": []
   },
   "source": [
    "### (3.6) Feynman $x$"
   ]
  },
  {
   "cell_type": "code",
   "execution_count": null,
   "id": "f70a8d83-f846-4657-9fca-d0faa6cc559c",
   "metadata": {},
   "outputs": [],
   "source": [
    "ax=plot_SIDIS_variable(var  = 'xF',                    \n",
    "                    bins = np.linspace(.0,4.1,13),  \n",
    "                    varlabel = '$x_{F}$',\n",
    "                    varunits = '',ylim_ratio=(0.1,6.0));\n",
    "ax[4].legend(loc='best',fontsize=18);"
   ]
  },
  {
   "cell_type": "markdown",
   "id": "9671bc22-a391-4cf0-a7dc-52cf17924efa",
   "metadata": {
    "tags": []
   },
   "source": [
    "### (3.6) $p_T$ in the $q$-frame"
   ]
  },
  {
   "cell_type": "code",
   "execution_count": null,
   "id": "77c45649-1f2a-448e-9dd2-35a1e73c0f7d",
   "metadata": {},
   "outputs": [],
   "source": [
    "def plot_pT_published_pips2pims_ratio( dataset = 'JLAB2012', \n",
    "                                      ax=None, \n",
    "                                      vars_2_plot=['R_H','R_D'],\n",
    "                                      labels_2_plot=['Free-p','Deuteron'],\n",
    "                                      colors=['red','blue'],\n",
    "                                      markers=['s','s'] ):\n",
    "    '''\n",
    "    plot pT published pips2pims ratio\n",
    "    \n",
    "    \n",
    "    input\n",
    "    ---------\n",
    "    vars_2_plot    'R_H'  / 'R_D' / [...]\n",
    "    dataset        'JLAB2012' - Phys. Rev. C. 85 015202 (2012)\n",
    "    \n",
    "    '''\n",
    "    \n",
    "    if dataset == 'JLAB2012':\n",
    "        dataset_label = 'JLAB2012'\n",
    "    \n",
    "    pT_data = pd.read_csv('/Users/erezcohen/Desktop/data/BAND/ExistingData/'+dataset+'/pT_data.csv')\n",
    "    pT_data['p_T'] = np.sqrt(pT_data['P_t^2 (GeVc^2)'])\n",
    "    \n",
    "    if ax is None:\n",
    "        fig,ax=plt.subplots(figsize=(8,5))\n",
    "        set_axes(ax,'$p_T$','$R_H$',do_add_grid=True)\n",
    "    \n",
    "    for var_2_plot,label_2_plot,color,marker in zip(vars_2_plot,labels_2_plot,colors,markers):\n",
    "        ax.errorbar( pT_data['p_T'], \n",
    "                    pT_data[var_2_plot], pT_data['d '+var_2_plot], \n",
    "                    linestyle='None',\n",
    "                    marker=marker,color=color,\n",
    "                    capthick=1,capsize=4,\n",
    "                    markerfacecolor='w',\n",
    "                    label = label_2_plot+' '+dataset_label\n",
    "                   )\n",
    "    \n",
    "    "
   ]
  },
  {
   "cell_type": "code",
   "execution_count": null,
   "id": "9dd17317-72f5-4b01-9e7c-1dffbde54495",
   "metadata": {},
   "outputs": [],
   "source": [
    "ax = plot_SIDIS_variable(var  = 'pi_qFrame_pT',                    \n",
    "                    bins = np.linspace(0,1.3,21),                    \n",
    "                    varlabel = '$p_{\\pi}^{\\perp}$', \n",
    "                    varunits = '[GeV/c]', \n",
    "                         add_published_pips2pims_ratio = ['JLAB2012'], ylim_ratio=(0,4) )\n",
    "# ax[4].legend(loc=(0.4,0.45),fontsize=17);\n"
   ]
  },
  {
   "cell_type": "markdown",
   "id": "144bc462-7ae4-4ab9-b61a-9f98ae9b030f",
   "metadata": {
    "jp-MarkdownHeadingCollapsed": true,
    "tags": []
   },
   "source": [
    "#### $p_L$ in the $q$-frame"
   ]
  },
  {
   "cell_type": "code",
   "execution_count": null,
   "id": "21f921e3-fe6f-439e-be26-a92676946502",
   "metadata": {},
   "outputs": [],
   "source": [
    "ax = plot_SIDIS_variable(var  = 'pi_qFrame_pL',                    \n",
    "                    bins = np.linspace(1,6,21),                    \n",
    "                    varlabel = '$p_{\\pi}^{\\parallel}$', \n",
    "                    varunits = '[GeV/c]',ylim_ratio=(0,4) )\n",
    "# ax[4].legend(loc=(0.4,0.45),fontsize=17);"
   ]
  },
  {
   "cell_type": "markdown",
   "id": "3bb00d6a-b88b-4547-b29b-2f93258a47ca",
   "metadata": {
    "tags": []
   },
   "source": [
    "#### (3.6.1) $\\phi$ in the virtual photon frame"
   ]
  },
  {
   "cell_type": "code",
   "execution_count": null,
   "id": "cf9837d5-486f-4db7-be04-8f1d1d151de4",
   "metadata": {},
   "outputs": [],
   "source": [
    "plot_SIDIS_variable(var  = 'pi_qFrame_Phi',       \n",
    "                    xScaling=r2d,\n",
    "                    bins = np.linspace(-180,180,21),\n",
    "                    varlabel = \"$\\phi_{\\pi}^{q-Frame}$\", \n",
    "                    varunits = '[deg.]',ylim_ratio=(0,30),\n",
    "                    xticks=[-180,-60,60,180]);"
   ]
  },
  {
   "cell_type": "code",
   "execution_count": null,
   "id": "5b600b2e-cf61-43b7-bee1-218c2d15b9d6",
   "metadata": {},
   "outputs": [],
   "source": [
    "var      = 'pi_qFrame_Phi'\n",
    "varlabel = \"$\\phi_{\\pi}^{q-Frame}$\"\n",
    "varunits = \"[deg.]\"\n",
    "\n",
    "bins = np.linspace(-180,180,21)\n",
    "xlim = (-180,180)\n",
    "xticks = None\n",
    "\n",
    "fig = plt.figure(figsize=(12,10),tight_layout=True)\n",
    "h,NeventsTot = dict(),dict()\n",
    "# compare untagged to tagged seperately for π+ and π-\n",
    "ax = fig.add_subplot(2,1,1)\n",
    "for pi_ch,pi_print,pi_label,pi_color,pi_idx in zip(pi_charge_names,pi_prints,pi_labels,pi_colors,[1,2]):\n",
    "    \n",
    "    df = e_e_pi_pass_cuts[pi_ch]\n",
    "    NeventsTot['untagged'] = len(df)\n",
    "    x,h['untagged'+pi_ch],x_err,h_err['untagged'+pi_ch] = plot_step_hist( df[var], xScaling=r2d,\n",
    "                                                                         bins=bins, \n",
    "                                                                         marker='s', \n",
    "                                                                         markersize=1, \n",
    "                                                                         color=pi_color,\n",
    "                                                                         label='$'+pi_label+'$', \n",
    "                                                                         alpha=1, density=True)\n",
    "    \n",
    "set_axes(ax,'', 'Frequency [a.u.]' if pi_idx==1 else '', \n",
    "         remove_ticks_x=True,\n",
    "             title=\"$(e,e'\"+pi_label+\")$ events as a function of \"+varlabel,\n",
    "             do_add_grid=True, do_add_legend=True,xticks=xticks, xlim=xlim)\n",
    "\n",
    "# Take the ratio of π+/π-\n",
    "ax = fig.add_subplot(2,1,2)\n",
    "datalabel='untagged'\n",
    "color='k'\n",
    "scaleFactor = Stats[\"$d(e,e'\\\\pi^{+})/d(e,e'\\\\pi^{-})$\"]\n",
    "R = np.zeros(len(x))\n",
    "R_err = np.zeros(len(x))\n",
    "cutoff = 1./NeventsTot[datalabel]\n",
    "for i in range(len(h_err[datalabel+'piminus'])):\n",
    "    R[i] = (h[datalabel+'piplus'][i]/np.max([cutoff,h[datalabel+'piminus'][i]])) * scaleFactor\n",
    "    R_err[i] = R[i] * np.sqrt(  np.square(h_err[datalabel+'piplus'][i]/np.max([cutoff,h[datalabel+'piplus'][i]]) ) \n",
    "                              + np.square(h_err[datalabel+'piminus'][i]/np.max([cutoff,h[datalabel+'piminus'][i]])) )    \n",
    "plt.step ( x, R, color=color, where='mid', label=None )\n",
    "plt.errorbar ( x=x, xerr=x_err, y=R, yerr=R_err, markersize=5,\n",
    "              color=color, marker='.', linestyle='None',label=datalabel,\n",
    "              capsize=2, capthick=2, linewidth=1, alpha=0.5 )\n",
    "#}\n",
    "set_axes(ax,varlabel+varunits,\n",
    "         \"$N(e,e' \\pi^+) / N(e,e' \\pi^-)$\", \n",
    "         title=\"Cross-section ratio $\\pi^+/\\pi^-$\",\n",
    "         do_add_grid=True, do_add_legend=False,xticks=xticks, xlim=xlim);   "
   ]
  },
  {
   "cell_type": "markdown",
   "id": "f50d9204-ebfa-41e8-b22e-e0aa597643e4",
   "metadata": {
    "jp-MarkdownHeadingCollapsed": true,
    "tags": []
   },
   "source": [
    "### (3.7) $p_T$  in bins of $x_B$ and $z$\n",
    "For untagged data in bins of x and z\n",
    "For tagged data in 2-3 large bins"
   ]
  },
  {
   "cell_type": "code",
   "execution_count": null,
   "id": "83762a6f-3d6c-4e9b-9d08-659f64fcdb63",
   "metadata": {},
   "outputs": [],
   "source": [
    "import scipy as sp\n",
    "from scipy.stats import chi\n",
    "\n",
    "def fit_function_pT( x, mu_Px=0, sigma_Px=0.2 ):\n",
    "    '''\n",
    "    The Chi distribution is the positive square root of the sum of squares of independent random variables,\n",
    "    each following a standard normal distribution:\n",
    "    \n",
    "        Z = sqrt(X_1^2 + X_2^2 + X_3^2 + X_4^2 + .....)\n",
    "    \n",
    "    For k=2, this is the function that represents the distribution of \n",
    "    \n",
    "        p_T = \\sqrt(Px^2 + Py^2)\n",
    "        \n",
    "    where Px and Py are Gaussians,\n",
    "    assuming mu_Py = mu_Px, and sigma_Py = sigma_Px.\n",
    "    \n",
    "    '''\n",
    "    rv = chi(2, mu_Px, sigma_Px)    \n",
    "    y_fit = rv.pdf(x)\n",
    "    y_fit_normed = y_fit/np.sum(y_fit)\n",
    "    return y_fit_normed\n",
    "\n",
    "\n",
    "def fit_pT( x, y, y_err, fdebug=0, do_plot_fit=False, color='k' ):\n",
    "    '''\n",
    "    return \n",
    "    -------\n",
    "    fit_results     dict\n",
    "    '''\n",
    "    \n",
    "    fit_results = dict()\n",
    "    if np.max(y)>0:\n",
    "        popt,pcov=sp.optimize.curve_fit(fit_function_pT, xdata=x, ydata=y, p0=[np.mean(x[x<0.5]),np.std(x)], ) # sigma=y_err, \n",
    "        mu_fit  = popt[0]\n",
    "        mu_err  = np.sqrt(pcov[0,0])\n",
    "        if mu_err ==np.inf: mu_err  = np.max([mu_fit ,0.01])\n",
    "        sig_fit = popt[1]\n",
    "        sig_err = np.sqrt(pcov[1,1])\n",
    "        if sig_err==np.inf: sig_err = np.max([sig_fit ,0.01])\n",
    "    else:\n",
    "        mu_fit,mu_err,sig_fit,sig_err = 0,0,0,0\n",
    "\n",
    "    fit_results['mu_fit'] = mu_fit\n",
    "    fit_results['mu_err'] = mu_err\n",
    "    fit_results['sig_fit'] = sig_fit\n",
    "    fit_results['sig_err'] = sig_err\n",
    "    \n",
    "    if fdebug>1:\n",
    "        print(mu_fit , mu_err)\n",
    "        print(sig_fit, sig_err)\n",
    "        \n",
    "    if do_plot_fit:\n",
    "        x_fit = np.linspace(np.min(x),np.max(x),100)\n",
    "        plt.plot( x_fit, fit_function_pT( x_fit, mu_fit , sig_fit )*len(x_fit)/len(x), '--', color=color );\n",
    "    return fit_results"
   ]
  },
  {
   "cell_type": "markdown",
   "id": "14c7f7dc-862e-4d7c-9231-91ae5b8dbf5c",
   "metadata": {
    "jp-MarkdownHeadingCollapsed": true,
    "tags": []
   },
   "source": [
    "#### Untagged data"
   ]
  },
  {
   "cell_type": "code",
   "execution_count": null,
   "id": "9c8ecc3b-e39a-4c80-a13c-d878c34e2148",
   "metadata": {},
   "outputs": [],
   "source": [
    "z_bins   = np.linspace(0.35,0.80,4)\n",
    "z_widths = 0.01*np.ones(len(z_bins))\n",
    "x_bins   = np.linspace(0.2,0.5,4)\n",
    "x_widths = (x_bins[1] - x_bins[0])/2*np.ones(len(z_bins))\n",
    "for z_bin,z_width,z_idx in zip(z_bins,z_widths,range(len(z_bins))):\n",
    "    z_min,z_max = z_bin-z_width, z_bin+z_width\n",
    "    print('%d, %.3f < z < %.3f'%(z_idx,z_min,z_max))\n",
    "print('')    \n",
    "for x_bin,x_width,x_idx in zip(x_bins,x_widths,range(len(x_bins))):\n",
    "    x_min,x_max = x_bin-x_width, x_bin+x_width\n",
    "    print('%d, %.3f < x < %.3f'%(x_idx,x_min,x_max))    \n",
    "N_x = len(x_bins)\n",
    "N_z = len(z_bins)    \n",
    "# print('x bins:',x_bins)\n",
    "# print('x_err:',x_err)\n",
    "# print('x_widths:',x_widths)\n",
    "# print('z bins:',z_bins)\n",
    "# print('z width:',z_widths)"
   ]
  },
  {
   "cell_type": "code",
   "execution_count": null,
   "id": "0f44f265-3061-44be-a4b1-bb03be80d07a",
   "metadata": {},
   "outputs": [],
   "source": [
    "bins = np.linspace(0,1.3,16)\n",
    "Nsubplots = 16\n",
    "i = 0\n",
    "mu_in_bin,sig_in_bin,sig_err_in_bin = np.zeros((N_z,N_x,2)),np.zeros((N_z,N_x,2)),np.zeros((N_z,N_x,2))\n",
    "\n",
    "for z_bin,z_width,z_idx in zip(z_bins,z_widths,range(N_z)):#{\n",
    "    z_min,z_max = z_bin-z_width, z_bin+z_width\n",
    "\n",
    "    # if i>25: break\n",
    "    for x_bin,x_width,x_idx in zip(x_bins,x_widths,range(N_x)):\n",
    "        x_min,x_max = x_bin-x_width, x_bin+x_width\n",
    "        bin_label = \"$%.3f < z < %.3f$\"%(z_min,z_max) + \"\\n\" + \"$%.2f < x_B < %.2f$\"%(x_min,x_max)\n",
    "        \n",
    "        if i%Nsubplots==0: #{\n",
    "            fig = plt.figure(figsize=(20,12),tight_layout=True)\n",
    "        #}\n",
    "        # ax = fig.add_subplot( N_x,  N_z, z_idx + N_z*x_idx + 1 )\n",
    "        ax = fig.add_subplot( int(np.sqrt(Nsubplots)), int(np.sqrt(Nsubplots)), np.mod(i,Nsubplots)+1 )\n",
    "        for pi_ch,pi_print,pi_label,pi_color,pi_idx in zip(pi_charge_names,pi_prints,pi_labels,pi_colors,[1,2]):\n",
    "\n",
    "            df = e_e_pi_pass_cuts[pi_ch]\n",
    "            # cut on xB and z\n",
    "            df = df[  (z_min < df.Zpi) & (df.Zpi < z_max) \n",
    "                    & (x_min < df.xB ) & (df.xB  < x_max) ]\n",
    "            # plot\n",
    "            x,y,x_err,y_err = plot_step_hist( df[\"pi_qFrame_pT\"], bins = bins, color=pi_color, density=True )\n",
    "            \n",
    "            # fit to a chi distribution function\n",
    "            fit_results = fit_pT( x, y, y_err, 0, do_plot_fit=True,color=pi_color )\n",
    "            mu_in_bin[z_idx,x_idx,pi_idx-1]     = fit_results['mu_fit']\n",
    "            sig_in_bin[z_idx,x_idx,pi_idx-1]    = fit_results['sig_fit']\n",
    "            sig_err_in_bin[z_idx,x_idx,pi_idx-1]= fit_results['sig_err']\n",
    "                \n",
    "        set_axes(ax,'$p_{\\pi}^{\\perp}$ [GeV/c]' if np.mod(i,Nsubplots)>=Nsubplots-np.sqrt(Nsubplots) else '',\n",
    "                 '', # 'Frequency [a.u.]' if z_idx==0 else '', \n",
    "                 title= bin_label ,\n",
    "                 fontsize=20,\n",
    "                 remove_ticks_x = False if np.mod(i,Nsubplots)>=Nsubplots-np.sqrt(Nsubplots) else True,\n",
    "                 remove_ticks_y = True,\n",
    "                 do_add_grid=True, \n",
    "                 do_add_legend=False)\n",
    "        i = i+1        \n",
    "    #}    \n",
    "    if i%Nsubplots==0: #{\n",
    "        save_figure(figures_path + \n",
    "                    'pi_qFrame_pT' + \n",
    "                    '_z_and_xB_bins' + \n",
    "                    '.pdf')    \n",
    "    #}\n",
    "#}"
   ]
  },
  {
   "cell_type": "code",
   "execution_count": null,
   "id": "fb013608-3fcc-4f16-9810-29f8b452075d",
   "metadata": {},
   "outputs": [],
   "source": [
    "fig = plt.figure(figsize=(16,8),tight_layout=True)\n",
    "for z_bin,z_width,z_idx in zip(z_bins,z_widths,range(N_z)):#{\n",
    "    z_min,z_max = z_bin-z_width, z_bin+z_width\n",
    "\n",
    "    ax = fig.add_subplot( 2, 2, z_idx+1 )\n",
    "    \n",
    "    for pi_ch,pi_print,pi_label,pi_color,pi_idx in zip(pi_charge_names,pi_prints,pi_labels,pi_colors,[1,2]):\n",
    "        sig_vs_x     = sig_in_bin[z_idx,:,pi_idx-1]\n",
    "        sig_err_vs_x = sig_err_in_bin[z_idx,:,pi_idx-1]\n",
    "\n",
    "\n",
    "        ax.errorbar(x=x_bins + 0.005*pi_idx*np.ones(len(x_bins)), \n",
    "                    xerr=x_widths,\n",
    "                    y=sig_vs_x, \n",
    "                    yerr=sig_err_vs_x, \n",
    "                    color=pi_color,\n",
    "                    capsize=4, marker='o', markeredgecolor='k', linestyle='None', \n",
    "                    label=\"$(e,e'\"+pi_label+\"n)$\" )\n",
    "        \n",
    "    set_axes(ax,'$x_B$' if z_idx>=2 else '',\n",
    "             '$\\\\sigma_{p_T}$ [GeV/c]' if np.mod(z_idx,2)==0 else '',\n",
    "             remove_ticks_x=False if z_idx>=2 else True,\n",
    "             remove_ticks_y=False if np.mod(z_idx,2)==0 else True,\n",
    "             title=\"$%.3f < z < %.3f$\"%(z_min,z_max) ,\n",
    "             do_add_grid=True,do_add_legend=True, \n",
    "             xticks=np.arange(0.15,0.55,0.1),\n",
    "             ylim=(0,0.5))\n",
    "save_figure(figures_path     + \n",
    "            'pi_qFrame_pT'   + \n",
    "            '_sigma'         +  \n",
    "            '_z_and_xB_bins' +             \n",
    "            '.pdf')        "
   ]
  },
  {
   "cell_type": "markdown",
   "id": "a1906e54-f70a-463c-a68f-c3ccd395bae9",
   "metadata": {
    "jp-MarkdownHeadingCollapsed": true,
    "tags": []
   },
   "source": [
    "#### Tagged data"
   ]
  },
  {
   "cell_type": "code",
   "execution_count": null,
   "id": "1d68db2a-b0f0-4e8d-8cdf-05263c89eb66",
   "metadata": {},
   "outputs": [],
   "source": [
    "z_bins   = np.array([0.35,0.45,0.65])\n",
    "z_widths = np.array([0.05,0.05,0.15])\n",
    "x_bins   = np.array([0.2, 0.32, 0.44 ])\n",
    "x_widths = (x_bins[1] - x_bins[0])/2*np.ones(len(z_bins))\n",
    "for z_bin,z_width,z_idx in zip(z_bins,z_widths,range(len(z_bins))):\n",
    "    z_min,z_max = z_bin-z_width, z_bin+z_width\n",
    "    print\n",
    "    ('%d, %.3f < z < %.3f'%(z_idx,z_min,z_max))\n",
    "print('')    \n",
    "for x_bin,x_width,x_idx in zip(x_bins,x_widths,range(len(x_bins))):\n",
    "    x_min,x_max = x_bin-x_width, x_bin+x_width\n",
    "    print('%d, %.3f < x < %.3f'%(x_idx,x_min,x_max))    \n",
    "N_x = len(x_bins)\n",
    "N_z = len(z_bins)    "
   ]
  },
  {
   "cell_type": "code",
   "execution_count": null,
   "id": "cfc5ec77-d7d4-4de4-a787-7fce1c7a5265",
   "metadata": {},
   "outputs": [],
   "source": [
    "bins = np.linspace(0,1.3,16)\n",
    "\n",
    "fig = plt.figure(figsize=(16,12),tight_layout=True)\n",
    "\n",
    "mu_in_bin,sig_in_bin,sig_err_in_bin = np.zeros((N_z,N_x,2)),np.zeros((N_z,N_x,2)),np.zeros((N_z,N_x,2))\n",
    "for z_bin,z_width,z_idx in zip(z_bins,z_widths,range(N_z)):#{\n",
    "    z_min,z_max = z_bin-z_width, z_bin+z_width\n",
    "\n",
    "    for x_min,x_max,x_idx in zip(x_bins[:-1],x_bins[1:],range(N_x)):#{\n",
    "        ax = fig.add_subplot( N_x,  N_z, z_idx + N_z*x_idx + 1 )\n",
    "        for pi_ch,pi_print,pi_label,pi_color,pi_idx in zip(pi_charge_names,pi_prints,pi_labels,pi_colors,[1,2]):\n",
    "\n",
    "            df = e_e_pi_n_pass_cuts[pi_ch]\n",
    "            # cut on xB and z\n",
    "            df = df[  (z_min < df.Zpi) & (df.Zpi < z_max) \n",
    "                    & (x_min < df.xB ) & (df.xB  < x_max) ]\n",
    "            # plot\n",
    "            x,y,x_err,y_err = plot_step_hist( df[\"pi_qFrame_pT\"], bins = bins, color=pi_color, density=True )\n",
    "            \n",
    "            # fit to a chi distribution function\n",
    "            fit_results = fit_pT( x, y, y_err, 0, do_plot_fit=True,color=pi_color )\n",
    "            mu_in_bin[z_idx,x_idx,pi_idx-1]     = fit_results['mu_fit']\n",
    "            sig_in_bin[z_idx,x_idx,pi_idx-1]    = fit_results['sig_fit']\n",
    "            sig_err_in_bin[z_idx,x_idx,pi_idx-1]= fit_results['sig_err']\n",
    "\n",
    "            \n",
    "        set_axes(ax,'$p_{\\pi}^{\\perp}$ [GeV/c]' if x_idx >= 1 else '',\n",
    "                 'Frequency [a.u.]' if z_idx==0 else '', \n",
    "                 title= \"$%.1f < z < %.1f$\"%(z_min,z_max) + \", \" + \"$%.2f < x_B < %.2f$\"%(x_min,x_max) ,\n",
    "                 remove_ticks_x = False if x_idx >= 1 else True,\n",
    "                 remove_ticks_y = False if z_idx%N_z==0 else  True,\n",
    "                 do_add_grid=True, \n",
    "                 do_add_legend=False if z_idx==0 and x_idx==1 else False)\n",
    "    #}    \n",
    "#}\n",
    "save_figure(figures_path + \n",
    "            'Tagged_pi_qFrame_pT' +             \n",
    "            '_z_and_xB_bins' +         \n",
    "            '.pdf')    "
   ]
  },
  {
   "cell_type": "code",
   "execution_count": null,
   "id": "3265bf75-92a0-478c-8a72-676e0025be51",
   "metadata": {},
   "outputs": [],
   "source": [
    "fig = plt.figure(figsize=(14,6),tight_layout=True)\n",
    "for z_bin,z_width,z_idx in zip(z_bins,z_widths,range(N_z)):#{\n",
    "    z_min,z_max = z_bin-z_width, z_bin+z_width\n",
    "\n",
    "    ax = fig.add_subplot( 1, 3, z_idx+1 )\n",
    "    \n",
    "    for pi_ch,pi_print,pi_label,pi_color,pi_idx in zip(pi_charge_names,pi_prints,pi_labels,pi_colors,[1,2]):\n",
    "        sig_vs_x     = sig_in_bin[z_idx,:,pi_idx-1]\n",
    "        sig_err_vs_x = sig_err_in_bin[z_idx,:,pi_idx-1]\n",
    "\n",
    "\n",
    "        ax.errorbar(x=x_bins + 0.005*pi_idx*np.ones(len(x_bins)), \n",
    "                    xerr=x_widths,\n",
    "                    y=sig_vs_x, \n",
    "                    yerr=sig_err_vs_x, \n",
    "                    color=pi_color,\n",
    "                    capsize=4, marker='o', markeredgecolor='k', linestyle='None', \n",
    "                    label=\"$(e,e'\"+pi_label+\"n)$\" )\n",
    "        \n",
    "    set_axes(ax,'$x_B$' ,\n",
    "             '$\\\\sigma_{p_T}$ [GeV/c]' if z_idx==0 else '',\n",
    "             remove_ticks_x=False,\n",
    "             remove_ticks_y=True if z_idx>0 else False,\n",
    "             title=\"$%.3f < z < %.3f$\"%(z_min,z_max) ,\n",
    "             do_add_grid=True,do_add_legend=True, \n",
    "             xticks=np.arange(0.15,0.55,0.1),\n",
    "             ylim=(0.01,0.6))\n",
    "\n",
    "save_figure(figures_path          + \n",
    "            'Tagged_pi_qFrame_pT' +             \n",
    "            '_sigma'              +\n",
    "            '_z_and_xB_bins'      +         \n",
    "            '.pdf')    "
   ]
  },
  {
   "cell_type": "markdown",
   "id": "6000a402-0206-4790-a168-99158d2987d1",
   "metadata": {
    "tags": []
   },
   "source": [
    "### (3.8) $p_T$ in bins of $Q^2$"
   ]
  },
  {
   "cell_type": "markdown",
   "id": "7f0d1f30-5566-40d0-b301-37e951b0d3c2",
   "metadata": {
    "tags": []
   },
   "source": [
    "#### Untagged data"
   ]
  },
  {
   "cell_type": "code",
   "execution_count": null,
   "id": "93da096c-2f62-4b51-acae-7d6374128bea",
   "metadata": {},
   "outputs": [],
   "source": [
    "Q2_bins_untagged   = np.linspace(2.15,5.15,11)\n",
    "Q2_widths_untagged = (Q2_bins_untagged[1]-Q2_bins_untagged[0])/2*np.ones(len(Q2_bins_untagged))\n",
    "for Q2_bin,Q2_width,Q2_idx in zip(Q2_bins_untagged, Q2_widths_untagged ,range(len(Q2_bins_untagged))):\n",
    "    Q2_min,Q2_max = Q2_bin-Q2_width, Q2_bin+Q2_width\n",
    "    print('%d, %.3f < Q2 < %.3f'%(Q2_idx,Q2_min,Q2_max))\n",
    "print('')    \n",
    "N_Q2 = len(Q2_bins_untagged)"
   ]
  },
  {
   "cell_type": "code",
   "execution_count": null,
   "id": "20c15eae-42c9-407c-8305-c856925d1e19",
   "metadata": {},
   "outputs": [],
   "source": [
    "bins = np.linspace(0,1.3,16)\n",
    "fig = plt.figure(figsize=(16,10),tight_layout=True)\n",
    "sig_in_bin_untagged,sig_err_in_bin_untagged = np.zeros((N_Q2,2)),np.zeros((N_Q2,2))\n",
    "\n",
    "for Q2_bin,Q2_width,Q2_idx in zip(Q2_bins_untagged ,Q2_widths_untagged ,range(N_Q2)):#{\n",
    "    Q2_min,Q2_max = Q2_bin-Q2_width, Q2_bin+Q2_width\n",
    "    ax = fig.add_subplot( ceil(N_Q2/4),4,  Q2_idx+1 )\n",
    "        \n",
    "    for pi_ch,pi_print,pi_label,pi_color,pi_idx in zip(pi_charge_names,pi_prints,pi_labels,pi_colors,[1,2]):\n",
    "        \n",
    "        # cut on Q2\n",
    "        df = e_e_pi_pass_cuts[pi_ch]\n",
    "        df_in_bin = df[  (Q2_min < df.Q2) & (df.Q2 < Q2_max) ]\n",
    "\n",
    "        # plot\n",
    "        x,y,x_err,y_err = plot_step_hist( df_in_bin[\"pi_qFrame_pT\"], bins = bins, \n",
    "                       color=pi_color,\n",
    "                       density=True, \n",
    "                       label= \"$(e,e'\"+pi_label+\")$\" )\n",
    "        \n",
    "        # fit to a chi distribution function\n",
    "        fit_results = fit_pT( x, y, y_err, 0, do_plot_fit=True,color=pi_color )\n",
    "        sig_in_bin_untagged[Q2_idx,pi_idx-1]    = fit_results['sig_fit']\n",
    "        sig_err_in_bin_untagged[Q2_idx,pi_idx-1]= fit_results['sig_err']\n",
    "\n",
    "\n",
    "    #}    \n",
    "    set_axes(ax,'$p_{\\pi}^{\\perp}$ [GeV/c]' if Q2_idx >= 8 else '',\n",
    "             'Frequency [a.u.]' if pi_idx==1 else '', \n",
    "             title= \"$%.3f < Q^2 < %.3f$ (GeV/c)$^2$\"%(Q2_min,Q2_max),\n",
    "             fontsize=20,\n",
    "             remove_ticks_x = False,\n",
    "             remove_ticks_y = True,\n",
    "             do_add_grid=True, \n",
    "             do_add_legend=True if Q2_idx==0 else False)\n",
    "#}\n",
    "save_figure(figures_path + \n",
    "            'pi_qFrame_pT' +             \n",
    "            '_Q2_bins' +         \n",
    "            '.pdf')    "
   ]
  },
  {
   "cell_type": "markdown",
   "id": "2bddda24-1e71-4e90-8235-9a4babe076d9",
   "metadata": {
    "tags": []
   },
   "source": [
    "#### Tagged data"
   ]
  },
  {
   "cell_type": "code",
   "execution_count": null,
   "id": "dddfaeb2-56ba-44db-b56a-9ff4cc18f97a",
   "metadata": {},
   "outputs": [],
   "source": [
    "\n",
    "Q2_min_arr_tagged = [2.0,2.5,3.0,3.5]\n",
    "Q2_max_arr_tagged = [2.5,3.0,3.5,5.3 ]\n",
    "N_Q2_tagged = len(Q2_min_arr_tagged)\n",
    "for Q2_min,Q2_max,Q2_idx in zip(Q2_min_arr_tagged,Q2_max_arr_tagged,range(N_Q2_tagged)):\n",
    "    print('%d, %.3f < Q2 < %.3f'%(Q2_idx,Q2_min,Q2_max))\n",
    "print('')    \n"
   ]
  },
  {
   "cell_type": "code",
   "execution_count": null,
   "id": "a28f48f2-d5e0-4f07-9297-88aed5242bf0",
   "metadata": {},
   "outputs": [],
   "source": [
    "bins = np.linspace(0,1.3,16)\n",
    "fig = plt.figure(figsize=(16,10),tight_layout=True)\n",
    "\n",
    "sig_in_bin_tagged,sig_err_in_bin_tagged = np.zeros((N_Q2_tagged,2)),np.zeros((N_Q2_tagged,2))\n",
    "Q2_avg_tagged = np.zeros((N_Q2_tagged,2))\n",
    "\n",
    "for Q2_min,Q2_max,Q2_idx in zip(Q2_min_arr_tagged,Q2_max_arr_tagged,range(N_Q2_tagged)):\n",
    "    ax = fig.add_subplot( 2, 2, Q2_idx+1 )\n",
    "        \n",
    "    for pi_ch,pi_print,pi_label,pi_color,pi_idx in zip(pi_charge_names,pi_prints,pi_labels,pi_colors,[1,2]):\n",
    "        \n",
    "        # cut on Q2\n",
    "        df = e_e_pi_n_pass_cuts[pi_ch]\n",
    "        df_in_bin = df[  (Q2_min < df.Q2) & (df.Q2 < Q2_max) ]\n",
    "        Q2_avg_tagged[Q2_idx,pi_idx-1] =  np.mean(df_in_bin.Q2) \n",
    "\n",
    "        # plot\n",
    "        x,y,x_err,y_err = plot_step_hist( df_in_bin[\"pi_qFrame_pT\"], bins = bins, \n",
    "                       color=pi_color,\n",
    "                       density=True, \n",
    "                       label= \"$(e,e'\"+pi_label+\"n)$\" )\n",
    "        # fit to a chi distribution function\n",
    "        fit_results = fit_pT( x, y, y_err, 0, do_plot_fit=True,color=pi_color )\n",
    "        sig_in_bin_tagged[Q2_idx,pi_idx-1]    = fit_results['sig_fit']\n",
    "        sig_err_in_bin_tagged[Q2_idx,pi_idx-1]= fit_results['sig_err']\n",
    "\n",
    "        \n",
    "    #}    \n",
    "    set_axes(ax,'$p_{\\pi}^{\\perp}$ [GeV/c]',\n",
    "             'Frequency [a.u.]' if pi_idx==1 else '', \n",
    "             title= \"$%.3f < Q^2 < %.3f$ (GeV/c)$^2$\"%(Q2_min,Q2_max),\n",
    "             fontsize=20,\n",
    "             remove_ticks_x = False,\n",
    "             remove_ticks_y = False,\n",
    "             do_add_grid=True, \n",
    "             do_add_legend=True if Q2_idx==0 else False)\n",
    "#}\n",
    "save_figure(figures_path + \n",
    "            'Tagged_pi_qFrame_pT' +             \n",
    "            '_Q2_bins' +         \n",
    "            '.pdf')    "
   ]
  },
  {
   "cell_type": "code",
   "execution_count": null,
   "id": "a460eabf-fadd-4a7b-b7ee-ba8556f97031",
   "metadata": {},
   "outputs": [],
   "source": [
    "# fig = plt.figure(figsize=(9,6),tight_layout=True)\n",
    "# ax = fig.add_subplot( 1, 1, 1 )\n",
    "# for pi_ch,pi_print,pi_label,pi_color,pi_idx in zip(pi_charge_names,pi_prints,pi_labels,pi_colors,[1,2]):\n",
    "    \n",
    "#     sig_vs_Q2     = sig_in_bin_tagged[:,pi_idx-1]\n",
    "#     sig_err_vs_Q2 = sig_err_in_bin_tagged[:,pi_idx-1]\n",
    "\n",
    "#     err_dw,err_up = Q2_avg_tagged[:,pi_idx-1]-Q2_min_arr_tagged, Q2_max_arr_tagged - Q2_avg_tagged[:,pi_idx-1]\n",
    "#     ax.errorbar(x = Q2_avg_tagged[:,pi_idx-1],\n",
    "#                     xerr = [err_dw,err_up], #(np.array(Q2_max_arr) - np.array(Q2_min_arr))/2,\n",
    "#                     y=sig_vs_Q2, \n",
    "#                     yerr=sig_err_vs_Q2, \n",
    "#                     color=pi_color,\n",
    "#                     capsize=4, marker='o', markeredgecolor='k', linestyle='None', \n",
    "#                     label=\"$(e,e'\"+pi_label+\")$\" )\n",
    "        \n",
    "#     set_axes(ax,'$Q^2$ [(GeV/c)$^2$]' ,\n",
    "#              '$\\\\sigma_{p_T}$ [GeV/c]' ,\n",
    "#              remove_ticks_x=False,\n",
    "#              remove_ticks_y=False,\n",
    "#              do_add_grid=True,do_add_legend=True, \n",
    "#              ylim=(0.25,0.4)\n",
    "#             )"
   ]
  },
  {
   "cell_type": "code",
   "execution_count": null,
   "id": "ff046d52-d96a-4863-9038-9c0bd8b41f35",
   "metadata": {},
   "outputs": [],
   "source": [
    "fig = plt.figure(figsize=(11,6),tight_layout=True)\n",
    "ax = fig.add_subplot( 1, 1, 1 )\n",
    "for pi_ch,pi_print,pi_label,pi_color,pi_idx in zip(pi_charge_names,pi_prints,pi_labels,pi_colors,[1,2]):\n",
    "    \n",
    "    sig_vs_Q2     = sig_in_bin_untagged[:,pi_idx-1]\n",
    "    sig_err_vs_Q2 = sig_err_in_bin_untagged[:,pi_idx-1]\n",
    "\n",
    "    ax.errorbar(x=Q2_bins_untagged,\n",
    "                    xerr=Q2_widths_untagged,\n",
    "                    y=sig_vs_Q2, \n",
    "                    yerr=sig_err_vs_Q2, \n",
    "                    color=pi_color,\n",
    "                    capsize=4, marker='^', markeredgecolor=pi_color, linestyle='None', \n",
    "                    label=\"$(e,e'\"+pi_label+\")$\" )\n",
    "        \n",
    "        \n",
    "        \n",
    "    sig_vs_Q2     = sig_in_bin_tagged[:,pi_idx-1]\n",
    "    sig_err_vs_Q2 = sig_err_in_bin_tagged[:,pi_idx-1]\n",
    "\n",
    "    err_dw,err_up = Q2_avg_tagged[:,pi_idx-1]-Q2_min_arr_tagged, Q2_max_arr_tagged - Q2_avg_tagged[:,pi_idx-1]\n",
    "    ax.errorbar(x = Q2_avg_tagged[:,pi_idx-1],\n",
    "                    xerr = [err_dw,err_up], \n",
    "                    y=sig_vs_Q2, \n",
    "                    yerr=sig_err_vs_Q2, \n",
    "                    color=pi_color,\n",
    "                    capsize=4, marker='o', markersize=10, markeredgecolor='k', linestyle='None', \n",
    "                    label=\"$(e,e'\"+pi_label+\"n)$\" )\n",
    "\n",
    "        \n",
    "        \n",
    "    set_axes(ax,'$Q^2$ [(GeV/c)$^2$]' ,\n",
    "             '$\\\\sigma_{p_T}$ [GeV/c]' ,\n",
    "             remove_ticks_x=False,\n",
    "             remove_ticks_y=False,\n",
    "             do_add_grid=True,do_add_legend=True, \n",
    "             ylim=(0.25,0.4)\n",
    "            )\n",
    "    ax.legend(bbox_to_anchor=(1.,1.05),loc='best',fontsize=20)\n",
    "save_figure(figures_path   + \n",
    "            'Untegged_and_Tagged_'\n",
    "            'pi_qFrame_pT' +             \n",
    "            '_sigma'       + \n",
    "            '_Q2_bins'     +         \n",
    "            '.pdf')        "
   ]
  },
  {
   "cell_type": "markdown",
   "id": "923ab43d-05be-4017-919b-d8206bc8b4d5",
   "metadata": {
    "jp-MarkdownHeadingCollapsed": true,
    "tags": []
   },
   "source": [
    "### (3.9) $M_x$ and $M'_{x}$ "
   ]
  },
  {
   "cell_type": "code",
   "execution_count": null,
   "id": "d3e0cb86-43e5-48e7-bc29-9752ba3ecda3",
   "metadata": {},
   "outputs": [],
   "source": [
    "ax=plot_SIDIS_variable(var  = 'M_x',\n",
    "                       bins = np.linspace(1.,3.,21),\n",
    "                       varlabel = '$M_x$',\n",
    "                       varunits = ' [GeV/c$^2$]', ylim_ratio=(0.1,8)\n",
    "                      );\n",
    "ax[4].legend(loc=(0.3,0.5),fontsize=22);"
   ]
  },
  {
   "cell_type": "code",
   "execution_count": null,
   "id": "9e9c8e8b-b767-44e3-b67c-92e9491ee2ed",
   "metadata": {},
   "outputs": [],
   "source": [
    "plot_SIDIS_variable(var  = 'M_x',                      \n",
    "                    bins = np.linspace(0.5,3.1,21),                    \n",
    "                    varlabel = '$M_x$',\n",
    "                    varunits = ' [GeV/c$^2$]', \n",
    "                    var_tagged = 'M_x_Prime',\n",
    "                    varlabel_tagged=\"$M_x'$\",\n",
    "                    do_only_top_2=True);"
   ]
  },
  {
   "cell_type": "markdown",
   "id": "66154e08-f1cd-44ce-a59d-9f9099747509",
   "metadata": {
    "tags": []
   },
   "source": [
    "### (3.10) $q^*$ "
   ]
  },
  {
   "cell_type": "code",
   "execution_count": null,
   "id": "78deea2d-8802-4e07-b2d3-c660951bf3dd",
   "metadata": {},
   "outputs": [],
   "source": [
    "# ax=plot_SIDIS_variable(var  = 'qStar',\n",
    "#                        bins = np.linspace(-7,7,50),\n",
    "#                        varlabel = '$q^*$',\n",
    "#                        varunits = ' [GeV/c]', \n",
    "#                        # ylim_ratio=(0.1,8)\n",
    "#                       );\n",
    "# # ax[4].legend(loc=(0.0,0.6),fontsize=17);"
   ]
  },
  {
   "cell_type": "markdown",
   "id": "d531f76a-93e2-4238-b206-b67c88987527",
   "metadata": {
    "tags": []
   },
   "source": [
    "# (4) Focus on tagged data - neutron characteristics "
   ]
  },
  {
   "cell_type": "markdown",
   "id": "74f33cc5-c1b5-4d53-b9e1-6028b0fd7ca9",
   "metadata": {
    "jp-MarkdownHeadingCollapsed": true,
    "tags": []
   },
   "source": [
    "## (4.1) neutron momentum and direction"
   ]
  },
  {
   "cell_type": "code",
   "execution_count": null,
   "id": "7a9c6785-2fdd-4eff-aad2-e5692a1cceda",
   "metadata": {},
   "outputs": [],
   "source": [
    "# m_n\n",
    "# fig = plt.figure(figsize=(9,6))\n",
    "# ax = fig.add_subplot(1,1,1)\n",
    "# for pi_ch,pi_print,pi_label,pi_color,pi_idx in zip(pi_charge_names,pi_prints,pi_labels,pi_colors,[1,2]):\n",
    "\n",
    "#     df = e_e_pi_n_pass_cuts[pi_ch]\n",
    "#     plot_step_hist( df.n_E - m_n, bins=np.linspace(0,1.1,20), marker='s',\n",
    "#                    markersize=1, color=pi_color,label=\"$(e,e'\"+pi_label+\"n)$\", alpha=1, density=True)\n",
    "\n",
    "# set_axes(ax,'$E_n^k$ [GeV/c]',\n",
    "#          'Frequency [a.u.]', \n",
    "#          title=\"Reconstructed neutron momentum\",\n",
    "#          do_add_grid=True, do_add_legend=True,)\n",
    "# plt.tight_layout()"
   ]
  },
  {
   "cell_type": "code",
   "execution_count": null,
   "id": "91a35b3e-61fe-491a-adc9-95460383becb",
   "metadata": {},
   "outputs": [],
   "source": [
    "fig = plt.figure(figsize=(9,6))\n",
    "ax = fig.add_subplot(1,1,1)\n",
    "for pi_ch,pi_print,pi_label,pi_color,pi_idx in zip(pi_charge_names,pi_prints,pi_labels,pi_colors,[1,2]):\n",
    "\n",
    "    df = e_e_pi_n_pass_cuts[pi_ch]\n",
    "    plot_step_hist( df.n_P, bins=np.linspace(0.2,0.55,20), marker='s',\n",
    "                   markersize=1, color=pi_color,label=\"$(e,e'\"+pi_label+\"n)$\", alpha=1, density=True)\n",
    "    print(np.min(df.n_P),'<p(n)<',np.max(df.n_P),'GeV/c')\n",
    "set_axes(ax,'$p_n$ [GeV/c]',\n",
    "         'Frequency [a.u.]', \n",
    "         title=\"Reconstructed neutron momentum\",\n",
    "         do_add_grid=True, do_add_legend=True,)\n",
    "plt.tight_layout()\n",
    "save_figure(figures_path + 'n_P' +'.pdf')    "
   ]
  },
  {
   "cell_type": "code",
   "execution_count": null,
   "id": "4d7d6de5-bbd4-41c5-ac00-2c64a75cb85b",
   "metadata": {},
   "outputs": [],
   "source": [
    "fig = plt.figure(figsize=(16,6),tight_layout=True)\n",
    "ax = fig.add_subplot(1,2,1)\n",
    "for pi_ch,pi_print,pi_label,pi_color,pi_idx in zip(pi_charge_names,pi_prints,pi_labels,pi_colors,[1,2]):\n",
    "\n",
    "    df = e_e_pi_n_pass_cuts[pi_ch]\n",
    "    plot_step_hist( df.n_Theta*r2d, bins=np.linspace(155,170,20), marker='s', markersize=1, color=pi_color,label='$'+pi_label+'$', alpha=1, density=True)\n",
    "\n",
    "set_axes(ax,'$\\\\theta_n$ [deg.]',\n",
    "         'Frequency [a.u.]', \n",
    "         title=\"neutron scattering angle\",\n",
    "         do_add_grid=True, do_add_legend=True,)\n",
    "\n",
    "ax = fig.add_subplot(1,2,2)\n",
    "for pi_ch,pi_print,pi_label,pi_color,pi_idx in zip(pi_charge_names,pi_prints,pi_labels,pi_colors,[1,2]):\n",
    "\n",
    "    df = e_e_pi_n_pass_cuts[pi_ch]\n",
    "    plot_step_hist( df.n_Phi*r2d, bins=np.linspace(-180,180,20), marker='s', markersize=1, color=pi_color,label='$'+pi_label+'$', alpha=1, density=True)\n",
    "\n",
    "set_axes(ax,'$\\phi_n$ [deg.]',\n",
    "         '', \n",
    "         title=\"neutron azimuthal angle\",\n",
    "         do_add_grid=True, do_add_legend=True,)\n",
    "save_figure(figures_path + 'n_Theta_Phi_LabFrame' +'.pdf')    \n",
    "\n"
   ]
  },
  {
   "cell_type": "markdown",
   "id": "3fc69ed0-0f04-438c-9cb2-17846bcb7c22",
   "metadata": {
    "jp-MarkdownHeadingCollapsed": true,
    "tags": []
   },
   "source": [
    "## (4.2) neutron transverse momentum to $\\vec{q}$ and parallel to $\\vec{q}$"
   ]
  },
  {
   "cell_type": "code",
   "execution_count": null,
   "id": "058be949-fcfe-4f06-8f71-2c6411f84293",
   "metadata": {},
   "outputs": [],
   "source": [
    "fig = plt.figure(figsize=(9,6))\n",
    "ax = fig.add_subplot(1,1,1)\n",
    "for pi_ch,pi_print,pi_label,pi_color,pi_idx in zip(pi_charge_names,pi_prints,pi_labels,pi_colors,[1,2]):\n",
    "\n",
    "    df = e_e_pi_n_pass_cuts[pi_ch]\n",
    "    plot_step_hist( df[\"n_pT_qFrame\"], bins=np.linspace(-0.01,0.25,21), marker='s',\n",
    "                   markersize=1, color=pi_color,label=\"$(e,e'\"+pi_label+\"n)$\", alpha=1, density=True)\n",
    "\n",
    "set_axes(ax,'$p_n^{\\perp} $ [GeV/c]',\n",
    "         'Frequency [a.u.]', \n",
    "         title=\"neutron momentum tranverse to $\\\\vec{q}$\",\n",
    "         do_add_grid=True, do_add_legend=True,)\n",
    "plt.tight_layout()\n",
    "save_figure(figures_path + 'n_pT_qFrame' +'.pdf')    \n"
   ]
  },
  {
   "cell_type": "code",
   "execution_count": null,
   "id": "794298b2-7333-4eaa-962c-e8f07835e054",
   "metadata": {},
   "outputs": [],
   "source": [
    "fig = plt.figure(figsize=(9,6))\n",
    "ax = fig.add_subplot(1,1,1)\n",
    "for pi_ch,pi_print,pi_label,pi_color,pi_idx in zip(pi_charge_names,pi_prints,pi_labels,pi_colors,[1,2]):\n",
    "\n",
    "    df = e_e_pi_n_pass_cuts[pi_ch]\n",
    "    plot_step_hist( df[\"n_pL_qFrame\"], bins=np.linspace(-0.5,-0.1,21), marker='s',\n",
    "                   markersize=1, color=pi_color,label=\"$(e,e'\"+pi_label+\"n)$\", alpha=1, density=True)\n",
    "\n",
    "set_axes(ax,'$\\\\vec{p}_n \\cdot \\hat{q} $ [GeV/c]',\n",
    "         'Frequency [a.u.]', \n",
    "         title=\"neutron momentum parallel to $\\\\vec{q}$\",\n",
    "         do_add_grid=True, do_add_legend=True,\n",
    "         xticks=[-0.5,-0.4,-0.3,-0.2,-0.1])\n",
    "plt.tight_layout()\n",
    "save_figure(figures_path + 'n_pL_qFrame' +'.pdf')    \n",
    "\n"
   ]
  },
  {
   "cell_type": "markdown",
   "id": "e270143a-bc98-4287-b943-9271739c460e",
   "metadata": {
    "jp-MarkdownHeadingCollapsed": true,
    "tags": []
   },
   "source": [
    "## (4.3) neutron light-cone fraction"
   ]
  },
  {
   "cell_type": "code",
   "execution_count": null,
   "id": "44b764cf-6490-4da8-9d1b-4de312666eaa",
   "metadata": {},
   "outputs": [],
   "source": [
    "fig = plt.figure(figsize=(9,6))\n",
    "ax = fig.add_subplot(1,1,1)\n",
    "for pi_ch,pi_print,pi_label,pi_color,pi_idx in zip(pi_charge_names,pi_prints,pi_labels,pi_colors,[1,2]):\n",
    "\n",
    "    df = e_e_pi_n_pass_cuts[pi_ch]\n",
    "    plot_step_hist( df[\"alpha_n\"], bins=np.linspace(1.2,1.6,21), marker='s',\n",
    "                   markersize=1, color=pi_color,label=\"$(e,e'\"+pi_label+\"n)$\", alpha=1, density=True)\n",
    "\n",
    "set_axes(ax,'$\\\\alpha_n = (E_{n} - \\\\vec{p}_n\\cdot\\\\hat{q})/m_n$',\n",
    "         'Frequency [a.u.]', \n",
    "         title=\"neutron light-cone fraction\",\n",
    "         do_add_grid=True, do_add_legend=True,\n",
    "         xticks=np.arange(1.2,1.6,0.1))\n",
    "plt.tight_layout()\n",
    "save_figure(figures_path + 'alpha_n' +'.pdf')    \n",
    "\n",
    "\n"
   ]
  },
  {
   "cell_type": "markdown",
   "id": "89252c87-d768-4da8-9ce3-043dfd018a69",
   "metadata": {
    "tags": []
   },
   "source": [
    "## (4.4) neutron hit position in BAND"
   ]
  },
  {
   "cell_type": "code",
   "execution_count": null,
   "id": "aa380e14-630d-48d7-b219-03f62fc36e04",
   "metadata": {},
   "outputs": [],
   "source": [
    "fig = plt.figure(figsize=(16,10),tight_layout=True)\n",
    "for pi_ch,pi_print,pi_label,pi_color,pi_idx in zip(pi_charge_names,pi_prints,pi_labels,pi_colors,[1,2]):\n",
    "    ax = fig.add_subplot(2,2,pi_idx)\n",
    "\n",
    "    df = e_e_pi_n_pass_cuts[pi_ch]\n",
    "    # scatter_plot_with_kernel(x=df.n_HitPos_X , y = df.n_HitPos_Y, s=100,do_add_colorbar=False,cmap='jet')\n",
    "    plt.scatter(x=df.n_HitPos_X , y = df.n_HitPos_Y, s=100,cmap='jet', edgecolor='k')    \n",
    "    set_axes(ax,\n",
    "             \"$x_{n-Hit}$ [cm]\", \n",
    "             \"$y_{n-Hit}$ [cm]\", \n",
    "             title=\"$(e,e'\"+pi_label+\" n)$\",\n",
    "             do_add_grid=True, do_add_legend=False,fontsize=18)    \n",
    "    \n",
    "    ax = fig.add_subplot(2,2,2+pi_idx)\n",
    "    plt.scatter(x=df.n_HitPos_X , y = df.n_HitPos_Z, s=100,cmap='jet', edgecolor='k')        \n",
    "    set_axes(ax,\n",
    "             \"$x_{n-Hit}$ [cm]\", \n",
    "             \"$z_{n-Hit}$ [cm]\", \n",
    "             title=\"$(e,e'\"+pi_label+\" n)$\",\n",
    "             do_add_grid=True, do_add_legend=False,fontsize=18)"
   ]
  },
  {
   "cell_type": "markdown",
   "id": "a3d13d36-9256-4379-a671-e6bb1a888b58",
   "metadata": {
    "tags": []
   },
   "source": [
    "## (4.4) $\\theta_n$ and $\\phi_n$ distributions in bins of $x_B$ and $z$"
   ]
  },
  {
   "cell_type": "markdown",
   "id": "e9beab4f-59a7-47c6-abff-32ff14b4217d",
   "metadata": {
    "tags": []
   },
   "source": [
    "### (4.4.1) angles in lab frame in bins of $x_B$ and $z$"
   ]
  },
  {
   "cell_type": "code",
   "execution_count": null,
   "id": "fadea80d-d23e-4654-9c32-a20927a39fb9",
   "metadata": {},
   "outputs": [],
   "source": [
    "z_bins   = np.array([0.35,0.45,0.65])\n",
    "z_widths = np.array([0.05,0.05,0.15])\n",
    "x_bins   = np.array([0.2, 0.32, 0.44, 0.56 ])\n",
    "x        = (x_bins[1:] + x_bins[:-1])/2\n",
    "x_err    = (x_bins[1:] - x_bins[:-1])/2\n",
    "print('x bins:',x_bins)\n",
    "print('z bins:',z_bins)\n",
    "for z_bin,z_width in zip(z_bins,z_widths):\n",
    "    z_min,z_max = z_bin-z_width, z_bin+z_width\n",
    "    print('%.3f < z < %.3f:'%(z_min,z_max))"
   ]
  },
  {
   "cell_type": "code",
   "execution_count": null,
   "id": "c3651a85-a4e8-4b4c-b038-52cc64c0d67b",
   "metadata": {},
   "outputs": [],
   "source": [
    "N_x = len(x)\n",
    "N_z = len(z_bins)"
   ]
  },
  {
   "cell_type": "code",
   "execution_count": null,
   "id": "a647c2ae-cf38-41a7-8a3a-bd4530f8322f",
   "metadata": {},
   "outputs": [],
   "source": [
    "fig = plt.figure(figsize=(18,10),tight_layout=True)\n",
    "\n",
    "for z_bin,z_width,z_idx in zip(z_bins,z_widths,range(N_z)):#{\n",
    "    z_min,z_max = z_bin-z_width, z_bin+z_width\n",
    "\n",
    "    for x_min,x_max,x_idx in zip(x_bins[:-1],x_bins[1:],range(N_x)):#{\n",
    "        ax = fig.add_subplot( N_x,  N_z, z_idx + N_z*x_idx + 1 )\n",
    "        for pi_ch,pi_print,pi_label,pi_color,pi_idx in zip(pi_charge_names,pi_prints,pi_labels,pi_colors,[1,2]):\n",
    "\n",
    "            df = e_e_pi_n_pass_cuts[pi_ch]\n",
    "            # cut on xB and z\n",
    "            df = df[  (z_min < df.Zpi) & (df.Zpi < z_max) \n",
    "                    & (x_min < df.xB ) & (df.xB  < x_max) ]\n",
    "            \n",
    "            plt.scatter( df.n_Theta*r2d, df.n_Phi*r2d, \n",
    "                        marker='o', s=50, color=pi_color,\n",
    "                        label='$'+pi_label+'$', alpha=1, edgecolor='k')\n",
    "\n",
    "        set_axes(ax,'$\\\\theta_n$ [deg.]' if x_idx > 1 else '',\n",
    "                 '$\\phi_n$ [deg.]' if z_idx==0 else '', \n",
    "                 title= \"$%.1f < z < %.1f$\"%(z_min,z_max) + \", \" + \"$%.2f < x_B < %.2f$\"%(x_min,x_max) ,\n",
    "                 xlim = (155, 170) ,xticks=(155,160,165,170),\n",
    "                 remove_ticks_x = False if x_idx > 1 else  True,\n",
    "                 ylim = (-180, 180),yticks=(-180,-60,60,180),\n",
    "                 remove_ticks_y = False if z_idx%N_z==0 else  True,\n",
    "                 do_add_grid=True, \n",
    "                 do_add_legend=False if z_idx==0 and x_idx==1 else False)\n",
    "    #}    \n",
    "#}"
   ]
  },
  {
   "cell_type": "markdown",
   "id": "04fe58db-91c2-46b2-bfc2-f088e8570b79",
   "metadata": {},
   "source": [
    "### (4.4.2) angles in $q$-Frame"
   ]
  },
  {
   "cell_type": "code",
   "execution_count": null,
   "id": "ae1490aa-2bc2-4662-9eb5-66b38c8e0f3a",
   "metadata": {},
   "outputs": [],
   "source": [
    "Nbins = 31\n",
    "fig = plt.figure(figsize=(16,6),tight_layout=True)\n",
    "for var,varlabel,vartitle,var_bins,var_idx in zip(['n_Theta_qFrame','n_Phi_qFrame'],\n",
    "                                                  ['$\\\\theta_n^q$ [deg.]','$\\phi_n^q$ [deg.]'],\n",
    "                                                  ['$\\\\theta_n$ in $q$-frame','$\\phi_n$ in $q$-frame'],\n",
    "                                                  [np.linspace(130,180,Nbins),np.linspace(-180,180,Nbins)],\n",
    "                                                  [1,2]):\n",
    "\n",
    "    ax = fig.add_subplot(1,2,var_idx)\n",
    "    for pi_ch,pi_print,pi_label,pi_color,pi_idx in zip(pi_charge_names,pi_prints,pi_labels,pi_colors,[1,2]):\n",
    "\n",
    "        df = e_e_pi_n_pass_cuts[pi_ch]\n",
    "        plot_step_hist( df[var]*r2d, bins=var_bins, color=pi_color, label='$'+pi_print+'$', density=True)\n",
    "\n",
    "    set_axes(ax,varlabel,\n",
    "                 'Frequency [a.u.]' if var_idx==1 else '', \n",
    "                 title= vartitle,\n",
    "                 # xlim = (155, 170) ,xticks=(155,160,165,170),\n",
    "                 # ylim = (-180, 180),yticks=(-180,-60,60,180),\n",
    "                 # remove_ticks_y = False if z_idx%N_z==0 else  True,\n",
    "                 do_add_grid=True, \n",
    "                 do_add_legend=False if var_idx==1 else True)\n",
    "    #}    \n",
    "#}"
   ]
  },
  {
   "cell_type": "markdown",
   "id": "6d92f7bc-3465-44e1-ac45-24b9ea69789b",
   "metadata": {
    "tags": []
   },
   "source": [
    "## (4.5) Further 2-D correlations for the tagged data\n",
    "$M_x$ vs. W, $M_x'$ and $W'$, $x_F$ etc."
   ]
  },
  {
   "cell_type": "code",
   "execution_count": null,
   "id": "c39459f6-21c0-4a9e-8110-75a7b8c89c46",
   "metadata": {},
   "outputs": [],
   "source": [
    "# [e_e_pi, e_e_pi_/Users/erezcohen/Desktop/Nruns = -1,\n",
    "#                                         subdirname = \"sidisdvcs_27Oct2022_commit_2fe215f\",\n",
    "#                                         do_e_e_pi=True, \n",
    "#                                         do_e_e_pi_n=True, \n",
    "#                                         do_e_e_pi_FreeP=True,\n",
    "#                                         do_all_vars=True, \n",
    "#                                        fdebug=2)\n",
    "# e_e_pi_pass_cuts,e_e_pi_n_pass_cuts,e_e_pi_FreeP_pass_cuts,_ = apply_further_selection_cuts_to_data(doApply_Mx_cut=False,\n",
    "#                                                                                                     fdebug=0);\n",
    "# e_e_pi_pass_cuts,e_e_pi_n_pass_cuts,_ = apply_further_selection_cuts_to_data(doApply_Mx_cut=False, \n",
    "#                                                                              fdebug=2, \n",
    "#                                                                              NeventsMax=-1);"
   ]
  },
  {
   "cell_type": "markdown",
   "id": "63a18bbf-9dfc-4ac7-9b12-72538badbb4b",
   "metadata": {
    "tags": []
   },
   "source": [
    "### (4.5.1) $W$ vs. $W'$ "
   ]
  },
  {
   "cell_type": "code",
   "execution_count": null,
   "id": "08584fde-18a5-4f01-83c4-f146d2575ad2",
   "metadata": {},
   "outputs": [],
   "source": [
    "fig = plt.figure(figsize=(16,6),tight_layout=True)\n",
    "for pi_ch,pi_print,pi_label,pi_color,pi_idx in zip(pi_charge_names,pi_prints,pi_labels,pi_colors,[1,2]):\n",
    "    ax = fig.add_subplot(1,2,pi_idx)\n",
    "\n",
    "    df = e_e_pi_n_pass_cuts[pi_ch]\n",
    "    scatter_plot_with_kernel(x=df.W , y = df.W_Prime, s=100,do_add_colorbar=False,cmap='jet')\n",
    "    set_axes(ax,\n",
    "             \"$W = \\sqrt{|p_{rest} + q|^2}$ [GeV/c$^2$]\", \n",
    "             \"$W' = \\sqrt{||p_{init} + q|^2}$ [GeV/c$^2$]\",\n",
    "             title=\"$(e,e'\"+pi_label+\" n)$\",\n",
    "             do_add_grid=True, do_add_legend=False,fontsize=22,\n",
    "             ylim=(1.7,2.8))\n",
    "    \n",
    "save_figure(figures_path + 'W_Prime_vs_W' +'.pdf')    \n",
    "\n",
    "    "
   ]
  },
  {
   "cell_type": "markdown",
   "id": "ca8eecb4-bbb6-418b-b3f5-4ac29a5c4a4b",
   "metadata": {
    "jp-MarkdownHeadingCollapsed": true,
    "tags": []
   },
   "source": [
    "### (4.5.2) $W$ vs. $M_x$ for un-tagged and $W'$ vs. $M_x'$ for tagged"
   ]
  },
  {
   "cell_type": "code",
   "execution_count": null,
   "id": "72e2ed9b-19af-4dc5-94fd-9e2ad9db5ea5",
   "metadata": {},
   "outputs": [],
   "source": [
    "Mx_label = \"$M_x = \\sqrt{|p+q-\\pi|^2}$ [GeV/c$^2$]\"\n",
    "ylim=(0.5,3.)\n",
    "\n",
    "fig = plt.figure(figsize=(16,12),tight_layout=True)\n",
    "for pi_ch,pi_print,pi_label,pi_color,pi_idx in zip(pi_charge_names,pi_prints,pi_labels,pi_colors,[1,2]):\n",
    "    df = e_e_pi_pass_cuts[pi_ch]\n",
    "    \n",
    "    ax = fig.add_subplot(2,2,pi_idx)\n",
    "    ax.hist2d( x=df.W , y = df.M_x, cmap='hot_r', bins=100 )\n",
    "    set_axes(ax,\n",
    "             \"$W = \\sqrt{|p_{rest} + q|^2}$ [GeV/c$^2$]\", \n",
    "             Mx_label if pi_idx==1 else '',\n",
    "             title=\"$(e,e'\"+pi_label+\")$\",\n",
    "             do_add_grid=True, do_add_legend=False,fontsize=22,\n",
    "             remove_ticks_y=True if pi_idx==2 else False,\n",
    "             ylim=ylim)    \n",
    "\n",
    "xlim=(1.7,2.7)\n",
    "ylim=(0.5,2.3)\n",
    "save_figure(figures_path + 'M_x_Prime_vs_W' +'.pdf')    \n",
    "\n",
    "# fig = plt.figure(figsize=(16,6),tight_layout=True)\n",
    "for pi_ch,pi_print,pi_label,pi_color,pi_idx in zip(pi_charge_names,pi_prints,pi_labels,pi_colors,[1,2]):\n",
    "    df = e_e_pi_n_pass_cuts[pi_ch]\n",
    "\n",
    "    ax = fig.add_subplot(2,2,2+pi_idx)\n",
    "    scatter_plot_with_kernel(x=df.W_Prime , y = df.M_x_Prime, s=100,do_add_colorbar=False,cmap='jet')\n",
    "    set_axes(ax,\n",
    "             \"$W' = \\sqrt{|p_{init} + q|^2}$ [GeV/c$^2$]\",\n",
    "             \"$M_x' = \\sqrt{|q+p_{init}-\\pi|^2}$ [GeV/c$^2$]\" if pi_idx==1 else '',\n",
    "             title=\"$(e,e'\"+pi_label+\" n)$\",\n",
    "             xlim=xlim,\n",
    "             do_add_grid=True, do_add_legend=False,fontsize=22,\n",
    "             remove_ticks_y=True if pi_idx==2 else False,\n",
    "             ylim=ylim)  \n",
    "save_figure(figures_path + 'M_x_Prime_vs_W_Prime' +'.pdf')    \n"
   ]
  },
  {
   "cell_type": "markdown",
   "id": "5d88f007-f5e9-450a-b734-c4a6cd30e34d",
   "metadata": {
    "jp-MarkdownHeadingCollapsed": true,
    "tags": []
   },
   "source": [
    "### (4.5.3) $M_x$ vs. $M_x'$"
   ]
  },
  {
   "cell_type": "code",
   "execution_count": null,
   "id": "cc083ed0-9168-4f35-9e34-9ce6497d153b",
   "metadata": {},
   "outputs": [],
   "source": [
    "xlim=(0.9,3)\n",
    "ylim=(0.5,2.3)\n",
    "\n",
    "fig = plt.figure(figsize=(16,6),tight_layout=True)\n",
    "for pi_ch,pi_print,pi_label,pi_color,pi_idx in zip(pi_charge_names,pi_prints,pi_labels,pi_colors,[1,2]):\n",
    "    df = e_e_pi_n_pass_cuts[pi_ch]\n",
    "\n",
    "    ax = fig.add_subplot(1,2,pi_idx)\n",
    "    scatter_plot_with_kernel(x=df[\"M_x\"] , y = df[\"M_x_Prime\"], \n",
    "                             s=100,do_add_colorbar=False,cmap='jet')\n",
    "    set_axes(ax,\n",
    "             \"$M_x = \\sqrt{|q+p_{rest}-\\pi|^2}$ [GeV/c$^2$]\",\n",
    "             \"$M_x' = \\sqrt{|q+p_{init}-\\pi|^2}$ [GeV/c$^2$]\" if pi_idx==1 else '',\n",
    "             title=\"$(e,e'\"+pi_label+\" n)$\",\n",
    "             do_add_grid=True, do_add_legend=False,fontsize=22,\n",
    "             remove_ticks_y=True if pi_idx==2 else False,\n",
    "             xlim=xlim,\n",
    "             ylim=ylim)\n",
    "save_figure(figures_path + 'M_x_Prime_vs_Mx' +'.pdf')    \n",
    "\n",
    "    "
   ]
  },
  {
   "cell_type": "markdown",
   "id": "72ee5e32-be09-41f1-a885-ce5bb1bda3ba",
   "metadata": {
    "jp-MarkdownHeadingCollapsed": true,
    "tags": []
   },
   "source": [
    "### (4.5.4) $M_x$ vs. $W$"
   ]
  },
  {
   "cell_type": "code",
   "execution_count": null,
   "id": "9b654be8-82cd-4864-9e4c-4c5566292c4a",
   "metadata": {},
   "outputs": [],
   "source": [
    "xlim=(2.4,3.6)\n",
    "ylim=(0.9,3.)\n",
    "\n",
    "fig = plt.figure(figsize=(16,6),tight_layout=True)\n",
    "for pi_ch,pi_print,pi_label,pi_color,pi_idx in zip(pi_charge_names,pi_prints,pi_labels,pi_colors,[1,2]):\n",
    "    df = e_e_pi_n_pass_cuts[pi_ch]\n",
    "\n",
    "    ax = fig.add_subplot(1,2,pi_idx)\n",
    "    scatter_plot_with_kernel(x=df[\"W\"] , y = df[\"M_x\"], \n",
    "                             s=100,do_add_colorbar=False,cmap='jet')\n",
    "    set_axes(ax,\n",
    "             \"$W = \\sqrt{|q+p_{rest}|^2}$ [GeV/c$^2$]\",\n",
    "             \"$M_x = \\sqrt{|q+p_{rest}-\\pi|^2}$ [GeV/c$^2$]\" if pi_idx==1 else '',\n",
    "             title=\"$(e,e'\"+pi_label+\" n)$\",\n",
    "             do_add_grid=True, do_add_legend=False,fontsize=22,\n",
    "             remove_ticks_y=True if pi_idx==2 else False,\n",
    "             xlim=xlim,ylim=ylim)    \n",
    "save_figure(figures_path + 'M_x_vs_W' +'.pdf')    \n",
    "\n",
    "    "
   ]
  },
  {
   "cell_type": "markdown",
   "id": "6754d58a-43d1-4cc1-befc-2f3200a3573f",
   "metadata": {
    "jp-MarkdownHeadingCollapsed": true,
    "tags": []
   },
   "source": [
    "### (4.5.5) $x_F$ vs. $x_F'$"
   ]
  },
  {
   "cell_type": "code",
   "execution_count": null,
   "id": "aca111ba-f724-4c4b-afd7-b7563bd252c1",
   "metadata": {},
   "outputs": [],
   "source": [
    "ylim=(1.3,5.3)\n",
    "\n",
    "fig = plt.figure(figsize=(16,6),tight_layout=True)\n",
    "for pi_ch,pi_print,pi_label,pi_color,pi_idx in zip(pi_charge_names,pi_prints,pi_labels,pi_colors,[1,2]):\n",
    "    df = e_e_pi_n_pass_cuts[pi_ch]\n",
    "\n",
    "    ax = fig.add_subplot(1,2,pi_idx)\n",
    "    scatter_plot_with_kernel(x=df[\"xF\"] , y = df[\"xF_Prime\"], \n",
    "                             s=100,do_add_colorbar=False,cmap='jet')\n",
    "    set_axes(ax,\n",
    "             \"$x_F = 2\\\\vec{p}\\cdot \\hat{q}/W$\",\n",
    "             \"$x_F' = 2\\\\vec{p}\\cdot \\hat{q}/W'$\" if pi_idx==1 else '',\n",
    "             title=\"$(e,e'\"+pi_label+\" n)$\",\n",
    "             do_add_grid=True, do_add_legend=False,fontsize=22,\n",
    "             remove_ticks_y=True if pi_idx==2 else False,\n",
    "             ylim=ylim)  \n",
    "save_figure(figures_path + 'xF_Prime_vs_xF' +'.pdf')    \n",
    "\n",
    "    "
   ]
  },
  {
   "cell_type": "code",
   "execution_count": null,
   "id": "277e22b6-5a1c-4faa-8cbc-90c3f052da59",
   "metadata": {},
   "outputs": [],
   "source": []
  },
  {
   "cell_type": "markdown",
   "id": "c2de2985-35f1-4e44-a42a-5c273fd548e5",
   "metadata": {
    "tags": []
   },
   "source": [
    "## (6) 2D scatter plots with projections using Seaborn"
   ]
  },
  {
   "cell_type": "code",
   "execution_count": null,
   "id": "31048eab-8057-4fe2-9e1e-800c3b3967d2",
   "metadata": {},
   "outputs": [],
   "source": [
    "import seaborn as sns\n",
    "sns.set(font_scale=2,rc={'figure.facecolor':'white','axes.facecolor':'white','axes.edgecolor':'black'})"
   ]
  },
  {
   "cell_type": "code",
   "execution_count": null,
   "id": "a9347687-eeae-4047-accd-a6fac2042b26",
   "metadata": {},
   "outputs": [],
   "source": [
    "for pi_ch,pi_print,pi_label,pi_color,pi_idx in zip(pi_charge_names,pi_prints,pi_labels,pi_colors,[1,2]):\n",
    "    df = e_e_pi_n_pass_cuts[pi_ch]\n",
    "    df.index=df.evnum*df.pi_P\n",
    "    g = sns.jointplot(x=\"n_HitPos_X\",  #sns.jointplot(x=\"n_HitPos_X\", \n",
    "                  y=\"n_HitPos_Y\",\n",
    "                 edgecolor=\"black\",\n",
    "                      height=8,\n",
    "                      ratio=6,\n",
    "                 data=df, \n",
    "                  dropna=True,\n",
    "                  # marginal_kws=dict(bins=np.linspace(-100,100,100)),\n",
    "                  xlim=(-100,100),\n",
    "                  ylim=(-30,100) );\n",
    "    g.ax_joint.set_xlabel(\"$x_{n-Hit}$ [cm]\")\n",
    "    g.ax_joint.set_ylabel(\"$y_{n-Hit}$ [cm]\")\n",
    "    \n",
    "    g = sns.jointplot(x=\"n_HitPos_X\",  #sns.jointplot(x=\"n_HitPos_X\", \n",
    "                  y=\"n_HitPos_Z\",\n",
    "                 edgecolor=\"black\",\n",
    "                      height=8,\n",
    "                      ratio=6,\n",
    "                 data=df, \n",
    "                  dropna=True,\n",
    "                  # marginal_kws=dict(bins=np.linspace(-300,300,100)), \n",
    "                  xlim=(-100,100),\n",
    "                  ylim=(-300,-260) );\n",
    "    g.ax_joint.set_xlabel(\"$x_{n-Hit}$ [cm]\")\n",
    "    g.ax_joint.set_ylabel(\"$z_{n-Hit}$ [cm]\")    \n"
   ]
  },
  {
   "cell_type": "code",
   "execution_count": null,
   "id": "e9300583-f059-4da8-b520-eedfce27e8dc",
   "metadata": {},
   "outputs": [],
   "source": []
  },
  {
   "cell_type": "code",
   "execution_count": null,
   "id": "26bd76da-d0ad-46c7-8088-4f138b1410ee",
   "metadata": {},
   "outputs": [],
   "source": []
  },
  {
   "cell_type": "code",
   "execution_count": null,
   "id": "689af7dc-35c0-4ce3-81bc-ccbe190d9d7c",
   "metadata": {},
   "outputs": [],
   "source": []
  },
  {
   "cell_type": "code",
   "execution_count": null,
   "id": "6f7a3f8a-1d3e-4b01-9d3d-b35add02b2b8",
   "metadata": {},
   "outputs": [],
   "source": []
  },
  {
   "cell_type": "markdown",
   "id": "16831ad1-2d19-4800-b6b7-a20946dba74a",
   "metadata": {
    "tags": []
   },
   "source": [
    "# arxiv"
   ]
  },
  {
   "cell_type": "markdown",
   "id": "656e2ed2-ace0-44a1-ad12-31f86a93bd0a",
   "metadata": {
    "jp-MarkdownHeadingCollapsed": true,
    "tags": []
   },
   "source": [
    "## Correction for $W$"
   ]
  },
  {
   "cell_type": "code",
   "execution_count": null,
   "id": "b4c4a435-771a-43dd-94fc-12df7bceed49",
   "metadata": {},
   "outputs": [],
   "source": [
    "wrong_W = pd.read_csv('/Users/erezcohen/Desktop/data/BAND/SIDIS_skimming/skimmed_SIDIS_sidisdvcs_006421_e_piplus_selected_eepi_kinematics.csv')\n",
    "corrected_W = pd.read_csv('/Users/erezcohen/Desktop/data/BAND/SIDIS_skimming/skimmed_SIDIS_sidisdvcs_006421_e_piplus_selected_eepi_kinematics_corrected_W.csv')"
   ]
  },
  {
   "cell_type": "code",
   "execution_count": null,
   "id": "b1f57fd4-6b16-466e-ae3b-0ed2e1779915",
   "metadata": {},
   "outputs": [],
   "source": [
    "fig,ax = plt.subplots(figsize=(9,6))\n",
    "for df, label,color in zip([wrong_W,corrected_W],['wrong W','corrected W'],['k','b']):\n",
    "    plot_step_hist( df.W, bins=np.linspace(2,6,100),color=color, label=label, density=True)\n",
    "    \n",
    "set_axes(ax,'$W$','counts',do_add_grid=True,do_add_legend=True);    "
   ]
  },
  {
   "cell_type": "code",
   "execution_count": null,
   "id": "0bc982e0-ae6a-4d2c-8ae3-01f2b0197009",
   "metadata": {},
   "outputs": [],
   "source": [
    "e_e_pi_pass_cuts,e_e_pi_n_pass_cuts,_ = apply_further_selection_cuts_to_data(doApply_minPn_cut=False, \n",
    "                                                                             fdebug=2, \n",
    "                                                                             NeventsMax=-1);"
   ]
  },
  {
   "cell_type": "markdown",
   "id": "0cfb24c5-c7e6-4a4a-bddf-c63c9d58905d",
   "metadata": {
    "jp-MarkdownHeadingCollapsed": true,
    "tags": []
   },
   "source": [
    "## (3.2) now choose binning and plot $p_n$ distribution in each bin "
   ]
  },
  {
   "cell_type": "code",
   "execution_count": null,
   "id": "efd61cf3-ee4f-4d75-a037-e27bb0591ac6",
   "metadata": {},
   "outputs": [],
   "source": [
    "x_bins   = np.linspace(0.2,0.5,6)\n",
    "x        = (x_bins[1:] + x_bins[:-1])/2\n",
    "x_err    = (x_bins[1:] - x_bins[:-1])/2\n",
    "Nbins    = len(x_bins)\n",
    "x_bins"
   ]
  },
  {
   "cell_type": "code",
   "execution_count": null,
   "id": "36949ea3-6869-48bf-85ce-b6c8ae20c857",
   "metadata": {},
   "outputs": [],
   "source": [
    "var_label = \"standing proton x\"\n",
    "var    = 'xB'\n",
    "xlabel = \"Bjorken $x$\""
   ]
  },
  {
   "cell_type": "code",
   "execution_count": null,
   "id": "bdc890c1-f20c-4a0b-9c7c-93145197e092",
   "metadata": {},
   "outputs": [],
   "source": [
    "fig = plt.figure(figsize=(12,8))\n",
    "pi_ch = 'piplus'\n",
    "for bin_idx in range(Nbins):\n",
    "    x_min, x_max  = x_bins[bin_idx] - x_err[1], x_bins[bin_idx] + x_err[1]\n",
    "    # df = e_e_pi_pass_cuts[pi_ch];\n",
    "    # eepi_in_bin   = df[ (x_min < df.xB ) & (df.xB < x_max )]\n",
    "\n",
    "    df = e_e_pi_n_pass_cuts[pi_ch];\n",
    "    eepi_n_in_bin = df[ (x_min < df.xB ) & (df.xB < x_max )]\n",
    "\n",
    "    ax  = fig.add_subplot(2,Nbins/2,bin_idx+1)\n",
    "    ax.hist( eepi_n_in_bin.n_P, bins=np.linspace(0.2,0.6,20) )\n",
    "    set_axes(ax,'$p_n$ [GeV]','counts', title='$%.2f < x_B < %.2f$'%(x_min,x_max), xlim=(0.2,0.6),fontsize=16);\n",
    "\n",
    "plt.tight_layout()\n",
    "\n",
    "# Add two lines indicating the cut boundaries\n",
    "# estimate background from distribution outside the cut region"
   ]
  },
  {
   "cell_type": "markdown",
   "id": "f67e680b-467a-4959-ab44-2e81e0527b24",
   "metadata": {
    "tags": []
   },
   "source": [
    "## Other kinematical variables like $Q^2$ and $W$"
   ]
  },
  {
   "cell_type": "code",
   "execution_count": null,
   "id": "e4d97a7c-e959-4b34-8976-21d083527bdd",
   "metadata": {},
   "outputs": [],
   "source": [
    "np.min(df.xB)"
   ]
  },
  {
   "cell_type": "code",
   "execution_count": null,
   "id": "161f5cf2-9f79-4afe-a9c7-9bd22f302f1b",
   "metadata": {},
   "outputs": [],
   "source": [
    "var  = 'W'\n",
    "bins = np.linspace(1.5,4,21)\n",
    "varlabel = '$W^2$'\n",
    "varunits = '[GeV/c$^2$]'\n",
    "\n",
    "fig = plt.figure(figsize=(14,6))\n",
    "\n",
    "for pi_ch,pi_print,pi_label,pi_color,pi_idx in zip(pi_charge_names,pi_prints,pi_labels,pi_colors,[1,2]):\n",
    "    ax = fig.add_subplot(1,2,pi_idx)\n",
    "    \n",
    "    df = e_e_pi_pass_cuts[pi_ch]\n",
    "    x,h,_,_ = plot_step_hist( df[var], bins=bins, marker='o', \n",
    "                             linewidth=0.5, color=pi_color,label=None, alpha=1, density=True)\n",
    "    ax.step(x,h,'-k',where='mid',label='untagged', )\n",
    "\n",
    "    df = e_e_pi_n_pass_cuts[pi_ch]\n",
    "    plot_step_hist( df[var], bins=bins, marker='s', markersize=10, color=pi_color,label='tagged', alpha=1, density=True)\n",
    "\n",
    "    set_axes(ax,varlabel+varunits,'Frequency [a.u.]', \n",
    "             title=\"$(e,e'\"+pi_label+\")$ events as a function of \"+varlabel,\n",
    "             do_add_grid=True, do_add_legend=True)\n",
    "plt.tight_layout()"
   ]
  },
  {
   "cell_type": "code",
   "execution_count": null,
   "id": "3a941038-b7b1-47d0-84fe-6d5d3a42b65a",
   "metadata": {},
   "outputs": [],
   "source": []
  },
  {
   "cell_type": "markdown",
   "id": "9ce9f05e-ee5d-4a0c-b866-002cd77ca086",
   "metadata": {
    "tags": []
   },
   "source": [
    "###"
   ]
  },
  {
   "cell_type": "code",
   "execution_count": null,
   "id": "2c141d31-cb0a-4ff1-918b-4d88b337b183",
   "metadata": {},
   "outputs": [],
   "source": [
    "main_data_path = '/Users/erezcohen/Desktop/data/BAND/'\n",
    "results_data_path = main_data_path + '/' + 'Results' + '/'\n",
    "for z_bin,z_width in zip(z_bins,z_widths):\n",
    "    y    = Rpips2pims[z_bin]\n",
    "    y_err_up = Rpips2pims_errup[z_bin]\n",
    "    y_err_dw = Rpips2pims_errdw[z_bin]\n",
    "    df_to_save = pd.DataFrame({\"$x_B$\":x,\"$\\Delta x_B$\":x_err,\n",
    "                               '$R$':y,\n",
    "                               '$\\Delta R_{+}$':y_err_up,'$\\Delta R_{-}$':y_err_dw})\n",
    "    print('$z=%.2f\\pm%.2f$'%(z_bin,z_width))\n",
    "    filelabel = 'z_%.2f-%.2f'%(z_bin-z_width,z_bin+z_width)\n",
    "    filename  =  results_data_path + 'Untagged_SIDIS_ratio_' + filelabel + '.csv'\n",
    "    print(filename)\n",
    "    \n",
    "    display(df_to_save)\n",
    "    # df_to_save.to_csv(filename)\n",
    "    # print('saved',filename)"
   ]
  },
  {
   "cell_type": "code",
   "execution_count": null,
   "id": "bdf41773-e05a-49a5-97ba-f4bb9a96c633",
   "metadata": {},
   "outputs": [],
   "source": []
  }
 ],
 "metadata": {
  "kernelspec": {
   "display_name": "Python 3 (ipykernel)",
   "language": "python",
   "name": "python3"
  },
  "language_info": {
   "codemirror_mode": {
    "name": "ipython",
    "version": 3
   },
   "file_extension": ".py",
   "mimetype": "text/x-python",
   "name": "python",
   "nbconvert_exporter": "python",
   "pygments_lexer": "ipython3",
   "version": "3.10.10"
  }
 },
 "nbformat": 4,
 "nbformat_minor": 5
}
