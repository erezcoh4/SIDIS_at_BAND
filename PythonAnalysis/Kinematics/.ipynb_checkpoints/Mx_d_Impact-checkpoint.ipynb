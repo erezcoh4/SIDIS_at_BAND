{
 "cells": [
  {
   "cell_type": "markdown",
   "id": "1e30185d-b4cf-4059-b94e-9171f6fe8c0e",
   "metadata": {
    "tags": []
   },
   "source": [
    "# Study impact of $(M_x)_d$ cut\n",
    "last edit Sep-8, 2022"
   ]
  },
  {
   "cell_type": "markdown",
   "id": "79a1f377-5bd5-43ba-8a4a-4cb54f37a6bc",
   "metadata": {
    "tags": []
   },
   "source": [
    "## Imports and definitions"
   ]
  },
  {
   "cell_type": "code",
   "execution_count": 1,
   "id": "004e7dab-d231-4947-8ab5-4256ea735722",
   "metadata": {},
   "outputs": [],
   "source": [
    "import sys; \n",
    "software_path = '/Users/erezcohen/Desktop/Software/'\n",
    "sys.path.insert(0, software_path + '/mySoftware/Python/');\n",
    "sys.path.insert(0, software_path + '/CLAS12/BAND/SIDIS_at_BAND/PythonAnalysis/AcceptanceCorrections/');\n",
    "sys.path.insert(0, software_path + '/CLAS12/BAND/SIDIS_at_BAND/PythonAnalysis/python_auxiliary/');\n",
    "from my_tools                     import *; \n",
    "from plot_tools                   import *;\n",
    "from my_data_analysis_tools       import *;\n",
    "from acceptance_correction_tools  import *;\n",
    "from sidis_analysis_tools         import *;\n",
    "# from event_selection_tools        import *;"
   ]
  },
  {
   "cell_type": "code",
   "execution_count": 2,
   "id": "851ff650-2150-418c-aba3-d02dd579452f",
   "metadata": {},
   "outputs": [],
   "source": [
    "%config InlineBackend.figure_format = 'retina'\n",
    "plt.rcParams['mathtext.fontset']    = 'stix'\n",
    "plt.rcParams['font.family']         = 'STIXGeneral'"
   ]
  },
  {
   "cell_type": "markdown",
   "id": "64686df2-853e-4af6-8a73-3909b0743e0b",
   "metadata": {
    "tags": []
   },
   "source": [
    "# (1) Load data:\n",
    "All runs of $(e,e'\\pi)$ data and all runs of $(e,e'\\pi n)$ - as with a small number of runs normalization is off"
   ]
  },
  {
   "cell_type": "code",
   "execution_count": 3,
   "id": "9b8a77ca-8f37-457f-9702-4769540cf16d",
   "metadata": {},
   "outputs": [
    {
     "ename": "FileNotFoundError",
     "evalue": "[Errno 2] No such file or directory: '/Users/erezcohen/Desktop/data/BAND/SIDIS_skimming/sidisdvcs/With_W0.5_cut_and_M_x_d/skimmed_SIDIS_sidisdvcs_006429_e_piplus_selected_eepi_kinematics.csv'",
     "output_type": "error",
     "traceback": [
      "\u001b[0;31m---------------------------------------------------------------------------\u001b[0m",
      "\u001b[0;31mFileNotFoundError\u001b[0m                         Traceback (most recent call last)",
      "\u001b[0;32m/var/folders/42/n5_htl9n34j9wpgd5rqsnmv40000gn/T/ipykernel_6711/2708668951.py\u001b[0m in \u001b[0;36m<module>\u001b[0;34m\u001b[0m\n\u001b[0;32m----> 1\u001b[0;31m load_SIDIS_data( Nruns = -1,\n\u001b[0m\u001b[1;32m      2\u001b[0m                 \u001b[0mdo_e_e_pi\u001b[0m\u001b[0;34m=\u001b[0m\u001b[0;32mTrue\u001b[0m\u001b[0;34m,\u001b[0m\u001b[0;34m\u001b[0m\u001b[0;34m\u001b[0m\u001b[0m\n\u001b[1;32m      3\u001b[0m                 \u001b[0msubdirname\u001b[0m \u001b[0;34m=\u001b[0m \u001b[0;34m\"With_W0.5_cut_and_M_x_d\"\u001b[0m\u001b[0;34m,\u001b[0m\u001b[0;34m\u001b[0m\u001b[0;34m\u001b[0m\u001b[0m\n\u001b[1;32m      4\u001b[0m                 \u001b[0mdo_e_e_pi_n\u001b[0m\u001b[0;34m=\u001b[0m\u001b[0;32mFalse\u001b[0m\u001b[0;34m,\u001b[0m\u001b[0;34m\u001b[0m\u001b[0;34m\u001b[0m\u001b[0m\n\u001b[1;32m      5\u001b[0m                 \u001b[0mdo_e_e_pi_FreeP\u001b[0m\u001b[0;34m=\u001b[0m\u001b[0;32mFalse\u001b[0m\u001b[0;34m,\u001b[0m\u001b[0;34m\u001b[0m\u001b[0;34m\u001b[0m\u001b[0m\n",
      "\u001b[0;32m~/Desktop/Software//CLAS12/BAND/SIDIS_at_BAND/PythonAnalysis/python_auxiliary/sidis_analysis_tools.py\u001b[0m in \u001b[0;36mload_SIDIS_data\u001b[0;34m(runs_filename, main_data_path, Nruns, do_e_e_pi, do_e_e_pi_n, do_e_e_pi_FreeP, do_all_vars, fdebug, prefix, subdirname, FreeP_prefix)\u001b[0m\n\u001b[1;32m    666\u001b[0m             \u001b[0;32mif\u001b[0m \u001b[0mdo_e_e_pi\u001b[0m\u001b[0;34m:\u001b[0m\u001b[0;31m#{\u001b[0m\u001b[0;34m\u001b[0m\u001b[0;34m\u001b[0m\u001b[0m\n\u001b[1;32m    667\u001b[0m                 \u001b[0;32mif\u001b[0m \u001b[0mdo_all_vars\u001b[0m\u001b[0;34m:\u001b[0m\u001b[0;34m\u001b[0m\u001b[0;34m\u001b[0m\u001b[0m\n\u001b[0;32m--> 668\u001b[0;31m                     eepi   = pd.read_csv(e_e_pi_data_path\n\u001b[0m\u001b[1;32m    669\u001b[0m                                      \u001b[0;34m+\u001b[0m\u001b[0;34m'skimmed_SIDIS_'\u001b[0m\u001b[0;34m\u001b[0m\u001b[0;34m\u001b[0m\u001b[0m\n\u001b[1;32m    670\u001b[0m                                      \u001b[0;34m+\u001b[0m\u001b[0mprefix\u001b[0m \u001b[0;34m+\u001b[0m \u001b[0;34m'_'\u001b[0m\u001b[0;34m\u001b[0m\u001b[0;34m\u001b[0m\u001b[0m\n",
      "\u001b[0;32m/usr/local/lib/python3.9/site-packages/pandas/util/_decorators.py\u001b[0m in \u001b[0;36mwrapper\u001b[0;34m(*args, **kwargs)\u001b[0m\n\u001b[1;32m    309\u001b[0m                     \u001b[0mstacklevel\u001b[0m\u001b[0;34m=\u001b[0m\u001b[0mstacklevel\u001b[0m\u001b[0;34m,\u001b[0m\u001b[0;34m\u001b[0m\u001b[0;34m\u001b[0m\u001b[0m\n\u001b[1;32m    310\u001b[0m                 )\n\u001b[0;32m--> 311\u001b[0;31m             \u001b[0;32mreturn\u001b[0m \u001b[0mfunc\u001b[0m\u001b[0;34m(\u001b[0m\u001b[0;34m*\u001b[0m\u001b[0margs\u001b[0m\u001b[0;34m,\u001b[0m \u001b[0;34m**\u001b[0m\u001b[0mkwargs\u001b[0m\u001b[0;34m)\u001b[0m\u001b[0;34m\u001b[0m\u001b[0;34m\u001b[0m\u001b[0m\n\u001b[0m\u001b[1;32m    312\u001b[0m \u001b[0;34m\u001b[0m\u001b[0m\n\u001b[1;32m    313\u001b[0m         \u001b[0;32mreturn\u001b[0m \u001b[0mwrapper\u001b[0m\u001b[0;34m\u001b[0m\u001b[0;34m\u001b[0m\u001b[0m\n",
      "\u001b[0;32m/usr/local/lib/python3.9/site-packages/pandas/io/parsers/readers.py\u001b[0m in \u001b[0;36mread_csv\u001b[0;34m(filepath_or_buffer, sep, delimiter, header, names, index_col, usecols, squeeze, prefix, mangle_dupe_cols, dtype, engine, converters, true_values, false_values, skipinitialspace, skiprows, skipfooter, nrows, na_values, keep_default_na, na_filter, verbose, skip_blank_lines, parse_dates, infer_datetime_format, keep_date_col, date_parser, dayfirst, cache_dates, iterator, chunksize, compression, thousands, decimal, lineterminator, quotechar, quoting, doublequote, escapechar, comment, encoding, encoding_errors, dialect, error_bad_lines, warn_bad_lines, on_bad_lines, delim_whitespace, low_memory, memory_map, float_precision, storage_options)\u001b[0m\n\u001b[1;32m    584\u001b[0m     \u001b[0mkwds\u001b[0m\u001b[0;34m.\u001b[0m\u001b[0mupdate\u001b[0m\u001b[0;34m(\u001b[0m\u001b[0mkwds_defaults\u001b[0m\u001b[0;34m)\u001b[0m\u001b[0;34m\u001b[0m\u001b[0;34m\u001b[0m\u001b[0m\n\u001b[1;32m    585\u001b[0m \u001b[0;34m\u001b[0m\u001b[0m\n\u001b[0;32m--> 586\u001b[0;31m     \u001b[0;32mreturn\u001b[0m \u001b[0m_read\u001b[0m\u001b[0;34m(\u001b[0m\u001b[0mfilepath_or_buffer\u001b[0m\u001b[0;34m,\u001b[0m \u001b[0mkwds\u001b[0m\u001b[0;34m)\u001b[0m\u001b[0;34m\u001b[0m\u001b[0;34m\u001b[0m\u001b[0m\n\u001b[0m\u001b[1;32m    587\u001b[0m \u001b[0;34m\u001b[0m\u001b[0m\n\u001b[1;32m    588\u001b[0m \u001b[0;34m\u001b[0m\u001b[0m\n",
      "\u001b[0;32m/usr/local/lib/python3.9/site-packages/pandas/io/parsers/readers.py\u001b[0m in \u001b[0;36m_read\u001b[0;34m(filepath_or_buffer, kwds)\u001b[0m\n\u001b[1;32m    480\u001b[0m \u001b[0;34m\u001b[0m\u001b[0m\n\u001b[1;32m    481\u001b[0m     \u001b[0;31m# Create the parser.\u001b[0m\u001b[0;34m\u001b[0m\u001b[0;34m\u001b[0m\u001b[0m\n\u001b[0;32m--> 482\u001b[0;31m     \u001b[0mparser\u001b[0m \u001b[0;34m=\u001b[0m \u001b[0mTextFileReader\u001b[0m\u001b[0;34m(\u001b[0m\u001b[0mfilepath_or_buffer\u001b[0m\u001b[0;34m,\u001b[0m \u001b[0;34m**\u001b[0m\u001b[0mkwds\u001b[0m\u001b[0;34m)\u001b[0m\u001b[0;34m\u001b[0m\u001b[0;34m\u001b[0m\u001b[0m\n\u001b[0m\u001b[1;32m    483\u001b[0m \u001b[0;34m\u001b[0m\u001b[0m\n\u001b[1;32m    484\u001b[0m     \u001b[0;32mif\u001b[0m \u001b[0mchunksize\u001b[0m \u001b[0;32mor\u001b[0m \u001b[0miterator\u001b[0m\u001b[0;34m:\u001b[0m\u001b[0;34m\u001b[0m\u001b[0;34m\u001b[0m\u001b[0m\n",
      "\u001b[0;32m/usr/local/lib/python3.9/site-packages/pandas/io/parsers/readers.py\u001b[0m in \u001b[0;36m__init__\u001b[0;34m(self, f, engine, **kwds)\u001b[0m\n\u001b[1;32m    809\u001b[0m             \u001b[0mself\u001b[0m\u001b[0;34m.\u001b[0m\u001b[0moptions\u001b[0m\u001b[0;34m[\u001b[0m\u001b[0;34m\"has_index_names\"\u001b[0m\u001b[0;34m]\u001b[0m \u001b[0;34m=\u001b[0m \u001b[0mkwds\u001b[0m\u001b[0;34m[\u001b[0m\u001b[0;34m\"has_index_names\"\u001b[0m\u001b[0;34m]\u001b[0m\u001b[0;34m\u001b[0m\u001b[0;34m\u001b[0m\u001b[0m\n\u001b[1;32m    810\u001b[0m \u001b[0;34m\u001b[0m\u001b[0m\n\u001b[0;32m--> 811\u001b[0;31m         \u001b[0mself\u001b[0m\u001b[0;34m.\u001b[0m\u001b[0m_engine\u001b[0m \u001b[0;34m=\u001b[0m \u001b[0mself\u001b[0m\u001b[0;34m.\u001b[0m\u001b[0m_make_engine\u001b[0m\u001b[0;34m(\u001b[0m\u001b[0mself\u001b[0m\u001b[0;34m.\u001b[0m\u001b[0mengine\u001b[0m\u001b[0;34m)\u001b[0m\u001b[0;34m\u001b[0m\u001b[0;34m\u001b[0m\u001b[0m\n\u001b[0m\u001b[1;32m    812\u001b[0m \u001b[0;34m\u001b[0m\u001b[0m\n\u001b[1;32m    813\u001b[0m     \u001b[0;32mdef\u001b[0m \u001b[0mclose\u001b[0m\u001b[0;34m(\u001b[0m\u001b[0mself\u001b[0m\u001b[0;34m)\u001b[0m\u001b[0;34m:\u001b[0m\u001b[0;34m\u001b[0m\u001b[0;34m\u001b[0m\u001b[0m\n",
      "\u001b[0;32m/usr/local/lib/python3.9/site-packages/pandas/io/parsers/readers.py\u001b[0m in \u001b[0;36m_make_engine\u001b[0;34m(self, engine)\u001b[0m\n\u001b[1;32m   1038\u001b[0m             )\n\u001b[1;32m   1039\u001b[0m         \u001b[0;31m# error: Too many arguments for \"ParserBase\"\u001b[0m\u001b[0;34m\u001b[0m\u001b[0;34m\u001b[0m\u001b[0m\n\u001b[0;32m-> 1040\u001b[0;31m         \u001b[0;32mreturn\u001b[0m \u001b[0mmapping\u001b[0m\u001b[0;34m[\u001b[0m\u001b[0mengine\u001b[0m\u001b[0;34m]\u001b[0m\u001b[0;34m(\u001b[0m\u001b[0mself\u001b[0m\u001b[0;34m.\u001b[0m\u001b[0mf\u001b[0m\u001b[0;34m,\u001b[0m \u001b[0;34m**\u001b[0m\u001b[0mself\u001b[0m\u001b[0;34m.\u001b[0m\u001b[0moptions\u001b[0m\u001b[0;34m)\u001b[0m  \u001b[0;31m# type: ignore[call-arg]\u001b[0m\u001b[0;34m\u001b[0m\u001b[0;34m\u001b[0m\u001b[0m\n\u001b[0m\u001b[1;32m   1041\u001b[0m \u001b[0;34m\u001b[0m\u001b[0m\n\u001b[1;32m   1042\u001b[0m     \u001b[0;32mdef\u001b[0m \u001b[0m_failover_to_python\u001b[0m\u001b[0;34m(\u001b[0m\u001b[0mself\u001b[0m\u001b[0;34m)\u001b[0m\u001b[0;34m:\u001b[0m\u001b[0;34m\u001b[0m\u001b[0;34m\u001b[0m\u001b[0m\n",
      "\u001b[0;32m/usr/local/lib/python3.9/site-packages/pandas/io/parsers/c_parser_wrapper.py\u001b[0m in \u001b[0;36m__init__\u001b[0;34m(self, src, **kwds)\u001b[0m\n\u001b[1;32m     49\u001b[0m \u001b[0;34m\u001b[0m\u001b[0m\n\u001b[1;32m     50\u001b[0m         \u001b[0;31m# open handles\u001b[0m\u001b[0;34m\u001b[0m\u001b[0;34m\u001b[0m\u001b[0m\n\u001b[0;32m---> 51\u001b[0;31m         \u001b[0mself\u001b[0m\u001b[0;34m.\u001b[0m\u001b[0m_open_handles\u001b[0m\u001b[0;34m(\u001b[0m\u001b[0msrc\u001b[0m\u001b[0;34m,\u001b[0m \u001b[0mkwds\u001b[0m\u001b[0;34m)\u001b[0m\u001b[0;34m\u001b[0m\u001b[0;34m\u001b[0m\u001b[0m\n\u001b[0m\u001b[1;32m     52\u001b[0m         \u001b[0;32massert\u001b[0m \u001b[0mself\u001b[0m\u001b[0;34m.\u001b[0m\u001b[0mhandles\u001b[0m \u001b[0;32mis\u001b[0m \u001b[0;32mnot\u001b[0m \u001b[0;32mNone\u001b[0m\u001b[0;34m\u001b[0m\u001b[0;34m\u001b[0m\u001b[0m\n\u001b[1;32m     53\u001b[0m \u001b[0;34m\u001b[0m\u001b[0m\n",
      "\u001b[0;32m/usr/local/lib/python3.9/site-packages/pandas/io/parsers/base_parser.py\u001b[0m in \u001b[0;36m_open_handles\u001b[0;34m(self, src, kwds)\u001b[0m\n\u001b[1;32m    220\u001b[0m         \u001b[0mLet\u001b[0m \u001b[0mthe\u001b[0m \u001b[0mreaders\u001b[0m \u001b[0mopen\u001b[0m \u001b[0mIOHandles\u001b[0m \u001b[0mafter\u001b[0m \u001b[0mthey\u001b[0m \u001b[0mare\u001b[0m \u001b[0mdone\u001b[0m \u001b[0;32mwith\u001b[0m \u001b[0mtheir\u001b[0m \u001b[0mpotential\u001b[0m \u001b[0mraises\u001b[0m\u001b[0;34m.\u001b[0m\u001b[0;34m\u001b[0m\u001b[0;34m\u001b[0m\u001b[0m\n\u001b[1;32m    221\u001b[0m         \"\"\"\n\u001b[0;32m--> 222\u001b[0;31m         self.handles = get_handle(\n\u001b[0m\u001b[1;32m    223\u001b[0m             \u001b[0msrc\u001b[0m\u001b[0;34m,\u001b[0m\u001b[0;34m\u001b[0m\u001b[0;34m\u001b[0m\u001b[0m\n\u001b[1;32m    224\u001b[0m             \u001b[0;34m\"r\"\u001b[0m\u001b[0;34m,\u001b[0m\u001b[0;34m\u001b[0m\u001b[0;34m\u001b[0m\u001b[0m\n",
      "\u001b[0;32m/usr/local/lib/python3.9/site-packages/pandas/io/common.py\u001b[0m in \u001b[0;36mget_handle\u001b[0;34m(path_or_buf, mode, encoding, compression, memory_map, is_text, errors, storage_options)\u001b[0m\n\u001b[1;32m    699\u001b[0m         \u001b[0;32mif\u001b[0m \u001b[0mioargs\u001b[0m\u001b[0;34m.\u001b[0m\u001b[0mencoding\u001b[0m \u001b[0;32mand\u001b[0m \u001b[0;34m\"b\"\u001b[0m \u001b[0;32mnot\u001b[0m \u001b[0;32min\u001b[0m \u001b[0mioargs\u001b[0m\u001b[0;34m.\u001b[0m\u001b[0mmode\u001b[0m\u001b[0;34m:\u001b[0m\u001b[0;34m\u001b[0m\u001b[0;34m\u001b[0m\u001b[0m\n\u001b[1;32m    700\u001b[0m             \u001b[0;31m# Encoding\u001b[0m\u001b[0;34m\u001b[0m\u001b[0;34m\u001b[0m\u001b[0m\n\u001b[0;32m--> 701\u001b[0;31m             handle = open(\n\u001b[0m\u001b[1;32m    702\u001b[0m                 \u001b[0mhandle\u001b[0m\u001b[0;34m,\u001b[0m\u001b[0;34m\u001b[0m\u001b[0;34m\u001b[0m\u001b[0m\n\u001b[1;32m    703\u001b[0m                 \u001b[0mioargs\u001b[0m\u001b[0;34m.\u001b[0m\u001b[0mmode\u001b[0m\u001b[0;34m,\u001b[0m\u001b[0;34m\u001b[0m\u001b[0;34m\u001b[0m\u001b[0m\n",
      "\u001b[0;31mFileNotFoundError\u001b[0m: [Errno 2] No such file or directory: '/Users/erezcohen/Desktop/data/BAND/SIDIS_skimming/sidisdvcs/With_W0.5_cut_and_M_x_d/skimmed_SIDIS_sidisdvcs_006429_e_piplus_selected_eepi_kinematics.csv'"
     ]
    }
   ],
   "source": [
    "load_SIDIS_data( Nruns = -1,\n",
    "                do_e_e_pi=True, \n",
    "                subdirname = \"With_W0.5_cut_and_M_x_d\",\n",
    "                do_e_e_pi_n=False, \n",
    "                do_e_e_pi_FreeP=False,\n",
    "                fdebug=1, do_all_vars=True)"
   ]
  },
  {
   "cell_type": "markdown",
   "id": "62b0e388-3d08-4aeb-9059-410bdeff1dd5",
   "metadata": {
    "tags": []
   },
   "source": [
    "# (2) Apply selection cuts not previously imposed\n",
    "Except from $W$ cut"
   ]
  },
  {
   "cell_type": "code",
   "execution_count": null,
   "id": "533bd2d5-61b0-4488-acfa-6e0fdc9dfa88",
   "metadata": {},
   "outputs": [],
   "source": [
    "e_e_pi_pass_cuts,_,_,_ = apply_further_selection_cuts_to_data(doApply_minPn_cut=True, \n",
    "                                                              fdebug=2,                                                               \n",
    "                                                              NeventsMax=-1);"
   ]
  },
  {
   "cell_type": "markdown",
   "id": "0f65765c-6d65-4920-9e24-f1ee2d093cb6",
   "metadata": {
    "tags": []
   },
   "source": [
    "# (3) plot $M_x$ vs. $(M_x)_d$ "
   ]
  },
  {
   "cell_type": "markdown",
   "id": "66c77432-a2e5-48a2-9200-7348e1ec9913",
   "metadata": {
    "tags": []
   },
   "source": [
    "## For the data after all cuts except the $W$ cut that was not applied in August"
   ]
  },
  {
   "cell_type": "code",
   "execution_count": null,
   "id": "0a84f3d9-fe40-4c00-b9a5-c3890ceb9959",
   "metadata": {},
   "outputs": [],
   "source": [
    "fig = plt.figure(figsize=(16,6), tight_layout=True)\n",
    "for pi_ch,pi_print,pi_label,pi_color,pi_idx in zip(pi_charge_names,pi_prints,pi_labels,pi_colors,[1,2]):\n",
    "\n",
    "    df = e_e_pi_pass_cuts[pi_ch]\n",
    "    # print(len(df))\n",
    "    \n",
    "    ax = fig.add_subplot(1,2,pi_idx)\n",
    "    plt.hist2d( df.M_x, df.M_x_d, bins=(np.linspace(1.2,3.,100),np.linspace(2.2,4.5,100)), cmap='hot_r')\n",
    "\n",
    "    # plt.plot( [2.5,2.5], ax.get_ylim(), '-b')\n",
    "    plt.plot( ax.get_xlim(),[2.5,2.5],     '-b')\n",
    "    plt.fill_between( [0,3], [2.5, 2.5] , 'k', alpha=0.1)\n",
    "    \n",
    "    set_axes(ax,'$M_x$ [GeV/c$^2$]',\n",
    "             '$(M_x)_d$ [GeV/c$^2$]' if pi_idx==1 else '', \n",
    "             remove_ticks_y= False if pi_idx==1 else True,\n",
    "             title=\"$(e,e'\"+pi_label+\")$ passed cuts\",\n",
    "             do_add_grid=True, do_add_legend=False)"
   ]
  },
  {
   "cell_type": "markdown",
   "id": "329def3f-49ea-4d29-ba7b-b0ba2e677ddb",
   "metadata": {
    "tags": []
   },
   "source": [
    "# (4) Extract tabular data and save results to file"
   ]
  },
  {
   "cell_type": "code",
   "execution_count": null,
   "id": "dfc9cbdd-15ff-4239-907b-d7421cfd90e8",
   "metadata": {},
   "outputs": [],
   "source": [
    "z_bins   = np.arange(0.3,0.85,0.05)\n",
    "z_widths = 0.01*np.ones(len(z_bins))\n",
    "x_bins   = np.linspace(0.2,0.6,11)\n",
    "x        = (x_bins[1:] + x_bins[:-1])/2\n",
    "x_err    = (x_bins[1:] - x_bins[:-1])/2\n",
    "print('x bins:',x_bins)\n",
    "print('z bins:',z_bins)\n",
    "for z_bin,z_width in zip(z_bins,z_widths):\n",
    "    z_min,z_max = z_bin-z_width, z_bin+z_width\n",
    "    print('%.3f < z < %.3f:'%(z_min,z_max))\n",
    "    \n",
    "var_label = \"standing proton x\"\n",
    "var    = 'xB'\n",
    "xlabel = \"Bjorken $x$\"\n"
   ]
  },
  {
   "cell_type": "markdown",
   "id": "3ce51919-e296-499d-ad36-cef275095159",
   "metadata": {
    "tags": []
   },
   "source": [
    "## (4.1) With a cut on $(M_x)_d>2.5$"
   ]
  },
  {
   "cell_type": "code",
   "execution_count": null,
   "id": "0f11f540-071e-4e02-94d2-943477d90315",
   "metadata": {},
   "outputs": [],
   "source": [
    "extract_SIDIS_ratio(df_dict  = e_e_pi_pass_cuts,\n",
    "                    data_path= '/Users/erezcohen/Desktop/data/BAND/Results/ImpactOfMxcut/',\n",
    "                    x_var    = var ,                           \n",
    "                    x_bins   = x_bins,                           \n",
    "                    z_bins   = z_bins,                           \n",
    "                    z_widths = z_widths,    \n",
    "                    Mx_d_min = 2.5,\n",
    "                    fdebug   = 0,\n",
    "                    prefix   = 'Untagged_SIDIS_ratio_',                           \n",
    "                    suffix   = 'With_Mx2.5_cut')"
   ]
  },
  {
   "cell_type": "code",
   "execution_count": null,
   "id": "a0b6d607-29d5-4a9d-a722-224586f71e0b",
   "metadata": {},
   "outputs": [],
   "source": [
    "prefix = 'Untagged_SIDIS_ratio_'\n",
    "suffix = 'With_Mx2.5_cut'\n",
    "SIDIS_results = load_SIDIS_ratio(prefix = prefix, suffix = suffix, doPlotResults=True,\n",
    "                                 data_path='/Users/erezcohen/Desktop/data/BAND/Results/ImpactOfMxcut/')\n",
    "# ax = plt.gca()\n",
    "# ax.set_ylim(1,2.5);"
   ]
  },
  {
   "cell_type": "markdown",
   "id": "9dc623fe-eaf7-4c87-8620-87ce2482a5c5",
   "metadata": {
    "tags": []
   },
   "source": [
    "## (4.2) With no cut on $(M_x)_d$"
   ]
  },
  {
   "cell_type": "code",
   "execution_count": null,
   "id": "e46f9ec5-1b8a-4d43-a64f-e1a533a6d8ee",
   "metadata": {},
   "outputs": [],
   "source": [
    "extract_SIDIS_ratio(df_dict  = e_e_pi_pass_cuts,\n",
    "                    data_path= '/Users/erezcohen/Desktop/data/BAND/Results/ImpactOfMxcut/',\n",
    "                    x_var    = var ,                           \n",
    "                    x_bins   = x_bins,                           \n",
    "                    z_bins   = z_bins,                           \n",
    "                    z_widths = z_widths, \n",
    "                    W_min    = 0.5,\n",
    "                    fdebug   = 0,\n",
    "                    prefix   = 'Untagged_SIDIS_ratio_',                           \n",
    "                    suffix   = 'With_no_Mx_cut')"
   ]
  },
  {
   "cell_type": "code",
   "execution_count": null,
   "id": "d8828dcb-f6cf-4147-b9f7-1ecc2eb0bfc0",
   "metadata": {},
   "outputs": [],
   "source": [
    "prefix = 'Untagged_SIDIS_ratio_'\n",
    "suffix = 'With_no_Mx_cut'\n",
    "SIDIS_results = load_SIDIS_ratio(prefix = prefix, suffix = suffix, doPlotResults=True,\n",
    "                                 data_path='/Users/erezcohen/Desktop/data/BAND/Results/ImpactOfMxcut/')\n",
    "\n"
   ]
  },
  {
   "cell_type": "markdown",
   "id": "ac2992a6-e44c-46eb-b4a0-d18eff789519",
   "metadata": {},
   "source": [
    "## (4.3) Compare with and without $(M_x)_d>2.5$ GeV cut"
   ]
  },
  {
   "cell_type": "code",
   "execution_count": null,
   "id": "3f3286db-12d4-4cd1-9413-7950fe20da1e",
   "metadata": {},
   "outputs": [],
   "source": [
    "SIDIS_res = dict()\n",
    "prefix = 'Untagged_SIDIS_ratio_'\n",
    "for suffix in ['With_Mx2.5_cut','With_no_Mx_cut']:\n",
    "    SIDIS_res[suffix] = load_SIDIS_ratio(prefix = prefix, suffix = suffix, \n",
    "                                         doPlotResults=False, \n",
    "                                         data_path='/Users/erezcohen/Desktop/data/BAND/Results/ImpactOfMxcut/')\n",
    "print('Done.')"
   ]
  },
  {
   "cell_type": "code",
   "execution_count": null,
   "id": "296dea60-88a0-4a2e-90fc-61b5f8d4f861",
   "metadata": {},
   "outputs": [],
   "source": [
    "z_arr,z_err_arr,R_arr,R_errup_arr,R_errdw_arr = dict(),dict(),dict(),dict(),dict()\n",
    "for suffix in ['With_Mx2.5_cut','With_no_Mx_cut']:\n",
    "    # print(suffix)\n",
    "    results = SIDIS_res[suffix]\n",
    "    z_arr[suffix],z_err_arr[suffix],R_arr[suffix],R_errup_arr[suffix],R_errdw_arr[suffix] = [],[],[],[],[]\n",
    "    for key in results.keys():\n",
    "        # print(key)\n",
    "        z_min = float(key[4:9])\n",
    "        z_max = float(key[-4:])\n",
    "\n",
    "        # print(z_min,'<z<',z_max)\n",
    "        res_x034 = results[key][np.abs(results[key]['$x_B$']-0.34)<0.02]\n",
    "        # print(results[key])\n",
    "        R,dR_up,dR_dw = float(res_x034['$R$']),float(res_x034['$\\Delta R_{+}$']),float(res_x034['$\\Delta R_{+}$'])\n",
    "        # print(R,dR_up,dR_dw)\n",
    "        \n",
    "        R_arr[suffix].append( R )\n",
    "        R_errup_arr[suffix].append( dR_up )\n",
    "        R_errdw_arr[suffix].append( dR_dw )        \n",
    "\n",
    "        z_arr[suffix].append( (z_max + z_min)/2 )\n",
    "        z_err_arr[suffix].append( (z_max - z_min)/2 )\n",
    "        \n",
    "print('Done.')"
   ]
  },
  {
   "cell_type": "code",
   "execution_count": null,
   "id": "57d26767-7550-4404-9838-cca6851855d9",
   "metadata": {},
   "outputs": [],
   "source": [
    "fig = plt.figure(figsize=(9,6), tight_layout=True)\n",
    "ax = fig.add_subplot(1,1,1)\n",
    "\n",
    "for suffix,sufname,sufidx in zip(['With_Mx2.5_cut','With_no_Mx_cut'],\n",
    "                                 ['$(M_x)_d>2.5$ GeV/c$^2$','no $(M_x)_d$ cut'],\n",
    "                                 [0,1]):\n",
    "    plt.errorbar(x=np.array(z_arr[suffix])+sufidx*0.005, xerr=z_err_arr[suffix],\n",
    "                 y=R_arr[suffix], yerr=(R_errup_arr[suffix],R_errdw_arr[suffix]),\n",
    "                 marker='o',markeredgecolor='k',linestyle='None',\n",
    "                 label=sufname, capthick=2, capsize=2)\n",
    "\n",
    "set_axes(ax,'$z_\\\\pi$',\n",
    "             \"$\\\\sigma_{d(e,e'\\\\pi^+)}/\\\\sigma_{d(e,e'\\\\pi^-)}$ \",\n",
    "             do_add_grid=True, do_add_legend=True)\n",
    "ax.legend(loc='lower right',fontsize=24);"
   ]
  },
  {
   "cell_type": "code",
   "execution_count": null,
   "id": "dc93a269-9e73-423f-bc03-3781e10f9193",
   "metadata": {},
   "outputs": [],
   "source": [
    "z_arr['No_W_cut']"
   ]
  },
  {
   "cell_type": "code",
   "execution_count": null,
   "id": "5248e5ed-c34a-4a77-9749-2d807c81cf2d",
   "metadata": {},
   "outputs": [],
   "source": []
  }
 ],
 "metadata": {
  "kernelspec": {
   "display_name": "Python 3 (ipykernel)",
   "language": "python",
   "name": "python3"
  },
  "language_info": {
   "codemirror_mode": {
    "name": "ipython",
    "version": 3
   },
   "file_extension": ".py",
   "mimetype": "text/x-python",
   "name": "python",
   "nbconvert_exporter": "python",
   "pygments_lexer": "ipython3",
   "version": "3.9.13"
  }
 },
 "nbformat": 4,
 "nbformat_minor": 5
}
