{
 "cells": [
  {
   "cell_type": "markdown",
   "id": "1e30185d-b4cf-4059-b94e-9171f6fe8c0e",
   "metadata": {
    "tags": []
   },
   "source": [
    "# Plot $\\zeta_\\pi$ which accounts for the movement of the proton in the deuteron\n",
    "last edit Nov-25, 2022"
   ]
  },
  {
   "cell_type": "markdown",
   "id": "79a1f377-5bd5-43ba-8a4a-4cb54f37a6bc",
   "metadata": {
    "jp-MarkdownHeadingCollapsed": true,
    "tags": []
   },
   "source": [
    "## Imports and definitions"
   ]
  },
  {
   "cell_type": "code",
   "execution_count": 1,
   "id": "004e7dab-d231-4947-8ab5-4256ea735722",
   "metadata": {},
   "outputs": [],
   "source": [
    "import sys; \n",
    "software_path = '/Users/erezcohen/Desktop/Software/'\n",
    "sys.path.insert(0, software_path + '/mySoftware/Python/');\n",
    "sys.path.insert(0, software_path + '/CLAS12/BAND/SIDIS_at_BAND/PythonAnalysis/AcceptanceCorrections/');\n",
    "sys.path.insert(0, software_path + '/CLAS12/BAND/SIDIS_at_BAND/PythonAnalysis/python_auxiliary/');\n",
    "from my_tools                     import *; \n",
    "from plot_tools                   import *;\n",
    "from my_data_analysis_tools       import *;\n",
    "from acceptance_correction_tools  import *;\n",
    "from sidis_analysis_tools         import *;\n",
    "# from event_selection_tools        import *;"
   ]
  },
  {
   "cell_type": "code",
   "execution_count": 2,
   "id": "851ff650-2150-418c-aba3-d02dd579452f",
   "metadata": {},
   "outputs": [],
   "source": [
    "%config InlineBackend.figure_format = 'retina'\n",
    "plt.rcParams['mathtext.fontset']    = 'stix'\n",
    "plt.rcParams['font.family']         = 'STIXGeneral'"
   ]
  },
  {
   "cell_type": "markdown",
   "id": "64686df2-853e-4af6-8a73-3909b0743e0b",
   "metadata": {
    "tags": []
   },
   "source": [
    "# (1) Load data:\n",
    "All runs of $(e,e'\\pi)$ data and all runs of $(e,e'\\pi n)$ - as with a small number of runs normalization is off"
   ]
  },
  {
   "cell_type": "code",
   "execution_count": null,
   "id": "f41e9942-3540-4eef-9fd8-e4ed51ea772e",
   "metadata": {},
   "outputs": [],
   "source": []
  },
  {
   "cell_type": "code",
   "execution_count": null,
   "id": "9b8a77ca-8f37-457f-9702-4769540cf16d",
   "metadata": {},
   "outputs": [
    {
     "name": "stdout",
     "output_type": "stream",
     "text": [
      "Run number  6421 (1/86 runs)\n",
      "Loaded 385297  d(e,e'π+) events\n",
      "Loaded 46  d(e,e'π+n) events\n",
      "Loaded 162638  d(e,e'π-) events\n",
      "Loaded 21  d(e,e'π-n) events\n",
      "Run number  6422 (2/86 runs)\n"
     ]
    }
   ],
   "source": [
    "[e_e_pi, \n",
    " e_e_pi_n,\n",
    " e_e_pi_FreeP] = load_SIDIS_data( Nruns          = -1, #Nruns          = 15,#-1, \n",
    "                                       subdirname      = \"sidisdvcs_27Oct2022_commit_2fe215f\",\n",
    "                                       taggedsubdirname= \"sidisdvcs_25Nov2022_commit_5b2a758\",\n",
    "                                       do_e_e_pi       = True, \n",
    "                                       do_e_e_pi_n     = True, \n",
    "                                       do_e_e_pi_FreeP = True, \n",
    "                                       do_all_vars     = True, \n",
    "                                       fdebug          = 4);\n",
    "print('Done loading data.')\n",
    "e_e_pi_pass_cuts,e_e_pi_n_pass_cuts,e_e_pi_FreeP_pass_cuts,_ = apply_further_selection_cuts_to_data(fdebug=0);\n",
    "print('Done applying selection cuts.')"
   ]
  },
  {
   "cell_type": "markdown",
   "id": "1a796dbf-4a44-4097-9c07-ebd9d203b2d7",
   "metadata": {
    "tags": []
   },
   "source": [
    "# (2) plot $z_\\pi$ and $\\zeta_\\pi = \\frac{ \\alpha_\\pi }{ \\alpha_p  } = \\frac{ \\alpha_\\pi }{ 2 - \\alpha_n }$"
   ]
  },
  {
   "cell_type": "markdown",
   "id": "371df3d5-de9e-449c-81ad-ec8a78660b90",
   "metadata": {},
   "source": [
    "## (2.1) 1d distributions "
   ]
  },
  {
   "cell_type": "code",
   "execution_count": null,
   "id": "98250497-155d-4b99-b32b-95a8e4064989",
   "metadata": {},
   "outputs": [],
   "source": [
    "bins = np.linspace(0,1,10)\n",
    "fig = plt.figure(figsize=(12,8),tight_layout=True)\n",
    "varunits = \"\"\n",
    "\n",
    "# top left: z for untagged data \n",
    "# top right: z for tagged data \n",
    "var,varlabel = \"Zpi\",\"$z_\\pi = E_\\pi/\\omega$\"\n",
    "for df_dict,df_label,df_idx in zip([e_e_pi_pass_cuts,e_e_pi_n_pass_cuts],\n",
    "                       [\"Untagged $d(e,e'\\pi)$\",\"Tagged $d(e,e'\\pi n)$\"],[1,2]):\n",
    "    ax = fig.add_subplot(2,2,df_idx)\n",
    "    for pi_ch,pi_print,pi_label,pi_color,pi_idx in zip(pi_charge_names,pi_prints,\n",
    "                                                       pi_labels,pi_colors,[1,2]):                                                       \n",
    "        df = df_dict[pi_ch]\n",
    "        [x,h,x_err,h_err] = plot_step_squares(df[var],ax=ax,\n",
    "                                              bins=bins,\n",
    "                                              density=True,color=pi_color,\n",
    "                                              alpha=0.5,label=\"$d(e,e'\"+pi_label+\")$\" )\n",
    "        ax.step(x,h,'-',where='mid', color=pi_color )\n",
    "    set_axes(ax,varlabel + \" \" + varunits,\n",
    "         'Frequency [a.u.]' if pi_idx==1 else '', \n",
    "         title= df_label + \" \"+ varlabel,\n",
    "         do_add_grid=True, do_add_legend=True);  \n",
    "\n",
    "    \n",
    "# Bottom left: z for free proton\n",
    "# Bottom right: zeta for tagged data \n",
    "for df_dict,df_label,df_idx,var,varlabel in zip([e_e_pi_FreeP_pass_cuts,e_e_pi_n_pass_cuts],                       \n",
    "                                                [\"Free-p $p(e,e'\\pi)$\",\"Tagged $d(e,e'\\pi n)$\"],\n",
    "                                                [1,2],\n",
    "                                                [\"Zpi\",\"zeta_pi\"],\n",
    "                                                [\"$z_\\pi = E_\\pi/\\omega$\",\"$\\zeta_\\pi = \\\\alpha_\\pi/(2-\\\\alpha_n)$\"]):\n",
    "    ax = fig.add_subplot(2,2,2+df_idx)\n",
    "    for pi_ch,pi_print,pi_label,pi_color,pi_idx in zip(pi_charge_names,pi_prints,\n",
    "                                                       pi_labels,pi_colors,[1,2]):                                                       \n",
    "        df = df_dict[pi_ch]\n",
    "        [x,h,x_err,h_err] = plot_step_squares(df[var],ax=ax,\n",
    "                                              bins=bins,\n",
    "                                              density=True,color=pi_color,\n",
    "                                              alpha=0.5,label=\"$d(e,e'\"+pi_label+\")$\" )\n",
    "        ax.step(x,h,'-',where='mid', color=pi_color )\n",
    "    set_axes(ax,varlabel + \" \" + varunits,\n",
    "         'Frequency [a.u.]' if pi_idx==1 else '', \n",
    "         title = df_label + \" \"+ varlabel,\n",
    "         do_add_grid=True, do_add_legend=True);  \n",
    "    ax.set_yticks(4)"
   ]
  },
  {
   "cell_type": "code",
   "execution_count": null,
   "id": "e404bdd7-ffd6-4929-a3e6-10677d3ad21f",
   "metadata": {},
   "outputs": [],
   "source": []
  },
  {
   "cell_type": "code",
   "execution_count": null,
   "id": "ee16b2a1-2db1-4c24-8e9d-358b7f47adf5",
   "metadata": {},
   "outputs": [],
   "source": []
  },
  {
   "cell_type": "code",
   "execution_count": null,
   "id": "2570fd19-8ea1-4ca1-a7b1-fe1387291276",
   "metadata": {},
   "outputs": [],
   "source": []
  },
  {
   "cell_type": "markdown",
   "id": "31a3a0b8-30ad-474e-a888-227ca54e4df1",
   "metadata": {},
   "source": [
    "## (2.2) $\\zeta$ vs $z$ for tagged data"
   ]
  }
 ],
 "metadata": {
  "kernelspec": {
   "display_name": "Python 3 (ipykernel)",
   "language": "python",
   "name": "python3"
  },
  "language_info": {
   "codemirror_mode": {
    "name": "ipython",
    "version": 3
   },
   "file_extension": ".py",
   "mimetype": "text/x-python",
   "name": "python",
   "nbconvert_exporter": "python",
   "pygments_lexer": "ipython3",
   "version": "3.9.13"
  }
 },
 "nbformat": 4,
 "nbformat_minor": 5
}
