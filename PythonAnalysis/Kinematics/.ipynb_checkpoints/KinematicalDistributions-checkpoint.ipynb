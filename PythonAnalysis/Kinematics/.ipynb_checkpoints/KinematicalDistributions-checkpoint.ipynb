{
 "cells": [
  {
   "cell_type": "markdown",
   "id": "1e30185d-b4cf-4059-b94e-9171f6fe8c0e",
   "metadata": {
    "tags": []
   },
   "source": [
    "# Kinematical distribution - untagged data\n",
    "$x_B, Q^2, W, z_{\\pi}...$\n",
    "last edit Mar-4, 2023"
   ]
  },
  {
   "cell_type": "markdown",
   "id": "79a1f377-5bd5-43ba-8a4a-4cb54f37a6bc",
   "metadata": {
    "jp-MarkdownHeadingCollapsed": true,
    "tags": []
   },
   "source": [
    "## Imports and definitions"
   ]
  },
  {
   "cell_type": "code",
   "execution_count": null,
   "id": "004e7dab-d231-4947-8ab5-4256ea735722",
   "metadata": {},
   "outputs": [],
   "source": [
    "import sys; \n",
    "software_path = '/Users/erezcohen/Desktop/Software/'\n",
    "sys.path.insert(0, software_path + '/mySoftware/Python/');\n",
    "sys.path.insert(0, software_path + '/CLAS12/BAND/SIDIS_at_BAND/PythonAnalysis/AcceptanceCorrections/');\n",
    "sys.path.insert(0, software_path + '/CLAS12/BAND/SIDIS_at_BAND/PythonAnalysis/python_auxiliary/');\n",
    "from my_tools                     import *; \n",
    "from plot_tools                   import *;\n",
    "from my_data_analysis_tools       import *;\n",
    "from acceptance_correction_tools  import *;\n",
    "from sidis_analysis_tools         import *;\n",
    "# from event_selection_tools        import *;"
   ]
  },
  {
   "cell_type": "code",
   "execution_count": null,
   "id": "851ff650-2150-418c-aba3-d02dd579452f",
   "metadata": {},
   "outputs": [],
   "source": [
    "%config InlineBackend.figure_format = 'retina'\n",
    "plt.rcParams['mathtext.fontset']    = 'stix'\n",
    "plt.rcParams['font.family']         = 'STIXGeneral'"
   ]
  },
  {
   "cell_type": "code",
   "execution_count": null,
   "id": "31b05bb0-2511-449a-86db-e42435ec1263",
   "metadata": {},
   "outputs": [],
   "source": [
    "figures_path = '/Users/erezcohen/Desktop/Projects/BAND/AnalysisNote/Figures/KinematicalDistributions/'"
   ]
  },
  {
   "cell_type": "markdown",
   "id": "64686df2-853e-4af6-8a73-3909b0743e0b",
   "metadata": {
    "tags": []
   },
   "source": [
    "# (1) Load data and apply selection cuts not previously imposed\n",
    "All runs of $(e,e'\\pi)$ data and all runs of $(e,e'\\pi n)$ - as with a small number of runs normalization is off"
   ]
  },
  {
   "cell_type": "code",
   "execution_count": null,
   "id": "9b8a77ca-8f37-457f-9702-4769540cf16d",
   "metadata": {},
   "outputs": [],
   "source": [
    "subdirname = \"sidisdvcs_3Mar2023_commit_cfbc431\" \n",
    "[e_e_pi,e_e_pi_n,e_e_pi_FreeP] = load_SIDIS_data( Nruns = -1,\n",
    "                             rgb_runs_filenames = [\"good_runs_10-2-final.txt\",\n",
    "                                                   \"good_runs_10-4.txt\",\n",
    "                                                   \"good_runs_10-6.txt\"], \n",
    "                             subdirname = subdirname,\n",
    "                             do_e_e_pi_n=False, do_e_e_pi_FreeP=False, do_all_vars=True, \n",
    "                             fdebug=0 );\n",
    "e_e_pi_pass_cuts,e_e_pi_n_pass_cuts,e_e_pi_FreeP_pass_cuts,_ = apply_further_selection_cuts_to_data(doApply_Mx_cut=False,\n",
    "                                                                                                    fdebug=0);"
   ]
  },
  {
   "cell_type": "markdown",
   "id": "0c6fe85e-40f0-4a44-9cbf-e8250a552d2d",
   "metadata": {
    "tags": []
   },
   "source": [
    "# (2) Count event statistics"
   ]
  },
  {
   "cell_type": "code",
   "execution_count": null,
   "id": "5ea0066f-60bd-4cb8-8022-e0bcbcdbe7cb",
   "metadata": {},
   "outputs": [],
   "source": [
    "Stats = dict()\n",
    "for pi_ch,pi_print,pi_label,pi_color,pi_idx in zip(pi_charge_names,pi_prints,pi_labels,pi_colors,[1,2]):\n",
    "    Stats[\"$d(e,e'\"+pi_label+\")$\"]  = float(len(e_e_pi_pass_cuts[pi_ch]))\n",
    "Stats[\"$d(e,e'\\\\pi^{+})/d(e,e'\\\\pi^{-})$\"] = Stats[\"$d(e,e'\\\\pi^{+})$\"]/Stats[\"$d(e,e'\\\\pi^{-})$\"]\n",
    "display(Stats)"
   ]
  },
  {
   "cell_type": "markdown",
   "id": "36cd99bc-210a-4f0a-9e1e-213fe9819cfa",
   "metadata": {
    "tags": []
   },
   "source": [
    "# (3) Plot kinematical distributions\n",
    "$ x_B = Q^2/2m_p\\omega$"
   ]
  },
  {
   "cell_type": "markdown",
   "id": "7ff47831-ed4a-467b-b7d6-3fd19dbcc47d",
   "metadata": {
    "tags": []
   },
   "source": [
    "### auxiliary"
   ]
  },
  {
   "cell_type": "code",
   "execution_count": null,
   "id": "5a13e19c-17b3-4221-a4a8-6bfb66763967",
   "metadata": {},
   "outputs": [],
   "source": [
    "def plot_SIDIS_variable(var  = 'Q2', \n",
    "                        bins = np.linspace(1.8,7.8,31),\n",
    "                        xScaling=1,\n",
    "                        varlabel = '$Q^2$',\n",
    "                        varunits = '[(GeV/c)$^2$]',\n",
    "                        xticks = None, \n",
    "                        fdebug=1, \n",
    "                        ylim_ratio=None,ylim_hists=None,\n",
    "                        add_published_pips2pims_ratio=[],\n",
    "                        do_add_legend=True,\n",
    "                        do_save_figure=True):#{\n",
    "    \n",
    "    xlim = (np.min(bins),np.max(bins))\n",
    "    if fdebug>2: print(bins)\n",
    "    ax = dict()\n",
    "    \n",
    "    fig = plt.figure(figsize=(16,6),tight_layout=True)\n",
    "    \n",
    "    ax[1] = fig.add_subplot(3,1,(1,2))\n",
    "    h,NeventsTot = dict(),dict()\n",
    "    # compare untagged to tagged seperately for π+ and π-\n",
    "    for pi_ch,pi_print,pi_label,pi_color,pi_idx in zip(pi_charge_names,pi_prints,\n",
    "                                                       pi_labels,pi_colors,[1,2]):\n",
    "        \n",
    "        # d(e,e'π)\n",
    "        df = e_e_pi_pass_cuts[pi_ch]\n",
    "        NeventsTot['untagged'] = len(df)\n",
    "        x,h['untagged'+pi_ch],x_err,h_err['untagged'+pi_ch] = plot_step_squares( df[var], ax=ax[1],\n",
    "                                                                                bins=bins, xScaling=xScaling,\n",
    "                                                                                density=True, color=pi_color, \n",
    "                                                                                alpha=0.5, label='$'+pi_label+'$' )\n",
    "        ax[1].step(x,h['untagged'+pi_ch],'-',color=pi_color,where='mid')\n",
    "    set_axes(ax[1], '',\n",
    "                 'Frequency [a.u.]', \n",
    "                 title='',\n",
    "                 do_add_grid=True,\n",
    "                 remove_ticks_x=True,\n",
    "                 do_add_legend=do_add_legend,\n",
    "                 xticks=xticks,\n",
    "             xlim=xlim,\n",
    "                 ylim=ylim_hists)\n",
    "    \n",
    "    # Take the ratio of π+/π-\n",
    "    ax[2] = fig.add_subplot(3,1,3)\n",
    "\n",
    "    R, R_err = dict(), dict()\n",
    "    datalabel,color,scaleFactor = 'untagged','k',Stats[\"$d(e,e'\\\\pi^{+})/d(e,e'\\\\pi^{-})$\"]\n",
    "    R[datalabel]      = np.zeros(len(x))\n",
    "    R_err[datalabel]  = np.zeros(len(x))\n",
    "    cutoff = 1./NeventsTot[datalabel]\n",
    "\n",
    "    Npts = len(h_err[datalabel+'piminus'])\n",
    "    for i in range(Npts):\n",
    "        R[datalabel][i] = (h[datalabel+'piplus'][i]/np.max([cutoff,h[datalabel+'piminus'][i]])) * scaleFactor\n",
    "        R_err[datalabel][i] = R[datalabel][i] * np.sqrt(  np.square(h_err[datalabel+'piplus'][i]\n",
    "                                                                    /np.max([cutoff,h[datalabel+'piplus'][i]]) )                                       \n",
    "                                                        + np.square(h_err[datalabel+'piminus'][i]\n",
    "                                                                    /np.max([cutoff,h[datalabel+'piminus'][i]])) )    \n",
    "    plt.errorbar ( x=x, xerr=x_err, \n",
    "                  y=R[datalabel], yerr=R_err[datalabel], \n",
    "                  markersize=8,\n",
    "                  color=color, marker='o', markeredgecolor='k',\n",
    "                  linestyle='None',\n",
    "                  capsize=4, capthick=1, alpha=1 )\n",
    "    # cosmetics\n",
    "    set_axes(ax[2],varlabel + ' '+ varunits,\n",
    "             \"$\\\\frac{N(e,e' \\pi^+)}{N(e,e' \\pi^-)}$\", \n",
    "             title='',\n",
    "             do_add_grid=True, \n",
    "             xticks=xticks,\n",
    "             xlim=xlim,\n",
    "             ylim=ylim_ratio);\n",
    "    \n",
    "    # add existing data\n",
    "    if (add_published_pips2pims_ratio == [])==False:\n",
    "        for dataset in add_published_pips2pims_ratio:\n",
    "            plot_pT_published_pips2pims_ratio( dataset, ax=ax[2])\n",
    "        ax[2].legend(bbox_to_anchor=(0.63,0.55),fontsize=18);\n",
    "\n",
    "    if do_save_figure:\n",
    "        save_figure(filename=figures_path + var + '.pdf')\n",
    "    return ax\n",
    "#}"
   ]
  },
  {
   "cell_type": "code",
   "execution_count": null,
   "id": "77c45649-1f2a-448e-9dd2-35a1e73c0f7d",
   "metadata": {},
   "outputs": [],
   "source": [
    "def plot_pT_published_pips2pims_ratio( dataset = 'JLAB2012', \n",
    "                                      ax=None, \n",
    "                                      vars_2_plot=['R_H','R_D'],\n",
    "                                      labels_2_plot=['Free-p','Deuteron'],\n",
    "                                      colors=['red','blue'],\n",
    "                                      markers=['s','s'] ):\n",
    "    '''\n",
    "    plot pT published pips2pims ratio\n",
    "    \n",
    "    \n",
    "    input\n",
    "    ---------\n",
    "    vars_2_plot    'R_H'  / 'R_D' / [...]\n",
    "    dataset        'JLAB2012' - Phys. Rev. C. 85 015202 (2012)\n",
    "    \n",
    "    '''\n",
    "    \n",
    "    if dataset == 'JLAB2012':\n",
    "        dataset_label = 'JLAB2012'\n",
    "    \n",
    "    pT_data = pd.read_csv('/Users/erezcohen/Desktop/data/BAND/ExistingData/'+dataset+'/pT_data.csv')\n",
    "    pT_data['p_T'] = np.sqrt(pT_data['P_t^2 (GeVc^2)'])\n",
    "    \n",
    "    if ax is None:\n",
    "        fig,ax=plt.subplots(figsize=(8,5))\n",
    "        set_axes(ax,'$p_T$','$R_H$',do_add_grid=True)\n",
    "    \n",
    "    for var_2_plot,label_2_plot,color,marker in zip(vars_2_plot,labels_2_plot,colors,markers):\n",
    "        ax.errorbar( pT_data['p_T'], \n",
    "                    pT_data[var_2_plot], pT_data['d '+var_2_plot], \n",
    "                    linestyle='None',\n",
    "                    marker=marker,color=color,\n",
    "                    capthick=1,capsize=4,\n",
    "                    markerfacecolor='w',\n",
    "                    label = label_2_plot+' '+dataset_label\n",
    "                   )\n",
    "    \n",
    "    "
   ]
  },
  {
   "cell_type": "markdown",
   "id": "268cedd2-9575-4aac-845c-bc9f5e6c321a",
   "metadata": {},
   "source": [
    "## Now plot variables..."
   ]
  },
  {
   "cell_type": "code",
   "execution_count": null,
   "id": "94dc9ce2-1819-441f-b5c2-1b830aa08bc6",
   "metadata": {},
   "outputs": [],
   "source": [
    "plot_SIDIS_variable(var='Q2', bins = np.linspace(1.9,7.8,31),\n",
    "                    varlabel = '$Q^2$', varunits = '[(GeV/c)$^2$]',\n",
    "                    xticks = None, do_add_legend=True, do_save_figure=True);"
   ]
  },
  {
   "cell_type": "code",
   "execution_count": null,
   "id": "617337b2-73bf-4511-97da-d29188a421ca",
   "metadata": {},
   "outputs": [],
   "source": [
    "plot_SIDIS_variable(var='e_P', bins = np.arange(3,6.8,0.1),\n",
    "                    varlabel = '$p_e$', varunits = '[GeV/c]',\n",
    "                    xticks = None, do_add_legend=True, do_save_figure=True);"
   ]
  },
  {
   "cell_type": "code",
   "execution_count": null,
   "id": "2812e2b6-bf7f-4cc0-b8e6-03e6d884ee91",
   "metadata": {},
   "outputs": [],
   "source": [
    "plot_SIDIS_variable(var  = 'xB',\n",
    "                        bins = np.linspace(0.14,0.6,21),\n",
    "                        varlabel = '$x_B$',\n",
    "                        varunits = '');"
   ]
  },
  {
   "cell_type": "code",
   "execution_count": null,
   "id": "bdc89450-f2cf-4408-8fdd-e29c08af2c15",
   "metadata": {},
   "outputs": [],
   "source": [
    "ax=plot_SIDIS_variable(var  = 'W',\n",
    "                       bins = np.linspace(2.5,3.7,21),\n",
    "                       varlabel = '$W = \\sqrt{|p_{rest} + q|^2}$',\n",
    "                       varunits = ' [GeV/c$^2$]'\n",
    "                      );"
   ]
  },
  {
   "cell_type": "code",
   "execution_count": null,
   "id": "66d12926-3e3a-484e-b812-805414eb1db4",
   "metadata": {},
   "outputs": [],
   "source": [
    "ax=plot_SIDIS_variable(var  = 'Zpi',                    \n",
    "                    bins = np.linspace(0.3,0.85,31),  \n",
    "                    varlabel = '$z_{\\pi}$',                    \n",
    "                    varunits = '');"
   ]
  },
  {
   "cell_type": "code",
   "execution_count": null,
   "id": "328b9acf-1f9e-45aa-a3ef-41dd86f8c8b8",
   "metadata": {},
   "outputs": [],
   "source": [
    "plot_SIDIS_variable(var  = 'pi_P',                    \n",
    "                    bins = np.linspace(1.25,5,31),                    \n",
    "                    varlabel = '$p_{\\pi}$', \n",
    "                    varunits = '[GeV/c]');"
   ]
  },
  {
   "cell_type": "code",
   "execution_count": null,
   "id": "f1648d8f-7c5f-4fce-bb78-b20e914c0d33",
   "metadata": {},
   "outputs": [],
   "source": [
    "ax=plot_SIDIS_variable(var  = 'eta_pi',                    \n",
    "                    bins = np.linspace(0.8,4.3,31),  \n",
    "                    varlabel = '$\\eta_{\\pi}$',\n",
    "                    varunits = '');"
   ]
  },
  {
   "cell_type": "code",
   "execution_count": null,
   "id": "f70a8d83-f846-4657-9fca-d0faa6cc559c",
   "metadata": {},
   "outputs": [],
   "source": [
    "ax=plot_SIDIS_variable(var  = 'xF',                    \n",
    "                    bins = np.linspace(0.6,3.8,31),  \n",
    "                    varlabel = '$x_{F}$',\n",
    "                    varunits = '');"
   ]
  },
  {
   "cell_type": "code",
   "execution_count": null,
   "id": "43953a61-7979-41d1-ad26-111d08029f1f",
   "metadata": {},
   "outputs": [],
   "source": []
  },
  {
   "cell_type": "code",
   "execution_count": null,
   "id": "5197c5ee-0cb5-4af4-be9d-57d70a64527e",
   "metadata": {},
   "outputs": [],
   "source": []
  },
  {
   "cell_type": "code",
   "execution_count": null,
   "id": "9dd17317-72f5-4b01-9e7c-1dffbde54495",
   "metadata": {},
   "outputs": [],
   "source": [
    "ax = plot_SIDIS_variable(var  = 'pi_qFrame_pT',                    \n",
    "                    bins = np.linspace(0,1.3,21),                    \n",
    "                    varlabel = '$p_{\\pi}^{\\perp}$', \n",
    "                    varunits = '[GeV/c]', \n",
    "                         add_published_pips2pims_ratio = ['JLAB2012'],ylim_ratio=(0.8,3))\n",
    "ax[2].legend(loc=(0.4,0.45),fontsize=17);\n"
   ]
  },
  {
   "cell_type": "code",
   "execution_count": null,
   "id": "cf9837d5-486f-4db7-be04-8f1d1d151de4",
   "metadata": {},
   "outputs": [],
   "source": [
    "plot_SIDIS_variable(var  = 'pi_qFrame_Phi',       \n",
    "                    xScaling=r2d,\n",
    "                    bins = np.linspace(-180,180,21),\n",
    "                    varlabel = \"$\\phi_{\\pi}^{q-Frame}$\", \n",
    "                    varunits = '[deg.]',#ylim_ratio=(0,30),\n",
    "                    xticks=[-180,-60,60,180]);"
   ]
  },
  {
   "cell_type": "code",
   "execution_count": null,
   "id": "ea9b1346-ab89-436c-b448-a6edfa2da8cd",
   "metadata": {},
   "outputs": [],
   "source": [
    "ax=plot_SIDIS_variable(var  = 'M_x',\n",
    "                       bins = np.linspace(0.5,3.0,21),\n",
    "                       varlabel = '$M_x$',\n",
    "                       varunits = ' [GeV/c$^2$]',\n",
    "                      );"
   ]
  },
  {
   "cell_type": "code",
   "execution_count": null,
   "id": "9c8ecc3b-e39a-4c80-a13c-d878c34e2148",
   "metadata": {},
   "outputs": [],
   "source": [
    "z_bins   = np.linspace(0.35,0.80,4)\n",
    "z_widths = 0.01*np.ones(len(z_bins))\n",
    "x_bins   = np.linspace(0.2,0.5,4)\n",
    "x_widths = (x_bins[1] - x_bins[0])/2*np.ones(len(z_bins))\n",
    "for z_bin,z_width,z_idx in zip(z_bins,z_widths,range(len(z_bins))):\n",
    "    z_min,z_max = z_bin-z_width, z_bin+z_width\n",
    "    print('%d, %.3f < z < %.3f'%(z_idx,z_min,z_max))\n",
    "print('')    \n",
    "for x_bin,x_width,x_idx in zip(x_bins,x_widths,range(len(x_bins))):\n",
    "    x_min,x_max = x_bin-x_width, x_bin+x_width\n",
    "    print('%d, %.3f < x < %.3f'%(x_idx,x_min,x_max))    \n",
    "N_x = len(x_bins)\n",
    "N_z = len(z_bins)    \n",
    "# print('x bins:',x_bins)\n",
    "# print('x_err:',x_err)\n",
    "# print('x_widths:',x_widths)\n",
    "# print('z bins:',z_bins)\n",
    "# print('z width:',z_widths)"
   ]
  },
  {
   "cell_type": "code",
   "execution_count": null,
   "id": "0f44f265-3061-44be-a4b1-bb03be80d07a",
   "metadata": {},
   "outputs": [],
   "source": [
    "bins = np.linspace(0,1.3,16)\n",
    "Nsubplots = 16\n",
    "i = 0\n",
    "mu_in_bin,sig_in_bin,sig_err_in_bin = np.zeros((N_z,N_x,2)),np.zeros((N_z,N_x,2)),np.zeros((N_z,N_x,2))\n",
    "\n",
    "for z_bin,z_width,z_idx in zip(z_bins,z_widths,range(N_z)):#{\n",
    "    z_min,z_max = z_bin-z_width, z_bin+z_width\n",
    "\n",
    "    # if i>25: break\n",
    "    for x_bin,x_width,x_idx in zip(x_bins,x_widths,range(N_x)):\n",
    "        x_min,x_max = x_bin-x_width, x_bin+x_width\n",
    "        bin_label = \"$%.3f < z < %.3f$\"%(z_min,z_max) + \"\\n\" + \"$%.2f < x_B < %.2f$\"%(x_min,x_max)\n",
    "        \n",
    "        if i%Nsubplots==0: #{\n",
    "            fig = plt.figure(figsize=(20,12),tight_layout=True)\n",
    "        #}\n",
    "        # ax = fig.add_subplot( N_x,  N_z, z_idx + N_z*x_idx + 1 )\n",
    "        ax = fig.add_subplot( int(np.sqrt(Nsubplots)), int(np.sqrt(Nsubplots)), np.mod(i,Nsubplots)+1 )\n",
    "        for pi_ch,pi_print,pi_label,pi_color,pi_idx in zip(pi_charge_names,pi_prints,pi_labels,pi_colors,[1,2]):\n",
    "\n",
    "            df = e_e_pi_pass_cuts[pi_ch]\n",
    "            # cut on xB and z\n",
    "            df = df[  (z_min < df.Zpi) & (df.Zpi < z_max) \n",
    "                    & (x_min < df.xB ) & (df.xB  < x_max) ]\n",
    "            # plot\n",
    "            x,y,x_err,y_err = plot_step_hist( df[\"pi_qFrame_pT\"], bins = bins, color=pi_color, density=True )\n",
    "            \n",
    "            # fit to a chi distribution function\n",
    "            fit_results = fit_pT( x, y, y_err, 0, do_plot_fit=True,color=pi_color )\n",
    "            mu_in_bin[z_idx,x_idx,pi_idx-1]     = fit_results['mu_fit']\n",
    "            sig_in_bin[z_idx,x_idx,pi_idx-1]    = fit_results['sig_fit']\n",
    "            sig_err_in_bin[z_idx,x_idx,pi_idx-1]= fit_results['sig_err']\n",
    "                \n",
    "        set_axes(ax,'$p_{\\pi}^{\\perp}$ [GeV/c]' if np.mod(i,Nsubplots)>=Nsubplots-np.sqrt(Nsubplots) else '',\n",
    "                 '', # 'Frequency [a.u.]' if z_idx==0 else '', \n",
    "                 title= bin_label ,\n",
    "                 fontsize=20,\n",
    "                 remove_ticks_x = False if np.mod(i,Nsubplots)>=Nsubplots-np.sqrt(Nsubplots) else True,\n",
    "                 remove_ticks_y = True,\n",
    "                 do_add_grid=True, \n",
    "                 do_add_legend=False)\n",
    "        i = i+1        \n",
    "    #}    \n",
    "    if i%Nsubplots==0: #{\n",
    "        save_figure(figures_path + \n",
    "                    'pi_qFrame_pT' + \n",
    "                    '_z_and_xB_bins' + \n",
    "                    '.pdf')    \n",
    "    #}\n",
    "#}"
   ]
  },
  {
   "cell_type": "code",
   "execution_count": null,
   "id": "fb013608-3fcc-4f16-9810-29f8b452075d",
   "metadata": {},
   "outputs": [],
   "source": [
    "fig = plt.figure(figsize=(16,8),tight_layout=True)\n",
    "for z_bin,z_width,z_idx in zip(z_bins,z_widths,range(N_z)):#{\n",
    "    z_min,z_max = z_bin-z_width, z_bin+z_width\n",
    "\n",
    "    ax = fig.add_subplot( 2, 2, z_idx+1 )\n",
    "    \n",
    "    for pi_ch,pi_print,pi_label,pi_color,pi_idx in zip(pi_charge_names,pi_prints,pi_labels,pi_colors,[1,2]):\n",
    "        sig_vs_x     = sig_in_bin[z_idx,:,pi_idx-1]\n",
    "        sig_err_vs_x = sig_err_in_bin[z_idx,:,pi_idx-1]\n",
    "\n",
    "\n",
    "        ax.errorbar(x=x_bins + 0.005*pi_idx*np.ones(len(x_bins)), \n",
    "                    xerr=x_widths,\n",
    "                    y=sig_vs_x, \n",
    "                    yerr=sig_err_vs_x, \n",
    "                    color=pi_color,\n",
    "                    capsize=4, marker='o', markeredgecolor='k', linestyle='None', \n",
    "                    label=\"$(e,e'\"+pi_label+\"n)$\" )\n",
    "        \n",
    "    set_axes(ax,'$x_B$' if z_idx>=2 else '',\n",
    "             '$\\\\sigma_{p_T}$ [GeV/c]' if np.mod(z_idx,2)==0 else '',\n",
    "             remove_ticks_x=False if z_idx>=2 else True,\n",
    "             remove_ticks_y=False if np.mod(z_idx,2)==0 else True,\n",
    "             title=\"$%.3f < z < %.3f$\"%(z_min,z_max) ,\n",
    "             do_add_grid=True,do_add_legend=True, \n",
    "             xticks=np.arange(0.15,0.55,0.1),\n",
    "             ylim=(0,0.5))\n",
    "save_figure(figures_path     + \n",
    "            'pi_qFrame_pT'   + \n",
    "            '_sigma'         +  \n",
    "            '_z_and_xB_bins' +             \n",
    "            '.pdf')        "
   ]
  },
  {
   "cell_type": "markdown",
   "id": "a1906e54-f70a-463c-a68f-c3ccd395bae9",
   "metadata": {
    "jp-MarkdownHeadingCollapsed": true,
    "tags": []
   },
   "source": [
    "#### Tagged data"
   ]
  },
  {
   "cell_type": "code",
   "execution_count": null,
   "id": "1d68db2a-b0f0-4e8d-8cdf-05263c89eb66",
   "metadata": {},
   "outputs": [],
   "source": [
    "z_bins   = np.array([0.35,0.45,0.65])\n",
    "z_widths = np.array([0.05,0.05,0.15])\n",
    "x_bins   = np.array([0.2, 0.32, 0.44 ])\n",
    "x_widths = (x_bins[1] - x_bins[0])/2*np.ones(len(z_bins))\n",
    "for z_bin,z_width,z_idx in zip(z_bins,z_widths,range(len(z_bins))):\n",
    "    z_min,z_max = z_bin-z_width, z_bin+z_width\n",
    "    print\n",
    "    ('%d, %.3f < z < %.3f'%(z_idx,z_min,z_max))\n",
    "print('')    \n",
    "for x_bin,x_width,x_idx in zip(x_bins,x_widths,range(len(x_bins))):\n",
    "    x_min,x_max = x_bin-x_width, x_bin+x_width\n",
    "    print('%d, %.3f < x < %.3f'%(x_idx,x_min,x_max))    \n",
    "N_x = len(x_bins)\n",
    "N_z = len(z_bins)    "
   ]
  },
  {
   "cell_type": "code",
   "execution_count": null,
   "id": "cfc5ec77-d7d4-4de4-a787-7fce1c7a5265",
   "metadata": {},
   "outputs": [],
   "source": [
    "bins = np.linspace(0,1.3,16)\n",
    "\n",
    "fig = plt.figure(figsize=(16,12),tight_layout=True)\n",
    "\n",
    "mu_in_bin,sig_in_bin,sig_err_in_bin = np.zeros((N_z,N_x,2)),np.zeros((N_z,N_x,2)),np.zeros((N_z,N_x,2))\n",
    "for z_bin,z_width,z_idx in zip(z_bins,z_widths,range(N_z)):#{\n",
    "    z_min,z_max = z_bin-z_width, z_bin+z_width\n",
    "\n",
    "    for x_min,x_max,x_idx in zip(x_bins[:-1],x_bins[1:],range(N_x)):#{\n",
    "        ax = fig.add_subplot( N_x,  N_z, z_idx + N_z*x_idx + 1 )\n",
    "        for pi_ch,pi_print,pi_label,pi_color,pi_idx in zip(pi_charge_names,pi_prints,pi_labels,pi_colors,[1,2]):\n",
    "\n",
    "            df = e_e_pi_n_pass_cuts[pi_ch]\n",
    "            # cut on xB and z\n",
    "            df = df[  (z_min < df.Zpi) & (df.Zpi < z_max) \n",
    "                    & (x_min < df.xB ) & (df.xB  < x_max) ]\n",
    "            # plot\n",
    "            x,y,x_err,y_err = plot_step_hist( df[\"pi_qFrame_pT\"], bins = bins, color=pi_color, density=True )\n",
    "            \n",
    "            # fit to a chi distribution function\n",
    "            fit_results = fit_pT( x, y, y_err, 0, do_plot_fit=True,color=pi_color )\n",
    "            mu_in_bin[z_idx,x_idx,pi_idx-1]     = fit_results['mu_fit']\n",
    "            sig_in_bin[z_idx,x_idx,pi_idx-1]    = fit_results['sig_fit']\n",
    "            sig_err_in_bin[z_idx,x_idx,pi_idx-1]= fit_results['sig_err']\n",
    "\n",
    "            \n",
    "        set_axes(ax,'$p_{\\pi}^{\\perp}$ [GeV/c]' if x_idx >= 1 else '',\n",
    "                 'Frequency [a.u.]' if z_idx==0 else '', \n",
    "                 title= \"$%.1f < z < %.1f$\"%(z_min,z_max) + \", \" + \"$%.2f < x_B < %.2f$\"%(x_min,x_max) ,\n",
    "                 remove_ticks_x = False if x_idx >= 1 else True,\n",
    "                 remove_ticks_y = False if z_idx%N_z==0 else  True,\n",
    "                 do_add_grid=True, \n",
    "                 do_add_legend=False if z_idx==0 and x_idx==1 else False)\n",
    "    #}    \n",
    "#}\n",
    "save_figure(figures_path + \n",
    "            'Tagged_pi_qFrame_pT' +             \n",
    "            '_z_and_xB_bins' +         \n",
    "            '.pdf')    "
   ]
  },
  {
   "cell_type": "code",
   "execution_count": null,
   "id": "3265bf75-92a0-478c-8a72-676e0025be51",
   "metadata": {},
   "outputs": [],
   "source": [
    "fig = plt.figure(figsize=(14,6),tight_layout=True)\n",
    "for z_bin,z_width,z_idx in zip(z_bins,z_widths,range(N_z)):#{\n",
    "    z_min,z_max = z_bin-z_width, z_bin+z_width\n",
    "\n",
    "    ax = fig.add_subplot( 1, 3, z_idx+1 )\n",
    "    \n",
    "    for pi_ch,pi_print,pi_label,pi_color,pi_idx in zip(pi_charge_names,pi_prints,pi_labels,pi_colors,[1,2]):\n",
    "        sig_vs_x     = sig_in_bin[z_idx,:,pi_idx-1]\n",
    "        sig_err_vs_x = sig_err_in_bin[z_idx,:,pi_idx-1]\n",
    "\n",
    "\n",
    "        ax.errorbar(x=x_bins + 0.005*pi_idx*np.ones(len(x_bins)), \n",
    "                    xerr=x_widths,\n",
    "                    y=sig_vs_x, \n",
    "                    yerr=sig_err_vs_x, \n",
    "                    color=pi_color,\n",
    "                    capsize=4, marker='o', markeredgecolor='k', linestyle='None', \n",
    "                    label=\"$(e,e'\"+pi_label+\"n)$\" )\n",
    "        \n",
    "    set_axes(ax,'$x_B$' ,\n",
    "             '$\\\\sigma_{p_T}$ [GeV/c]' if z_idx==0 else '',\n",
    "             remove_ticks_x=False,\n",
    "             remove_ticks_y=True if z_idx>0 else False,\n",
    "             title=\"$%.3f < z < %.3f$\"%(z_min,z_max) ,\n",
    "             do_add_grid=True,do_add_legend=True, \n",
    "             xticks=np.arange(0.15,0.55,0.1),\n",
    "             ylim=(0.01,0.6))\n",
    "\n",
    "save_figure(figures_path          + \n",
    "            'Tagged_pi_qFrame_pT' +             \n",
    "            '_sigma'              +\n",
    "            '_z_and_xB_bins'      +         \n",
    "            '.pdf')    "
   ]
  }
 ],
 "metadata": {
  "kernelspec": {
   "display_name": "Python 3 (ipykernel)",
   "language": "python",
   "name": "python3"
  },
  "language_info": {
   "codemirror_mode": {
    "name": "ipython",
    "version": 3
   },
   "file_extension": ".py",
   "mimetype": "text/x-python",
   "name": "python",
   "nbconvert_exporter": "python",
   "pygments_lexer": "ipython3",
   "version": "3.10.10"
  }
 },
 "nbformat": 4,
 "nbformat_minor": 5
}
