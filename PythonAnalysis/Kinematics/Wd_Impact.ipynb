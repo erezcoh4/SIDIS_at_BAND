{
 "cells": [
  {
   "cell_type": "markdown",
   "id": "1e30185d-b4cf-4059-b94e-9171f6fe8c0e",
   "metadata": {
    "tags": []
   },
   "source": [
    "# Study impact of $W_d$ cut\n",
    "last edit Sep-8, 2022"
   ]
  },
  {
   "cell_type": "markdown",
   "id": "79a1f377-5bd5-43ba-8a4a-4cb54f37a6bc",
   "metadata": {
    "jp-MarkdownHeadingCollapsed": true,
    "tags": []
   },
   "source": [
    "## Imports and definitions"
   ]
  },
  {
   "cell_type": "code",
   "execution_count": 1,
   "id": "004e7dab-d231-4947-8ab5-4256ea735722",
   "metadata": {},
   "outputs": [],
   "source": [
    "import sys; \n",
    "software_path = '/Users/erezcohen/Desktop/Software/'\n",
    "sys.path.insert(0, software_path + '/mySoftware/Python/');\n",
    "sys.path.insert(0, software_path + '/CLAS12/BAND/SIDIS_at_BAND/PythonAnalysis/AcceptanceCorrections/');\n",
    "sys.path.insert(0, software_path + '/CLAS12/BAND/SIDIS_at_BAND/PythonAnalysis/python_auxiliary/');\n",
    "from my_tools                     import *; \n",
    "from plot_tools                   import *;\n",
    "from my_data_analysis_tools       import *;\n",
    "from acceptance_correction_tools  import *;\n",
    "from sidis_analysis_tools         import *;\n",
    "# from event_selection_tools        import *;"
   ]
  },
  {
   "cell_type": "code",
   "execution_count": 2,
   "id": "851ff650-2150-418c-aba3-d02dd579452f",
   "metadata": {},
   "outputs": [],
   "source": [
    "%config InlineBackend.figure_format = 'retina'\n",
    "plt.rcParams['mathtext.fontset']    = 'stix'\n",
    "plt.rcParams['font.family']         = 'STIXGeneral'"
   ]
  },
  {
   "cell_type": "markdown",
   "id": "64686df2-853e-4af6-8a73-3909b0743e0b",
   "metadata": {
    "tags": []
   },
   "source": [
    "# (1) Load data:\n",
    "All runs of $(e,e'\\pi)$ data and all runs of $(e,e'\\pi n)$ - as with a small number of runs normalization is off"
   ]
  },
  {
   "cell_type": "code",
   "execution_count": null,
   "id": "9b8a77ca-8f37-457f-9702-4769540cf16d",
   "metadata": {},
   "outputs": [],
   "source": [
    "load_SIDIS_data( Nruns = -1,\n",
    "                do_e_e_pi=True, \n",
    "                subdirname = \"With_W0.5_cut\",\n",
    "                do_e_e_pi_n=False, \n",
    "                do_e_e_pi_FreeP=False,\n",
    "                fdebug=1, do_all_vars=True)"
   ]
  },
  {
   "cell_type": "markdown",
   "id": "62b0e388-3d08-4aeb-9059-410bdeff1dd5",
   "metadata": {
    "tags": []
   },
   "source": [
    "# (2) Apply selection cuts not previously imposed\n",
    "Except from $W$ cut"
   ]
  },
  {
   "cell_type": "code",
   "execution_count": null,
   "id": "533bd2d5-61b0-4488-acfa-6e0fdc9dfa88",
   "metadata": {},
   "outputs": [],
   "source": [
    "e_e_pi_pass_cuts,_,_,_ = apply_further_selection_cuts_to_data(doApply_minPn_cut=True, \n",
    "                                                              fdebug=2,                                                               \n",
    "                                                              NeventsMax=-1);"
   ]
  },
  {
   "cell_type": "markdown",
   "id": "0f65765c-6d65-4920-9e24-f1ee2d093cb6",
   "metadata": {
    "jp-MarkdownHeadingCollapsed": true,
    "tags": []
   },
   "source": [
    "# (3) plot $W$ vs. $W_d$ "
   ]
  },
  {
   "cell_type": "markdown",
   "id": "dd8e50a5-3f34-4cb5-8184-33cb10b69592",
   "metadata": {
    "jp-MarkdownHeadingCollapsed": true,
    "tags": []
   },
   "source": [
    "## (3.1) for all the data"
   ]
  },
  {
   "cell_type": "code",
   "execution_count": null,
   "id": "0093b5f9-dc1c-4664-8ec8-5142f6b66fa2",
   "metadata": {},
   "outputs": [],
   "source": [
    "fig = plt.figure(figsize=(16,6), tight_layout=True)\n",
    "for pi_ch,pi_print,pi_label,pi_color,pi_idx in zip(pi_charge_names,pi_prints,pi_labels,pi_colors,[1,2]):\n",
    "\n",
    "    df = e_e_pi[pi_ch]\n",
    "    print(len(df))\n",
    "\n",
    "    \n",
    "    ax = fig.add_subplot(1,2,pi_idx)\n",
    "    plt.hist2d( df.W, df.W_d, bins=(np.linspace(1.75,3.6,100),np.linspace(3.1,5.5,100)), cmap='hot_r')\n",
    "\n",
    "    plt.plot( [2.5,2.5],    ax.get_ylim(), '-b')\n",
    "    plt.plot( ax.get_xlim(),[2.5,2.5],     '-b')\n",
    "    plt.fill_between( [0,2.5], [6, 6] , 'k', alpha=0.1)\n",
    "    \n",
    "    set_axes(ax,'$W$ [GeV/c$^2$]',\n",
    "             '$W_d$ [GeV/c$^2$]' if pi_idx==1 else '', remove_ticks_y= False if pi_idx==1 else True,\n",
    "             title=\"all $(e,e'\"+pi_label+\")$ events\",\n",
    "             do_add_grid=True, do_add_legend=False)\n"
   ]
  },
  {
   "cell_type": "markdown",
   "id": "66c77432-a2e5-48a2-9200-7348e1ec9913",
   "metadata": {
    "jp-MarkdownHeadingCollapsed": true,
    "tags": []
   },
   "source": [
    "## (3.1) for the data after all cuts except the $W$ cut"
   ]
  },
  {
   "cell_type": "code",
   "execution_count": null,
   "id": "0a84f3d9-fe40-4c00-b9a5-c3890ceb9959",
   "metadata": {},
   "outputs": [],
   "source": [
    "fig = plt.figure(figsize=(16,6), tight_layout=True)\n",
    "for pi_ch,pi_print,pi_label,pi_color,pi_idx in zip(pi_charge_names,pi_prints,pi_labels,pi_colors,[1,2]):\n",
    "\n",
    "    df = e_e_pi_pass_cuts[pi_ch]\n",
    "    print(len(df))\n",
    "    \n",
    "    ax = fig.add_subplot(1,2,pi_idx)\n",
    "    plt.hist2d( df.W, df.W_d, bins=(np.linspace(1.75,3.6,100),np.linspace(3.1,5.5,100)), cmap='hot_r')\n",
    "\n",
    "    plt.plot( [2.5,2.5],    ax.get_ylim(), '-b')\n",
    "    plt.plot( ax.get_xlim(),[2.5,2.5],     '-b')\n",
    "    plt.fill_between( [0,2.5], [6, 6] , 'k', alpha=0.1)\n",
    "    \n",
    "    set_axes(ax,'$W$ [GeV/c$^2$]',\n",
    "             '$W_d$ [GeV/c$^2$]' if pi_idx==1 else '', remove_ticks_y= False if pi_idx==1 else True,\n",
    "             title=\"$(e,e'\"+pi_label+\")$ passed cuts\",\n",
    "             do_add_grid=True, do_add_legend=False)\n"
   ]
  },
  {
   "cell_type": "markdown",
   "id": "329def3f-49ea-4d29-ba7b-b0ba2e677ddb",
   "metadata": {
    "tags": []
   },
   "source": [
    "# (4) Extract tabular data and save results to file"
   ]
  },
  {
   "cell_type": "code",
   "execution_count": null,
   "id": "dfc9cbdd-15ff-4239-907b-d7421cfd90e8",
   "metadata": {},
   "outputs": [],
   "source": [
    "z_bins   = np.arange(0.3,0.85,0.05)\n",
    "z_widths = 0.01*np.ones(len(z_bins))\n",
    "x_bins   = np.linspace(0.2,0.6,11)\n",
    "x        = (x_bins[1:] + x_bins[:-1])/2\n",
    "x_err    = (x_bins[1:] - x_bins[:-1])/2\n",
    "print('x bins:',x_bins)\n",
    "print('z bins:',z_bins)\n",
    "for z_bin,z_width in zip(z_bins,z_widths):\n",
    "    z_min,z_max = z_bin-z_width, z_bin+z_width\n",
    "    print('%.3f < z < %.3f:'%(z_min,z_max))\n",
    "    \n",
    "var_label = \"standing proton x\"\n",
    "var    = 'xB'\n",
    "xlabel = \"Bjorken $x$\"\n"
   ]
  },
  {
   "cell_type": "markdown",
   "id": "3ce51919-e296-499d-ad36-cef275095159",
   "metadata": {
    "jp-MarkdownHeadingCollapsed": true,
    "tags": []
   },
   "source": [
    "## (4.1) no cut on $W$"
   ]
  },
  {
   "cell_type": "code",
   "execution_count": null,
   "id": "0f11f540-071e-4e02-94d2-943477d90315",
   "metadata": {},
   "outputs": [],
   "source": [
    "extract_SIDIS_ratio(df_dict  = e_e_pi_pass_cuts,\n",
    "                    data_path= '/Users/erezcohen/Desktop/data/BAND/Results/ImpactOfWcut/',\n",
    "                    x_var    = var ,                           \n",
    "                    x_bins   = x_bins,                           \n",
    "                    z_bins   = z_bins,                           \n",
    "                    z_widths = z_widths,                           \n",
    "                    fdebug   = 0,\n",
    "                    prefix   = 'Untagged_SIDIS_ratio_',                           \n",
    "                    suffix   = 'No_W_cut')"
   ]
  },
  {
   "cell_type": "code",
   "execution_count": null,
   "id": "d0ba83c1-c884-462e-a04b-7e48f8b9a4f9",
   "metadata": {},
   "outputs": [],
   "source": []
  },
  {
   "cell_type": "code",
   "execution_count": null,
   "id": "a0b6d607-29d5-4a9d-a722-224586f71e0b",
   "metadata": {},
   "outputs": [],
   "source": [
    "prefix = 'Untagged_SIDIS_ratio_'\n",
    "suffix = 'No_W_cut'\n",
    "SIDIS_results = load_SIDIS_ratio(prefix = prefix, suffix = suffix, doPlotResults=True,\n",
    "                                 data_path='/Users/erezcohen/Desktop/data/BAND/Results/ImpactOfWcut/')\n",
    "# ax = plt.gca()\n",
    "# ax.set_ylim(1,2.5);"
   ]
  },
  {
   "cell_type": "markdown",
   "id": "9dc623fe-eaf7-4c87-8620-87ce2482a5c5",
   "metadata": {
    "tags": []
   },
   "source": [
    "## (4.2) With a cut on $W>2.5$"
   ]
  },
  {
   "cell_type": "code",
   "execution_count": null,
   "id": "e46f9ec5-1b8a-4d43-a64f-e1a533a6d8ee",
   "metadata": {},
   "outputs": [],
   "source": [
    "extract_SIDIS_ratio(df_dict  = e_e_pi_pass_cuts,\n",
    "                    data_path= '/Users/erezcohen/Desktop/data/BAND/Results/ImpactOfWcut/',\n",
    "                    x_var    = var ,                           \n",
    "                    x_bins   = x_bins,                           \n",
    "                    z_bins   = z_bins,                           \n",
    "                    z_widths = z_widths, \n",
    "                    W_min    = 2.5,\n",
    "                    fdebug   = 0,\n",
    "                    prefix   = 'Untagged_SIDIS_ratio_',                           \n",
    "                    suffix   = 'With_W2.5_cut')"
   ]
  },
  {
   "cell_type": "code",
   "execution_count": null,
   "id": "d8828dcb-f6cf-4147-b9f7-1ecc2eb0bfc0",
   "metadata": {},
   "outputs": [],
   "source": [
    "prefix = 'Untagged_SIDIS_ratio_'\n",
    "suffix = 'With_W2.5_cut'\n",
    "SIDIS_results = load_SIDIS_ratio(prefix = prefix, suffix = suffix, doPlotResults=True,data_path='/Users/erezcohen/Desktop/data/BAND/Results/ImpactOfWcut/')\n",
    "\n"
   ]
  },
  {
   "cell_type": "markdown",
   "id": "ac2992a6-e44c-46eb-b4a0-d18eff789519",
   "metadata": {},
   "source": [
    "## (4.3) Compare with and without $W$ cut"
   ]
  },
  {
   "cell_type": "code",
   "execution_count": null,
   "id": "3f3286db-12d4-4cd1-9413-7950fe20da1e",
   "metadata": {},
   "outputs": [],
   "source": [
    "SIDIS_res = dict()\n",
    "prefix = 'Untagged_SIDIS_ratio_'\n",
    "for suffix in ['No_W_cut','With_W2.5_cut']:\n",
    "    SIDIS_res[suffix] = load_SIDIS_ratio(prefix = prefix, suffix = suffix, \n",
    "                                         doPlotResults=False, \n",
    "                                         data_path='/Users/erezcohen/Desktop/data/BAND/Results/ImpactOfWcut/')\n",
    "print('Done.')"
   ]
  },
  {
   "cell_type": "code",
   "execution_count": null,
   "id": "296dea60-88a0-4a2e-90fc-61b5f8d4f861",
   "metadata": {},
   "outputs": [],
   "source": [
    "z_arr,z_err_arr,R_arr,R_errup_arr,R_errdw_arr = dict(),dict(),dict(),dict(),dict()\n",
    "for suffix in ['No_W_cut','With_W2.5_cut']:\n",
    "    # print(suffix)\n",
    "    results = SIDIS_res[suffix]\n",
    "    z_arr[suffix],z_err_arr[suffix],R_arr[suffix],R_errup_arr[suffix],R_errdw_arr[suffix] = [],[],[],[],[]\n",
    "    for key in results.keys():\n",
    "        # print(key)\n",
    "        z_min = float(key[4:9])\n",
    "        z_max = float(key[-4:])\n",
    "\n",
    "        # print(z_min,'<z<',z_max)\n",
    "        res_x034 = results[key][np.abs(results[key]['$x_B$']-0.34)<0.02]\n",
    "        # print(results[key])\n",
    "        R,dR_up,dR_dw = float(res_x034['$R$']),float(res_x034['$\\Delta R_{+}$']),float(res_x034['$\\Delta R_{+}$'])\n",
    "        # print(R,dR_up,dR_dw)\n",
    "        \n",
    "        R_arr[suffix].append( R )\n",
    "        R_errup_arr[suffix].append( dR_up )\n",
    "        R_errdw_arr[suffix].append( dR_dw )        \n",
    "\n",
    "        z_arr[suffix].append( (z_max + z_min)/2 )\n",
    "        z_err_arr[suffix].append( (z_max - z_min)/2 )\n",
    "        \n",
    "print('Done.')"
   ]
  },
  {
   "cell_type": "code",
   "execution_count": null,
   "id": "57d26767-7550-4404-9838-cca6851855d9",
   "metadata": {},
   "outputs": [],
   "source": [
    "fig = plt.figure(figsize=(9,6), tight_layout=True)\n",
    "ax = fig.add_subplot(1,1,1)\n",
    "\n",
    "for suffix,sufname,sufidx in zip(['No_W_cut','With_W2.5_cut'],\n",
    "                                 ['no $W$ cut','$W>2.5$ GeV/c$^2$'],\n",
    "                                 [0,1]):\n",
    "    plt.errorbar(x=np.array(z_arr[suffix])+sufidx*0.005, xerr=z_err_arr[suffix],\n",
    "                 y=R_arr[suffix], yerr=(R_errup_arr[suffix],R_errdw_arr[suffix]),\n",
    "                 marker='o',markeredgecolor='k',linestyle='None',\n",
    "                 label=sufname, capthick=2, capsize=2)\n",
    "\n",
    "set_axes(ax,'$z_\\\\pi$',\n",
    "             \"$\\\\sigma_{d(e,e'\\\\pi^+)}/\\\\sigma_{d(e,e'\\\\pi^-)}$ \",\n",
    "             do_add_grid=True, do_add_legend=True)\n",
    "ax.legend(loc='lower right',fontsize=24);"
   ]
  },
  {
   "cell_type": "code",
   "execution_count": null,
   "id": "dc93a269-9e73-423f-bc03-3781e10f9193",
   "metadata": {},
   "outputs": [],
   "source": [
    "z_arr['No_W_cut']"
   ]
  },
  {
   "cell_type": "code",
   "execution_count": null,
   "id": "5248e5ed-c34a-4a77-9749-2d807c81cf2d",
   "metadata": {},
   "outputs": [],
   "source": []
  }
 ],
 "metadata": {
  "kernelspec": {
   "display_name": "Python 3 (ipykernel)",
   "language": "python",
   "name": "python3"
  },
  "language_info": {
   "codemirror_mode": {
    "name": "ipython",
    "version": 3
   },
   "file_extension": ".py",
   "mimetype": "text/x-python",
   "name": "python",
   "nbconvert_exporter": "python",
   "pygments_lexer": "ipython3",
   "version": "3.9.13"
  }
 },
 "nbformat": 4,
 "nbformat_minor": 5
}
