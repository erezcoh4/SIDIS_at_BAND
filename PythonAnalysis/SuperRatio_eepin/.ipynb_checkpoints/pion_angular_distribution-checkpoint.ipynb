{
 "cells": [
  {
   "cell_type": "markdown",
   "id": "1e30185d-b4cf-4059-b94e-9171f6fe8c0e",
   "metadata": {
    "tags": []
   },
   "source": [
    "# Study pion angular distribution\n",
    "\n",
    "## We want to match acceptance for $\\pi^+$ and $\\pi^-$\n",
    "\n",
    "last edit Jan-13, 2021"
   ]
  },
  {
   "cell_type": "markdown",
   "id": "79a1f377-5bd5-43ba-8a4a-4cb54f37a6bc",
   "metadata": {
    "tags": []
   },
   "source": [
    "## definitions"
   ]
  },
  {
   "cell_type": "code",
   "execution_count": 1,
   "id": "004e7dab-d231-4947-8ab5-4256ea735722",
   "metadata": {},
   "outputs": [],
   "source": [
    "import numpy as np, pandas as pd, matplotlib.pyplot as plt, matplotlib as mpl\n",
    "import sys; sys.path.insert(0, '/Users/erezcohen/Desktop/Software/mySoftware/Python/'); \n",
    "from my_tools               import *; \n",
    "from plot_tools             import *;\n",
    "from my_data_analysis_tools import *;\n",
    "%config InlineBackend.figure_format = 'retina'\n",
    "plt.rcParams['mathtext.fontset'] = 'stix'\n",
    "plt.rcParams['font.family'] = 'STIXGeneral'\n",
    "r2d = 180./np.pi"
   ]
  },
  {
   "cell_type": "code",
   "execution_count": 2,
   "id": "7376bbe5-b5b9-4973-a1e4-ce788463c152",
   "metadata": {},
   "outputs": [],
   "source": [
    "main_data_path     = '/Users/erezcohen/Desktop/data/BAND/'\n",
    "e_e_pi_data_path   = main_data_path + 'SIDIS_skimming/'\n",
    "e_e_pi_n_data_path = main_data_path + 'merged_SIDIS_and_BAND_skimming/'"
   ]
  },
  {
   "cell_type": "code",
   "execution_count": 3,
   "id": "750240b4-c8e8-4bdb-94c2-7944b771c4a0",
   "metadata": {},
   "outputs": [],
   "source": [
    "pi_charge_names  = ['piplus'   ,'piminus'  ]\n",
    "pi_labels        = ['\\pi^{+}'  ,'\\pi^{-}'  ]\n",
    "pi_colors        = ['royalblue','salmon'   ]"
   ]
  },
  {
   "cell_type": "markdown",
   "id": "ebeb537e-ccd1-43b4-80b4-a213e43fed51",
   "metadata": {
    "tags": []
   },
   "source": [
    "## Auxiliary functions"
   ]
  },
  {
   "cell_type": "code",
   "execution_count": 5,
   "id": "6df52649-a7e4-47f3-a4a8-d7b46a1469f9",
   "metadata": {
    "tags": []
   },
   "outputs": [],
   "source": [
    "fontsize = 18"
   ]
  },
  {
   "cell_type": "markdown",
   "id": "d6ee37c0-4902-4ba0-b192-e3d0c87ea9fe",
   "metadata": {
    "tags": []
   },
   "source": [
    "# Accumulated data from 101 runs of 10.2 GeV"
   ]
  },
  {
   "cell_type": "markdown",
   "id": "dca3d14d-d00d-45b8-af69-e030476408f9",
   "metadata": {
    "tags": []
   },
   "source": [
    "## load data"
   ]
  },
  {
   "cell_type": "code",
   "execution_count": 10,
   "id": "6fcd789d-699b-4b39-8819-a7604b2f0fac",
   "metadata": {},
   "outputs": [
    {
     "data": {
      "text/plain": [
       "array([6420, 6421, 6422, 6426, 6428, 6429, 6430, 6431, 6432, 6433, 6437,\n",
       "       6442, 6443, 6444, 6445, 6449, 6450, 6451, 6452, 6453, 6454, 6455,\n",
       "       6456, 6457, 6458, 6461, 6462, 6463, 6464, 6465, 6466, 6467, 6468,\n",
       "       6470, 6472, 6473, 6474, 6475, 6476, 6479, 6481, 6482, 6483, 6484,\n",
       "       6485, 6486, 6488, 6489, 6491, 6492, 6498, 6499, 6501, 6502, 6510,\n",
       "       6511, 6512, 6513, 6514, 6516, 6522, 6523, 6524, 6525, 6546, 6547,\n",
       "       6548, 6549, 6550, 6557, 6558, 6559, 6560, 6562, 6563, 6565, 6566,\n",
       "       6567, 6568, 6569, 6570, 6571, 6572, 6573, 6576, 6577, 6578, 6581,\n",
       "       6582, 6585, 6586, 6587, 6589, 6590, 6591, 6592, 6593, 6595, 6596,\n",
       "       6597, 6598])"
      ]
     },
     "execution_count": 10,
     "metadata": {},
     "output_type": "execute_result"
    }
   ],
   "source": [
    "runs_filename = \"/Users/erezcohen/Desktop/Software/CLAS12/BAND/SIDIS_at_BAND/macros/runlists/good_runs_10-2.txt\"\n",
    "\n",
    "# Using readlines()\n",
    "runs_file     = open(runs_filename, 'r')\n",
    "run_fileLines = runs_file.readlines()\n",
    "runs = []\n",
    "for line in run_fileLines:#{\n",
    "    run = int(line.strip())\n",
    "    runs.append(run)\n",
    "runs = np.array(runs)\n",
    "runs"
   ]
  },
  {
   "cell_type": "code",
   "execution_count": 11,
   "id": "35f93551-8115-4212-b346-a245b7ffa45d",
   "metadata": {
    "tags": []
   },
   "outputs": [
    {
     "name": "stdout",
     "output_type": "stream",
     "text": [
      "loaded file 0/101 files\n",
      "loaded file 1/101 files\n",
      "loaded file 2/101 files\n",
      "loaded file 3/101 files\n",
      "loaded file 4/101 files\n",
      "loaded file 5/101 files\n",
      "loaded file 6/101 files\n",
      "loaded file 7/101 files\n",
      "loaded file 8/101 files\n",
      "loaded file 9/101 files\n",
      "loaded file 10/101 files\n",
      "loaded file 11/101 files\n",
      "loaded file 12/101 files\n",
      "loaded file 13/101 files\n",
      "loaded file 14/101 files\n",
      "loaded file 15/101 files\n",
      "loaded file 16/101 files\n",
      "loaded file 17/101 files\n",
      "loaded file 18/101 files\n",
      "loaded file 19/101 files\n",
      "loaded file 20/101 files\n",
      "loaded file 21/101 files\n",
      "loaded file 22/101 files\n",
      "loaded file 23/101 files\n",
      "loaded file 24/101 files\n",
      "loaded file 25/101 files\n",
      "loaded file 26/101 files\n",
      "loaded file 27/101 files\n",
      "loaded file 28/101 files\n",
      "loaded file 29/101 files\n",
      "loaded file 30/101 files\n",
      "loaded file 31/101 files\n",
      "loaded file 32/101 files\n",
      "loaded file 33/101 files\n",
      "loaded file 34/101 files\n",
      "loaded file 35/101 files\n",
      "loaded file 36/101 files\n",
      "loaded file 37/101 files\n",
      "loaded file 38/101 files\n",
      "loaded file 39/101 files\n",
      "loaded file 40/101 files\n",
      "loaded file 41/101 files\n",
      "loaded file 42/101 files\n",
      "loaded file 43/101 files\n",
      "loaded file 44/101 files\n",
      "loaded file 45/101 files\n",
      "loaded file 46/101 files\n",
      "loaded file 47/101 files\n",
      "loaded file 48/101 files\n",
      "loaded file 49/101 files\n",
      "loaded file 50/101 files\n",
      "loaded file 51/101 files\n",
      "loaded file 52/101 files\n",
      "loaded file 53/101 files\n",
      "loaded file 54/101 files\n",
      "loaded file 55/101 files\n",
      "loaded file 56/101 files\n",
      "loaded file 57/101 files\n",
      "loaded file 58/101 files\n",
      "loaded file 59/101 files\n",
      "loaded file 60/101 files\n",
      "loaded file 61/101 files\n",
      "loaded file 62/101 files\n",
      "loaded file 63/101 files\n",
      "loaded file 64/101 files\n",
      "loaded file 65/101 files\n",
      "loaded file 66/101 files\n",
      "loaded file 67/101 files\n",
      "loaded file 68/101 files\n",
      "loaded file 69/101 files\n",
      "loaded file 70/101 files\n",
      "loaded file 71/101 files\n",
      "loaded file 72/101 files\n",
      "loaded file 73/101 files\n",
      "loaded file 74/101 files\n",
      "loaded file 75/101 files\n",
      "loaded file 76/101 files\n",
      "loaded file 77/101 files\n",
      "loaded file 78/101 files\n",
      "loaded file 79/101 files\n",
      "loaded file 80/101 files\n",
      "loaded file 81/101 files\n",
      "loaded file 82/101 files\n",
      "loaded file 83/101 files\n",
      "loaded file 84/101 files\n",
      "loaded file 85/101 files\n",
      "loaded file 86/101 files\n",
      "loaded file 87/101 files\n",
      "loaded file 88/101 files\n",
      "loaded file 89/101 files\n",
      "loaded file 90/101 files\n",
      "loaded file 91/101 files\n",
      "loaded file 92/101 files\n",
      "loaded file 93/101 files\n",
      "loaded file 94/101 files\n",
      "loaded file 95/101 files\n",
      "loaded file 96/101 files\n",
      "loaded file 97/101 files\n",
      "loaded file 98/101 files\n",
      "loaded file 99/101 files\n",
      "loaded file 100/101 files\n"
     ]
    }
   ],
   "source": [
    "fdebug   = 1\n",
    "e_e_pi   = dict()\n",
    "e_e_pi_n = dict()\n",
    "for runnum,runIdx in zip(runs,range(len(runs))):\n",
    "    for pi_charge_name in pi_charge_names:\n",
    "        eepi   = pd.read_csv(e_e_pi_data_path \n",
    "                                           +'skimmed_SIDIS_inc_00%d_e_%s_selected_eepi_kinematics.csv'%(runnum,pi_charge_name))\n",
    "        eepin = pd.read_csv(e_e_pi_n_data_path \n",
    "                                           +'skimmed_SIDIS_and_BAND_inc_00%d_e_%s_n.csv'%(runnum,pi_charge_name))        \n",
    "\n",
    "        if fdebug>1: print('loaded',len(eepi),'(e,e',pi_charge_name,                  \n",
    "                           ') events and ',\n",
    "                           len(eepin),'(e,e',pi_charge_name,'n), events')    \n",
    "    \n",
    "        # large momentum neutrons ( Pn > 275 MeV/c)\n",
    "        eepin = eepin[eepin['n_P']>0.275]\n",
    "        if fdebug>2: print('retained',len(eepin),'(e,e',pi_charge_name,'n), events')            \n",
    "        \n",
    "        if runIdx==0:             \n",
    "            e_e_pi[pi_charge_name]   = eepi\n",
    "            e_e_pi_n[pi_charge_name] = eepin\n",
    "        else:\n",
    "            e_e_pi[pi_charge_name]   = pd.concat([e_e_pi[pi_charge_name],  eepi ])\n",
    "            e_e_pi_n[pi_charge_name] = pd.concat([e_e_pi_n[pi_charge_name],eepin])\n",
    "    print('loaded file %d/%d files'%(runIdx,len(runs)))"
   ]
  },
  {
   "cell_type": "markdown",
   "id": "a2d7f2f2-d849-4298-b37f-eefd4d4a67ff",
   "metadata": {
    "tags": []
   },
   "source": [
    "### Plot"
   ]
  },
  {
   "cell_type": "code",
   "execution_count": null,
   "id": "96984606-48e6-49bf-9f39-12d774204727",
   "metadata": {},
   "outputs": [],
   "source": [
    "theta_min,theta_max = 15,20"
   ]
  },
  {
   "cell_type": "code",
   "execution_count": null,
   "id": "dd2284b7-972e-4a3d-ae3a-012685f20b10",
   "metadata": {},
   "outputs": [],
   "source": [
    "Nmax = 1000000\n",
    "bins = (np.linspace(0,40,100),np.linspace(-180,180,100))\n",
    "pips = e_e_pi['piplus'][0:Nmax]\n",
    "pims = e_e_pi['piminus'][0:Nmax]\n",
    "\n",
    "fig = plt.figure(figsize=(14,6))\n",
    "ax = fig.add_subplot(1,2,1)\n",
    "plt.hist2d( pips['pi_Theta']*r2d, pips['pi_Phi']*r2d ,bins=bins, cmap='hot_r');\n",
    "plt.plot([theta_min,theta_min],[-180,180],'--b',[theta_max,theta_max],[-180,180],'--b')\n",
    "set_axes(ax,'$\\\\theta$ [deg.]','$\\phi$ [deg.]',title='$\\pi^+$', do_add_grid=True)\n",
    "\n",
    "\n",
    "ax = fig.add_subplot(1,2,2)\n",
    "plt.hist2d( pims['pi_Theta']*r2d, pims['pi_Phi']*r2d ,bins=bins, cmap='hot_r');\n",
    "plt.plot([theta_min,theta_min],[-180,180],'--b',[theta_max,theta_max],[-180,180],'--b')\n",
    "set_axes(ax,'$\\\\theta$ [deg.]','$\\phi$ [deg.]',title='$\\pi^-$', do_add_grid=True)\n",
    "# e_e_pi['piplus'][0:1]#['theta'][0:10]\n",
    "\n",
    "plt.tight_layout()"
   ]
  }
 ],
 "metadata": {
  "kernelspec": {
   "display_name": "Python 3 (ipykernel)",
   "language": "python",
   "name": "python3"
  },
  "language_info": {
   "codemirror_mode": {
    "name": "ipython",
    "version": 3
   },
   "file_extension": ".py",
   "mimetype": "text/x-python",
   "name": "python",
   "nbconvert_exporter": "python",
   "pygments_lexer": "ipython3",
   "version": "3.9.7"
  }
 },
 "nbformat": 4,
 "nbformat_minor": 5
}
