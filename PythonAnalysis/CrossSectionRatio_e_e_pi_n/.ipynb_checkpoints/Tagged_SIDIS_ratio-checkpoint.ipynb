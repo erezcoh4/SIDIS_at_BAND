{
 "cells": [
  {
   "cell_type": "markdown",
   "id": "1e30185d-b4cf-4059-b94e-9171f6fe8c0e",
   "metadata": {
    "tags": []
   },
   "source": [
    "# Tagged cross-section ratio of $(e,e'\\pi^+)/(e,e'\\pi^+)$ \n",
    "\n",
    "$$\\left(\\frac{\\sigma(e,e'\\pi^+)}{\\sigma(e,e'\\pi^+)}\\right)_{p_n>275 GeV/c}$$\n",
    "\n",
    "last edit July-19 2022"
   ]
  },
  {
   "cell_type": "markdown",
   "id": "79a1f377-5bd5-43ba-8a4a-4cb54f37a6bc",
   "metadata": {
    "tags": []
   },
   "source": [
    "## Imports and definitions"
   ]
  },
  {
   "cell_type": "code",
   "execution_count": 1,
   "id": "004e7dab-d231-4947-8ab5-4256ea735722",
   "metadata": {},
   "outputs": [
    {
     "ename": "ModuleNotFoundError",
     "evalue": "No module named 'event_selection_tools'",
     "output_type": "error",
     "traceback": [
      "\u001b[0;31m---------------------------------------------------------------------------\u001b[0m",
      "\u001b[0;31mModuleNotFoundError\u001b[0m                       Traceback (most recent call last)",
      "\u001b[0;32m/var/folders/42/n5_htl9n34j9wpgd5rqsnmv40000gn/T/ipykernel_18653/1939789015.py\u001b[0m in \u001b[0;36m<module>\u001b[0;34m\u001b[0m\n\u001b[1;32m      9\u001b[0m \u001b[0;32mfrom\u001b[0m \u001b[0macceptance_correction_tools\u001b[0m  \u001b[0;32mimport\u001b[0m \u001b[0;34m*\u001b[0m\u001b[0;34m;\u001b[0m\u001b[0;34m\u001b[0m\u001b[0;34m\u001b[0m\u001b[0m\n\u001b[1;32m     10\u001b[0m \u001b[0;32mfrom\u001b[0m \u001b[0msidis_analysis_tools\u001b[0m         \u001b[0;32mimport\u001b[0m \u001b[0;34m*\u001b[0m\u001b[0;34m;\u001b[0m\u001b[0;34m\u001b[0m\u001b[0;34m\u001b[0m\u001b[0m\n\u001b[0;32m---> 11\u001b[0;31m \u001b[0;32mfrom\u001b[0m \u001b[0mevent_selection_tools\u001b[0m        \u001b[0;32mimport\u001b[0m \u001b[0;34m*\u001b[0m\u001b[0;34m;\u001b[0m\u001b[0;34m\u001b[0m\u001b[0;34m\u001b[0m\u001b[0m\n\u001b[0m\u001b[1;32m     12\u001b[0m \u001b[0;34m\u001b[0m\u001b[0m\n",
      "\u001b[0;31mModuleNotFoundError\u001b[0m: No module named 'event_selection_tools'"
     ]
    }
   ],
   "source": [
    "import sys; \n",
    "software_path = '/Users/erezcohen/Desktop/Software/'\n",
    "sys.path.insert(0, software_path + '/mySoftware/Python/');\n",
    "sys.path.insert(0, software_path + '/CLAS12/BAND/SIDIS_at_BAND/PythonAnalysis/AcceptanceCorrections/');\n",
    "sys.path.insert(0, software_path + '/CLAS12/BAND/SIDIS_at_BAND/PythonAnalysis/python_auxiliary/');\n",
    "from my_tools                     import *; \n",
    "from plot_tools                   import *;\n",
    "from my_data_analysis_tools       import *;\n",
    "from acceptance_correction_tools  import *;\n",
    "from sidis_analysis_tools         import *;"
   ]
  },
  {
   "cell_type": "code",
   "execution_count": null,
   "id": "fa0eba07-fbbb-416a-ab6c-24f5ed0a2e3a",
   "metadata": {},
   "outputs": [],
   "source": [
    "%config InlineBackend.figure_format = 'retina'\n",
    "plt.rcParams['mathtext.fontset']    = 'stix'\n",
    "plt.rcParams['font.family']         = 'STIXGeneral'"
   ]
  },
  {
   "cell_type": "markdown",
   "id": "64686df2-853e-4af6-8a73-3909b0743e0b",
   "metadata": {
    "tags": []
   },
   "source": [
    "## (1) Load data"
   ]
  },
  {
   "cell_type": "code",
   "execution_count": null,
   "id": "6c39591f-b29f-4220-be0f-b3618ae2a560",
   "metadata": {},
   "outputs": [],
   "source": [
    "load_SIDIS_data( Nruns = 101,  do_e_e_pi=False, fdebug=1)"
   ]
  },
  {
   "cell_type": "markdown",
   "id": "76846275-06f0-410a-9620-374410566b19",
   "metadata": {
    "tags": []
   },
   "source": [
    "## (2) Apply selection cuts not previously imposed"
   ]
  },
  {
   "cell_type": "code",
   "execution_count": null,
   "id": "af8fd278-f2ae-47f4-9b40-95cddd6b2ed2",
   "metadata": {},
   "outputs": [],
   "source": [
    "_,e_e_pi_n_pass_cuts,_ = apply_further_selection_cuts_to_data(fdebug=2);"
   ]
  },
  {
   "cell_type": "markdown",
   "id": "36cd99bc-210a-4f0a-9e1e-213fe9819cfa",
   "metadata": {
    "tags": []
   },
   "source": [
    "## (3) Extract cross-section ratio as a function of Bjorken $x$\n",
    "For a moving proton $x'$, defined as\n",
    "$ x' = Q^2/((W')^2 - m_N^2 + Q^2)$"
   ]
  },
  {
   "cell_type": "code",
   "execution_count": null,
   "id": "efd61cf3-ee4f-4d75-a037-e27bb0591ac6",
   "metadata": {},
   "outputs": [],
   "source": [
    "z_bins   = np.array([0.35,0.45,0.65])\n",
    "z_widths = np.array([0.05,0.05,0.15])\n",
    "x_bins   = np.array([0.2, 0.32, 0.44, 0.56 ])\n",
    "x        = (x_bins[1:] + x_bins[:-1])/2\n",
    "x_err    = (x_bins[1:] - x_bins[:-1])/2\n",
    "print('x bins:',x_bins)\n",
    "print('z bins:',z_bins)\n",
    "for z_bin,z_width in zip(z_bins,z_widths):\n",
    "    z_min,z_max = z_bin-z_width, z_bin+z_width\n",
    "    print('%.3f < z < %.3f:'%(z_min,z_max))"
   ]
  },
  {
   "cell_type": "code",
   "execution_count": null,
   "id": "36949ea3-6869-48bf-85ce-b6c8ae20c857",
   "metadata": {},
   "outputs": [],
   "source": [
    "var_label = \"standing proton x\"\n",
    "# var_label = \"moving proton x\"\n",
    "if   var_label == \"standing proton x\":\n",
    "    var    = 'xB'\n",
    "    xlabel = \"Bjorken $x$\"\n",
    "    \n",
    "elif var_label == \"moving proton x\":\n",
    "    var    = 'xPrime2'\n",
    "    xlabel = \"$x' = Q^2/(W'^2 - m_N^2 + Q^2)$\"    "
   ]
  },
  {
   "cell_type": "markdown",
   "id": "9ce9f05e-ee5d-4a0c-b866-002cd77ca086",
   "metadata": {
    "tags": []
   },
   "source": [
    "# (4) Extract tabular data and save results to file# (4) Extract tabular data and save results to file"
   ]
  },
  {
   "cell_type": "code",
   "execution_count": null,
   "id": "4da6155f-cd63-459c-8f78-d19e645347c1",
   "metadata": {},
   "outputs": [],
   "source": []
  },
  {
   "cell_type": "code",
   "execution_count": null,
   "id": "2c141d31-cb0a-4ff1-918b-4d88b337b183",
   "metadata": {},
   "outputs": [],
   "source": [
    "extract_SIDIS_ratio(df_dict  = e_e_pi_n_pass_cuts,\n",
    "                           x_var    = var ,                           \n",
    "                           x_bins   = x_bins,                           \n",
    "                           z_bins   = z_bins,                           \n",
    "                           z_widths = z_widths,                           \n",
    "                           fdebug   = 0,\n",
    "                           prefix   = 'Tagged_SIDIS_ratio_',                           \n",
    "                           suffix   = '')"
   ]
  },
  {
   "cell_type": "markdown",
   "id": "ceb673a5-3be1-4ab5-beae-6aefb9c1ecda",
   "metadata": {},
   "source": [
    "## load results and plot them"
   ]
  },
  {
   "cell_type": "code",
   "execution_count": null,
   "id": "7cbc55e5-23a6-4bd9-9ea7-70bc881f1e2a",
   "metadata": {},
   "outputs": [],
   "source": [
    "prefix = 'Tagged_SIDIS_ratio_'\n",
    "suffix = ''\n",
    "SIDIS_results = load_SIDIS_ratio(prefix = prefix, suffix = suffix, doPlotResults=True)"
   ]
  },
  {
   "cell_type": "code",
   "execution_count": null,
   "id": "eb8a56b9-1b9f-4687-8411-85726688827f",
   "metadata": {},
   "outputs": [],
   "source": []
  },
  {
   "cell_type": "markdown",
   "id": "95e9fcd8-3e5d-41ad-8abf-b3e4c301d6f9",
   "metadata": {
    "jp-MarkdownHeadingCollapsed": true,
    "tags": []
   },
   "source": [
    "# (5) Extract modified results\n",
    "With no acceptance matching cut in $p-\\theta$ plane"
   ]
  },
  {
   "cell_type": "code",
   "execution_count": null,
   "id": "f60121b2-9bb1-43fe-8358-27e78999758c",
   "metadata": {},
   "outputs": [],
   "source": [
    "_,e_e_pi_n_pass_cuts_no_p_theta_cut,_ = apply_further_selection_cuts_to_data(fdebug=2,\n",
    "                                                                           NeventsMax=-1, \n",
    "                                                                           doAcceptanceMatchingCut=False);"
   ]
  },
  {
   "cell_type": "code",
   "execution_count": null,
   "id": "e3de655e-8083-45d9-8e17-55e37ce1a70e",
   "metadata": {},
   "outputs": [],
   "source": [
    "save_SIDIS_ratio_DataFrame(df_dict  = e_e_pi_n_pass_cuts_no_p_theta_cut,                                \n",
    "                           x_var    = var ,                           \n",
    "                           x_bins   = x_bins,                           \n",
    "                           z_bins   = z_bins,                           \n",
    "                           z_widths = z_widths,                           \n",
    "                           fdebug   = 0,\n",
    "                           prefix   = 'Tagged_SIDIS_ratio_',                           \n",
    "                           suffix   = '_No_AcceptanceMatchingCut')"
   ]
  },
  {
   "cell_type": "code",
   "execution_count": null,
   "id": "30e3112d-8be0-49c6-a0de-e9200f1cbea0",
   "metadata": {},
   "outputs": [],
   "source": [
    "prefix = 'Tagged_SIDIS_ratio_'\n",
    "suffix = '_No_AcceptanceMatchingCut'\n",
    "Tagged_SIDIS_results = load_SIDIS_ratio_DataFrame(z_bins=z_bins,z_widths=z_widths,\n",
    "                                                  prefix = prefix, suffix = suffix, doPlotResults=True)"
   ]
  },
  {
   "cell_type": "markdown",
   "id": "cb8aa5b7-7bb5-41a2-a62c-1a2262a12f40",
   "metadata": {
    "tags": []
   },
   "source": [
    "# arxiv"
   ]
  },
  {
   "cell_type": "code",
   "execution_count": null,
   "id": "bcb7c30a-52c7-42b2-abf2-39aca280e515",
   "metadata": {},
   "outputs": [],
   "source": [
    "\n",
    "# Rpips2pims_n, Rpips2pims_n_errup, Rpips2pims_n_errdw = dict(), dict(), dict()\n",
    "# Y, dY = dict(),dict()\n",
    "# for z_bin,z_width in zip(z_bins,z_widths):\n",
    "#     z_min,z_max = z_bin-z_width,z_bin+z_width\n",
    "#     (Rpips2pims_n[z_bin],\n",
    "#      Rpips2pims_n_errup[z_bin], \n",
    "#      Rpips2pims_n_errdw[z_bin],_,_) = compute_ratio_pips_to_pims(df_dict=e_e_pi_n  , \n",
    "#                                                              var=var, \n",
    "#                                                              bins=x_bins, \n",
    "#                                                              z_min=z_min,z_max=z_max)\n",
    "\n",
    "#     # fit to a constant \n",
    "#     y    = Rpips2pims_n[z_bin]\n",
    "#     y_err= (Rpips2pims_n_errup[z_bin],Rpips2pims_n_errdw[z_bin])\n",
    "#     p,cov = np.polyfit(x,y,deg=0,cov=True)\n",
    "#     Y[z_bin],dY[z_bin] = p[0],cov[0,0]\n",
    "\n",
    "#     # print(z_bin,Rpips2pims_n[z_bin],Rpips2pims_n_errup[z_bin],Rpips2pims_n_errdw[z_bin])\n",
    "# print('done') "
   ]
  },
  {
   "cell_type": "code",
   "execution_count": null,
   "id": "bdc890c1-f20c-4a0b-9c7c-93145197e092",
   "metadata": {},
   "outputs": [],
   "source": [
    "# fig = plt.figure(figsize=(9,6))\n",
    "# ax  = fig.add_subplot(1,1,1)\n",
    "# for z_bin,z_width in zip(z_bins,z_widths):\n",
    "#     y    = Rpips2pims_n[z_bin]\n",
    "#     y_err= (Rpips2pims_n_errup[z_bin],Rpips2pims_n_errdw[z_bin])\n",
    "#     x_fit = np.linspace(np.min(x),np.max(x),100)\n",
    "#     y_dw = (Y[z_bin]-dY[z_bin])*np.ones(len(x_fit))\n",
    "#     y_up = (Y[z_bin]+dY[z_bin])*np.ones(len(x_fit))\n",
    "\n",
    "#     # plot\n",
    "#     l=ax.errorbar(x=x, xerr=x_err,  y=y, yerr=y_err,\n",
    "#                 marker='o',markeredgecolor='k',\n",
    "#                 label='$z=%.2f\\pm%.2f, (\\pi^+/\\pi^-)=%.1f\\pm%.1f$'%(z_bin,z_width,Y[z_bin],dY[z_bin]))\n",
    "    \n",
    "#     ax.fill_between( x_fit, y_dw, y_up, color=l[0].get_color(), alpha=0.1)\n",
    "# set_axes(ax,xlabel,\"$N(e,e'\\pi^+n)/N(e,e'\\pi^-n)$\",\n",
    "#          title=\"$\\pi^+/\\pi^-$ ratio as a function of $x'$ with a tagged neutron\",\n",
    "#          do_add_grid=True, do_add_legend=True, fontsize=18,\n",
    "#         );"
   ]
  }
 ],
 "metadata": {
  "kernelspec": {
   "display_name": "Python 3 (ipykernel)",
   "language": "python",
   "name": "python3"
  },
  "language_info": {
   "codemirror_mode": {
    "name": "ipython",
    "version": 3
   },
   "file_extension": ".py",
   "mimetype": "text/x-python",
   "name": "python",
   "nbconvert_exporter": "python",
   "pygments_lexer": "ipython3",
   "version": "3.9.10"
  }
 },
 "nbformat": 4,
 "nbformat_minor": 5
}
