{
 "cells": [
  {
   "cell_type": "markdown",
   "id": "1e30185d-b4cf-4059-b94e-9171f6fe8c0e",
   "metadata": {
    "tags": []
   },
   "source": [
    "# Tagged cross-section ratio of $(e,e'\\pi^+)/(e,e'\\pi^+)$ \n",
    "\n",
    "We are studying the cross-section super-ratio $\\left(\\frac{\\sigma(e,e'\\pi^+)}{\\sigma(e,e'\\pi^+)}\\right)_{p_n>275 GeV/c}$\n",
    "\n",
    "last edit Aug-29 2022"
   ]
  },
  {
   "cell_type": "markdown",
   "id": "79a1f377-5bd5-43ba-8a4a-4cb54f37a6bc",
   "metadata": {
    "jp-MarkdownHeadingCollapsed": true,
    "tags": []
   },
   "source": [
    "## Imports and definitions"
   ]
  },
  {
   "cell_type": "code",
   "execution_count": 1,
   "id": "004e7dab-d231-4947-8ab5-4256ea735722",
   "metadata": {},
   "outputs": [],
   "source": [
    "import sys; \n",
    "software_path = '/Users/erezcohen/Desktop/Software/'\n",
    "sys.path.insert(0, software_path + '/mySoftware/Python/');\n",
    "sys.path.insert(0, software_path + '/CLAS12/BAND/SIDIS_at_BAND/PythonAnalysis/AcceptanceCorrections/');\n",
    "sys.path.insert(0, software_path + '/CLAS12/BAND/SIDIS_at_BAND/PythonAnalysis/python_auxiliary/');\n",
    "from my_tools                     import *; \n",
    "from plot_tools                   import *;\n",
    "from my_data_analysis_tools       import *;\n",
    "from acceptance_correction_tools  import *;\n",
    "from sidis_analysis_tools         import *;"
   ]
  },
  {
   "cell_type": "code",
   "execution_count": 2,
   "id": "fa0eba07-fbbb-416a-ab6c-24f5ed0a2e3a",
   "metadata": {},
   "outputs": [],
   "source": [
    "%config InlineBackend.figure_format = 'retina'\n",
    "plt.rcParams['mathtext.fontset']    = 'stix'\n",
    "plt.rcParams['font.family']         = 'STIXGeneral'"
   ]
  },
  {
   "cell_type": "markdown",
   "id": "64686df2-853e-4af6-8a73-3909b0743e0b",
   "metadata": {
    "jp-MarkdownHeadingCollapsed": true,
    "tags": []
   },
   "source": [
    "## (1) Load data"
   ]
  },
  {
   "cell_type": "code",
   "execution_count": 3,
   "id": "6c39591f-b29f-4220-be0f-b3618ae2a560",
   "metadata": {},
   "outputs": [
    {
     "name": "stdout",
     "output_type": "stream",
     "text": [
      "Done loading files.\n",
      "\n",
      "Total statistics:\n",
      "3820  d(e,e'π+n) events\n",
      "1231  d(e,e'π-n) events\n"
     ]
    }
   ],
   "source": [
    "_,e_e_pi_n,_ = load_SIDIS_data( Nruns = 101,  do_e_e_pi=False, do_e_e_pi_FreeP=False, fdebug=1)"
   ]
  },
  {
   "cell_type": "markdown",
   "id": "76846275-06f0-410a-9620-374410566b19",
   "metadata": {
    "jp-MarkdownHeadingCollapsed": true,
    "tags": []
   },
   "source": [
    "## (2) Apply selection cuts not previously imposed"
   ]
  },
  {
   "cell_type": "code",
   "execution_count": 4,
   "id": "af8fd278-f2ae-47f4-9b40-95cddd6b2ed2",
   "metadata": {},
   "outputs": [
    {
     "name": "stdout",
     "output_type": "stream",
     "text": [
      "Applying selection cuts not previously imposed\n",
      "(2) Applying cuts to d(e,e'πn) data\n",
      "Apply a cut on the minimal neutron momentum p > 0.275 GeV/c\n",
      "Apply a π+/π- acceptance matching cut on the in p-theta plane\n",
      "Applying p-theta on cut for piplus on 2746 events\n",
      "478 in sector 1\n",
      "451 in sector 2\n",
      "465 in sector 3\n",
      "448 in sector 4\n",
      "461 in sector 5\n",
      "442 in sector 6\n",
      "Applying p-theta on cut for piminus on 842 events\n",
      "135 in sector 1\n",
      "141 in sector 2\n",
      "165 in sector 3\n",
      "143 in sector 4\n",
      "122 in sector 5\n",
      "136 in sector 6\n",
      "Apply a cut on the missing mass of a (e,e'π) reaction: 1.3<Mx<5.0 GeV/c2\n",
      "(e,e π+ )\n",
      "3820 events after original cut (100.0 %)\n",
      "1733 events after p-theta cut (45.4 %)\n",
      "1680 events after Kinematical cut (44.0 %)\n",
      "(e,e π- )\n",
      "1231 events after original cut (100.0 %)\n",
      "811 events after p-theta cut (65.9 %)\n",
      "793 events after Kinematical cut (64.4 %)\n",
      " \n",
      "Done applying event-selection cuts\n"
     ]
    }
   ],
   "source": [
    "_,e_e_pi_n_pass_cuts,_,_ = apply_further_selection_cuts_to_data(fdebug=2);"
   ]
  },
  {
   "cell_type": "markdown",
   "id": "36cd99bc-210a-4f0a-9e1e-213fe9819cfa",
   "metadata": {
    "jp-MarkdownHeadingCollapsed": true,
    "tags": []
   },
   "source": [
    "## (3) Define binning in $x_B$ and $z_\\pi$\n",
    "For a moving proton $x'$, defined as\n",
    "$ x' = Q^2/((W')^2 - m_N^2 + Q^2)$"
   ]
  },
  {
   "cell_type": "code",
   "execution_count": 5,
   "id": "efd61cf3-ee4f-4d75-a037-e27bb0591ac6",
   "metadata": {},
   "outputs": [
    {
     "name": "stdout",
     "output_type": "stream",
     "text": [
      "x bins: [0.2  0.32 0.44 0.56]\n",
      "z bins: [0.35 0.45 0.65]\n",
      "0.300 < z < 0.400:\n",
      "0.400 < z < 0.500:\n",
      "0.500 < z < 0.800:\n"
     ]
    }
   ],
   "source": [
    "z_bins   = np.array([0.35,0.45,0.65])\n",
    "z_widths = np.array([0.05,0.05,0.15])\n",
    "x_bins   = np.array([0.2, 0.32, 0.44, 0.56 ])\n",
    "x        = (x_bins[1:] + x_bins[:-1])/2\n",
    "x_err    = (x_bins[1:] - x_bins[:-1])/2\n",
    "print('x bins:',x_bins)\n",
    "print('z bins:',z_bins)\n",
    "for z_bin,z_width in zip(z_bins,z_widths):\n",
    "    z_min,z_max = z_bin-z_width, z_bin+z_width\n",
    "    print('%.3f < z < %.3f:'%(z_min,z_max))"
   ]
  },
  {
   "cell_type": "code",
   "execution_count": 6,
   "id": "36949ea3-6869-48bf-85ce-b6c8ae20c857",
   "metadata": {},
   "outputs": [],
   "source": [
    "var_label = \"standing proton x\"\n",
    "# var_label = \"moving proton x\"\n",
    "if   var_label == \"standing proton x\":\n",
    "    var    = 'xB'\n",
    "    xlabel = \"Bjorken $x$\"\n",
    "    \n",
    "elif var_label == \"moving proton x\":\n",
    "    var    = 'xPrime2'\n",
    "    xlabel = \"$x' = Q^2/(W'^2 - m_N^2 + Q^2)$\"    "
   ]
  },
  {
   "cell_type": "markdown",
   "id": "9ce9f05e-ee5d-4a0c-b866-002cd77ca086",
   "metadata": {
    "tags": []
   },
   "source": [
    "# (4) Extract tabular data and save results to a csv file"
   ]
  },
  {
   "cell_type": "code",
   "execution_count": null,
   "id": "87382760-1f79-491a-9089-21932dac9eff",
   "metadata": {},
   "outputs": [],
   "source": [
    "\n",
    "# ----------------------- #\n",
    "def extract_SIDIS_ratio(df_dict  = None,\n",
    "                        specific_run_number=None,\n",
    "                        x_var    = 'xB' ,\n",
    "                        x_bins   = np.linspace(0.2,0.6,11),\n",
    "                        z_bins   = np.arange(0.3,0.8,0.1),\n",
    "                        z_widths = 0.01*np.ones(5),\n",
    "                        data_path= '/Users/erezcohen/Desktop/data/BAND/Results/',\n",
    "                        fdebug   = 0,\n",
    "                        prefix   = 'Untagged_SIDIS_ratio_',\n",
    "                        suffix   = '',\n",
    "                        M_x_min  = 0,\n",
    "                        M_x_max  = np.inf,\n",
    "                        W_min    = 0,\n",
    "                        W_max    = np.inf,\n",
    "                        Mx_d_min = 0,\n",
    "                        weight_option = 'beam-charge',):\n",
    "    '''\n",
    "    Extract SIDIS results,\n",
    "    the number of d(e,e'π+) and d(e,e'π-) events,\n",
    "    and save them to a CSV file\n",
    "    \n",
    "    last update Sep-30, 2022\n",
    "    \n",
    "    \n",
    "    input\n",
    "    ---------\n",
    "\n",
    "    \n",
    "    '''\n",
    "    \n",
    "    x        = (x_bins[1:] + x_bins[:-1])/2\n",
    "    x_err    = (x_bins[1:] - x_bins[:-1])/2\n",
    "    results_data_path = data_path + '/' + 'Results' + '/'\n",
    "    for z_bin,z_width in zip(z_bins,z_widths):\n",
    "        z_min,z_max = z_bin-z_width, z_bin+z_width\n",
    "        \n",
    "        (R,\n",
    "         R_err_up,\n",
    "         R_err_dw,\n",
    "         N_pips,\n",
    "         N_pims,\n",
    "         Zavg_pips,\n",
    "         Zavg_pims,\n",
    "         N_pips_err, \n",
    "         N_pims_err) = compute_ratio_pips_to_pims(df_dict = df_dict ,\n",
    "                                                 specific_run_number=specific_run_number,\n",
    "                                                 var     = x_var,\n",
    "                                                 bins    = x_bins,\n",
    "                                                 z_min   = z_min,\n",
    "                                                 z_max   = z_max,\n",
    "                                                 M_x_min = M_x_min,\n",
    "                                                 M_x_max = M_x_max,\n",
    "                                                 W_min=W_min,\n",
    "                                                 W_max=W_max,\n",
    "                                                 Mx_d_min=Mx_d_min,\n",
    "                                                       weight_option=weight_option,\n",
    "                                                 fdebug=fdebug)\n",
    "\n",
    "        df_to_save = pd.DataFrame({\"$x_B$\":x,\n",
    "                                   \"$\\Delta x_B$\":x_err,\n",
    "                                   '$N(\\pi_{+})$':N_pips,\n",
    "                                   '$N(\\pi_{-})$':N_pims,\n",
    "                                   '$\\Delta N(\\pi_{+})$':N_pips_err,\n",
    "                                   '$\\Delta N(\\pi_{-})$':N_pims_err,\n",
    "                                   '$R$':R,\n",
    "                                   '$\\Delta R_{+}$':R_err_up,\n",
    "                                   '$\\Delta R_{-}$':R_err_dw})\n",
    "        \n",
    "        filelabel = 'Zmin%.3f_Zmean_pips%.3f_pims%.3f_Zmax%.3f'%(z_min,Zavg_pips,Zavg_pims,z_max)\n",
    "        filename  =  data_path + prefix + filelabel + suffix  + '.csv'\n",
    "        df_to_save.to_csv(filename)\n",
    "        if fdebug:\n",
    "            print('saved',filename)\n",
    "            if fdebug>1:\n",
    "                print('$z=%.3f\\pm%.3f$'%(z_bin,z_width))\n",
    "                print(filename)\n",
    "                if fdebug>2: display(df_to_save)\n",
    "# ----------------------- #"
   ]
  },
  {
   "cell_type": "code",
   "execution_count": null,
   "id": "e7f75ebe-2261-4409-a637-79689734259f",
   "metadata": {},
   "outputs": [],
   "source": [
    "\n",
    "\n",
    "# ----------------------- #\n",
    "def compute_ratio_pips_to_pims(df_dict,\n",
    "                               specific_run_number=None,\n",
    "                               var='xB',\n",
    "                               bins=np.linspace(0,1,10),\n",
    "                               weight_option = 'beam-charge',\n",
    "                               z_min=0,   z_max=1,\n",
    "                               M_x_min=0, M_x_max=np.inf,\n",
    "                               W_min=0,   W_max=np.inf,\n",
    "                               Mx_d_min=0, fdebug=0 ):#{\n",
    "    '''\n",
    "    last edit Sep-30, 2022\n",
    "    \n",
    "    [R_pips_to_pims, R_pips_to_pims_errup, R_pips_to_pims_errdw,\n",
    "     N_pips, N_pims,\n",
    "     Zavg_pips, Zavg_pims,\n",
    "     N_pips_err, N_pims_err] = compute_ratio_pips_to_pims(df_dict,\n",
    "                               specific_run_number=None,\n",
    "                               var='xB',\n",
    "                               bins=np.linspace(0,1,10),\n",
    "                               weight_option = 'beam-charge',\n",
    "                               z_min=0,   z_max=1,\n",
    "                               M_x_min=0, M_x_max=np.inf,\n",
    "                               W_min=0,   W_max=np.inf,\n",
    "                               Mx_d_min=0, fdebug=0 )\n",
    "    \n",
    "    \n",
    "    input:\n",
    "    -------\n",
    "    M_x_min               float         minimal M_x\n",
    "    M_x_max               float         maximal M_x\n",
    "    \n",
    "    \n",
    "    return:\n",
    "    -------\n",
    "    R_pips_to_pims                np.array()   number of π+ events in each x-bin / number of π-\n",
    "    R_pips_to_pims_errup          np.array()   err-up in number of π+ events in each x-bin / number of π-\n",
    "    R_pips_to_pims_errdw          np.array()   err-dw in number of π+ events in each x-bin / number of π-\n",
    "\n",
    "    R_normed_pips_to_pims         np.array()   R_pips_to_pims normalized by beam-charge\n",
    "    R_normed_pips_to_pims_errup   np.array()   R_pips_to_pims_errup normalized by beam-charge\n",
    "    R_normed_pips_to_pims_errdw   np.array()   R_pips_to_pims_errdw normalized by beam-charge\n",
    "\n",
    "    N_pips                        np.array()   number of π+ events in each x-bin\n",
    "    N_pims                        np.array()   number of π- events in each x-bin\n",
    "    Zavg_pips                     float        mean z-value in the range z_min < z < z_max for π+\n",
    "    Zavg_pims                     float        mean z-value in the range z_min < z < z_max for π-\n",
    "    N_pips_err                    np.array()   uncertainty number of π+ events in each x-bin\n",
    "    N_pims_err                    np.array()   uncertainty in the number of π- events in each x-bin\n",
    "\n",
    "        \n",
    "    comments:\n",
    "    -------    \n",
    "    weight_option: None, 'beam-charge', 'Acc. correction as f(phi)'\n",
    "    if weight is 'beam-charge', the results are given in number of events per nC\n",
    "    \n",
    "    '''\n",
    "    # z_min,z_max are z limits on the pion outgoing momentum\n",
    "    df_pips = df_dict['piplus']\n",
    "    df_pims = df_dict['piminus']\n",
    "    \n",
    "    # cut on z\n",
    "    df_pips = df_pips[  (z_min   < df_pips.Zpi) & (df_pips.Zpi < z_max  )\n",
    "                      & (W_min   < df_pips.W  ) & (df_pips.W   < W_max  )   ]\n",
    "    \n",
    "    if 0 < M_x_min or M_x_max < np.inf:\n",
    "        df_pips = df_pips[ (M_x_min < df_pips.M_x) & (df_pips.M_x < M_x_max) ]\n",
    "        \n",
    "    if 0 < Mx_d_min:\n",
    "        df_pips = df_pips[ Mx_d_min < df_pips.M_x_d ]\n",
    "        \n",
    "    if specific_run_number is not None:\n",
    "        if fdebug>1:  print('df_pips: before run %d filter: %d events'%(specific_run_number,len(df_pips)))\n",
    "        df_pips = df_pips[df_pips.runnum == specific_run_number]\n",
    "        if fdebug>1:  print('after run %d filter: %d events'%(specific_run_number,len(df_pips)))\n",
    "                           \n",
    "    Zavg_pips = np.mean( np.array(df_pips.Zpi)  )\n",
    "    \n",
    "    df_pims = df_pims[  (z_min   < df_pims.Zpi) & (df_pims.Zpi < z_max  )\n",
    "                      & (W_min   < df_pims.W  ) & (df_pims.W   < W_max  )   ]\n",
    "    \n",
    "    if 0 < M_x_min or M_x_max < np.inf:\n",
    "        df_pims = df_pims[ (M_x_min < df_pims.M_x) & (df_pims.M_x < M_x_max) ]\n",
    "    \n",
    "    if 0 < Mx_d_min:\n",
    "        df_pims = df_pims[Mx_d_min < df_pims.M_x_d]\n",
    "        \n",
    "    if specific_run_number is not None:\n",
    "        df_pims = df_pims[df_pims.runnum == specific_run_number]\n",
    "\n",
    "    Zavg_pims = np.mean( np.array(df_pims.Zpi)  )\n",
    "\n",
    "\n",
    "    pips = df_pips[var]\n",
    "    pims = df_pims[var]\n",
    "    if weight_option == 'Acc. correction as f(phi)':#{\n",
    "        phi_pips = np.array( df_pips.pi_Phi )*r2d\n",
    "        phi_pims = np.array( df_pims.pi_Phi )*r2d\n",
    "    elif weight_option == 'beam-charge':#{\n",
    "        w_pips = np.array( df_pips.weight )\n",
    "        w_pims = np.array( df_pims.weight )\n",
    "    #}\n",
    "        \n",
    "    R_pips_to_pims, R_pips_to_pims_err = [],[]\n",
    "    N_pips, N_pims                     = [],[]\n",
    "    N_pips_err, N_pips_err             = [],[]\n",
    "    for x_min,x_max in zip(bins[:-1],bins[1:]):#{\n",
    "\n",
    "        if weight_option == 'Acc. correction as f(phi)':#{\n",
    "            # each event is weighted by the acceptance correction weight\n",
    "            phi_pips_in_bin = phi_pips[ (x_min < pips) & (pips < x_max) ]\n",
    "            W_pips_in_bin   = [ Compute_acceptance_correction_weight( 'piplus' , phi ) for phi in phi_pips_in_bin ]\n",
    "            Npips_in_bin    = np.sum( W_pips_in_bin )\n",
    "            \n",
    "            phi_pims_in_bin = phi_pims[ (x_min < pims) & (pims < x_max) ]\n",
    "            W_pims_in_bin   = [ Compute_acceptance_correction_weight( 'piminus', phi ) for phi in phi_pims_in_bin ]\n",
    "            Npims_in_bin    = np.sum( W_pims_in_bin )\n",
    "            \n",
    "        elif weight_option == 'beam-charge':#{\n",
    "            \n",
    "            # weighted by 1/beam-charge\n",
    "            W_pips_in_bin   = w_pips[ (x_min < pips) & (pips < x_max) ]\n",
    "            Npips_in_bin    = np.sum( W_pips_in_bin )\n",
    "            Npips_in_bin_err= np.sqrt(np.sum( np.square(W_pips_in_bin )))\n",
    "            \n",
    "            W_pims_in_bin   = w_pims[ (x_min < pims) & (pims < x_max) ]\n",
    "            Npims_in_bin    = np.sum( W_pims_in_bin )\n",
    "            Npims_in_bin_err= np.sqrt(np.sum( np.square(W_pims_in_bin )))\n",
    "            \n",
    "            cutoff = np.min(weight_per_run)\n",
    "            R     = Npips_in_bin / np.max([Npims_in_bin,cutoff])\n",
    "            R_err = R * np.sqrt( np.square(Npips_in_bin_err/np.max([Npips_in_bin,cutoff]))\n",
    "                                + np.square(Npims_in_bin_err/np.max([Npims_in_bin,cutoff]) ) )\n",
    "\n",
    "           \n",
    "        else:\n",
    "            # no weight, no acceptance correction\n",
    "            pips_in_bin      = pips[ (x_min < pips) & (pips < x_max) ]\n",
    "            Npips_in_bin     = len(pips_in_bin)\n",
    "            Npips_in_bin_err = sqrt(len(pips_in_bin))\n",
    "            \n",
    "            pims_in_bin      = pims[ (x_min < pims) & (pims < x_max) ]\n",
    "            Npims_in_bin     = len(pims_in_bin)\n",
    "            Npims_in_bin_err = sqrt(len(pims_in_bin))\n",
    "\n",
    "            \n",
    "            R     = Npips_in_bin / np.max([Npims_in_bin,1])\n",
    "            R_err = R * np.sqrt( 1./np.max([1,Npips_in_bin]) + 1./np.max([1,Npims_in_bin]) )\n",
    "        #}\n",
    "\n",
    "\n",
    "        N_pips            .append(Npips_in_bin)\n",
    "        N_pips_err        .append(Npips_in_bin_err)\n",
    "\n",
    "        N_pims            .append(Npims_in_bin)\n",
    "        N_pims_err        .append(Npims_in_bin_err)\n",
    "\n",
    "        R_pips_to_pims    .append(R)\n",
    "        R_pips_to_pims_err.append(R_err)\n",
    "    #}\n",
    "    R_pips_to_pims_errup,R_pips_to_pims_errdw = get_err_up_dw(R_pips_to_pims, R_pips_to_pims_err)\n",
    "    \n",
    "    return [np.array(R_pips_to_pims),\n",
    "            np.array(R_pips_to_pims_errup),\n",
    "            np.array(R_pips_to_pims_errdw),\n",
    "            np.array(N_pips),\n",
    "            np.array(N_pims),\n",
    "            Zavg_pips,\n",
    "            Zavg_pims,\n",
    "            np.array(N_pips_err),\n",
    "            np.array(N_pims_err)]\n",
    "#}\n",
    "# ----------------------- #\n",
    "\n",
    "\n"
   ]
  },
  {
   "cell_type": "code",
   "execution_count": null,
   "id": "739e0fb1-bc88-4912-851f-4c114ab4e8ac",
   "metadata": {},
   "outputs": [],
   "source": []
  },
  {
   "cell_type": "code",
   "execution_count": 7,
   "id": "2c141d31-cb0a-4ff1-918b-4d88b337b183",
   "metadata": {},
   "outputs": [
    {
     "name": "stderr",
     "output_type": "stream",
     "text": [
      "/Users/erezcohen/Desktop/Software//CLAS12/BAND/SIDIS_at_BAND/PythonAnalysis/python_auxiliary/sidis_analysis_tools.py:309: RuntimeWarning: invalid value encountered in double_scalars\n",
      "  R     = Npips_in_bin / np.max([Npims_in_bin,cutoff])\n",
      "/Users/erezcohen/Desktop/Software//CLAS12/BAND/SIDIS_at_BAND/PythonAnalysis/python_auxiliary/sidis_analysis_tools.py:310: RuntimeWarning: invalid value encountered in double_scalars\n",
      "  R_err = R * np.sqrt( np.square(Npips_in_bin_err/np.max([Npips_in_bin,cutoff]))\n",
      "/Users/erezcohen/Desktop/Software//CLAS12/BAND/SIDIS_at_BAND/PythonAnalysis/python_auxiliary/sidis_analysis_tools.py:311: RuntimeWarning: invalid value encountered in double_scalars\n",
      "  + np.square(Npims_in_bin_err/np.max([Npims_in_bin,cutoff]) ) )\n",
      "/Users/erezcohen/Desktop/Software//CLAS12/BAND/SIDIS_at_BAND/PythonAnalysis/python_auxiliary/sidis_analysis_tools.py:309: RuntimeWarning: divide by zero encountered in double_scalars\n",
      "  R     = Npips_in_bin / np.max([Npims_in_bin,cutoff])\n"
     ]
    }
   ],
   "source": [
    "extract_SIDIS_ratio(df_dict  = e_e_pi_n_pass_cuts,\n",
    "                           x_var    = var ,                           \n",
    "                           x_bins   = x_bins,                           \n",
    "                           z_bins   = z_bins,                           \n",
    "                           z_widths = z_widths,                           \n",
    "                           fdebug   = 0,\n",
    "                           prefix   = 'Tagged_SIDIS_ratio_',                           \n",
    "                           suffix   = '')"
   ]
  },
  {
   "cell_type": "markdown",
   "id": "ceb673a5-3be1-4ab5-beae-6aefb9c1ecda",
   "metadata": {},
   "source": [
    "## load results and plot them"
   ]
  },
  {
   "cell_type": "code",
   "execution_count": 8,
   "id": "7cbc55e5-23a6-4bd9-9ea7-70bc881f1e2a",
   "metadata": {},
   "outputs": [
    {
     "data": {
      "image/png": "[encoded data removed]",
      "text/plain": [
       "<Figure size 648x432 with 1 Axes>"
      ]
     },
     "metadata": {
      "image/png": {
       "height": 414,
       "width": 570
      },
      "needs_background": "light"
     },
     "output_type": "display_data"
    }
   ],
   "source": [
    "prefix = 'Tagged_SIDIS_ratio_'\n",
    "suffix = ''\n",
    "SIDIS_results = load_SIDIS_ratio(prefix = prefix, suffix = suffix, doPlotResults=True)"
   ]
  },
  {
   "cell_type": "markdown",
   "id": "95e9fcd8-3e5d-41ad-8abf-b3e4c301d6f9",
   "metadata": {
    "tags": []
   },
   "source": [
    "# (5) Extract modified results\n"
   ]
  },
  {
   "cell_type": "markdown",
   "id": "e33a3e13-6cd6-42fe-95e1-92e7967215ff",
   "metadata": {},
   "source": [
    "## (5.1) Results in different bins of M_x"
   ]
  },
  {
   "cell_type": "code",
   "execution_count": 24,
   "id": "693cb33f-172c-48bb-bb94-d00e9fb3b2ce",
   "metadata": {},
   "outputs": [],
   "source": [
    "M_x_min_arr = [0.5,1.0,1.5,2.0,2.5]\n",
    "M_x_max_arr = [1.0,1.5,2.0,2.5,3.0]"
   ]
  },
  {
   "cell_type": "code",
   "execution_count": 25,
   "id": "79909244-890a-4f45-b5f1-108653b7736b",
   "metadata": {},
   "outputs": [
    {
     "name": "stdout",
     "output_type": "stream",
     "text": [
      "0.5 1.0\n",
      "saved /Users/erezcohen/Desktop/data/BAND/Results/Mx_bins/Tagged_SIDIS_ratio_Zmin0.300_Zmean_pipsnan_pimsnan_Zmax0.400_Mx_0.50-1.00_GeV.csv\n",
      "saved /Users/erezcohen/Desktop/data/BAND/Results/Mx_bins/Tagged_SIDIS_ratio_Zmin0.400_Zmean_pipsnan_pimsnan_Zmax0.500_Mx_0.50-1.00_GeV.csv\n",
      "saved /Users/erezcohen/Desktop/data/BAND/Results/Mx_bins/Tagged_SIDIS_ratio_Zmin0.500_Zmean_pips0.715_pimsnan_Zmax0.800_Mx_0.50-1.00_GeV.csv\n",
      "1.0 1.5\n",
      "saved /Users/erezcohen/Desktop/data/BAND/Results/Mx_bins/Tagged_SIDIS_ratio_Zmin0.300_Zmean_pips0.339_pims0.316_Zmax0.400_Mx_1.00-1.50_GeV.csv\n",
      "saved /Users/erezcohen/Desktop/data/BAND/Results/Mx_bins/Tagged_SIDIS_ratio_Zmin0.400_Zmean_pips0.458_pimsnan_Zmax0.500_Mx_1.00-1.50_GeV.csv\n",
      "saved /Users/erezcohen/Desktop/data/BAND/Results/Mx_bins/Tagged_SIDIS_ratio_Zmin0.500_Zmean_pips0.728_pims0.743_Zmax0.800_Mx_1.00-1.50_GeV.csv\n",
      "1.5 2.0\n",
      "saved /Users/erezcohen/Desktop/data/BAND/Results/Mx_bins/Tagged_SIDIS_ratio_Zmin0.300_Zmean_pips0.356_pims0.352_Zmax0.400_Mx_1.50-2.00_GeV.csv\n",
      "saved /Users/erezcohen/Desktop/data/BAND/Results/Mx_bins/Tagged_SIDIS_ratio_Zmin0.400_Zmean_pips0.456_pims0.456_Zmax0.500_Mx_1.50-2.00_GeV.csv\n",
      "saved /Users/erezcohen/Desktop/data/BAND/Results/Mx_bins/Tagged_SIDIS_ratio_Zmin0.500_Zmean_pips0.630_pims0.617_Zmax0.800_Mx_1.50-2.00_GeV.csv\n",
      "2.0 2.5\n",
      "saved /Users/erezcohen/Desktop/data/BAND/Results/Mx_bins/Tagged_SIDIS_ratio_Zmin0.300_Zmean_pips0.349_pims0.345_Zmax0.400_Mx_2.00-2.50_GeV.csv\n",
      "saved /Users/erezcohen/Desktop/data/BAND/Results/Mx_bins/Tagged_SIDIS_ratio_Zmin0.400_Zmean_pips0.445_pims0.442_Zmax0.500_Mx_2.00-2.50_GeV.csv\n",
      "saved /Users/erezcohen/Desktop/data/BAND/Results/Mx_bins/Tagged_SIDIS_ratio_Zmin0.500_Zmean_pips0.560_pims0.552_Zmax0.800_Mx_2.00-2.50_GeV.csv\n",
      "2.5 3.0\n",
      "saved /Users/erezcohen/Desktop/data/BAND/Results/Mx_bins/Tagged_SIDIS_ratio_Zmin0.300_Zmean_pips0.339_pims0.336_Zmax0.400_Mx_2.50-3.00_GeV.csv\n",
      "saved /Users/erezcohen/Desktop/data/BAND/Results/Mx_bins/Tagged_SIDIS_ratio_Zmin0.400_Zmean_pips0.428_pims0.428_Zmax0.500_Mx_2.50-3.00_GeV.csv\n",
      "saved /Users/erezcohen/Desktop/data/BAND/Results/Mx_bins/Tagged_SIDIS_ratio_Zmin0.500_Zmean_pipsnan_pimsnan_Zmax0.800_Mx_2.50-3.00_GeV.csv\n",
      "done.\n"
     ]
    },
    {
     "name": "stderr",
     "output_type": "stream",
     "text": [
      "/usr/local/lib/python3.9/site-packages/numpy/core/fromnumeric.py:3474: RuntimeWarning: Mean of empty slice.\n",
      "  return _methods._mean(a, axis=axis, dtype=dtype,\n",
      "/usr/local/lib/python3.9/site-packages/numpy/core/_methods.py:189: RuntimeWarning: invalid value encountered in double_scalars\n",
      "  ret = ret.dtype.type(ret / rcount)\n"
     ]
    }
   ],
   "source": [
    "for M_x_min,M_x_max in zip(M_x_min_arr,M_x_max_arr):\n",
    "    print(M_x_min,M_x_max)\n",
    "    extract_SIDIS_ratio(df_dict  = e_e_pi_n_pass_cuts,\n",
    "                        x_var    = var ,\n",
    "                        x_bins   = x_bins,\n",
    "                        z_bins   = z_bins,\n",
    "                        z_widths = z_widths,          \n",
    "                        fdebug   = 0,\n",
    "                        data_path= '/Users/erezcohen/Desktop/data/BAND/Results/Mx_bins/',\n",
    "                        prefix   = 'Tagged_SIDIS_ratio_',                    \n",
    "                        suffix   = '_Mx_%.2f-%.2f_GeV'%(M_x_min,M_x_max),\n",
    "                        M_x_min  = M_x_min,\n",
    "                        M_x_max  = M_x_max)\n",
    "    \n",
    "print('done.')"
   ]
  },
  {
   "cell_type": "markdown",
   "id": "8875bd46-da9f-4a2c-92d1-fa974bbf62d5",
   "metadata": {},
   "source": [
    "## (5.2) Results with no acceptance matching cut in $p-\\theta$ "
   ]
  },
  {
   "cell_type": "code",
   "execution_count": 9,
   "id": "f60121b2-9bb1-43fe-8358-27e78999758c",
   "metadata": {},
   "outputs": [
    {
     "name": "stdout",
     "output_type": "stream",
     "text": [
      "Applying selection cuts not previously imposed\n",
      "(e,e'πn)\n",
      "Apply a cut on the minimal neutron momentum p > 0.275 GeV/c\n",
      "(e,e π+ )\n",
      "3820 events after original cut (100.0 %)\n",
      "2746 events after p-theta cut (71.9 %)\n",
      "2746 events after Kinematical cut (71.9 %)\n",
      "(e,e π- )\n",
      "1231 events after original cut (100.0 %)\n",
      "842 events after p-theta cut (68.4 %)\n",
      "842 events after Kinematical cut (68.4 %)\n",
      " \n",
      "Done applying selection cuts not previously imposed\n"
     ]
    }
   ],
   "source": [
    "_,e_e_pi_n_pass_cuts_no_p_theta_cut,_ = apply_further_selection_cuts_to_data(fdebug=2,\n",
    "                                                                           NeventsMax=-1, \n",
    "                                                                           doAcceptanceMatchingCut=False);"
   ]
  },
  {
   "cell_type": "code",
   "execution_count": 10,
   "id": "e3de655e-8083-45d9-8e17-55e37ce1a70e",
   "metadata": {},
   "outputs": [
    {
     "ename": "NameError",
     "evalue": "name 'save_SIDIS_ratio_DataFrame' is not defined",
     "output_type": "error",
     "traceback": [
      "\u001b[0;31m---------------------------------------------------------------------------\u001b[0m",
      "\u001b[0;31mNameError\u001b[0m                                 Traceback (most recent call last)",
      "\u001b[0;32m/var/folders/42/n5_htl9n34j9wpgd5rqsnmv40000gn/T/ipykernel_38748/3709626147.py\u001b[0m in \u001b[0;36m<module>\u001b[0;34m\u001b[0m\n\u001b[0;32m----> 1\u001b[0;31m save_SIDIS_ratio_DataFrame(df_dict  = e_e_pi_n_pass_cuts_no_p_theta_cut,                                \n\u001b[0m\u001b[1;32m      2\u001b[0m                            \u001b[0mx_var\u001b[0m    \u001b[0;34m=\u001b[0m \u001b[0mvar\u001b[0m \u001b[0;34m,\u001b[0m\u001b[0;34m\u001b[0m\u001b[0;34m\u001b[0m\u001b[0m\n\u001b[1;32m      3\u001b[0m                            \u001b[0mx_bins\u001b[0m   \u001b[0;34m=\u001b[0m \u001b[0mx_bins\u001b[0m\u001b[0;34m,\u001b[0m\u001b[0;34m\u001b[0m\u001b[0;34m\u001b[0m\u001b[0m\n\u001b[1;32m      4\u001b[0m                            \u001b[0mz_bins\u001b[0m   \u001b[0;34m=\u001b[0m \u001b[0mz_bins\u001b[0m\u001b[0;34m,\u001b[0m\u001b[0;34m\u001b[0m\u001b[0;34m\u001b[0m\u001b[0m\n\u001b[1;32m      5\u001b[0m                            \u001b[0mz_widths\u001b[0m \u001b[0;34m=\u001b[0m \u001b[0mz_widths\u001b[0m\u001b[0;34m,\u001b[0m\u001b[0;34m\u001b[0m\u001b[0;34m\u001b[0m\u001b[0m\n",
      "\u001b[0;31mNameError\u001b[0m: name 'save_SIDIS_ratio_DataFrame' is not defined"
     ]
    }
   ],
   "source": [
    "save_SIDIS_ratio_DataFrame(df_dict  = e_e_pi_n_pass_cuts_no_p_theta_cut,                                \n",
    "                           x_var    = var ,                           \n",
    "                           x_bins   = x_bins,                           \n",
    "                           z_bins   = z_bins,                           \n",
    "                           z_widths = z_widths,                           \n",
    "                           fdebug   = 0,\n",
    "                           prefix   = 'Tagged_SIDIS_ratio_',                           \n",
    "                           suffix   = '_No_AcceptanceMatchingCut')"
   ]
  },
  {
   "cell_type": "code",
   "execution_count": null,
   "id": "30e3112d-8be0-49c6-a0de-e9200f1cbea0",
   "metadata": {},
   "outputs": [],
   "source": [
    "prefix = 'Tagged_SIDIS_ratio_'\n",
    "suffix = '_No_AcceptanceMatchingCut'\n",
    "Tagged_SIDIS_results = load_SIDIS_ratio_DataFrame(z_bins=z_bins,z_widths=z_widths,\n",
    "                                                  prefix = prefix, suffix = suffix, doPlotResults=True)"
   ]
  },
  {
   "cell_type": "markdown",
   "id": "cb8aa5b7-7bb5-41a2-a62c-1a2262a12f40",
   "metadata": {
    "tags": []
   },
   "source": [
    "# arxiv"
   ]
  },
  {
   "cell_type": "code",
   "execution_count": null,
   "id": "bcb7c30a-52c7-42b2-abf2-39aca280e515",
   "metadata": {},
   "outputs": [],
   "source": [
    "\n",
    "# Rpips2pims_n, Rpips2pims_n_errup, Rpips2pims_n_errdw = dict(), dict(), dict()\n",
    "# Y, dY = dict(),dict()\n",
    "# for z_bin,z_width in zip(z_bins,z_widths):\n",
    "#     z_min,z_max = z_bin-z_width,z_bin+z_width\n",
    "#     (Rpips2pims_n[z_bin],\n",
    "#      Rpips2pims_n_errup[z_bin], \n",
    "#      Rpips2pims_n_errdw[z_bin],_,_) = compute_ratio_pips_to_pims(df_dict=e_e_pi_n  , \n",
    "#                                                              var=var, \n",
    "#                                                              bins=x_bins, \n",
    "#                                                              z_min=z_min,z_max=z_max)\n",
    "\n",
    "#     # fit to a constant \n",
    "#     y    = Rpips2pims_n[z_bin]\n",
    "#     y_err= (Rpips2pims_n_errup[z_bin],Rpips2pims_n_errdw[z_bin])\n",
    "#     p,cov = np.polyfit(x,y,deg=0,cov=True)\n",
    "#     Y[z_bin],dY[z_bin] = p[0],cov[0,0]\n",
    "\n",
    "#     # print(z_bin,Rpips2pims_n[z_bin],Rpips2pims_n_errup[z_bin],Rpips2pims_n_errdw[z_bin])\n",
    "# print('done') "
   ]
  },
  {
   "cell_type": "code",
   "execution_count": null,
   "id": "bdc890c1-f20c-4a0b-9c7c-93145197e092",
   "metadata": {},
   "outputs": [],
   "source": [
    "# fig = plt.figure(figsize=(9,6))\n",
    "# ax  = fig.add_subplot(1,1,1)\n",
    "# for z_bin,z_width in zip(z_bins,z_widths):\n",
    "#     y    = Rpips2pims_n[z_bin]\n",
    "#     y_err= (Rpips2pims_n_errup[z_bin],Rpips2pims_n_errdw[z_bin])\n",
    "#     x_fit = np.linspace(np.min(x),np.max(x),100)\n",
    "#     y_dw = (Y[z_bin]-dY[z_bin])*np.ones(len(x_fit))\n",
    "#     y_up = (Y[z_bin]+dY[z_bin])*np.ones(len(x_fit))\n",
    "\n",
    "#     # plot\n",
    "#     l=ax.errorbar(x=x, xerr=x_err,  y=y, yerr=y_err,\n",
    "#                 marker='o',markeredgecolor='k',\n",
    "#                 label='$z=%.2f\\pm%.2f, (\\pi^+/\\pi^-)=%.1f\\pm%.1f$'%(z_bin,z_width,Y[z_bin],dY[z_bin]))\n",
    "    \n",
    "#     ax.fill_between( x_fit, y_dw, y_up, color=l[0].get_color(), alpha=0.1)\n",
    "# set_axes(ax,xlabel,\"$N(e,e'\\pi^+n)/N(e,e'\\pi^-n)$\",\n",
    "#          title=\"$\\pi^+/\\pi^-$ ratio as a function of $x'$ with a tagged neutron\",\n",
    "#          do_add_grid=True, do_add_legend=True, fontsize=18,\n",
    "#         );"
   ]
  }
 ],
 "metadata": {
  "kernelspec": {
   "display_name": "Python 3 (ipykernel)",
   "language": "python",
   "name": "python3"
  },
  "language_info": {
   "codemirror_mode": {
    "name": "ipython",
    "version": 3
   },
   "file_extension": ".py",
   "mimetype": "text/x-python",
   "name": "python",
   "nbconvert_exporter": "python",
   "pygments_lexer": "ipython3",
   "version": "3.9.13"
  }
 },
 "nbformat": 4,
 "nbformat_minor": 5
}
