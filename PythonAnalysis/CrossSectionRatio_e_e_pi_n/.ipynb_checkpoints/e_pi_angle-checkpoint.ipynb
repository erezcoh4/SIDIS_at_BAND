{
 "cells": [
  {
   "cell_type": "markdown",
   "id": "1e30185d-b4cf-4059-b94e-9171f6fe8c0e",
   "metadata": {
    "tags": []
   },
   "source": [
    "# Show the angle between the electron and the hadron in $(e,e'\\pi)$ events\n",
    "\n",
    "last edit Feb-12, 2022"
   ]
  },
  {
   "cell_type": "markdown",
   "id": "79a1f377-5bd5-43ba-8a4a-4cb54f37a6bc",
   "metadata": {
    "tags": []
   },
   "source": [
    "## Imports and definitions"
   ]
  },
  {
   "cell_type": "code",
   "execution_count": 1,
   "id": "004e7dab-d231-4947-8ab5-4256ea735722",
   "metadata": {},
   "outputs": [],
   "source": [
    "import numpy as np, pandas as pd, matplotlib.pyplot as plt, matplotlib as mpl\n",
    "import sys; sys.path.insert(0, '/Users/erezcohen/Desktop/Software/mySoftware/Python/'); \n",
    "from my_tools               import *; \n",
    "from plot_tools             import *;\n",
    "from my_data_analysis_tools import *;\n",
    "%config InlineBackend.figure_format = 'retina'\n",
    "plt.rcParams['mathtext.fontset'] = 'stix'\n",
    "plt.rcParams['font.family'] = 'STIXGeneral'\n",
    "r2d = 180./np.pi"
   ]
  },
  {
   "cell_type": "code",
   "execution_count": 2,
   "id": "7376bbe5-b5b9-4973-a1e4-ce788463c152",
   "metadata": {},
   "outputs": [],
   "source": [
    "main_data_path     = '/Users/erezcohen/Desktop/data/BAND/'\n",
    "e_e_pi_data_path   = main_data_path + 'SIDIS_skimming/'\n",
    "e_e_pi_n_data_path = main_data_path + 'merged_SIDIS_and_BAND_skimming/'"
   ]
  },
  {
   "cell_type": "code",
   "execution_count": 3,
   "id": "750240b4-c8e8-4bdb-94c2-7944b771c4a0",
   "metadata": {},
   "outputs": [],
   "source": [
    "pi_charge_names  = ['piplus'   ,'piminus'  ]\n",
    "pi_labels        = ['\\pi^{+}'  ,'\\pi^{-}'  ]\n",
    "pi_colors        = ['royalblue','salmon'   ]"
   ]
  },
  {
   "cell_type": "markdown",
   "id": "76846275-06f0-410a-9620-374410566b19",
   "metadata": {
    "tags": []
   },
   "source": [
    "## Selection cuts not previously imposed"
   ]
  },
  {
   "cell_type": "code",
   "execution_count": 4,
   "id": "11aff016-bfc8-4e7e-80fa-0b0b4eb60c37",
   "metadata": {},
   "outputs": [],
   "source": [
    "# for pi_charge_name in pi_charge_names:\n",
    "#     # large momentum neutrons ( Pn > 275 MeV/c)\n",
    "#     e_e_pi_n[pi_charge_name] = e_e_pi_n[pi_charge_name][e_e_pi_n[pi_charge_name]['n_P']>0.275]\n",
    "    \n",
    "#     print('retained',len(e_e_pi_n[pi_charge_name]),'(e,e',pi_charge_name,'n), events')        "
   ]
  },
  {
   "cell_type": "markdown",
   "id": "ebeb537e-ccd1-43b4-80b4-a213e43fed51",
   "metadata": {
    "tags": []
   },
   "source": [
    "## Auxiliary functions"
   ]
  },
  {
   "cell_type": "code",
   "execution_count": 5,
   "id": "6df52649-a7e4-47f3-a4a8-d7b46a1469f9",
   "metadata": {
    "tags": []
   },
   "outputs": [],
   "source": [
    "fontsize = 18"
   ]
  },
  {
   "cell_type": "code",
   "execution_count": 6,
   "id": "3de746f5-65f7-47f8-8cca-c5624e63d9e7",
   "metadata": {},
   "outputs": [],
   "source": [
    "def plot_step_hist( df, var='xB',\n",
    "                   bins=np.linspace(0,1,10), label=\"$(e,e')$\"):\n",
    "    h,edges = np.histogram( df[var], bins=x_bins)\n",
    "    h_err = np.sqrt(h)\n",
    "    x     = (edges[1:] + edges[:-1])/2\n",
    "    x_err = (edges[1:] - edges[:-1])/2\n",
    "    plt.step ( x, h, color=pi_color, where='mid', label=label ) \n",
    "    plt.errorbar ( x, h, h_err, color=pi_color, marker='o', linestyle='None',label=None, capsize=2 )\n",
    "    return x,h,x_err"
   ]
  },
  {
   "cell_type": "code",
   "execution_count": 7,
   "id": "0ad63539-4ee7-44c2-a34e-58bba395a548",
   "metadata": {},
   "outputs": [],
   "source": [
    "def get_err_up_dw(x, xerr,lim_dw = 0,lim_up = 10):\n",
    "    errup=xerr\n",
    "    errdw=xerr\n",
    "    \n",
    "    for i in range(len(x)):\n",
    "        if (x[i]+errup[i]) > lim_up:\n",
    "            errup[i] = lim_up-x[i]\n",
    "        \n",
    "        if lim_dw > (x[i]-errdw[i]):\n",
    "            errdw[i] = x[i]-lim_dw\n",
    "        \n",
    "\n",
    "    return errup,errdw"
   ]
  },
  {
   "cell_type": "code",
   "execution_count": 8,
   "id": "47e27cd6-a701-478c-a0e8-0a85e370ba8c",
   "metadata": {},
   "outputs": [],
   "source": [
    "def compute_ratio_pips_to_pims(df_dict, var='xB', bins=np.linspace(0,1,10), z_min=0, z_max=1, \n",
    "                               theta_min=0, theta_max=np.pi, \n",
    "                               Mx_min=0, Mx_max=100,  \n",
    "                               is_eepi=True):\n",
    "    # z_min,z_max are z limits on the pion outgoing momentum\n",
    "    df_pips = df_dict['piplus']\n",
    "    df_pims = df_dict['piminus']\n",
    "    # cut on z\n",
    "    df_pips = df_pips[ (z_min<df_pips.Zpi) & (df_pips.Zpi<z_max) \n",
    "                      & (theta_min<df_pips.pi_Theta*r2d) & (df_pips.pi_Theta*r2d<theta_max) ]\n",
    "    \n",
    "    df_pims = df_pims[ (z_min     < df_pims.Zpi)          & (df_pims.Zpi          < z_max) \n",
    "                      & (theta_min< df_pims.pi_Theta*r2d) & (df_pims.pi_Theta*r2d < theta_max)]\n",
    "\n",
    "    # and cut on Mx if its (e,e'pi)\n",
    "    if is_eepi:#{\n",
    "        df_pips = df_pips[ (Mx_min < df_pips.M_X) & (df_pips.M_X < Mx_max)]    \n",
    "        df_pims = df_pims[ (Mx_min < df_pims.M_X) & (df_pims.M_X < Mx_max)]\n",
    "    #}\n",
    "    \n",
    "    pips = df_pips[var]\n",
    "    pims = df_pims[var]\n",
    "    R_pips_to_pims, R_pips_to_pims_err = [],[]\n",
    "    for x_min,x_max in zip(bins[:-1],bins[1:]):\n",
    "        \n",
    "        pips_in_bin  = pips[ (x_min < pips) & (pips < x_max) ]\n",
    "        Npips_in_bin = len(pips_in_bin)\n",
    "        pims_in_bin  = pims[ (x_min < pims) & (pims < x_max) ]\n",
    "        Npims_in_bin = len(pims_in_bin)    \n",
    "\n",
    "        R            = Npips_in_bin/np.max([Npims_in_bin,1])\n",
    "        R_err        = R * np.sqrt( 1./np.max([1,Npips_in_bin]) + 1./np.max([1,Npims_in_bin]) )\n",
    "\n",
    "        R_pips_to_pims    .append(R)\n",
    "        R_pips_to_pims_err.append(R_err)\n",
    "        \n",
    "    R_pips_to_pims_errup,R_pips_to_pims_errdw = get_err_up_dw(R_pips_to_pims, R_pips_to_pims_err)\n",
    "    \n",
    "    return np.array(R_pips_to_pims),np.array(R_pips_to_pims_errup),np.array(R_pips_to_pims_errdw)"
   ]
  },
  {
   "cell_type": "code",
   "execution_count": 9,
   "id": "999cea8e-1e33-4590-b318-a020d163122e",
   "metadata": {},
   "outputs": [],
   "source": [
    "def compute_ratio_assymetry(df_dict, var='xB', bins=np.linspace(0,1,10), z_min=0, z_max=1,                                \n",
    "                            theta_min=0, theta_max=np.pi,                             \n",
    "                            Mx_min=0, Mx_max=100,\n",
    "                            is_eepi=True):\n",
    "    # z_min,z_max are z limits on the pion outgoing momentum\n",
    "    df_pips = df_dict['piplus']\n",
    "    df_pims = df_dict['piminus']\n",
    "    # cut on z\n",
    "    df_pips = df_pips[ (z_min<df_pips.Zpi) & (df_pips.Zpi<z_max) \n",
    "                      & (theta_min<df_pips.pi_Theta*r2d) & (df_pips.pi_Theta*r2d<theta_max) ]\n",
    "    \n",
    "    df_pims = df_pims[ (z_min     < df_pims.Zpi)          & (df_pims.Zpi          < z_max) \n",
    "                      & (theta_min< df_pims.pi_Theta*r2d) & (df_pims.pi_Theta*r2d < theta_max)]\n",
    "\n",
    "    # and cut on Mx if its (e,e'pi)\n",
    "    if is_eepi:#{\n",
    "        df_pips = df_pips[ (Mx_min < df_pips.M_X) & (df_pips.M_X < Mx_max)]    \n",
    "        df_pims = df_pims[ (Mx_min < df_pims.M_X) & (df_pims.M_X < Mx_max)]\n",
    "    #}\n",
    "    \n",
    "\n",
    "    pips = df_pips[var]\n",
    "    pims = df_pims[var]\n",
    "    Rassymetry, Rassymetry_err = [],[]\n",
    "    for x_min,x_max in zip(bins[:-1],bins[1:]):\n",
    "        \n",
    "        pips_in_bin  = pips[ (x_min < pips) & (pips < x_max) ]\n",
    "        Npips_in_bin = len(pips_in_bin)\n",
    "        pims_in_bin  = pims[ (x_min < pims) & (pims < x_max) ]\n",
    "        Npims_in_bin = len(pims_in_bin)    \n",
    "\n",
    "        nom          = (Npips_in_bin + Npims_in_bin)\n",
    "        den          = np.max([Npips_in_bin - Npims_in_bin,1])\n",
    "        R            = nom/den\n",
    "        R_err        = np.abs(1/den) * np.sqrt(  Npips_in_bin*np.square(1 - Npips_in_bin/den)\n",
    "                                               + Npims_in_bin*np.square(1 + Npims_in_bin/den) )\n",
    "\n",
    "        Rassymetry    .append(R)\n",
    "        Rassymetry_err.append(R_err)\n",
    "        \n",
    "    Rassymetry_errup,Rassymetry_errdw = get_err_up_dw(Rassymetry, Rassymetry_err)\n",
    "    \n",
    "    return np.array(Rassymetry),np.array(Rassymetry_errup),np.array(Rassymetry_errdw)"
   ]
  },
  {
   "cell_type": "markdown",
   "id": "d6ee37c0-4902-4ba0-b192-e3d0c87ea9fe",
   "metadata": {
    "tags": []
   },
   "source": [
    "# Accumulated data from 101 runs of 10.2 GeV"
   ]
  },
  {
   "cell_type": "markdown",
   "id": "dca3d14d-d00d-45b8-af69-e030476408f9",
   "metadata": {
    "tags": []
   },
   "source": [
    "## load data"
   ]
  },
  {
   "cell_type": "code",
   "execution_count": 10,
   "id": "6fcd789d-699b-4b39-8819-a7604b2f0fac",
   "metadata": {},
   "outputs": [
    {
     "data": {
      "text/plain": [
       "array([6420, 6421, 6422, 6426])"
      ]
     },
     "execution_count": 10,
     "metadata": {},
     "output_type": "execute_result"
    }
   ],
   "source": [
    "runs_filename = \"/Users/erezcohen/Desktop/Software/CLAS12/BAND/SIDIS_at_BAND/macros/runlists/good_runs_10-2-final.txt\"\n",
    "\n",
    "# Using readlines()\n",
    "runs_file     = open(runs_filename, 'r')\n",
    "run_fileLines = runs_file.readlines()\n",
    "runs = []\n",
    "for line in run_fileLines[0:4]:#{\n",
    "    run = int(line.strip())\n",
    "    runs.append(run)\n",
    "runs = np.array(runs)\n",
    "runs"
   ]
  },
  {
   "cell_type": "code",
   "execution_count": 11,
   "id": "35f93551-8115-4212-b346-a245b7ffa45d",
   "metadata": {
    "tags": []
   },
   "outputs": [
    {
     "name": "stdout",
     "output_type": "stream",
     "text": [
      "loaded file 0/4 files\n",
      "loaded file 1/4 files\n",
      "loaded file 2/4 files\n",
      "loaded file 3/4 files\n"
     ]
    }
   ],
   "source": [
    "fdebug   = 1\n",
    "e_e_pi   = dict()\n",
    "e_e_pi_n = dict()\n",
    "for runnum,runIdx in zip(runs,range(len(runs))):\n",
    "    for pi_charge_name in pi_charge_names:\n",
    "        eepi   = pd.read_csv(e_e_pi_data_path \n",
    "                                           +'skimmed_SIDIS_inc_00%d_e_%s_selected_eepi_kinematics.csv'%(runnum,pi_charge_name))\n",
    "        eepin = pd.read_csv(e_e_pi_n_data_path \n",
    "                                           +'skimmed_SIDIS_and_BAND_inc_00%d_e_%s_n.csv'%(runnum,pi_charge_name))        \n",
    "\n",
    "        if fdebug>1: print('loaded',len(eepi),'(e,e',pi_charge_name,                  \n",
    "                           ') events and ',\n",
    "                           len(eepin),'(e,e',pi_charge_name,'n), events')    \n",
    "    \n",
    "        # large momentum neutrons ( Pn > 275 MeV/c)\n",
    "        eepin = eepin[eepin['n_P']>0.275]\n",
    "        if fdebug>2: print('retained',len(eepin),'(e,e',pi_charge_name,'n), events')            \n",
    "        \n",
    "        if runIdx==0:             \n",
    "            e_e_pi[pi_charge_name]   = eepi\n",
    "            e_e_pi_n[pi_charge_name] = eepin\n",
    "        else:\n",
    "            e_e_pi[pi_charge_name]   = pd.concat([e_e_pi[pi_charge_name],  eepi ])\n",
    "            e_e_pi_n[pi_charge_name] = pd.concat([e_e_pi_n[pi_charge_name],eepin])\n",
    "    print('loaded file %d/%d files'%(runIdx,len(runs)))\n",
    "    \n",
    "print('done.')"
   ]
  },
  {
   "cell_type": "markdown",
   "id": "88b194d1-fad2-4a3a-8c08-c59c8a8debb2",
   "metadata": {
    "tags": []
   },
   "source": [
    "# Compute and plot the angle between the hadron and the electron"
   ]
  },
  {
   "cell_type": "code",
   "execution_count": 21,
   "id": "836f52ec-1480-46d0-8096-90dafb214bd9",
   "metadata": {},
   "outputs": [
    {
     "name": "stdout",
     "output_type": "stream",
     "text": [
      "done computation\n"
     ]
    }
   ],
   "source": [
    "Theta_e_pi = dict()\n",
    "for pi_charge_name in pi_charge_names:\n",
    "    \n",
    "    P_e = np.array(e_e_pi[pi_charge_name].e_P)\n",
    "    Theta_e = np.array(e_e_pi[pi_charge_name].e_Theta)\n",
    "    Phi_e = np.array(e_e_pi[pi_charge_name].e_Phi)\n",
    "\n",
    "    Px_e = P_e * np.sin(Theta_e) * np.cos(Phi_e)\n",
    "    Py_e = P_e * np.sin(Theta_e) * np.sin(Phi_e)\n",
    "    Pz_e = P_e * np.cos(Theta_e) \n",
    "    \n",
    "    P_pi = np.array(e_e_pi[pi_charge_name].pi_P)\n",
    "    Theta_pi = np.array(e_e_pi[pi_charge_name].pi_Theta)\n",
    "    Phi_pi = np.array(e_e_pi[pi_charge_name].pi_Phi)\n",
    "\n",
    "    Px_pi = P_pi * np.sin(Theta_pi) * np.cos(Phi_pi)\n",
    "    Py_pi = P_pi * np.sin(Theta_pi) * np.sin(Phi_pi)\n",
    "    Pz_pi = P_pi * np.cos(Theta_pi) \n",
    "\n",
    "    cos_Theta_e_pi = (Px_e*Px_pi + Py_e*Py_pi + Pz_e*Pz_pi)/(P_e*P_pi)\n",
    "    Theta_e_pi[pi_charge_name] = np.arccos(cos_Theta_e_pi)\n",
    "    \n",
    "print('done computation')"
   ]
  },
  {
   "cell_type": "code",
   "execution_count": 36,
   "id": "7628de9e-addf-4fd5-b863-285d28e1e1d1",
   "metadata": {},
   "outputs": [
    {
     "data": {
      "image/png": "[encoded data removed]",
      "text/plain": [
       "<Figure size 576x360 with 1 Axes>"
      ]
     },
     "metadata": {
      "image/png": {
       "height": 352,
       "width": 569
      },
      "needs_background": "light"
     },
     "output_type": "display_data"
    }
   ],
   "source": [
    "bins = np.linspace(0,60,61)\n",
    "\n",
    "fig = plt.figure(figsize=(8,5))\n",
    "ax = fig.add_subplot(1,1,1)\n",
    "for pi_charge_name,pi_label,pi_color in zip(pi_charge_names,pi_labels,pi_colors):\n",
    "    theta = Theta_e_pi[pi_charge_name] \n",
    "    # plot_step_hist( theta*r2d, bins=bins , label=pi_label , color=pi_color)\n",
    "    h,edges = np.histogram( theta*r2d, bins=bins, density=True )\n",
    "    x = (edges[1:]+edges[:-1])/2\n",
    "    plt.step( x, h , where='mid'  , color=pi_color , label='$'+pi_label+'$', linewidth=2)\n",
    "    \n",
    "set_axes(ax,\"$\\\\theta_{e-\\pi}$ [deg.]\" ,\n",
    "         \"Frequency [a.u.]\" ,\n",
    "         title='electron-hadron angle',\n",
    "     do_add_grid=True, do_add_legend=True, fontsize=fontsize);\n",
    "# #}\n",
    "plt.tight_layout()"
   ]
  },
  {
   "cell_type": "code",
   "execution_count": null,
   "id": "e7527acd-42b9-4d10-832e-3e5627274a22",
   "metadata": {},
   "outputs": [],
   "source": []
  }
 ],
 "metadata": {
  "kernelspec": {
   "display_name": "Python 3 (ipykernel)",
   "language": "python",
   "name": "python3"
  },
  "language_info": {
   "codemirror_mode": {
    "name": "ipython",
    "version": 3
   },
   "file_extension": ".py",
   "mimetype": "text/x-python",
   "name": "python",
   "nbconvert_exporter": "python",
   "pygments_lexer": "ipython3",
   "version": "3.9.7"
  }
 },
 "nbformat": 4,
 "nbformat_minor": 5
}
