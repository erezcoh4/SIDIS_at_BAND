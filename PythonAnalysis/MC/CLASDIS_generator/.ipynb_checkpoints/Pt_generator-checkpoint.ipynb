{
 "cells": [
  {
   "cell_type": "markdown",
   "id": "1e30185d-b4cf-4059-b94e-9171f6fe8c0e",
   "metadata": {
    "tags": []
   },
   "source": [
    "# Study $p_T$ in the generator level\n",
    "last edit July-18, 2023"
   ]
  },
  {
   "cell_type": "markdown",
   "id": "79a1f377-5bd5-43ba-8a4a-4cb54f37a6bc",
   "metadata": {
    "jp-MarkdownHeadingCollapsed": true,
    "tags": []
   },
   "source": [
    "## Imports and definitions"
   ]
  },
  {
   "cell_type": "code",
   "execution_count": 1,
   "id": "004e7dab-d231-4947-8ab5-4256ea735722",
   "metadata": {},
   "outputs": [
    {
     "name": "stdout",
     "output_type": "stream",
     "text": [
      "Welcome to JupyROOT 6.26/04\n",
      "Loaded bin migration and acceptance weights from MC calculations.\n"
     ]
    }
   ],
   "source": [
    "import sys; \n",
    "software_path = '/Users/erezcohen/Desktop/Software/'\n",
    "sys.path.insert(0, software_path + '/mySoftware/Python/');\n",
    "sys.path.insert(0, software_path + '/CLAS12/BAND/SIDIS_at_BAND/PythonAnalysis/AcceptanceCorrections/');\n",
    "sys.path.insert(0, software_path + '/CLAS12/BAND/SIDIS_at_BAND/PythonAnalysis/python_auxiliary/');\n",
    "from my_tools                     import *; \n",
    "from plot_tools                   import *;\n",
    "from my_data_analysis_tools       import *;\n",
    "from acceptance_correction_tools  import *;\n",
    "from sidis_analysis_tools         import *;\n",
    "# from event_selection_tools        import *;"
   ]
  },
  {
   "cell_type": "code",
   "execution_count": 2,
   "id": "851ff650-2150-418c-aba3-d02dd579452f",
   "metadata": {},
   "outputs": [],
   "source": [
    "%config InlineBackend.figure_format = 'retina'\n",
    "plt.rcParams['mathtext.fontset']    = 'stix'\n",
    "plt.rcParams['font.family']         = 'STIXGeneral'"
   ]
  },
  {
   "cell_type": "code",
   "execution_count": 3,
   "id": "31b05bb0-2511-449a-86db-e42435ec1263",
   "metadata": {},
   "outputs": [],
   "source": [
    "clasdis_path = '/Users/erezcohen/Desktop/data/BAND/CLASDIS/eventfiles/our_kinematics/';\n",
    "claspyth_path = '/Users/erezcohen/Desktop/data/BAND/CLASPYTH/eventfiles/our_kinematics/';\n",
    "figures_path = '/Users/erezcohen/Desktop/Projects/SIDIS/FragmentationAnalysis/AnalysisNote/Figures/MC/CLASDIS/'"
   ]
  },
  {
   "cell_type": "markdown",
   "id": "64686df2-853e-4af6-8a73-3909b0743e0b",
   "metadata": {
    "tags": []
   },
   "source": [
    "# (1) Load simulation files and apply kinematical selection cuts"
   ]
  },
  {
   "cell_type": "markdown",
   "id": "0b07f9c9-abb3-4bf5-93e8-8b89f6befd36",
   "metadata": {
    "jp-MarkdownHeadingCollapsed": true,
    "tags": []
   },
   "source": [
    "## (1.1) CLASDIS"
   ]
  },
  {
   "cell_type": "code",
   "execution_count": 4,
   "id": "7226d8f3-14d8-499e-a1fe-5d67b8f76555",
   "metadata": {},
   "outputs": [
    {
     "name": "stdout",
     "output_type": "stream",
     "text": [
      "Loaded 1182445 π+ events and 1139738 π- events\n"
     ]
    }
   ],
   "source": [
    "e_e_pi_clasdis = dict()\n",
    "\n",
    "for runnum in range(1):\n",
    "    xsec_nb = 14.91\n",
    "    df_pips = pd.read_csv(clasdis_path + 'clasdisde.00.e10.600.emn0.75tmn.09.xs%.2fnb.dis.000%d_pips.csv'%(xsec_nb,runnum));\n",
    "    df_pims = pd.read_csv(clasdis_path + 'clasdisde.00.e10.600.emn0.75tmn.09.xs%.2fnb.dis.000%d_pims.csv'%(xsec_nb,runnum));\n",
    "    if runnum==0:\n",
    "        xsec_clasdis = xsec_nb;\n",
    "        e_e_pi_clasdis['piplus']  = df_pips\n",
    "        e_e_pi_clasdis['piminus'] = df_pims\n",
    "    else:\n",
    "        e_e_pi_clasdis['piplus']  = pd.concat([e_e_pi_clasdis['piplus'] ,df_pips])\n",
    "        e_e_pi_clasdis['piminus'] = pd.concat([e_e_pi_clasdis['piminus'],df_pims])\n",
    "    \n",
    "print('Loaded %d π+ events and %d π- events'%(len(e_e_pi_clasdis['piplus']),len(e_e_pi_clasdis['piminus'])))"
   ]
  },
  {
   "cell_type": "code",
   "execution_count": 5,
   "id": "742ec07d-cce7-45fe-8f28-1ae2c67a9b4e",
   "metadata": {},
   "outputs": [
    {
     "name": "stdout",
     "output_type": "stream",
     "text": [
      "Apply a cut on the missing mass of a (e,e'π) reaction: 1.7<Mx<5.0 GeV/c2\n"
     ]
    }
   ],
   "source": [
    "e_e_pi_clasdis_after_Mx_cut      = apply_Mx_cut( e_e_pi_clasdis )\n",
    "e_e_pi_clasdis_after_Kinematical_cuts = apply_Kinematical_cuts( e_e_pi_clasdis_after_Mx_cut, W_min=2.5 )\n",
    "e_e_pi_clasdis_pass_cuts         = e_e_pi_clasdis_after_Kinematical_cuts;"
   ]
  },
  {
   "cell_type": "code",
   "execution_count": 6,
   "id": "d6bcb4ab-dee6-478c-ac1f-b8af8b2fac40",
   "metadata": {},
   "outputs": [
    {
     "name": "stdout",
     "output_type": "stream",
     "text": [
      "Retained 203605 π+ events and 146525 π- events\n"
     ]
    }
   ],
   "source": [
    "print('Retained %d π+ events and %d π- events'%(len(e_e_pi_clasdis_pass_cuts['piplus']),len(e_e_pi_clasdis_pass_cuts['piminus'])))"
   ]
  },
  {
   "cell_type": "markdown",
   "id": "ea54cc53-2bd6-4516-bd18-f76d5ccd6397",
   "metadata": {
    "jp-MarkdownHeadingCollapsed": true,
    "tags": []
   },
   "source": [
    "## (1.1) CLASPYTH\n",
    "Since with CLASPYTH we can not simulate a deuteron target, we merge the simulations of a proton and a neutron targets"
   ]
  },
  {
   "cell_type": "code",
   "execution_count": 7,
   "id": "27047129-0df1-4501-8cd7-b2857197cd3c",
   "metadata": {},
   "outputs": [
    {
     "name": "stdout",
     "output_type": "stream",
     "text": [
      "Loaded 10768393 π+ events and 10581247 π- events\n"
     ]
    }
   ],
   "source": [
    "e_e_pi_claspyth = dict()\n",
    "\n",
    "for runnum in range(1):\n",
    "    \n",
    "    # neutron target\n",
    "    xsec_n_nb = 0\n",
    "    df_n_pips = pd.read_csv(claspyth_path + 'claspytn0.00.e10.600.emn1.00tmn5.0.xs%d_pips.csv'%(xsec_n_nb));\n",
    "    df_n_pims = pd.read_csv(claspyth_path + 'claspytn0.00.e10.600.emn1.00tmn5.0.xs%d_pims.csv'%(xsec_n_nb));\n",
    "    # proton target\n",
    "    xsec_p_nb = 0\n",
    "    df_p_pips = pd.read_csv(claspyth_path + 'claspytp+.00.e10.600.emn1.00tmn5.0.xs%d_pips.csv'%(xsec_p_nb));\n",
    "    df_p_pims = pd.read_csv(claspyth_path + 'claspytp+.00.e10.600.emn1.00tmn5.0.xs%d_pims.csv'%(xsec_p_nb));\n",
    "\n",
    "    # merge - deuteron target\n",
    "    xsec_d_nb = xsec_n_nb + xsec_p_nb;\n",
    "    df_pips = pd.concat([df_n_pips, df_p_pips])\n",
    "    df_pims = pd.concat([df_n_pims, df_p_pims])\n",
    "    \n",
    "    if runnum==0:\n",
    "        xsec_claspyth = xsec_d_nb;\n",
    "        e_e_pi_claspyth['piplus']  = df_pips\n",
    "        e_e_pi_claspyth['piminus'] = df_pims\n",
    "    else:\n",
    "        e_e_pi_claspyth['piplus']  = pd.concat([e_e_pi_claspyth['piplus'] ,df_pips])\n",
    "        e_e_pi_claspyth['piminus'] = pd.concat([e_e_pi_claspyth['piminus'],df_pims])\n",
    "    \n",
    "print('Loaded %d π+ events and %d π- events'%(len(e_e_pi_claspyth['piplus']),len(e_e_pi_claspyth['piminus'])))"
   ]
  },
  {
   "cell_type": "code",
   "execution_count": 29,
   "id": "9e00d524-cd27-44ad-8abb-ac82c3db91b7",
   "metadata": {},
   "outputs": [
    {
     "name": "stdout",
     "output_type": "stream",
     "text": [
      "Apply a π+/π- acceptance matching cut on the in p-theta plane\n",
      "Applying p-theta on cut for piplus which includes 10768393 events\n",
      "Applying p-theta on cut for piplus on 10768393 events\n",
      "10768393 in sector 1\n",
      "0 in sector 2\n",
      "0 in sector 3\n",
      "0 in sector 4\n",
      "0 in sector 5\n",
      "0 in sector 6\n",
      "Applying p-theta on cut for piminus which includes 10581247 events\n",
      "Applying p-theta on cut for piminus on 10581247 events\n",
      "10581247 in sector 1\n",
      "0 in sector 2\n",
      "0 in sector 3\n",
      "0 in sector 4\n",
      "0 in sector 5\n",
      "0 in sector 6\n"
     ]
    }
   ],
   "source": [
    "for pi_ch,pi_idx in zip(pi_charge_names,[1,2]):\n",
    "    e_e_pi_claspyth[pi_ch][\"pi_DC_sector\"]    = 1\n",
    "e_e_pi_claspyth_after_acceptance_matching_cut = apply_p_theta_acceptance_cut_single_set( e_e_pi_claspyth )"
   ]
  },
  {
   "cell_type": "code",
   "execution_count": 30,
   "id": "e708f000-7e11-453f-a7d6-5aecbca3af49",
   "metadata": {},
   "outputs": [
    {
     "name": "stdout",
     "output_type": "stream",
     "text": [
      "Apply a cut on the missing mass of a (e,e'π) reaction: 1.7<Mx<5.0 GeV/c2\n"
     ]
    }
   ],
   "source": [
    "e_e_pi_claspyth_after_Mx_cut                  = apply_Mx_cut( e_e_pi_claspyth_after_acceptance_matching_cut )\n",
    "e_e_pi_claspyth_after_Kinematical_cuts        = apply_Kinematical_cuts( e_e_pi_claspyth_after_Mx_cut, W_min=2.5 )\n",
    "e_e_pi_claspyth_pass_cuts                     = e_e_pi_claspyth_after_Kinematical_cuts;"
   ]
  },
  {
   "cell_type": "code",
   "execution_count": 31,
   "id": "a8cd663d-1add-480e-b7d0-fa6b143e3f8c",
   "metadata": {},
   "outputs": [
    {
     "name": "stdout",
     "output_type": "stream",
     "text": [
      "Retained 2073830 π+ events and 1515932 π- events\n"
     ]
    }
   ],
   "source": [
    "print('Retained %d π+ events and %d π- events'%(len(e_e_pi_claspyth_pass_cuts['piplus']),len(e_e_pi_claspyth_pass_cuts['piminus'])))"
   ]
  },
  {
   "cell_type": "markdown",
   "id": "f9bf727d-af8e-46da-bf5d-7fab2dee7d51",
   "metadata": {
    "tags": []
   },
   "source": [
    "# (2) Auxliary"
   ]
  },
  {
   "cell_type": "code",
   "execution_count": 32,
   "id": "6270fe1e-f773-4d72-b15c-7c03cea90559",
   "metadata": {},
   "outputs": [],
   "source": [
    "import scipy as sp\n",
    "from scipy.stats import chi\n",
    "\n",
    "def fit_function_pT( x, mu_Px=0, sigma_Px=0.2 ):\n",
    "    '''\n",
    "    The Chi distribution is the positive square root of the sum of squares of independent random variables,\n",
    "    each following a standard normal distribution:\n",
    "    \n",
    "        Z = sqrt(X_1^2 + X_2^2 + X_3^2 + X_4^2 + .....)\n",
    "    \n",
    "    For k=2, this is the function that represents the distribution of \n",
    "    \n",
    "        p_T = \\sqrt(Px^2 + Py^2)\n",
    "        \n",
    "    where Px and Py are Gaussians,\n",
    "    assuming mu_Py = mu_Px, and sigma_Py = sigma_Px.\n",
    "    \n",
    "    '''\n",
    "    rv = chi(2, mu_Px, sigma_Px)    \n",
    "    y_fit = rv.pdf(x)\n",
    "    y_fit_normed = y_fit/np.sum(y_fit)\n",
    "    return y_fit_normed\n",
    "\n",
    "\n",
    "def fit_pT( x, y, y_err, fdebug=0, do_plot_fit=False, color='k' ):\n",
    "    '''\n",
    "    return \n",
    "    -------\n",
    "    fit_results     dict\n",
    "    '''\n",
    "    \n",
    "    fit_results = dict()\n",
    "    if np.max(y)>0:\n",
    "        popt,pcov=sp.optimize.curve_fit(fit_function_pT, xdata=x, ydata=y, p0=[np.mean(x[x<0.5]),np.std(x)], ) # sigma=y_err, \n",
    "        mu_fit  = popt[0]\n",
    "        mu_err  = np.sqrt(pcov[0,0])\n",
    "        if mu_err ==np.inf: mu_err  = np.max([mu_fit ,0.01])\n",
    "        sig_fit = popt[1]\n",
    "        sig_err = np.sqrt(pcov[1,1])\n",
    "        if sig_err==np.inf: sig_err = np.max([sig_fit ,0.01])\n",
    "    else:\n",
    "        mu_fit,mu_err,sig_fit,sig_err = 0,0,0,0\n",
    "\n",
    "    fit_results['mu_fit'] = mu_fit\n",
    "    fit_results['mu_err'] = mu_err\n",
    "    fit_results['sig_fit'] = sig_fit\n",
    "    fit_results['sig_err'] = sig_err\n",
    "    \n",
    "    if fdebug>1:\n",
    "        print(mu_fit , mu_err)\n",
    "        print(sig_fit, sig_err)\n",
    "        \n",
    "    if do_plot_fit:\n",
    "        x_fit = np.linspace(np.min(x),np.max(x),100)\n",
    "        plt.plot( x_fit, fit_function_pT( x_fit, mu_fit , sig_fit )*len(x_fit)/len(x), '--', color=color );\n",
    "    return fit_results"
   ]
  },
  {
   "cell_type": "code",
   "execution_count": 33,
   "id": "3c96d2f2-8fa7-4c4b-a6d2-1e7db0286db9",
   "metadata": {},
   "outputs": [],
   "source": [
    "def plot_pT2(df_dict = e_e_pi_claspyth_pass_cuts, bins = np.linspace(0,1.3,31), \n",
    "             Q2min=0, Q2max=10, \n",
    "             xBmin=0, xBmax=2,              \n",
    "             Zmin=0,  Zmax=1, \n",
    "             ylim_ratio=None):\n",
    "    \n",
    "    pi_class_labels = ['direct','non-diffractive $\\\\rho$','diffractive $\\\\rho$']\n",
    "    pi_class_colors = ['forestgreen' , 'salmon',                'royalblue'          ]\n",
    "\n",
    "\n",
    "\n",
    "    fig = plt.figure(figsize=(11,7),tight_layout=True); \n",
    "    h,h_all,h_err,h_all_err = dict(),dict(),dict(),dict()\n",
    "    for pi_ch,pi_idx in zip(pi_charge_names,[1,2]):\n",
    "        ax = fig.add_subplot(3,2,(pi_idx,pi_idx+2))\n",
    "        df = df_dict[pi_ch]\n",
    "        # df = df[df.pi_Z > 0.3]\n",
    "        df = df[ (Q2min<df.Q2)   & (df.Q2<Q2max)                 \n",
    "                &(xBmin<df.xB)   & (df.xB<xBmax)                            \n",
    "                &(Zmin <df.pi_Z) & (df.pi_Z<Zmax)]\n",
    "\n",
    "\n",
    "        pi_from_rho      = df[(df.pi_parent_PDG==113)|(df.pi_parent_PDG==213)|(df.pi_parent_PDG==-213)]\n",
    "        pi_direct[pi_ch] = df[(df.pi_parent_PDG==2)  |(df.pi_parent_PDG==-2) |(df.pi_parent_PDG==91)  |(df.pi_parent_PDG==92)|(df.pi_parent_PDG==93)]\n",
    "\n",
    "\n",
    "        M_x_rho             = pi_from_rho.M_x_rho\n",
    "        diffractive_rho     = pi_from_rho[pi_from_rho.M_x_rho < Mx_diffractive]\n",
    "        non_diffractive_rho = pi_from_rho[Mx_diffractive < pi_from_rho.M_x_rho ]\n",
    "\n",
    "        pi_from_diffractive_rho[pi_ch]     = diffractive_rho\n",
    "        pi_from_non_diffractive_rho[pi_ch] = non_diffractive_rho\n",
    "\n",
    "        pT2 = np.square(df.pi_qFrame_pT)\n",
    "        x,h_all[pi_ch+'all'],x_err,h_all_err[pi_ch+'all'] = plot_step_squares( pT2, ax=ax, bins=bins, color='k', label='all $'+pi_labels[pi_idx-1]+'$' )\n",
    "\n",
    "\n",
    "        pi_classes = [ pi_direct[pi_ch], pi_from_non_diffractive_rho[pi_ch], pi_from_diffractive_rho[pi_ch]]\n",
    "        for pi_class,label,color in zip(pi_classes, pi_class_labels, pi_class_colors):\n",
    "            pT2 = np.square(pi_class.pi_qFrame_pT)\n",
    "            plot_step_hist( pT2, bins=bins, color=color, label=None, do_plot_errorbar=False, do_plot_step=False )\n",
    "            x,h[pi_ch+label],x_err,h_err[pi_ch+label] = plot_step_squares( pT2, ax=ax, bins=bins, color=color, label=label )\n",
    "\n",
    "        set_axes(ax,'$(\\;p_T\\;)^2$ [(GeV/c)$^2$]','',title='$'+pi_labels[pi_idx-1]+'$',fontsize=16,do_add_grid=True,do_add_legend=True,xlim=(0,1.3),ylim=(1e1,np.max(h_all[pi_ch+'all'])));\n",
    "        ax.set_yscale('log')\n",
    "        \n",
    "    ax = fig.add_subplot(3,2,(5,6))\n",
    "    ymax = 0\n",
    "    for pi_class,label,color in zip(pi_classes, pi_class_labels, pi_class_colors):\n",
    "        R = h['piplus'+label]/h['piminus'+label]\n",
    "        R_err = R * np.sqrt( np.square(h_err['piplus'+label]/h['piplus'+label]) + np.square(h_err['piminus'+label]/h['piminus'+label]))\n",
    "        ax.errorbar(x, R, R_err , marker='s', color=color, linestyle='None', capsize=2)\n",
    "        if max(R+R_err) > ymax: ymax = max(R+R_err)\n",
    "        \n",
    "    if ylim_ratio == None: ylim_ratio = (0.1,1.1*ymax)\n",
    "    set_axes(ax,'$(\\;p_T\\;)^2$ [(GeV/c)$^2$]','$\\pi^+/\\pi^-$',fontsize=16,do_add_grid=True,do_add_legend=False,xlim=(0,1.3),ylim=ylim_ratio);\n",
    "    # ax.set_yscale('log')\n"
   ]
  },
  {
   "cell_type": "code",
   "execution_count": null,
   "id": "9c097637-d924-4957-9389-0ffe0cd433d6",
   "metadata": {},
   "outputs": [],
   "source": []
  },
  {
   "cell_type": "markdown",
   "id": "36cd99bc-210a-4f0a-9e1e-213fe9819cfa",
   "metadata": {
    "tags": []
   },
   "source": [
    "# (3) Plot $p_T$ "
   ]
  },
  {
   "cell_type": "markdown",
   "id": "311d4aa9-887a-4992-a07a-0212012fbb0a",
   "metadata": {},
   "source": [
    "## (3.1) Separate samples to three sub-classes:\n",
    "#### (1) pions prodcued directly from quarks\n",
    "#### (2) pions prodcued from VM that were non-diffractive (nuclear fragmentation)\n",
    "#### (3) pions produced from diffractive rho production "
   ]
  },
  {
   "cell_type": "markdown",
   "id": "37c5e0e2-6a5a-41a9-b6c8-acf7ce5f4a67",
   "metadata": {
    "tags": []
   },
   "source": [
    "### (3.1.1) pion parent"
   ]
  },
  {
   "cell_type": "code",
   "execution_count": 34,
   "id": "3013e2a0-abf7-4e78-898c-00f184c019ba",
   "metadata": {},
   "outputs": [
    {
     "name": "stdout",
     "output_type": "stream",
     "text": [
      "[-313    0   91   92  113  213  221  223  310  323  331  333 2214 2224\n",
      " 3222 3224]\n",
      "[-323 -213    0   22   91   92  113  221  223  310  313  331  333 1114\n",
      " 2114 3112 3114]\n"
     ]
    },
    {
     "data": {
      "image/png": "[encoded data removed]",
      "text/plain": [
       "<Figure size 936x360 with 2 Axes>"
      ]
     },
     "metadata": {
      "image/png": {
       "height": 322,
       "width": 719
      }
     },
     "output_type": "display_data"
    }
   ],
   "source": [
    "df_dict = e_e_pi_claspyth_pass_cuts\n",
    "fig = plt.figure(figsize=(13,5)); \n",
    "for pi_ch,pi_idx in zip(pi_charge_names,[1,2]):\n",
    "    df = df_dict[pi_ch]\n",
    "    df = df[df.pi_Z > 0.3]\n",
    "    ax = fig.add_subplot(1,2,pi_idx)\n",
    "\n",
    "    parents = np.unique(df.pi_parent_PDG);\n",
    "    parent_frequencies = []\n",
    "    parent_pdgs        = []\n",
    "    parent_labels      = []\n",
    "    others_frequency   = 0;\n",
    "    for parent in parents:\n",
    "        frequency = 100.*float(len(df[df.pi_parent_PDG==parent]))/len(df);\n",
    "        if frequency>4:\n",
    "            parent_frequencies.append(frequency);\n",
    "            parent_labels.append(PDG2Particle(parent));\n",
    "            parent_pdgs.append(parent);\n",
    "        else:\n",
    "            others_frequency = others_frequency + frequency\n",
    "    parent_frequencies.append(others_frequency)\n",
    "    parent_labels.append('others');\n",
    "\n",
    "    plt.pie(parent_frequencies, labels = parent_labels,textprops={'fontsize':16},\n",
    "            explode=0.1*np.ones(len(parent_frequencies)), \n",
    "            # autopct='%1.1f%%', \n",
    "            shadow=True,\n",
    "            startangle=90);\n",
    "    ax.set_title('$'+pi_labels[pi_idx-1]+'$',fontsize=40)\n",
    "    print(parents)"
   ]
  },
  {
   "cell_type": "markdown",
   "id": "d2863899-1ac7-4485-af85-214b28fa5d2e",
   "metadata": {
    "tags": []
   },
   "source": [
    "### (3.1.2) pion from $\\rho$ production - diffractive or non-diffractive"
   ]
  },
  {
   "cell_type": "code",
   "execution_count": null,
   "id": "31259bf2-2cc8-4082-b183-59bbe208105f",
   "metadata": {},
   "outputs": [],
   "source": [
    "Mx_diffractive = 1.4; # GeV/c2\n",
    "pi_direct                   = dict()\n",
    "pi_from_diffractive_rho     = dict()\n",
    "pi_from_non_diffractive_rho = dict()\n",
    "\n",
    "fig = plt.figure(figsize=(13,5),tight_layout=True); \n",
    "for pi_ch,pi_idx in zip(pi_charge_names,[1,2]):\n",
    "    df = df_dict[pi_ch]\n",
    "    df = df[df.pi_Z > 0.3]\n",
    "\n",
    "    pi_from_rho = df[(df.pi_parent_PDG==113)|(df.pi_parent_PDG==213)|(df.pi_parent_PDG==-213)]\n",
    "    \n",
    "    M_x_rho             = pi_from_rho.M_x_rho\n",
    "    diffractive_rho     = pi_from_rho[pi_from_rho.M_x_rho < Mx_diffractive]\n",
    "    non_diffractive_rho = pi_from_rho[Mx_diffractive < pi_from_rho.M_x_rho ]\n",
    "    \n",
    "    pi_direct[pi_ch]                   = df[(df.pi_parent_PDG==2)|(df.pi_parent_PDG==-2)|(df.pi_parent_PDG==91)|(df.pi_parent_PDG==92)|(df.pi_parent_PDG==93)]\n",
    "    pi_from_diffractive_rho[pi_ch]     = diffractive_rho\n",
    "    pi_from_non_diffractive_rho[pi_ch] = non_diffractive_rho\n",
    "    \n",
    "    ax = fig.add_subplot(1,2,pi_idx)\n",
    "    h,edges = np.histogram( M_x_rho, bins=np.linspace(0.8,2.8,50) )\n",
    "    Mx       = (edges[1:]+edges[0:-1])/2\n",
    "    bin_size = (edges[1:]-edges[0:-1]) \n",
    "    \n",
    "\n",
    "    \n",
    "    ax.step( Mx, h , where='mid', color='k' )\n",
    "    ax.bar( Mx[Mx < Mx_diffractive],  h[Mx < Mx_diffractive], width=bin_size[Mx < Mx_diffractive] )\n",
    "    plt.text(1, 0.85*np.max(h[Mx < Mx_diffractive]), '%.1f%% diffractive $\\\\rho$'%(100.*len(diffractive_rho)/len(pi_from_rho)), color='royalblue', fontsize=20)\n",
    "\n",
    "    ax.bar( Mx[Mx > Mx_diffractive],  h[Mx > Mx_diffractive], width=bin_size[Mx > Mx_diffractive] )\n",
    "    plt.text(1.5, 0.4*np.max(h[Mx < Mx_diffractive]), '%.1f%% non-diffractive $\\\\rho$'%(100.*len(non_diffractive_rho)/len(pi_from_rho)), color='salmon', fontsize=20)\n",
    "\n",
    "\n",
    "    # ax.hist\n",
    "    set_axes(ax,\"$M_x^{(e,e'\\\\rho)}$ [GeV/c$^2$]\",'Frequency [a.u.]',title='$'+pi_labels[pi_idx-1]+'$',fontsize=16,do_add_grid=True)"
   ]
  },
  {
   "cell_type": "markdown",
   "id": "6afa9c7a-5dd5-4164-bcf0-51cd842955b3",
   "metadata": {
    "jp-MarkdownHeadingCollapsed": true,
    "tags": []
   },
   "source": [
    "## (3.2) $p_T^2$  in kinematical bins"
   ]
  },
  {
   "cell_type": "code",
   "execution_count": null,
   "id": "a05bc1c9-1ec8-4f4c-89a1-b69f25968fcf",
   "metadata": {},
   "outputs": [],
   "source": [
    "plot_pT2( bins = np.linspace(0,1.3,31), ylim_ratio=(0.1,3.2))"
   ]
  },
  {
   "cell_type": "code",
   "execution_count": null,
   "id": "fe5bc32b-46b7-4055-9622-b1513be7af0f",
   "metadata": {},
   "outputs": [],
   "source": [
    "plot_pT2(Q2min=2, Q2max=2.5, \n",
    "         xBmin=0.2, xBmax=0.24,\n",
    "         Zmin=0.3,  Zmax=0.35, \n",
    "         bins = np.linspace(0,1.,15), ylim_ratio=(0.1,4))"
   ]
  },
  {
   "cell_type": "code",
   "execution_count": null,
   "id": "ed0cad51-cde2-4172-9230-3c9e2b1a9904",
   "metadata": {},
   "outputs": [],
   "source": [
    "plot_pT2(Q2min=3, Q2max=3.5, \n",
    "         xBmin=0.24, xBmax=0.28,\n",
    "         Zmin=0.3,  Zmax=0.35, \n",
    "         bins = np.linspace(0,1.,11), \n",
    "         ylim_ratio=(0.01,6))"
   ]
  },
  {
   "cell_type": "code",
   "execution_count": null,
   "id": "13474b0d-0b32-4f27-98a9-c7568fbd4b0a",
   "metadata": {},
   "outputs": [],
   "source": [
    "plot_pT2(Q2min=4, Q2max=4.5, \n",
    "         xBmin=0.3, xBmax=0.34,\n",
    "         Zmin=0.5,  Zmax=0.55, \n",
    "         bins = np.linspace(0,0.65,11),\n",
    "         ylim_ratio=(0.01,5))"
   ]
  },
  {
   "cell_type": "code",
   "execution_count": null,
   "id": "8ca4e4b0-0eae-4d20-9502-c9755affc0a5",
   "metadata": {},
   "outputs": [],
   "source": [
    "plot_pT2(Q2min=3,   Q2max=5, \n",
    "         xBmin=0.25, xBmax=0.4,\n",
    "         Zmin=0.6,  Zmax=0.8, \n",
    "         bins = np.linspace(0,0.65,11),\n",
    "         ylim_ratio=(0.01,5))"
   ]
  },
  {
   "cell_type": "markdown",
   "id": "2dcfa2b9-9556-436d-9e9f-454a5281ee2a",
   "metadata": {},
   "source": [
    "# Quantify the correction factor for $\\pi^+/\\pi^-$"
   ]
  },
  {
   "cell_type": "code",
   "execution_count": null,
   "id": "adb1d436-249a-4bf7-ab45-ac96a92c8f81",
   "metadata": {},
   "outputs": [],
   "source": [
    "def compute_non_direct_pips_to_pims_correction(df_dict = e_e_pi_claspyth_pass_cuts, \n",
    "                                               Q2min=0, Q2max=10, \n",
    "                                               xBmin=0, xBmax=2,\n",
    "                                               Zmin =0,  Zmax=1, \n",
    "                                               pTmin=0, pTmax=1):\n",
    "    '''\n",
    "    \n",
    "    [output] = compute_non_direct_pips_to_pims_correction(\n",
    "                                               df_dict = e_e_pi_claspyth_pass_cuts, \n",
    "                                               Q2min=0, Q2max=10, \n",
    "                                               xBmin=0, xBmax=2,\n",
    "                                               Zmin =0,  Zmax=1, \n",
    "                                               pTmin=0, pTmax=1)\n",
    "    \n",
    "    Compute the correction for non-direct pion production,\n",
    "    i.e. (e,e'π) events from vector meson production (diffractive or non-diffractive)\n",
    "    \n",
    "    '''\n",
    "    \n",
    "    Ntot, Ndirect          = dict(),dict()\n",
    "    f_direct, f_direct_err = dict(),dict()\n",
    "    corr, corr_err         = dict(),dict()\n",
    "    \n",
    "    for pi_ch,pi_idx in zip(pi_charge_names,[1,2]):\n",
    "        df = df_dict[pi_ch]\n",
    "        df = df[ (Q2min<df.Q2)            & (df.Q2<Q2max)                 \n",
    "                &(xBmin<df.xB)            & (df.xB<xBmax)                            \n",
    "                &(Zmin <df.pi_Z)          & (df.pi_Z<Zmax)                            \n",
    "                &(pTmin<df.pi_qFrame_pT)  & (df.pi_qFrame_pT<pTmax)]\n",
    "        \n",
    "        pi_direct[pi_ch] = df[(df.pi_parent_PDG==2)    \n",
    "                              |(df.pi_parent_PDG==-2) \n",
    "                              |(df.pi_parent_PDG==91)  \n",
    "                              |(df.pi_parent_PDG==92)\n",
    "                              |(df.pi_parent_PDG==93)]\n",
    "        \n",
    "        Ntot[pi_ch]         = np.max([0,float(len(df))]);\n",
    "        Ndirect[pi_ch]      = np.max([0,float(len(pi_direct[pi_ch]))]);\n",
    "\n",
    "\n",
    "        f_direct[pi_ch]     = Ndirect[pi_ch]/Ntot[pi_ch];\n",
    "        f_direct_err[pi_ch] = f_direct[pi_ch] * np.sqrt( 1./Ndirect[pi_ch] + 1./Ntot[pi_ch] );\n",
    "        corr[pi_ch]         = 1./f_direct[pi_ch]\n",
    "        corr_err[pi_ch]     = f_direct_err[pi_ch]/np.square(f_direct[pi_ch])\n",
    "\n",
    "    # correction for π+/π- cross-section ratio\n",
    "    corr_pips_to_pims = corr['piplus']/corr['piminus']\n",
    "    corr_pips_to_pims_err = corr_pips_to_pims * np.sqrt(np.square(corr_err['piplus']/corr['piplus']) + \n",
    "                                                        np.square(corr_err['piminus']/corr['piminus']))\n",
    "\n",
    "    info,output = dict(),dict()\n",
    "    info['f(direct)']       = f_direct;\n",
    "    info['df(direct)']      = f_direct_err;\n",
    "    info['correction(π)']   = corr;\n",
    "    info['d correction(π)'] = corr_err;\n",
    "    output['info'] = info\n",
    "    output['correction(π+/π-)'] = corr_pips_to_pims;\n",
    "    output['d correction(π+/π-)'] = corr_pips_to_pims_err;\n",
    "    print(output['correction(π+/π-)'])                                 \n",
    "    return output"
   ]
  },
  {
   "cell_type": "code",
   "execution_count": null,
   "id": "48b0a215-64ce-4f9a-beac-25ae64166893",
   "metadata": {},
   "outputs": [],
   "source": [
    "compute_non_direct_pips_to_pims_correction(df_dict = e_e_pi_claspyth_pass_cuts,\n",
    "                                           Q2min=3, Q2max=3.5, \n",
    "                                           xBmin=0.24, xBmax=0.28,\n",
    "                                           Zmin=0.3,  Zmax=0.35);"
   ]
  },
  {
   "cell_type": "code",
   "execution_count": null,
   "id": "e72bb9dd-960b-4316-b69f-b6542b66b4cb",
   "metadata": {},
   "outputs": [],
   "source": [
    "compute_non_direct_pips_to_pims_correction(df_dict = e_e_pi_claspyth_pass_cuts,\n",
    "                                           Q2min=3, Q2max=5, \n",
    "                                           xBmin=0.24, xBmax=0.28,\n",
    "                                           Zmin=0.3,  Zmax=0.35);"
   ]
  },
  {
   "cell_type": "code",
   "execution_count": null,
   "id": "b57e22e9-f11c-4640-a77c-7b017a7cb6d5",
   "metadata": {},
   "outputs": [],
   "source": [
    "compute_non_direct_pips_to_pims_correction(df_dict = e_e_pi_claspyth_pass_cuts,\n",
    "                                           Q2min=3, Q2max=5, \n",
    "                                           xBmin=0.24, xBmax=0.4,\n",
    "                                           Zmin=0.6,  Zmax=0.8);"
   ]
  },
  {
   "cell_type": "code",
   "execution_count": null,
   "id": "774407b5-0d6e-480e-b43a-f825408d04bf",
   "metadata": {},
   "outputs": [],
   "source": [
    "compute_non_direct_pips_to_pims_correction(df_dict = e_e_pi_claspyth_pass_cuts,\n",
    "                                           Q2min=3, Q2max=8, \n",
    "                                           xBmin=0.26, xBmax=0.8,\n",
    "                                           Zmin=0.6,  Zmax=0.8, \n",
    "                                           pTmin=0.9);"
   ]
  },
  {
   "cell_type": "markdown",
   "id": "b680f2c7-08d8-4fd6-a6fe-c8dfc208f2b4",
   "metadata": {
    "tags": []
   },
   "source": [
    "# arxiv"
   ]
  },
  {
   "cell_type": "code",
   "execution_count": null,
   "id": "2beddbc3-42f1-4378-a8d4-08348c409b23",
   "metadata": {},
   "outputs": [],
   "source": [
    "def plot_generator_pT(df_dict = e_e_pi_clasdis_pass_cuts,\n",
    "                      var  = 'Q2', \n",
    "                    bins = np.linspace(1.8,7.8,31),\n",
    "                    xScaling=1,\n",
    "                    varlabel = '$Q^2$',\n",
    "                    varunits = '[(GeV/c)$^2$]',\n",
    "                    xticks = None, xlim=None,\n",
    "                    fdebug=1,                     \n",
    "                    ylim_ratio=(0,10),ylim_hists=None,\n",
    "                    do_add_legends=True,\n",
    "                    do_save_figure=True,\n",
    "                    do_seperate_subplots=False,\n",
    "                    do_seperate_pi_parent=False,\n",
    "                    Q2min=0, Q2max=10, \n",
    "                    xBmin=0, xBmax=2, \n",
    "                    Zmin=0,  Zmax=1):#{\n",
    "    \n",
    "    if fdebug>2: print(bins)\n",
    "    ax = dict()    \n",
    "    fig = plt.figure(figsize=(14,9),tight_layout=True)\n",
    "    \n",
    "    h,NeventsTot = dict(),dict()\n",
    "    if do_seperate_subplots==False:\n",
    "        ax = fig.add_subplot(1,1,1)\n",
    "    for pi_ch,pi_print,pi_label,pi_color,pi_idx in zip(pi_charge_names,pi_prints,\n",
    "                                                       pi_labels,pi_colors,[1,2]):\n",
    "        if do_seperate_pi_parent: \n",
    "            ax = fig.add_subplot(2,2,pi_idx)\n",
    "\n",
    "        elif do_seperate_subplots: \n",
    "            ax = fig.add_subplot(1,2,pi_idx)\n",
    "\n",
    "\n",
    "        df = df_dict[pi_ch]\n",
    "        df = df[ (Q2min<df.Q2)   & (df.Q2<Q2max)                 \n",
    "                &(xBmin<df.xB)   & (df.xB<xBmax)                            \n",
    "                &(Zmin <df.pi_Z) & (df.pi_Z<Zmax)]\n",
    "\n",
    "        x,h['all'+pi_ch],x_err,h_err['all'+pi_ch] = plot_step_squares( df[var], ax=ax,\n",
    "                                                                                bins=bins, xScaling=xScaling,\n",
    "                                                                                density=False, color='k' if do_seperate_subplots else pi_color, alpha=0.5,\n",
    "                                                                                label=\"$(e,e'\"+pi_label+\")$\" )\n",
    "        \n",
    "        ax.step(x,h['all'+pi_ch],'-',color='k' if do_seperate_subplots else pi_color,where='mid')\n",
    "        set_axes(ax, varlabel+varunits if do_seperate_pi_parent==False else '',\n",
    "                 'Counts', \n",
    "                 title=\"$(e,e'\"+pi_label+\")$\",\n",
    "                 do_add_grid=True,\n",
    "                 remove_ticks_x=False, xticks=xticks, xlim=xlim,\n",
    "                 ylim=(1e0, 1.2*np.max(h['all'+pi_ch])))\n",
    "        ax.set_yscale('log')\n",
    "\n",
    "        if do_seperate_pi_parent:\n",
    "            for ax_idx in [pi_idx, 2+pi_idx]:\n",
    "                if ax_idx==2+pi_idx: ax = fig.add_subplot(2,2,ax_idx)\n",
    "                df_non_vector_mesons = df[(df.pi_parent_PDG!=113) \n",
    "                                      & (df.pi_parent_PDG!=213) & (df.pi_parent_PDG!=-213) \n",
    "                                      & (df.pi_parent_PDG!=223) & (df.pi_parent_PDG!=-223)\n",
    "                                     ]\n",
    "                x,h['non vector mesons'+pi_ch],x_err,h_err['non vector mesons'+pi_ch] = plot_step_squares( df_non_vector_mesons[var], ax=ax,\n",
    "                                                                                bins=bins, xScaling=xScaling,\n",
    "                                                                                density=True if ax_idx==2+pi_idx else False, \n",
    "                                                                                                          color='yellow', alpha=0.4,\n",
    "                                                                                label=\"$\"+pi_label+\"$ not vec. mes.\" )\n",
    "                ax.step(x,h['non vector mesons'+pi_ch],'-',color='yellow',where='mid')\n",
    "\n",
    "                df_vector_mesons = df[(df.pi_parent_PDG==113) \n",
    "                                  | (df.pi_parent_PDG==213) | (df.pi_parent_PDG==-213) \n",
    "                                  | (df.pi_parent_PDG==223) | (df.pi_parent_PDG==-223)\n",
    "                                 ]\n",
    "                x,h['vector mesons'+pi_ch],x_err,h_err['vector mesons'+pi_ch] = plot_step_squares( df_vector_mesons[var], ax=ax,\n",
    "                                                                                bins=bins, xScaling=xScaling,\n",
    "                                                                                density=True if ax_idx==2+pi_idx else False, color='r', alpha=0.4,\n",
    "                                                                                label=\"$\"+pi_label+\"$ from $\\\\rho$ or $\\\\omega$\" )\n",
    "                ax.step(x,h['vector mesons'+pi_ch],'-',color='r',where='mid')\n",
    "\n",
    "\n",
    "            ax.set_yscale('log')\n",
    "            set_axes(ax, varlabel+varunits,\n",
    "                     'Frequency [a.u.]', \n",
    "                     do_add_grid=True,\n",
    "                     remove_ticks_x=False, do_add_legend=do_add_legends, xticks=xticks,xlim=xlim )\n",
    "    \n",
    "    if do_save_figure:\n",
    "        save_figure(filename=figures_path + var + '.pdf')\n",
    "    return ax\n",
    "#}"
   ]
  },
  {
   "cell_type": "code",
   "execution_count": null,
   "id": "a0f41c3a-2648-4336-a5d7-8558563b6b60",
   "metadata": {},
   "outputs": [],
   "source": [
    "# Q2min, Q2max = 2.0, 2.5\n",
    "# xBmin, xBmax = 0.2, 0.24\n",
    "\n",
    "Q2min, Q2max = 3.0, 3.5\n",
    "xBmin, xBmax = 0.24, 0.28\n",
    "\n",
    "# Q2min, Q2max = 4.0, 4.5\n",
    "# xBmin, xBmax = 0.28, 0.32\n",
    "\n",
    "Zmin,  Zmax  = 0.4, 0.45\n",
    "\n",
    "ax = plot_generator_pT(var  = 'pi_qFrame_pT', bins = np.linspace(0,1.1,21),varlabel = '$p_{\\pi}^{\\perp}$',varunits = '[GeV/c]', xlim=(0.,1.1),\n",
    "                    Q2min=Q2min, Q2max=Q2max, xBmin=xBmin, xBmax=xBmax, Zmin=Zmin, Zmax=Zmax,\n",
    "                     do_seperate_subplots=True, \n",
    "                     do_seperate_pi_parent=True,\n",
    "                     do_save_figure=False )"
   ]
  },
  {
   "cell_type": "code",
   "execution_count": null,
   "id": "f84818fd-5293-4306-9498-ed5aef873ad7",
   "metadata": {},
   "outputs": [],
   "source": [
    "# Q2min, Q2max = 2.0, 2.5\n",
    "# xBmin, xBmax = 0.2, 0.24\n",
    "\n",
    "Q2min, Q2max = 3.0, 3.5\n",
    "xBmin, xBmax = 0.24, 0.28\n",
    "\n",
    "# Q2min, Q2max = 4.0, 4.5\n",
    "# xBmin, xBmax = 0.28, 0.32\n",
    "\n",
    "Zmin,  Zmax  = 0.4, 0.45\n",
    "\n",
    "ax = plot_generator_pT(df_dict = e_e_pi_claspyth_pass_cuts,\n",
    "                       var  = 'pi_qFrame_pT', bins = np.linspace(0,1.1,21),varlabel = '$p_{\\pi}^{\\perp}$',varunits = '[GeV/c]', xlim=(0.,1.1),\n",
    "                    Q2min=Q2min, Q2max=Q2max, xBmin=xBmin, xBmax=xBmax, Zmin=Zmin, Zmax=Zmax,\n",
    "                     do_seperate_subplots=True, \n",
    "                     do_seperate_pi_parent=True,\n",
    "                     do_save_figure=False )"
   ]
  },
  {
   "cell_type": "code",
   "execution_count": null,
   "id": "b72a5f39-7239-4931-941d-7018b42b3076",
   "metadata": {},
   "outputs": [],
   "source": []
  },
  {
   "cell_type": "code",
   "execution_count": null,
   "id": "bc8ebfc0-4a2d-4278-84f6-c9a04b6ca994",
   "metadata": {},
   "outputs": [],
   "source": []
  },
  {
   "cell_type": "markdown",
   "id": "351f07eb-7aa4-4d73-9b37-988b1d63d181",
   "metadata": {
    "tags": []
   },
   "source": [
    "## (3.1) Integrated over kineamtics"
   ]
  },
  {
   "cell_type": "code",
   "execution_count": null,
   "id": "bb4bef85-0690-4855-91d0-1083d4f3b8bd",
   "metadata": {},
   "outputs": [],
   "source": [
    "ax = plot_clasdis_pT(var  = 'pi_qFrame_pT',                    \n",
    "                    bins = np.linspace(0,1.3,21),                    \n",
    "                    varlabel = '$p_{\\pi}^{\\perp}$', \n",
    "                    varunits = '[GeV/c]')\n",
    "# ax[1].set_yscale('log')\n"
   ]
  },
  {
   "cell_type": "code",
   "execution_count": null,
   "id": "a3f02fc1-43db-4511-bb14-e91115b20edb",
   "metadata": {},
   "outputs": [],
   "source": []
  }
 ],
 "metadata": {
  "kernelspec": {
   "display_name": "Python 3 (ipykernel)",
   "language": "python",
   "name": "python3"
  },
  "language_info": {
   "codemirror_mode": {
    "name": "ipython",
    "version": 3
   },
   "file_extension": ".py",
   "mimetype": "text/x-python",
   "name": "python",
   "nbconvert_exporter": "python",
   "pygments_lexer": "ipython3",
   "version": "3.9.13"
  }
 },
 "nbformat": 4,
 "nbformat_minor": 5
}
