{
 "cells": [
  {
   "cell_type": "markdown",
   "id": "1e30185d-b4cf-4059-b94e-9171f6fe8c0e",
   "metadata": {
    "tags": []
   },
   "source": [
    "# Study $p_T$ in the generator level\n",
    "last edit July-18, 2023"
   ]
  },
  {
   "cell_type": "markdown",
   "id": "79a1f377-5bd5-43ba-8a4a-4cb54f37a6bc",
   "metadata": {
    "jp-MarkdownHeadingCollapsed": true,
    "tags": []
   },
   "source": [
    "## Imports and definitions"
   ]
  },
  {
   "cell_type": "code",
   "execution_count": 1,
   "id": "004e7dab-d231-4947-8ab5-4256ea735722",
   "metadata": {},
   "outputs": [
    {
     "name": "stdout",
     "output_type": "stream",
     "text": [
      "Welcome to JupyROOT 6.26/06\n",
      "Loaded bin migration and acceptance weights from MC calculations.\n"
     ]
    }
   ],
   "source": [
    "import sys; \n",
    "software_path = '/Users/erezcohen/Desktop/Software/'\n",
    "sys.path.insert(0, software_path + '/mySoftware/Python/');\n",
    "sys.path.insert(0, software_path + '/CLAS12/BAND/SIDIS_at_BAND/PythonAnalysis/AcceptanceCorrections/');\n",
    "sys.path.insert(0, software_path + '/CLAS12/BAND/SIDIS_at_BAND/PythonAnalysis/python_auxiliary/');\n",
    "from my_tools                     import *; \n",
    "from plot_tools                   import *;\n",
    "from my_data_analysis_tools       import *;\n",
    "from acceptance_correction_tools  import *;\n",
    "from sidis_analysis_tools         import *;\n",
    "# from event_selection_tools        import *;"
   ]
  },
  {
   "cell_type": "code",
   "execution_count": 2,
   "id": "851ff650-2150-418c-aba3-d02dd579452f",
   "metadata": {},
   "outputs": [],
   "source": [
    "%config InlineBackend.figure_format = 'retina'\n",
    "plt.rcParams['mathtext.fontset']    = 'stix'\n",
    "plt.rcParams['font.family']         = 'STIXGeneral'"
   ]
  },
  {
   "cell_type": "code",
   "execution_count": 3,
   "id": "31b05bb0-2511-449a-86db-e42435ec1263",
   "metadata": {},
   "outputs": [],
   "source": [
    "clasdis_path = '/Users/erezcohen/Desktop/data/BAND/CLASDIS/eventfiles/our_kinematics/';\n",
    "claspyth_path = '/Users/erezcohen/Desktop/data/BAND/CLASPYTH/eventfiles/our_kinematics/';\n",
    "figures_path = '/Users/erezcohen/Desktop/Projects/SIDIS/FragmentationAnalysis/AnalysisNote/Figures/MC/CLASDIS/'"
   ]
  },
  {
   "cell_type": "markdown",
   "id": "64686df2-853e-4af6-8a73-3909b0743e0b",
   "metadata": {
    "tags": []
   },
   "source": [
    "# (1) Load simulation files and apply kinematical selection cuts"
   ]
  },
  {
   "cell_type": "markdown",
   "id": "ea54cc53-2bd6-4516-bd18-f76d5ccd6397",
   "metadata": {
    "jp-MarkdownHeadingCollapsed": true,
    "tags": []
   },
   "source": [
    "## (1.1) CLASPYTH\n",
    "Since with CLASPYTH we can not simulate a deuteron target, we merge the simulations of a proton and a neutron targets"
   ]
  },
  {
   "cell_type": "code",
   "execution_count": 4,
   "id": "27047129-0df1-4501-8cd7-b2857197cd3c",
   "metadata": {},
   "outputs": [
    {
     "name": "stdout",
     "output_type": "stream",
     "text": [
      "Loaded 10768393 π+ events and 10581247 π- events\n"
     ]
    }
   ],
   "source": [
    "e_e_pi_claspyth = dict()\n",
    "\n",
    "for runnum in range(1):\n",
    "    \n",
    "    # neutron target\n",
    "    xsec_n_nb = 0\n",
    "    df_n_pips = pd.read_csv(claspyth_path + 'claspytn0.00.e10.600.emn1.00tmn5.0.xs%d_pips.csv'%(xsec_n_nb));\n",
    "    df_n_pims = pd.read_csv(claspyth_path + 'claspytn0.00.e10.600.emn1.00tmn5.0.xs%d_pims.csv'%(xsec_n_nb));\n",
    "    # proton target\n",
    "    xsec_p_nb = 0\n",
    "    df_p_pips = pd.read_csv(claspyth_path + 'claspytp+.00.e10.600.emn1.00tmn5.0.xs%d_pips.csv'%(xsec_p_nb));\n",
    "    df_p_pims = pd.read_csv(claspyth_path + 'claspytp+.00.e10.600.emn1.00tmn5.0.xs%d_pims.csv'%(xsec_p_nb));\n",
    "\n",
    "    # merge - deuteron target\n",
    "    xsec_d_nb = xsec_n_nb + xsec_p_nb;\n",
    "    df_pips = pd.concat([df_n_pips, df_p_pips])\n",
    "    df_pims = pd.concat([df_n_pims, df_p_pims])\n",
    "    \n",
    "    # Add Zpi variable which is mislabeled here as pi_Z\n",
    "    df_pips['Zpi'] = df_pips['pi_Z']\n",
    "    df_pims['Zpi'] = df_pims['pi_Z']\n",
    "\n",
    "\n",
    "    \n",
    "    if runnum==0:\n",
    "        xsec_claspyth = xsec_d_nb;\n",
    "        e_e_pi_claspyth['piplus']  = df_pips\n",
    "        e_e_pi_claspyth['piminus'] = df_pims\n",
    "    else:\n",
    "        e_e_pi_claspyth['piplus']  = pd.concat([e_e_pi_claspyth['piplus'] ,df_pips])\n",
    "        e_e_pi_claspyth['piminus'] = pd.concat([e_e_pi_claspyth['piminus'],df_pims])\n",
    "    \n",
    "print('Loaded %d π+ events and %d π- events'%(len(e_e_pi_claspyth['piplus']),len(e_e_pi_claspyth['piminus'])))"
   ]
  },
  {
   "cell_type": "code",
   "execution_count": 5,
   "id": "9e00d524-cd27-44ad-8abb-ac82c3db91b7",
   "metadata": {},
   "outputs": [
    {
     "name": "stdout",
     "output_type": "stream",
     "text": [
      "Apply a π+/π- acceptance matching cut on the in p-theta plane\n",
      "Applying p-theta on cut for piplus which includes 10768393 events\n",
      "Applying p-theta on cut for piplus on 10768393 events\n",
      "10768393 in sector 1\n"
     ]
    },
    {
     "name": "stderr",
     "output_type": "stream",
     "text": [
      "/Users/erezcohen/Desktop/Software//CLAS12/BAND/SIDIS_at_BAND/PythonAnalysis/python_auxiliary/sidis_analysis_tools.py:1748: FutureWarning: The frame.append method is deprecated and will be removed from pandas in a future version. Use pandas.concat instead.\n",
      "  df_after_cut = df_after_cut.append(df_in_sector_pass_cut);\n"
     ]
    },
    {
     "name": "stdout",
     "output_type": "stream",
     "text": [
      "0 in sector 2\n"
     ]
    },
    {
     "name": "stderr",
     "output_type": "stream",
     "text": [
      "/Users/erezcohen/Desktop/Software//CLAS12/BAND/SIDIS_at_BAND/PythonAnalysis/python_auxiliary/sidis_analysis_tools.py:1748: FutureWarning: The frame.append method is deprecated and will be removed from pandas in a future version. Use pandas.concat instead.\n",
      "  df_after_cut = df_after_cut.append(df_in_sector_pass_cut);\n"
     ]
    },
    {
     "name": "stdout",
     "output_type": "stream",
     "text": [
      "0 in sector 3\n"
     ]
    },
    {
     "name": "stderr",
     "output_type": "stream",
     "text": [
      "/Users/erezcohen/Desktop/Software//CLAS12/BAND/SIDIS_at_BAND/PythonAnalysis/python_auxiliary/sidis_analysis_tools.py:1748: FutureWarning: The frame.append method is deprecated and will be removed from pandas in a future version. Use pandas.concat instead.\n",
      "  df_after_cut = df_after_cut.append(df_in_sector_pass_cut);\n"
     ]
    },
    {
     "name": "stdout",
     "output_type": "stream",
     "text": [
      "0 in sector 4\n"
     ]
    },
    {
     "name": "stderr",
     "output_type": "stream",
     "text": [
      "/Users/erezcohen/Desktop/Software//CLAS12/BAND/SIDIS_at_BAND/PythonAnalysis/python_auxiliary/sidis_analysis_tools.py:1748: FutureWarning: The frame.append method is deprecated and will be removed from pandas in a future version. Use pandas.concat instead.\n",
      "  df_after_cut = df_after_cut.append(df_in_sector_pass_cut);\n"
     ]
    },
    {
     "name": "stdout",
     "output_type": "stream",
     "text": [
      "0 in sector 5\n"
     ]
    },
    {
     "name": "stderr",
     "output_type": "stream",
     "text": [
      "/Users/erezcohen/Desktop/Software//CLAS12/BAND/SIDIS_at_BAND/PythonAnalysis/python_auxiliary/sidis_analysis_tools.py:1748: FutureWarning: The frame.append method is deprecated and will be removed from pandas in a future version. Use pandas.concat instead.\n",
      "  df_after_cut = df_after_cut.append(df_in_sector_pass_cut);\n"
     ]
    },
    {
     "name": "stdout",
     "output_type": "stream",
     "text": [
      "0 in sector 6\n"
     ]
    },
    {
     "name": "stderr",
     "output_type": "stream",
     "text": [
      "/Users/erezcohen/Desktop/Software//CLAS12/BAND/SIDIS_at_BAND/PythonAnalysis/python_auxiliary/sidis_analysis_tools.py:1748: FutureWarning: The frame.append method is deprecated and will be removed from pandas in a future version. Use pandas.concat instead.\n",
      "  df_after_cut = df_after_cut.append(df_in_sector_pass_cut);\n"
     ]
    },
    {
     "name": "stdout",
     "output_type": "stream",
     "text": [
      "Applying p-theta on cut for piminus which includes 10581247 events\n",
      "Applying p-theta on cut for piminus on 10581247 events\n",
      "10581247 in sector 1\n"
     ]
    },
    {
     "name": "stderr",
     "output_type": "stream",
     "text": [
      "/Users/erezcohen/Desktop/Software//CLAS12/BAND/SIDIS_at_BAND/PythonAnalysis/python_auxiliary/sidis_analysis_tools.py:1748: FutureWarning: The frame.append method is deprecated and will be removed from pandas in a future version. Use pandas.concat instead.\n",
      "  df_after_cut = df_after_cut.append(df_in_sector_pass_cut);\n"
     ]
    },
    {
     "name": "stdout",
     "output_type": "stream",
     "text": [
      "0 in sector 2\n"
     ]
    },
    {
     "name": "stderr",
     "output_type": "stream",
     "text": [
      "/Users/erezcohen/Desktop/Software//CLAS12/BAND/SIDIS_at_BAND/PythonAnalysis/python_auxiliary/sidis_analysis_tools.py:1748: FutureWarning: The frame.append method is deprecated and will be removed from pandas in a future version. Use pandas.concat instead.\n",
      "  df_after_cut = df_after_cut.append(df_in_sector_pass_cut);\n"
     ]
    },
    {
     "name": "stdout",
     "output_type": "stream",
     "text": [
      "0 in sector 3\n"
     ]
    },
    {
     "name": "stderr",
     "output_type": "stream",
     "text": [
      "/Users/erezcohen/Desktop/Software//CLAS12/BAND/SIDIS_at_BAND/PythonAnalysis/python_auxiliary/sidis_analysis_tools.py:1748: FutureWarning: The frame.append method is deprecated and will be removed from pandas in a future version. Use pandas.concat instead.\n",
      "  df_after_cut = df_after_cut.append(df_in_sector_pass_cut);\n"
     ]
    },
    {
     "name": "stdout",
     "output_type": "stream",
     "text": [
      "0 in sector 4\n"
     ]
    },
    {
     "name": "stderr",
     "output_type": "stream",
     "text": [
      "/Users/erezcohen/Desktop/Software//CLAS12/BAND/SIDIS_at_BAND/PythonAnalysis/python_auxiliary/sidis_analysis_tools.py:1748: FutureWarning: The frame.append method is deprecated and will be removed from pandas in a future version. Use pandas.concat instead.\n",
      "  df_after_cut = df_after_cut.append(df_in_sector_pass_cut);\n"
     ]
    },
    {
     "name": "stdout",
     "output_type": "stream",
     "text": [
      "0 in sector 5\n"
     ]
    },
    {
     "name": "stderr",
     "output_type": "stream",
     "text": [
      "/Users/erezcohen/Desktop/Software//CLAS12/BAND/SIDIS_at_BAND/PythonAnalysis/python_auxiliary/sidis_analysis_tools.py:1748: FutureWarning: The frame.append method is deprecated and will be removed from pandas in a future version. Use pandas.concat instead.\n",
      "  df_after_cut = df_after_cut.append(df_in_sector_pass_cut);\n"
     ]
    },
    {
     "name": "stdout",
     "output_type": "stream",
     "text": [
      "0 in sector 6\n"
     ]
    },
    {
     "name": "stderr",
     "output_type": "stream",
     "text": [
      "/Users/erezcohen/Desktop/Software//CLAS12/BAND/SIDIS_at_BAND/PythonAnalysis/python_auxiliary/sidis_analysis_tools.py:1748: FutureWarning: The frame.append method is deprecated and will be removed from pandas in a future version. Use pandas.concat instead.\n",
      "  df_after_cut = df_after_cut.append(df_in_sector_pass_cut);\n"
     ]
    }
   ],
   "source": [
    "for pi_ch,pi_idx in zip(pi_charge_names,[1,2]):\n",
    "    e_e_pi_claspyth[pi_ch][\"pi_DC_sector\"]    = 1\n",
    "e_e_pi_claspyth_after_acceptance_matching_cut = apply_p_theta_acceptance_cut_single_set( e_e_pi_claspyth )"
   ]
  },
  {
   "cell_type": "code",
   "execution_count": 6,
   "id": "e708f000-7e11-453f-a7d6-5aecbca3af49",
   "metadata": {},
   "outputs": [
    {
     "name": "stdout",
     "output_type": "stream",
     "text": [
      "Apply a cut on the missing mass of a (e,e'π) reaction: 1.7<Mx<5.0 GeV/c2\n"
     ]
    }
   ],
   "source": [
    "e_e_pi_claspyth_after_Mx_cut                  = apply_Mx_cut( e_e_pi_claspyth_after_acceptance_matching_cut )\n",
    "e_e_pi_claspyth_after_Kinematical_cuts        = apply_Kinematical_cuts( e_e_pi_claspyth_after_Mx_cut, W_min=2.5 )\n",
    "e_e_pi_claspyth_pass_cuts                     = e_e_pi_claspyth_after_Kinematical_cuts;"
   ]
  },
  {
   "cell_type": "code",
   "execution_count": 7,
   "id": "a8cd663d-1add-480e-b7d0-fa6b143e3f8c",
   "metadata": {},
   "outputs": [
    {
     "name": "stdout",
     "output_type": "stream",
     "text": [
      "Retained 2073830 π+ events and 1515932 π- events\n"
     ]
    }
   ],
   "source": [
    "print('Retained %d π+ events and %d π- events'%(len(e_e_pi_claspyth_pass_cuts['piplus']),len(e_e_pi_claspyth_pass_cuts['piminus'])))"
   ]
  },
  {
   "cell_type": "code",
   "execution_count": 8,
   "id": "2651d449-2f80-4648-8cb8-ae53b1adb09a",
   "metadata": {},
   "outputs": [],
   "source": [
    "Mx_diffractive = 1.4 # GeV/c2\n",
    "\n",
    "e_e_pi_claspyth_pass_cuts_direct              = dict() \n",
    "e_e_pi_claspyth_pass_cuts_diffractive_rho     = dict()\n",
    "e_e_pi_claspyth_pass_cuts_non_diffractive_rho = dict()\n",
    "\n",
    "for pi_ch,pi_idx in zip(pi_charge_names,[1,2]):\n",
    "    df = e_e_pi_claspyth_pass_cuts[pi_ch]\n",
    "    df = df[df.pi_Z > 0.3]\n",
    "\n",
    "    pi_from_rho = df[(df.pi_parent_PDG==113)|(df.pi_parent_PDG==213)|(df.pi_parent_PDG==-213)]\n",
    "    \n",
    "    M_x_rho             = pi_from_rho.M_x_rho\n",
    "    diffractive_rho     = pi_from_rho[pi_from_rho.M_x_rho < Mx_diffractive]\n",
    "    non_diffractive_rho = pi_from_rho[Mx_diffractive < pi_from_rho.M_x_rho ]\n",
    "    \n",
    "    e_e_pi_claspyth_pass_cuts_direct[pi_ch]              = df[(df.pi_parent_PDG==2)|(df.pi_parent_PDG==-2)|(df.pi_parent_PDG==91)|(df.pi_parent_PDG==92)|(df.pi_parent_PDG==93)]\n",
    "    e_e_pi_claspyth_pass_cuts_diffractive_rho[pi_ch]     = diffractive_rho\n",
    "    e_e_pi_claspyth_pass_cuts_non_diffractive_rho[pi_ch] = non_diffractive_rho\n",
    "\n"
   ]
  },
  {
   "cell_type": "markdown",
   "id": "f9bf727d-af8e-46da-bf5d-7fab2dee7d51",
   "metadata": {
    "tags": []
   },
   "source": [
    "# (2) Auxliary"
   ]
  },
  {
   "cell_type": "markdown",
   "id": "e48d9a93-401a-4a5c-a489-b2e1832381cd",
   "metadata": {
    "tags": []
   },
   "source": [
    "# (3) Compute ratios of direct to non-direct pion production\n",
    "in bins of $Q^2,x_B,z,p_T$"
   ]
  },
  {
   "cell_type": "markdown",
   "id": "07d56d8a-bc35-431d-a3cb-4d4df511c94e",
   "metadata": {
    "tags": []
   },
   "source": [
    "### (3.1) Define binning"
   ]
  },
  {
   "cell_type": "code",
   "execution_count": 9,
   "id": "f42afffc-9c5b-4c01-8917-7ff63e682792",
   "metadata": {},
   "outputs": [],
   "source": [
    "dQ2 = 1\n",
    "Q2_min_arr = np.arange(2,8,dQ2)\n",
    "Q2_max_arr = Q2_min_arr + dQ2\n",
    "\n",
    "dxB = 0.1\n",
    "xB_min_arr = np.arange(0.2,0.6,dxB)\n",
    "xB_max_arr = xB_min_arr + dxB\n",
    "\n",
    "dz = 0.1\n",
    "z_min_arr = np.arange(0.3,0.8,dz)\n",
    "z_max_arr = z_min_arr + dz\n",
    "\n",
    "dpT = 0.3\n",
    "pT_min_arr = np.arange(0.,1.2,dpT)\n",
    "pT_max_arr = pT_min_arr + dpT"
   ]
  },
  {
   "cell_type": "code",
   "execution_count": 10,
   "id": "e1b67152-b464-4391-b053-85225de8ba93",
   "metadata": {},
   "outputs": [
    {
     "name": "stdout",
     "output_type": "stream",
     "text": [
      "Q2: 2.0 - 3.0, 3.0 - 4.0, 4.0 - 5.0, 5.0 - 6.0, 6.0 - 7.0, 7.0 - 8.0, \n",
      "xB: 0.2 - 0.3, 0.3 - 0.4, 0.4 - 0.5, 0.5 - 0.6, \n",
      "z: 0.3 - 0.4, 0.4 - 0.5, 0.5 - 0.6, 0.6 - 0.7, 0.7 - 0.8, \n",
      "pT: 0.0 - 0.3, 0.3 - 0.6, 0.6 - 0.9, 0.9 - 1.2, "
     ]
    }
   ],
   "source": [
    "print('Q2', end=\": \" )\n",
    "for Q2_min,Q2_max in zip(Q2_min_arr, Q2_max_arr): print('%.1f - %.1f, '%(Q2_min,Q2_max), end=\"\" )\n",
    "print()\n",
    "print('xB', end=\": \" )\n",
    "for xB_min,xB_max in zip(xB_min_arr, xB_max_arr): print('%.1f - %.1f, '%(xB_min,xB_max), end=\"\" )\n",
    "print()\n",
    "print('z', end=\": \" )\n",
    "for z_min,z_max in zip(z_min_arr, z_max_arr): print('%.1f - %.1f, '%(z_min,z_max), end=\"\" )\n",
    "print()\n",
    "print('pT', end=\": \" )\n",
    "for pT_min,pT_max in zip(pT_min_arr, pT_max_arr): print('%.1f - %.1f, '%(pT_min,pT_max), end=\"\" )"
   ]
  },
  {
   "cell_type": "markdown",
   "id": "b1b6fb62-f989-4a43-8546-7f66bca1f673",
   "metadata": {
    "tags": []
   },
   "source": [
    "## (3.2) Compute ratios"
   ]
  },
  {
   "cell_type": "code",
   "execution_count": 124,
   "id": "16f845d8-0914-4cd6-90ee-e25d14d1e833",
   "metadata": {},
   "outputs": [
    {
     "name": "stdout",
     "output_type": "stream",
     "text": [
      "done\n"
     ]
    }
   ],
   "source": [
    "df_direct_ratio = dict()\n",
    "for pi_ch,pi_idx in zip(pi_charge_names,[1,2]):\n",
    "    df_all    = e_e_pi_claspyth_pass_cuts[pi_ch]\n",
    "    df_direct = e_e_pi_claspyth_pass_cuts_direct[pi_ch]\n",
    "    df_direct_ratio[pi_ch] = pd.DataFrame()\n",
    "\n",
    "    for Q2_min,Q2_max in zip(Q2_min_arr, Q2_max_arr): # zip([Q2_min_arr[0]], [Q2_max_arr[0]]): #\n",
    "        \n",
    "        df_all_in_Q2_bin = df_all[ (Q2_min < df_all.Q2) & (df_all.Q2 < Q2_max)]                    \n",
    "        df_direct_in_Q2_bin = df_direct[ (Q2_min < df_direct.Q2) & (df_direct.Q2 < Q2_max)]                \n",
    "        \n",
    "        for xB_min,xB_max in zip(xB_min_arr, xB_max_arr): # zip([xB_min_arr[0]], [xB_max_arr[0]]): # \n",
    "            \n",
    "            df_all_in_xB_bin = df_all_in_Q2_bin[ (xB_min < df_all_in_Q2_bin.xB) & (df_all_in_Q2_bin.xB < xB_max)]\n",
    "            df_direct_in_xB_bin = df_direct_in_Q2_bin[ (xB_min < df_direct_in_Q2_bin.xB) & (df_direct_in_Q2_bin.xB < xB_max)]\n",
    "            \n",
    "            for z_min,z_max in zip(z_min_arr, z_max_arr): # zip([z_min_arr[0]], [z_max_arr[0]]):  # \n",
    "                \n",
    "                df_all_in_z_bin = df_all_in_xB_bin[ (z_min < df_all_in_xB_bin.Zpi) & (df_all_in_xB_bin.Zpi < z_max)]\n",
    "                df_direct_in_z_bin = df_direct_in_xB_bin[ (z_min < df_direct_in_xB_bin.Zpi) & (df_direct_in_xB_bin.Zpi < z_max) ]\n",
    "                    \n",
    "                \n",
    "                for pT_min,pT_max in zip(pT_min_arr, pT_max_arr): \n",
    "\n",
    "                    df_all_in_bin    = df_all_in_z_bin[ (pT_min < df_all_in_z_bin.pi_qFrame_pT) & (df_all_in_z_bin.pi_qFrame_pT < pT_max)]                    \n",
    "                    df_direct_in_bin = df_direct_in_z_bin[ (pT_min < df_direct_in_z_bin.pi_qFrame_pT) & (df_direct_in_z_bin.pi_qFrame_pT < pT_max)]\n",
    "                    \n",
    "                    N_all_in_bin    = np.max([1,float(len(df_all_in_bin))])\n",
    "                    N_direct_in_bin = np.max([1,float(len(df_direct_in_bin))])\n",
    "                    f_direct_in_bin     = N_direct_in_bin / N_all_in_bin\n",
    "                    f_direct_in_bin_err = f_direct_in_bin * np.sqrt( 1./N_direct_in_bin +1./N_all_in_bin)\n",
    "                    \n",
    "                    # define the ratio to be zero in bins of zero statistics \n",
    "                    if N_direct_in_bin==1: \n",
    "                        f_direct_in_bin = 0;\n",
    "                        f_direct_in_bin_err = 0;\n",
    "                    new_record = pd.DataFrame([{'Q2_min':Q2_min,'Q2_max':Q2_max,\n",
    "                                                'xB_min':xB_min,'xB_max':xB_max,\n",
    "                                                'z_min':z_min,'z_max':z_max,\n",
    "                                                'pT_min':pT_min,'pT_max':pT_max,\n",
    "                                                'f_direct':f_direct_in_bin,'f_direct_err':f_direct_in_bin_err}])\n",
    "\n",
    "                    # record the results in the dataframe\n",
    "                    df_direct_ratio[pi_ch] = pd.concat([df_direct_ratio[pi_ch], new_record], ignore_index=True)\n",
    "\n",
    "print('done');                    "
   ]
  },
  {
   "cell_type": "code",
   "execution_count": 125,
   "id": "6ffcdc8b-2a37-44e7-a7b5-0dfec67d39b6",
   "metadata": {},
   "outputs": [
    {
     "name": "stdout",
     "output_type": "stream",
     "text": [
      "Q2>7.0,xB>0.50,z>0.7,pT>0.9,f=0.00\n",
      "0 0\n"
     ]
    },
    {
     "ename": "ValueError",
     "evalue": "zero-size array to reduction operation minimum which has no identity",
     "output_type": "error",
     "traceback": [
      "\u001b[0;31m---------------------------------------------------------------------------\u001b[0m",
      "\u001b[0;31mValueError\u001b[0m                                Traceback (most recent call last)",
      "Cell \u001b[0;32mIn [125], line 5\u001b[0m\n\u001b[1;32m      2\u001b[0m \u001b[38;5;28mprint\u001b[39m(\u001b[38;5;28mlen\u001b[39m(df_all_in_bin\u001b[38;5;241m.\u001b[39mpi_parent_PDG), \u001b[38;5;28mlen\u001b[39m(df_direct_in_bin\u001b[38;5;241m.\u001b[39mpi_parent_PDG))\n\u001b[1;32m      4\u001b[0m plt\u001b[38;5;241m.\u001b[39mfigure;\n\u001b[0;32m----> 5\u001b[0m \u001b[43mplot_discrete_histogram\u001b[49m\u001b[43m(\u001b[49m\u001b[43mdf_all_in_bin\u001b[49m\u001b[38;5;241;43m.\u001b[39;49m\u001b[43mpi_parent_PDG\u001b[49m\u001b[43m)\u001b[49m\n\u001b[1;32m      7\u001b[0m parent \u001b[38;5;241m=\u001b[39m df_all_in_bin\u001b[38;5;241m.\u001b[39mpi_parent_PDG;\n\u001b[1;32m      8\u001b[0m \u001b[38;5;28mprint\u001b[39m(\u001b[38;5;28mlen\u001b[39m(parent[parent\u001b[38;5;241m==\u001b[39m\u001b[38;5;241m-\u001b[39m\u001b[38;5;241m213\u001b[39m]),\u001b[38;5;28mlen\u001b[39m(parent[parent\u001b[38;5;241m==\u001b[39m\u001b[38;5;241m113\u001b[39m]),\u001b[38;5;28mlen\u001b[39m(parent[parent\u001b[38;5;241m==\u001b[39m\u001b[38;5;241m92\u001b[39m]))\n",
      "File \u001b[0;32m~/Desktop/Software//mySoftware/Python/plot_tools.py:20\u001b[0m, in \u001b[0;36mplot_discrete_histogram\u001b[0;34m(data, histtype, linewidth, color, label)\u001b[0m\n\u001b[1;32m     19\u001b[0m \u001b[38;5;28;01mdef\u001b[39;00m \u001b[38;5;21mplot_discrete_histogram\u001b[39m(data\u001b[38;5;241m=\u001b[39m\u001b[38;5;28;01mNone\u001b[39;00m,histtype\u001b[38;5;241m=\u001b[39m\u001b[38;5;124m'\u001b[39m\u001b[38;5;124mstep\u001b[39m\u001b[38;5;124m'\u001b[39m,linewidth\u001b[38;5;241m=\u001b[39m\u001b[38;5;241m3\u001b[39m,color\u001b[38;5;241m=\u001b[39m\u001b[38;5;124m'\u001b[39m\u001b[38;5;124mblack\u001b[39m\u001b[38;5;124m'\u001b[39m,label\u001b[38;5;241m=\u001b[39m\u001b[38;5;124m'\u001b[39m\u001b[38;5;124m'\u001b[39m):\n\u001b[0;32m---> 20\u001b[0m     d \u001b[38;5;241m=\u001b[39m \u001b[43mnp\u001b[49m\u001b[38;5;241;43m.\u001b[39;49m\u001b[43mdiff\u001b[49m\u001b[43m(\u001b[49m\u001b[43mnp\u001b[49m\u001b[38;5;241;43m.\u001b[39;49m\u001b[43munique\u001b[49m\u001b[43m(\u001b[49m\u001b[43mdata\u001b[49m\u001b[43m)\u001b[49m\u001b[43m)\u001b[49m\u001b[38;5;241;43m.\u001b[39;49m\u001b[43mmin\u001b[49m\u001b[43m(\u001b[49m\u001b[43m)\u001b[49m\n\u001b[1;32m     21\u001b[0m     left_of_first_bin \u001b[38;5;241m=\u001b[39m data\u001b[38;5;241m.\u001b[39mmin() \u001b[38;5;241m-\u001b[39m \u001b[38;5;28mfloat\u001b[39m(d)\u001b[38;5;241m/\u001b[39m\u001b[38;5;241m2\u001b[39m\n\u001b[1;32m     22\u001b[0m     right_of_last_bin \u001b[38;5;241m=\u001b[39m data\u001b[38;5;241m.\u001b[39mmax() \u001b[38;5;241m+\u001b[39m \u001b[38;5;28mfloat\u001b[39m(d)\u001b[38;5;241m/\u001b[39m\u001b[38;5;241m2\u001b[39m\n",
      "File \u001b[0;32m/opt/homebrew/lib/python3.10/site-packages/numpy/core/_methods.py:45\u001b[0m, in \u001b[0;36m_amin\u001b[0;34m(a, axis, out, keepdims, initial, where)\u001b[0m\n\u001b[1;32m     43\u001b[0m \u001b[38;5;28;01mdef\u001b[39;00m \u001b[38;5;21m_amin\u001b[39m(a, axis\u001b[38;5;241m=\u001b[39m\u001b[38;5;28;01mNone\u001b[39;00m, out\u001b[38;5;241m=\u001b[39m\u001b[38;5;28;01mNone\u001b[39;00m, keepdims\u001b[38;5;241m=\u001b[39m\u001b[38;5;28;01mFalse\u001b[39;00m,\n\u001b[1;32m     44\u001b[0m           initial\u001b[38;5;241m=\u001b[39m_NoValue, where\u001b[38;5;241m=\u001b[39m\u001b[38;5;28;01mTrue\u001b[39;00m):\n\u001b[0;32m---> 45\u001b[0m     \u001b[38;5;28;01mreturn\u001b[39;00m \u001b[43mumr_minimum\u001b[49m\u001b[43m(\u001b[49m\u001b[43ma\u001b[49m\u001b[43m,\u001b[49m\u001b[43m \u001b[49m\u001b[43maxis\u001b[49m\u001b[43m,\u001b[49m\u001b[43m \u001b[49m\u001b[38;5;28;43;01mNone\u001b[39;49;00m\u001b[43m,\u001b[49m\u001b[43m \u001b[49m\u001b[43mout\u001b[49m\u001b[43m,\u001b[49m\u001b[43m \u001b[49m\u001b[43mkeepdims\u001b[49m\u001b[43m,\u001b[49m\u001b[43m \u001b[49m\u001b[43minitial\u001b[49m\u001b[43m,\u001b[49m\u001b[43m \u001b[49m\u001b[43mwhere\u001b[49m\u001b[43m)\u001b[49m\n",
      "\u001b[0;31mValueError\u001b[0m: zero-size array to reduction operation minimum which has no identity"
     ]
    }
   ],
   "source": [
    "# print('Q2>%.1f,xB>%.2f,z>%.1f,pT>%.1f,f=%.2f'%(Q2_min,xB_min,z_min,pT_min, f_direct_in_bin))\n",
    "# print(len(df_all_in_bin.pi_parent_PDG), len(df_direct_in_bin.pi_parent_PDG))\n",
    "\n",
    "# plt.figure;\n",
    "# plot_discrete_histogram(df_all_in_bin.pi_parent_PDG)\n",
    "\n",
    "# parent = df_all_in_bin.pi_parent_PDG;\n",
    "# print(len(parent[parent==-213]),len(parent[parent==113]),len(parent[parent==92]))"
   ]
  },
  {
   "cell_type": "code",
   "execution_count": 126,
   "id": "2b5ce0d7-504e-4632-81c9-80d9c62f9d53",
   "metadata": {},
   "outputs": [
    {
     "data": {
      "text/html": [
       "<div>\n",
       "<style scoped>\n",
       "    .dataframe tbody tr th:only-of-type {\n",
       "        vertical-align: middle;\n",
       "    }\n",
       "\n",
       "    .dataframe tbody tr th {\n",
       "        vertical-align: top;\n",
       "    }\n",
       "\n",
       "    .dataframe thead th {\n",
       "        text-align: right;\n",
       "    }\n",
       "</style>\n",
       "<table border=\"1\" class=\"dataframe\">\n",
       "  <thead>\n",
       "    <tr style=\"text-align: right;\">\n",
       "      <th></th>\n",
       "      <th>Q2_min</th>\n",
       "      <th>Q2_max</th>\n",
       "      <th>xB_min</th>\n",
       "      <th>xB_max</th>\n",
       "      <th>z_min</th>\n",
       "      <th>z_max</th>\n",
       "      <th>pT_min</th>\n",
       "      <th>pT_max</th>\n",
       "      <th>f_direct</th>\n",
       "      <th>f_direct_err</th>\n",
       "    </tr>\n",
       "  </thead>\n",
       "  <tbody>\n",
       "    <tr>\n",
       "      <th>0</th>\n",
       "      <td>2</td>\n",
       "      <td>3</td>\n",
       "      <td>0.2</td>\n",
       "      <td>0.3</td>\n",
       "      <td>0.3</td>\n",
       "      <td>0.4</td>\n",
       "      <td>0.0</td>\n",
       "      <td>0.3</td>\n",
       "      <td>0.146437</td>\n",
       "      <td>0.001434</td>\n",
       "    </tr>\n",
       "    <tr>\n",
       "      <th>1</th>\n",
       "      <td>2</td>\n",
       "      <td>3</td>\n",
       "      <td>0.2</td>\n",
       "      <td>0.3</td>\n",
       "      <td>0.3</td>\n",
       "      <td>0.4</td>\n",
       "      <td>0.3</td>\n",
       "      <td>0.6</td>\n",
       "      <td>0.175105</td>\n",
       "      <td>0.001394</td>\n",
       "    </tr>\n",
       "    <tr>\n",
       "      <th>2</th>\n",
       "      <td>2</td>\n",
       "      <td>3</td>\n",
       "      <td>0.2</td>\n",
       "      <td>0.3</td>\n",
       "      <td>0.3</td>\n",
       "      <td>0.4</td>\n",
       "      <td>0.6</td>\n",
       "      <td>0.9</td>\n",
       "      <td>0.350358</td>\n",
       "      <td>0.004586</td>\n",
       "    </tr>\n",
       "    <tr>\n",
       "      <th>3</th>\n",
       "      <td>2</td>\n",
       "      <td>3</td>\n",
       "      <td>0.2</td>\n",
       "      <td>0.3</td>\n",
       "      <td>0.3</td>\n",
       "      <td>0.4</td>\n",
       "      <td>0.9</td>\n",
       "      <td>1.2</td>\n",
       "      <td>0.659286</td>\n",
       "      <td>0.027953</td>\n",
       "    </tr>\n",
       "    <tr>\n",
       "      <th>4</th>\n",
       "      <td>2</td>\n",
       "      <td>3</td>\n",
       "      <td>0.2</td>\n",
       "      <td>0.3</td>\n",
       "      <td>0.4</td>\n",
       "      <td>0.5</td>\n",
       "      <td>0.0</td>\n",
       "      <td>0.3</td>\n",
       "      <td>0.267005</td>\n",
       "      <td>0.002375</td>\n",
       "    </tr>\n",
       "    <tr>\n",
       "      <th>...</th>\n",
       "      <td>...</td>\n",
       "      <td>...</td>\n",
       "      <td>...</td>\n",
       "      <td>...</td>\n",
       "      <td>...</td>\n",
       "      <td>...</td>\n",
       "      <td>...</td>\n",
       "      <td>...</td>\n",
       "      <td>...</td>\n",
       "      <td>...</td>\n",
       "    </tr>\n",
       "    <tr>\n",
       "      <th>475</th>\n",
       "      <td>7</td>\n",
       "      <td>8</td>\n",
       "      <td>0.5</td>\n",
       "      <td>0.6</td>\n",
       "      <td>0.6</td>\n",
       "      <td>0.7</td>\n",
       "      <td>0.9</td>\n",
       "      <td>1.2</td>\n",
       "      <td>0.000000</td>\n",
       "      <td>0.000000</td>\n",
       "    </tr>\n",
       "    <tr>\n",
       "      <th>476</th>\n",
       "      <td>7</td>\n",
       "      <td>8</td>\n",
       "      <td>0.5</td>\n",
       "      <td>0.6</td>\n",
       "      <td>0.7</td>\n",
       "      <td>0.8</td>\n",
       "      <td>0.0</td>\n",
       "      <td>0.3</td>\n",
       "      <td>0.000000</td>\n",
       "      <td>0.000000</td>\n",
       "    </tr>\n",
       "    <tr>\n",
       "      <th>477</th>\n",
       "      <td>7</td>\n",
       "      <td>8</td>\n",
       "      <td>0.5</td>\n",
       "      <td>0.6</td>\n",
       "      <td>0.7</td>\n",
       "      <td>0.8</td>\n",
       "      <td>0.3</td>\n",
       "      <td>0.6</td>\n",
       "      <td>0.000000</td>\n",
       "      <td>0.000000</td>\n",
       "    </tr>\n",
       "    <tr>\n",
       "      <th>478</th>\n",
       "      <td>7</td>\n",
       "      <td>8</td>\n",
       "      <td>0.5</td>\n",
       "      <td>0.6</td>\n",
       "      <td>0.7</td>\n",
       "      <td>0.8</td>\n",
       "      <td>0.6</td>\n",
       "      <td>0.9</td>\n",
       "      <td>0.000000</td>\n",
       "      <td>0.000000</td>\n",
       "    </tr>\n",
       "    <tr>\n",
       "      <th>479</th>\n",
       "      <td>7</td>\n",
       "      <td>8</td>\n",
       "      <td>0.5</td>\n",
       "      <td>0.6</td>\n",
       "      <td>0.7</td>\n",
       "      <td>0.8</td>\n",
       "      <td>0.9</td>\n",
       "      <td>1.2</td>\n",
       "      <td>0.000000</td>\n",
       "      <td>0.000000</td>\n",
       "    </tr>\n",
       "  </tbody>\n",
       "</table>\n",
       "<p>480 rows × 10 columns</p>\n",
       "</div>"
      ],
      "text/plain": [
       "     Q2_min  Q2_max  xB_min  xB_max  z_min  z_max  pT_min  pT_max  f_direct  \\\n",
       "0         2       3     0.2     0.3    0.3    0.4     0.0     0.3  0.146437   \n",
       "1         2       3     0.2     0.3    0.3    0.4     0.3     0.6  0.175105   \n",
       "2         2       3     0.2     0.3    0.3    0.4     0.6     0.9  0.350358   \n",
       "3         2       3     0.2     0.3    0.3    0.4     0.9     1.2  0.659286   \n",
       "4         2       3     0.2     0.3    0.4    0.5     0.0     0.3  0.267005   \n",
       "..      ...     ...     ...     ...    ...    ...     ...     ...       ...   \n",
       "475       7       8     0.5     0.6    0.6    0.7     0.9     1.2  0.000000   \n",
       "476       7       8     0.5     0.6    0.7    0.8     0.0     0.3  0.000000   \n",
       "477       7       8     0.5     0.6    0.7    0.8     0.3     0.6  0.000000   \n",
       "478       7       8     0.5     0.6    0.7    0.8     0.6     0.9  0.000000   \n",
       "479       7       8     0.5     0.6    0.7    0.8     0.9     1.2  0.000000   \n",
       "\n",
       "     f_direct_err  \n",
       "0        0.001434  \n",
       "1        0.001394  \n",
       "2        0.004586  \n",
       "3        0.027953  \n",
       "4        0.002375  \n",
       "..            ...  \n",
       "475      0.000000  \n",
       "476      0.000000  \n",
       "477      0.000000  \n",
       "478      0.000000  \n",
       "479      0.000000  \n",
       "\n",
       "[480 rows x 10 columns]"
      ]
     },
     "metadata": {},
     "output_type": "display_data"
    },
    {
     "data": {
      "text/html": [
       "<div>\n",
       "<style scoped>\n",
       "    .dataframe tbody tr th:only-of-type {\n",
       "        vertical-align: middle;\n",
       "    }\n",
       "\n",
       "    .dataframe tbody tr th {\n",
       "        vertical-align: top;\n",
       "    }\n",
       "\n",
       "    .dataframe thead th {\n",
       "        text-align: right;\n",
       "    }\n",
       "</style>\n",
       "<table border=\"1\" class=\"dataframe\">\n",
       "  <thead>\n",
       "    <tr style=\"text-align: right;\">\n",
       "      <th></th>\n",
       "      <th>Q2_min</th>\n",
       "      <th>Q2_max</th>\n",
       "      <th>xB_min</th>\n",
       "      <th>xB_max</th>\n",
       "      <th>z_min</th>\n",
       "      <th>z_max</th>\n",
       "      <th>pT_min</th>\n",
       "      <th>pT_max</th>\n",
       "      <th>f_direct</th>\n",
       "      <th>f_direct_err</th>\n",
       "    </tr>\n",
       "  </thead>\n",
       "  <tbody>\n",
       "    <tr>\n",
       "      <th>0</th>\n",
       "      <td>2</td>\n",
       "      <td>3</td>\n",
       "      <td>0.2</td>\n",
       "      <td>0.3</td>\n",
       "      <td>0.3</td>\n",
       "      <td>0.4</td>\n",
       "      <td>0.0</td>\n",
       "      <td>0.3</td>\n",
       "      <td>0.079969</td>\n",
       "      <td>0.001184</td>\n",
       "    </tr>\n",
       "    <tr>\n",
       "      <th>1</th>\n",
       "      <td>2</td>\n",
       "      <td>3</td>\n",
       "      <td>0.2</td>\n",
       "      <td>0.3</td>\n",
       "      <td>0.3</td>\n",
       "      <td>0.4</td>\n",
       "      <td>0.3</td>\n",
       "      <td>0.6</td>\n",
       "      <td>0.121916</td>\n",
       "      <td>0.001349</td>\n",
       "    </tr>\n",
       "    <tr>\n",
       "      <th>2</th>\n",
       "      <td>2</td>\n",
       "      <td>3</td>\n",
       "      <td>0.2</td>\n",
       "      <td>0.3</td>\n",
       "      <td>0.3</td>\n",
       "      <td>0.4</td>\n",
       "      <td>0.6</td>\n",
       "      <td>0.9</td>\n",
       "      <td>0.315656</td>\n",
       "      <td>0.004901</td>\n",
       "    </tr>\n",
       "    <tr>\n",
       "      <th>3</th>\n",
       "      <td>2</td>\n",
       "      <td>3</td>\n",
       "      <td>0.2</td>\n",
       "      <td>0.3</td>\n",
       "      <td>0.3</td>\n",
       "      <td>0.4</td>\n",
       "      <td>0.9</td>\n",
       "      <td>1.2</td>\n",
       "      <td>0.629316</td>\n",
       "      <td>0.026881</td>\n",
       "    </tr>\n",
       "    <tr>\n",
       "      <th>4</th>\n",
       "      <td>2</td>\n",
       "      <td>3</td>\n",
       "      <td>0.2</td>\n",
       "      <td>0.3</td>\n",
       "      <td>0.4</td>\n",
       "      <td>0.5</td>\n",
       "      <td>0.0</td>\n",
       "      <td>0.3</td>\n",
       "      <td>0.158173</td>\n",
       "      <td>0.002168</td>\n",
       "    </tr>\n",
       "    <tr>\n",
       "      <th>...</th>\n",
       "      <td>...</td>\n",
       "      <td>...</td>\n",
       "      <td>...</td>\n",
       "      <td>...</td>\n",
       "      <td>...</td>\n",
       "      <td>...</td>\n",
       "      <td>...</td>\n",
       "      <td>...</td>\n",
       "      <td>...</td>\n",
       "      <td>...</td>\n",
       "    </tr>\n",
       "    <tr>\n",
       "      <th>475</th>\n",
       "      <td>7</td>\n",
       "      <td>8</td>\n",
       "      <td>0.5</td>\n",
       "      <td>0.6</td>\n",
       "      <td>0.6</td>\n",
       "      <td>0.7</td>\n",
       "      <td>0.9</td>\n",
       "      <td>1.2</td>\n",
       "      <td>0.000000</td>\n",
       "      <td>0.000000</td>\n",
       "    </tr>\n",
       "    <tr>\n",
       "      <th>476</th>\n",
       "      <td>7</td>\n",
       "      <td>8</td>\n",
       "      <td>0.5</td>\n",
       "      <td>0.6</td>\n",
       "      <td>0.7</td>\n",
       "      <td>0.8</td>\n",
       "      <td>0.0</td>\n",
       "      <td>0.3</td>\n",
       "      <td>0.000000</td>\n",
       "      <td>0.000000</td>\n",
       "    </tr>\n",
       "    <tr>\n",
       "      <th>477</th>\n",
       "      <td>7</td>\n",
       "      <td>8</td>\n",
       "      <td>0.5</td>\n",
       "      <td>0.6</td>\n",
       "      <td>0.7</td>\n",
       "      <td>0.8</td>\n",
       "      <td>0.3</td>\n",
       "      <td>0.6</td>\n",
       "      <td>0.000000</td>\n",
       "      <td>0.000000</td>\n",
       "    </tr>\n",
       "    <tr>\n",
       "      <th>478</th>\n",
       "      <td>7</td>\n",
       "      <td>8</td>\n",
       "      <td>0.5</td>\n",
       "      <td>0.6</td>\n",
       "      <td>0.7</td>\n",
       "      <td>0.8</td>\n",
       "      <td>0.6</td>\n",
       "      <td>0.9</td>\n",
       "      <td>0.000000</td>\n",
       "      <td>0.000000</td>\n",
       "    </tr>\n",
       "    <tr>\n",
       "      <th>479</th>\n",
       "      <td>7</td>\n",
       "      <td>8</td>\n",
       "      <td>0.5</td>\n",
       "      <td>0.6</td>\n",
       "      <td>0.7</td>\n",
       "      <td>0.8</td>\n",
       "      <td>0.9</td>\n",
       "      <td>1.2</td>\n",
       "      <td>0.000000</td>\n",
       "      <td>0.000000</td>\n",
       "    </tr>\n",
       "  </tbody>\n",
       "</table>\n",
       "<p>480 rows × 10 columns</p>\n",
       "</div>"
      ],
      "text/plain": [
       "     Q2_min  Q2_max  xB_min  xB_max  z_min  z_max  pT_min  pT_max  f_direct  \\\n",
       "0         2       3     0.2     0.3    0.3    0.4     0.0     0.3  0.079969   \n",
       "1         2       3     0.2     0.3    0.3    0.4     0.3     0.6  0.121916   \n",
       "2         2       3     0.2     0.3    0.3    0.4     0.6     0.9  0.315656   \n",
       "3         2       3     0.2     0.3    0.3    0.4     0.9     1.2  0.629316   \n",
       "4         2       3     0.2     0.3    0.4    0.5     0.0     0.3  0.158173   \n",
       "..      ...     ...     ...     ...    ...    ...     ...     ...       ...   \n",
       "475       7       8     0.5     0.6    0.6    0.7     0.9     1.2  0.000000   \n",
       "476       7       8     0.5     0.6    0.7    0.8     0.0     0.3  0.000000   \n",
       "477       7       8     0.5     0.6    0.7    0.8     0.3     0.6  0.000000   \n",
       "478       7       8     0.5     0.6    0.7    0.8     0.6     0.9  0.000000   \n",
       "479       7       8     0.5     0.6    0.7    0.8     0.9     1.2  0.000000   \n",
       "\n",
       "     f_direct_err  \n",
       "0        0.001184  \n",
       "1        0.001349  \n",
       "2        0.004901  \n",
       "3        0.026881  \n",
       "4        0.002168  \n",
       "..            ...  \n",
       "475      0.000000  \n",
       "476      0.000000  \n",
       "477      0.000000  \n",
       "478      0.000000  \n",
       "479      0.000000  \n",
       "\n",
       "[480 rows x 10 columns]"
      ]
     },
     "metadata": {},
     "output_type": "display_data"
    }
   ],
   "source": [
    "direct_ratio_dir = '/Users/erezcohen/Desktop/data/BAND/CLASPYTH/direct_pion_ratios/'\n",
    "for pi_ch,pi_idx in zip(pi_charge_names,[1,2]):\n",
    "    df_direct_ratio[pi_ch].to_csv(direct_ratio_dir + 'direct_'+pi_ch+'.csv',float_format='%.3f')\n",
    "    display(df_direct_ratio[pi_ch])"
   ]
  },
  {
   "cell_type": "markdown",
   "id": "2fbca69f-007e-4913-9967-343e84906b91",
   "metadata": {},
   "source": [
    "## (3.3) Make some plots of the ratio in this 4D space"
   ]
  },
  {
   "cell_type": "code",
   "execution_count": 135,
   "id": "bda815e0-51d0-4f1b-80c4-1197a1b4a4d5",
   "metadata": {},
   "outputs": [
    {
     "data": {
      "text/html": [
       "<div>\n",
       "<style scoped>\n",
       "    .dataframe tbody tr th:only-of-type {\n",
       "        vertical-align: middle;\n",
       "    }\n",
       "\n",
       "    .dataframe tbody tr th {\n",
       "        vertical-align: top;\n",
       "    }\n",
       "\n",
       "    .dataframe thead th {\n",
       "        text-align: right;\n",
       "    }\n",
       "</style>\n",
       "<table border=\"1\" class=\"dataframe\">\n",
       "  <thead>\n",
       "    <tr style=\"text-align: right;\">\n",
       "      <th></th>\n",
       "      <th>Q2_min</th>\n",
       "      <th>Q2_max</th>\n",
       "      <th>xB_min</th>\n",
       "      <th>xB_max</th>\n",
       "      <th>z_min</th>\n",
       "      <th>z_max</th>\n",
       "      <th>pT_min</th>\n",
       "      <th>pT_max</th>\n",
       "      <th>f_direct</th>\n",
       "      <th>f_direct_err</th>\n",
       "    </tr>\n",
       "  </thead>\n",
       "  <tbody>\n",
       "    <tr>\n",
       "      <th>15</th>\n",
       "      <td>2</td>\n",
       "      <td>3</td>\n",
       "      <td>0.2</td>\n",
       "      <td>0.3</td>\n",
       "      <td>0.6</td>\n",
       "      <td>0.7</td>\n",
       "      <td>0.9</td>\n",
       "      <td>1.2</td>\n",
       "      <td>0.715385</td>\n",
       "      <td>0.097158</td>\n",
       "    </tr>\n",
       "    <tr>\n",
       "      <th>35</th>\n",
       "      <td>2</td>\n",
       "      <td>3</td>\n",
       "      <td>0.3</td>\n",
       "      <td>0.4</td>\n",
       "      <td>0.6</td>\n",
       "      <td>0.7</td>\n",
       "      <td>0.9</td>\n",
       "      <td>1.2</td>\n",
       "      <td>0.000000</td>\n",
       "      <td>0.000000</td>\n",
       "    </tr>\n",
       "    <tr>\n",
       "      <th>55</th>\n",
       "      <td>2</td>\n",
       "      <td>3</td>\n",
       "      <td>0.4</td>\n",
       "      <td>0.5</td>\n",
       "      <td>0.6</td>\n",
       "      <td>0.7</td>\n",
       "      <td>0.9</td>\n",
       "      <td>1.2</td>\n",
       "      <td>0.000000</td>\n",
       "      <td>0.000000</td>\n",
       "    </tr>\n",
       "    <tr>\n",
       "      <th>75</th>\n",
       "      <td>2</td>\n",
       "      <td>3</td>\n",
       "      <td>0.5</td>\n",
       "      <td>0.6</td>\n",
       "      <td>0.6</td>\n",
       "      <td>0.7</td>\n",
       "      <td>0.9</td>\n",
       "      <td>1.2</td>\n",
       "      <td>0.000000</td>\n",
       "      <td>0.000000</td>\n",
       "    </tr>\n",
       "    <tr>\n",
       "      <th>95</th>\n",
       "      <td>3</td>\n",
       "      <td>4</td>\n",
       "      <td>0.2</td>\n",
       "      <td>0.3</td>\n",
       "      <td>0.6</td>\n",
       "      <td>0.7</td>\n",
       "      <td>0.9</td>\n",
       "      <td>1.2</td>\n",
       "      <td>0.710526</td>\n",
       "      <td>0.103253</td>\n",
       "    </tr>\n",
       "    <tr>\n",
       "      <th>115</th>\n",
       "      <td>3</td>\n",
       "      <td>4</td>\n",
       "      <td>0.3</td>\n",
       "      <td>0.4</td>\n",
       "      <td>0.6</td>\n",
       "      <td>0.7</td>\n",
       "      <td>0.9</td>\n",
       "      <td>1.2</td>\n",
       "      <td>0.000000</td>\n",
       "      <td>0.000000</td>\n",
       "    </tr>\n",
       "    <tr>\n",
       "      <th>135</th>\n",
       "      <td>3</td>\n",
       "      <td>4</td>\n",
       "      <td>0.4</td>\n",
       "      <td>0.5</td>\n",
       "      <td>0.6</td>\n",
       "      <td>0.7</td>\n",
       "      <td>0.9</td>\n",
       "      <td>1.2</td>\n",
       "      <td>0.000000</td>\n",
       "      <td>0.000000</td>\n",
       "    </tr>\n",
       "    <tr>\n",
       "      <th>155</th>\n",
       "      <td>3</td>\n",
       "      <td>4</td>\n",
       "      <td>0.5</td>\n",
       "      <td>0.6</td>\n",
       "      <td>0.6</td>\n",
       "      <td>0.7</td>\n",
       "      <td>0.9</td>\n",
       "      <td>1.2</td>\n",
       "      <td>0.000000</td>\n",
       "      <td>0.000000</td>\n",
       "    </tr>\n",
       "    <tr>\n",
       "      <th>175</th>\n",
       "      <td>4</td>\n",
       "      <td>5</td>\n",
       "      <td>0.2</td>\n",
       "      <td>0.3</td>\n",
       "      <td>0.6</td>\n",
       "      <td>0.7</td>\n",
       "      <td>0.9</td>\n",
       "      <td>1.2</td>\n",
       "      <td>1.000000</td>\n",
       "      <td>0.816497</td>\n",
       "    </tr>\n",
       "    <tr>\n",
       "      <th>195</th>\n",
       "      <td>4</td>\n",
       "      <td>5</td>\n",
       "      <td>0.3</td>\n",
       "      <td>0.4</td>\n",
       "      <td>0.6</td>\n",
       "      <td>0.7</td>\n",
       "      <td>0.9</td>\n",
       "      <td>1.2</td>\n",
       "      <td>0.000000</td>\n",
       "      <td>0.000000</td>\n",
       "    </tr>\n",
       "    <tr>\n",
       "      <th>215</th>\n",
       "      <td>4</td>\n",
       "      <td>5</td>\n",
       "      <td>0.4</td>\n",
       "      <td>0.5</td>\n",
       "      <td>0.6</td>\n",
       "      <td>0.7</td>\n",
       "      <td>0.9</td>\n",
       "      <td>1.2</td>\n",
       "      <td>0.000000</td>\n",
       "      <td>0.000000</td>\n",
       "    </tr>\n",
       "    <tr>\n",
       "      <th>235</th>\n",
       "      <td>4</td>\n",
       "      <td>5</td>\n",
       "      <td>0.5</td>\n",
       "      <td>0.6</td>\n",
       "      <td>0.6</td>\n",
       "      <td>0.7</td>\n",
       "      <td>0.9</td>\n",
       "      <td>1.2</td>\n",
       "      <td>0.000000</td>\n",
       "      <td>0.000000</td>\n",
       "    </tr>\n",
       "    <tr>\n",
       "      <th>255</th>\n",
       "      <td>5</td>\n",
       "      <td>6</td>\n",
       "      <td>0.2</td>\n",
       "      <td>0.3</td>\n",
       "      <td>0.6</td>\n",
       "      <td>0.7</td>\n",
       "      <td>0.9</td>\n",
       "      <td>1.2</td>\n",
       "      <td>0.000000</td>\n",
       "      <td>0.000000</td>\n",
       "    </tr>\n",
       "    <tr>\n",
       "      <th>275</th>\n",
       "      <td>5</td>\n",
       "      <td>6</td>\n",
       "      <td>0.3</td>\n",
       "      <td>0.4</td>\n",
       "      <td>0.6</td>\n",
       "      <td>0.7</td>\n",
       "      <td>0.9</td>\n",
       "      <td>1.2</td>\n",
       "      <td>0.000000</td>\n",
       "      <td>0.000000</td>\n",
       "    </tr>\n",
       "    <tr>\n",
       "      <th>295</th>\n",
       "      <td>5</td>\n",
       "      <td>6</td>\n",
       "      <td>0.4</td>\n",
       "      <td>0.5</td>\n",
       "      <td>0.6</td>\n",
       "      <td>0.7</td>\n",
       "      <td>0.9</td>\n",
       "      <td>1.2</td>\n",
       "      <td>0.000000</td>\n",
       "      <td>0.000000</td>\n",
       "    </tr>\n",
       "    <tr>\n",
       "      <th>315</th>\n",
       "      <td>5</td>\n",
       "      <td>6</td>\n",
       "      <td>0.5</td>\n",
       "      <td>0.6</td>\n",
       "      <td>0.6</td>\n",
       "      <td>0.7</td>\n",
       "      <td>0.9</td>\n",
       "      <td>1.2</td>\n",
       "      <td>0.000000</td>\n",
       "      <td>0.000000</td>\n",
       "    </tr>\n",
       "    <tr>\n",
       "      <th>335</th>\n",
       "      <td>6</td>\n",
       "      <td>7</td>\n",
       "      <td>0.2</td>\n",
       "      <td>0.3</td>\n",
       "      <td>0.6</td>\n",
       "      <td>0.7</td>\n",
       "      <td>0.9</td>\n",
       "      <td>1.2</td>\n",
       "      <td>0.000000</td>\n",
       "      <td>0.000000</td>\n",
       "    </tr>\n",
       "    <tr>\n",
       "      <th>355</th>\n",
       "      <td>6</td>\n",
       "      <td>7</td>\n",
       "      <td>0.3</td>\n",
       "      <td>0.4</td>\n",
       "      <td>0.6</td>\n",
       "      <td>0.7</td>\n",
       "      <td>0.9</td>\n",
       "      <td>1.2</td>\n",
       "      <td>0.000000</td>\n",
       "      <td>0.000000</td>\n",
       "    </tr>\n",
       "    <tr>\n",
       "      <th>375</th>\n",
       "      <td>6</td>\n",
       "      <td>7</td>\n",
       "      <td>0.4</td>\n",
       "      <td>0.5</td>\n",
       "      <td>0.6</td>\n",
       "      <td>0.7</td>\n",
       "      <td>0.9</td>\n",
       "      <td>1.2</td>\n",
       "      <td>0.000000</td>\n",
       "      <td>0.000000</td>\n",
       "    </tr>\n",
       "    <tr>\n",
       "      <th>395</th>\n",
       "      <td>6</td>\n",
       "      <td>7</td>\n",
       "      <td>0.5</td>\n",
       "      <td>0.6</td>\n",
       "      <td>0.6</td>\n",
       "      <td>0.7</td>\n",
       "      <td>0.9</td>\n",
       "      <td>1.2</td>\n",
       "      <td>0.000000</td>\n",
       "      <td>0.000000</td>\n",
       "    </tr>\n",
       "    <tr>\n",
       "      <th>415</th>\n",
       "      <td>7</td>\n",
       "      <td>8</td>\n",
       "      <td>0.2</td>\n",
       "      <td>0.3</td>\n",
       "      <td>0.6</td>\n",
       "      <td>0.7</td>\n",
       "      <td>0.9</td>\n",
       "      <td>1.2</td>\n",
       "      <td>0.000000</td>\n",
       "      <td>0.000000</td>\n",
       "    </tr>\n",
       "    <tr>\n",
       "      <th>435</th>\n",
       "      <td>7</td>\n",
       "      <td>8</td>\n",
       "      <td>0.3</td>\n",
       "      <td>0.4</td>\n",
       "      <td>0.6</td>\n",
       "      <td>0.7</td>\n",
       "      <td>0.9</td>\n",
       "      <td>1.2</td>\n",
       "      <td>0.000000</td>\n",
       "      <td>0.000000</td>\n",
       "    </tr>\n",
       "    <tr>\n",
       "      <th>455</th>\n",
       "      <td>7</td>\n",
       "      <td>8</td>\n",
       "      <td>0.4</td>\n",
       "      <td>0.5</td>\n",
       "      <td>0.6</td>\n",
       "      <td>0.7</td>\n",
       "      <td>0.9</td>\n",
       "      <td>1.2</td>\n",
       "      <td>0.000000</td>\n",
       "      <td>0.000000</td>\n",
       "    </tr>\n",
       "    <tr>\n",
       "      <th>475</th>\n",
       "      <td>7</td>\n",
       "      <td>8</td>\n",
       "      <td>0.5</td>\n",
       "      <td>0.6</td>\n",
       "      <td>0.6</td>\n",
       "      <td>0.7</td>\n",
       "      <td>0.9</td>\n",
       "      <td>1.2</td>\n",
       "      <td>0.000000</td>\n",
       "      <td>0.000000</td>\n",
       "    </tr>\n",
       "  </tbody>\n",
       "</table>\n",
       "</div>"
      ],
      "text/plain": [
       "     Q2_min  Q2_max  xB_min  xB_max  z_min  z_max  pT_min  pT_max  f_direct  \\\n",
       "15        2       3     0.2     0.3    0.6    0.7     0.9     1.2  0.715385   \n",
       "35        2       3     0.3     0.4    0.6    0.7     0.9     1.2  0.000000   \n",
       "55        2       3     0.4     0.5    0.6    0.7     0.9     1.2  0.000000   \n",
       "75        2       3     0.5     0.6    0.6    0.7     0.9     1.2  0.000000   \n",
       "95        3       4     0.2     0.3    0.6    0.7     0.9     1.2  0.710526   \n",
       "115       3       4     0.3     0.4    0.6    0.7     0.9     1.2  0.000000   \n",
       "135       3       4     0.4     0.5    0.6    0.7     0.9     1.2  0.000000   \n",
       "155       3       4     0.5     0.6    0.6    0.7     0.9     1.2  0.000000   \n",
       "175       4       5     0.2     0.3    0.6    0.7     0.9     1.2  1.000000   \n",
       "195       4       5     0.3     0.4    0.6    0.7     0.9     1.2  0.000000   \n",
       "215       4       5     0.4     0.5    0.6    0.7     0.9     1.2  0.000000   \n",
       "235       4       5     0.5     0.6    0.6    0.7     0.9     1.2  0.000000   \n",
       "255       5       6     0.2     0.3    0.6    0.7     0.9     1.2  0.000000   \n",
       "275       5       6     0.3     0.4    0.6    0.7     0.9     1.2  0.000000   \n",
       "295       5       6     0.4     0.5    0.6    0.7     0.9     1.2  0.000000   \n",
       "315       5       6     0.5     0.6    0.6    0.7     0.9     1.2  0.000000   \n",
       "335       6       7     0.2     0.3    0.6    0.7     0.9     1.2  0.000000   \n",
       "355       6       7     0.3     0.4    0.6    0.7     0.9     1.2  0.000000   \n",
       "375       6       7     0.4     0.5    0.6    0.7     0.9     1.2  0.000000   \n",
       "395       6       7     0.5     0.6    0.6    0.7     0.9     1.2  0.000000   \n",
       "415       7       8     0.2     0.3    0.6    0.7     0.9     1.2  0.000000   \n",
       "435       7       8     0.3     0.4    0.6    0.7     0.9     1.2  0.000000   \n",
       "455       7       8     0.4     0.5    0.6    0.7     0.9     1.2  0.000000   \n",
       "475       7       8     0.5     0.6    0.6    0.7     0.9     1.2  0.000000   \n",
       "\n",
       "     f_direct_err  \n",
       "15       0.097158  \n",
       "35       0.000000  \n",
       "55       0.000000  \n",
       "75       0.000000  \n",
       "95       0.103253  \n",
       "115      0.000000  \n",
       "135      0.000000  \n",
       "155      0.000000  \n",
       "175      0.816497  \n",
       "195      0.000000  \n",
       "215      0.000000  \n",
       "235      0.000000  \n",
       "255      0.000000  \n",
       "275      0.000000  \n",
       "295      0.000000  \n",
       "315      0.000000  \n",
       "335      0.000000  \n",
       "355      0.000000  \n",
       "375      0.000000  \n",
       "395      0.000000  \n",
       "415      0.000000  \n",
       "435      0.000000  \n",
       "455      0.000000  \n",
       "475      0.000000  "
      ]
     },
     "execution_count": 135,
     "metadata": {},
     "output_type": "execute_result"
    }
   ],
   "source": [
    "df_direct_ratio\n",
    "# df = df_direct_ratio[pi_ch]\n",
    "# df = df_direct_ratio[pi_ch]\n",
    "# df = df[(df.z_min == z_min) & (df.pT_min == pT_min)]\n",
    "# df[(df.z_min == z_min)].pT_min\n",
    "# df\n",
    "df = df[(np.abs(df.z_min - z_min)<0.01) & (np.abs(df.pT_min - pT_min)<0.01)]\n",
    "df\n",
    "# pT_min"
   ]
  },
  {
   "cell_type": "code",
   "execution_count": 162,
   "id": "8760237b-98dd-462e-a0a8-1d4e6ede125c",
   "metadata": {},
   "outputs": [
    {
     "data": {
      "image/png": "[encoded data removed]",
      "text/plain": [
       "<Figure size 1200x400 with 4 Axes>"
      ]
     },
     "metadata": {
      "image/png": {
       "height": 390,
       "width": 1159
      }
     },
     "output_type": "display_data"
    }
   ],
   "source": [
    "fig = plt.figure(figsize=(12,4),tight_layout=True); \n",
    "z_min  = 0.6\n",
    "pT_min = 0.9\n",
    "z_max  = z_min + 0.1; pT_max = pT_min + 0.3\n",
    "for pi_ch,pi_label,pi_idx in zip(pi_charge_names,pi_labels,[1,2]):\n",
    "    df = df_direct_ratio[pi_ch]\n",
    "    ax = fig.add_subplot(1,2,pi_idx);\n",
    "    df = df[(np.abs(df.z_min - z_min)<0.01) & (np.abs(df.pT_min - pT_min)<0.01)]\n",
    "    Q2 = (df.Q2_min + df.Q2_max)/2\n",
    "    xB = (df.xB_min + df.xB_max)/2\n",
    "    z  = (df.z_min + df.z_max)/2\n",
    "    f_direct = df.f_direct;\n",
    "    mask = (f_direct>0)\n",
    "    plt.scatter( Q2[mask], xB[mask], c=f_direct[mask], s=2000, marker='s', vmin=0, vmax=1);\n",
    "    cbar = plt.colorbar(); cbar.ax.tick_params(labelsize=14);    \n",
    "    set_axes(ax,'$Q^2$  [(GeV/c)$^2$]','$x_B$ ',\n",
    "             title='$'+pi_label+'$ fraction, $%.1f<p_T<%.1f$ GeV/c, $%.1f<z<%.1f$'%(pT_min, pT_max, z_min, z_max),\n",
    "             xlim = (np.min(Q2)-0.5, np.max(Q2)+0.5),ylim = (np.min(xB)-0.05,np.max(xB)-0.05),fontsize=14)"
   ]
  },
  {
   "cell_type": "code",
   "execution_count": 116,
   "id": "cba2784f-6443-4214-9ef6-08a92c734b65",
   "metadata": {},
   "outputs": [
    {
     "data": {
      "text/plain": [
       "3    0.629316\n",
       "Name: f_direct, dtype: float64"
      ]
     },
     "execution_count": 116,
     "metadata": {},
     "output_type": "execute_result"
    }
   ],
   "source": [
    "f_direct"
   ]
  },
  {
   "cell_type": "code",
   "execution_count": 31,
   "id": "42b11865-eefb-45a2-8177-1476a64044d4",
   "metadata": {},
   "outputs": [
    {
     "data": {
      "text/plain": [
       "array([[2.5, 2.5, 2.5, 2.5, 3.5, 3.5, 3.5, 3.5, 4.5, 4.5, 4.5, 4.5, 5.5,\n",
       "        5.5, 5.5, 5.5, 6.5, 6.5, 6.5, 6.5, 7.5, 7.5, 7.5, 7.5],\n",
       "       [2.5, 2.5, 2.5, 2.5, 3.5, 3.5, 3.5, 3.5, 4.5, 4.5, 4.5, 4.5, 5.5,\n",
       "        5.5, 5.5, 5.5, 6.5, 6.5, 6.5, 6.5, 7.5, 7.5, 7.5, 7.5],\n",
       "       [2.5, 2.5, 2.5, 2.5, 3.5, 3.5, 3.5, 3.5, 4.5, 4.5, 4.5, 4.5, 5.5,\n",
       "        5.5, 5.5, 5.5, 6.5, 6.5, 6.5, 6.5, 7.5, 7.5, 7.5, 7.5],\n",
       "       [2.5, 2.5, 2.5, 2.5, 3.5, 3.5, 3.5, 3.5, 4.5, 4.5, 4.5, 4.5, 5.5,\n",
       "        5.5, 5.5, 5.5, 6.5, 6.5, 6.5, 6.5, 7.5, 7.5, 7.5, 7.5],\n",
       "       [2.5, 2.5, 2.5, 2.5, 3.5, 3.5, 3.5, 3.5, 4.5, 4.5, 4.5, 4.5, 5.5,\n",
       "        5.5, 5.5, 5.5, 6.5, 6.5, 6.5, 6.5, 7.5, 7.5, 7.5, 7.5],\n",
       "       [2.5, 2.5, 2.5, 2.5, 3.5, 3.5, 3.5, 3.5, 4.5, 4.5, 4.5, 4.5, 5.5,\n",
       "        5.5, 5.5, 5.5, 6.5, 6.5, 6.5, 6.5, 7.5, 7.5, 7.5, 7.5],\n",
       "       [2.5, 2.5, 2.5, 2.5, 3.5, 3.5, 3.5, 3.5, 4.5, 4.5, 4.5, 4.5, 5.5,\n",
       "        5.5, 5.5, 5.5, 6.5, 6.5, 6.5, 6.5, 7.5, 7.5, 7.5, 7.5],\n",
       "       [2.5, 2.5, 2.5, 2.5, 3.5, 3.5, 3.5, 3.5, 4.5, 4.5, 4.5, 4.5, 5.5,\n",
       "        5.5, 5.5, 5.5, 6.5, 6.5, 6.5, 6.5, 7.5, 7.5, 7.5, 7.5],\n",
       "       [2.5, 2.5, 2.5, 2.5, 3.5, 3.5, 3.5, 3.5, 4.5, 4.5, 4.5, 4.5, 5.5,\n",
       "        5.5, 5.5, 5.5, 6.5, 6.5, 6.5, 6.5, 7.5, 7.5, 7.5, 7.5],\n",
       "       [2.5, 2.5, 2.5, 2.5, 3.5, 3.5, 3.5, 3.5, 4.5, 4.5, 4.5, 4.5, 5.5,\n",
       "        5.5, 5.5, 5.5, 6.5, 6.5, 6.5, 6.5, 7.5, 7.5, 7.5, 7.5],\n",
       "       [2.5, 2.5, 2.5, 2.5, 3.5, 3.5, 3.5, 3.5, 4.5, 4.5, 4.5, 4.5, 5.5,\n",
       "        5.5, 5.5, 5.5, 6.5, 6.5, 6.5, 6.5, 7.5, 7.5, 7.5, 7.5],\n",
       "       [2.5, 2.5, 2.5, 2.5, 3.5, 3.5, 3.5, 3.5, 4.5, 4.5, 4.5, 4.5, 5.5,\n",
       "        5.5, 5.5, 5.5, 6.5, 6.5, 6.5, 6.5, 7.5, 7.5, 7.5, 7.5],\n",
       "       [2.5, 2.5, 2.5, 2.5, 3.5, 3.5, 3.5, 3.5, 4.5, 4.5, 4.5, 4.5, 5.5,\n",
       "        5.5, 5.5, 5.5, 6.5, 6.5, 6.5, 6.5, 7.5, 7.5, 7.5, 7.5],\n",
       "       [2.5, 2.5, 2.5, 2.5, 3.5, 3.5, 3.5, 3.5, 4.5, 4.5, 4.5, 4.5, 5.5,\n",
       "        5.5, 5.5, 5.5, 6.5, 6.5, 6.5, 6.5, 7.5, 7.5, 7.5, 7.5],\n",
       "       [2.5, 2.5, 2.5, 2.5, 3.5, 3.5, 3.5, 3.5, 4.5, 4.5, 4.5, 4.5, 5.5,\n",
       "        5.5, 5.5, 5.5, 6.5, 6.5, 6.5, 6.5, 7.5, 7.5, 7.5, 7.5],\n",
       "       [2.5, 2.5, 2.5, 2.5, 3.5, 3.5, 3.5, 3.5, 4.5, 4.5, 4.5, 4.5, 5.5,\n",
       "        5.5, 5.5, 5.5, 6.5, 6.5, 6.5, 6.5, 7.5, 7.5, 7.5, 7.5],\n",
       "       [2.5, 2.5, 2.5, 2.5, 3.5, 3.5, 3.5, 3.5, 4.5, 4.5, 4.5, 4.5, 5.5,\n",
       "        5.5, 5.5, 5.5, 6.5, 6.5, 6.5, 6.5, 7.5, 7.5, 7.5, 7.5],\n",
       "       [2.5, 2.5, 2.5, 2.5, 3.5, 3.5, 3.5, 3.5, 4.5, 4.5, 4.5, 4.5, 5.5,\n",
       "        5.5, 5.5, 5.5, 6.5, 6.5, 6.5, 6.5, 7.5, 7.5, 7.5, 7.5],\n",
       "       [2.5, 2.5, 2.5, 2.5, 3.5, 3.5, 3.5, 3.5, 4.5, 4.5, 4.5, 4.5, 5.5,\n",
       "        5.5, 5.5, 5.5, 6.5, 6.5, 6.5, 6.5, 7.5, 7.5, 7.5, 7.5],\n",
       "       [2.5, 2.5, 2.5, 2.5, 3.5, 3.5, 3.5, 3.5, 4.5, 4.5, 4.5, 4.5, 5.5,\n",
       "        5.5, 5.5, 5.5, 6.5, 6.5, 6.5, 6.5, 7.5, 7.5, 7.5, 7.5],\n",
       "       [2.5, 2.5, 2.5, 2.5, 3.5, 3.5, 3.5, 3.5, 4.5, 4.5, 4.5, 4.5, 5.5,\n",
       "        5.5, 5.5, 5.5, 6.5, 6.5, 6.5, 6.5, 7.5, 7.5, 7.5, 7.5],\n",
       "       [2.5, 2.5, 2.5, 2.5, 3.5, 3.5, 3.5, 3.5, 4.5, 4.5, 4.5, 4.5, 5.5,\n",
       "        5.5, 5.5, 5.5, 6.5, 6.5, 6.5, 6.5, 7.5, 7.5, 7.5, 7.5],\n",
       "       [2.5, 2.5, 2.5, 2.5, 3.5, 3.5, 3.5, 3.5, 4.5, 4.5, 4.5, 4.5, 5.5,\n",
       "        5.5, 5.5, 5.5, 6.5, 6.5, 6.5, 6.5, 7.5, 7.5, 7.5, 7.5],\n",
       "       [2.5, 2.5, 2.5, 2.5, 3.5, 3.5, 3.5, 3.5, 4.5, 4.5, 4.5, 4.5, 5.5,\n",
       "        5.5, 5.5, 5.5, 6.5, 6.5, 6.5, 6.5, 7.5, 7.5, 7.5, 7.5]])"
      ]
     },
     "execution_count": 31,
     "metadata": {},
     "output_type": "execute_result"
    }
   ],
   "source": [
    "Q2_"
   ]
  },
  {
   "cell_type": "code",
   "execution_count": null,
   "id": "13496325-a24c-4e7a-8f19-41e8a52e4ccb",
   "metadata": {},
   "outputs": [],
   "source": []
  }
 ],
 "metadata": {
  "kernelspec": {
   "display_name": "Python 3 (ipykernel)",
   "language": "python",
   "name": "python3"
  },
  "language_info": {
   "codemirror_mode": {
    "name": "ipython",
    "version": 3
   },
   "file_extension": ".py",
   "mimetype": "text/x-python",
   "name": "python",
   "nbconvert_exporter": "python",
   "pygments_lexer": "ipython3",
   "version": "3.10.10"
  }
 },
 "nbformat": 4,
 "nbformat_minor": 5
}
