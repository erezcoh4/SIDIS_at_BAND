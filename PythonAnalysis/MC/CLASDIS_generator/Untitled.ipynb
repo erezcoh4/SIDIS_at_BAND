{
 "cells": [
  {
   "cell_type": "code",
   "execution_count": 2,
   "id": "ec6b87c9-35eb-47fb-b3de-22e4f0f5d27e",
   "metadata": {},
   "outputs": [
    {
     "name": "stdout",
     "output_type": "stream",
     "text": [
      "W = 2011\n",
      "W before collision = 2010.9254642142487\n",
      "W after collision = 2010.8694370198743\n"
     ]
    }
   ],
   "source": [
    "import numpy as np\n",
    "#Before collision\n",
    "# W**2 = (p_d_4 + q_4)**2 = p_d_4**2 + q_4**2 + 2*p_d_4*q_4 = m_d**2 + ω**2 - q**2 + 2*m_d*ω\n",
    "\n",
    "W = 2011\n",
    "\n",
    "m_d = 1875.61339\n",
    "ω = 540.1\n",
    "q = 1338.6\n",
    "\n",
    "print(\"W =\", W)\n",
    "W = (m_d**2 + ω**2 - q**2 + 2*m_d*ω)**(1/2)\n",
    "print(\"W before collision =\", W)\n",
    "\n",
    "\n",
    "#After collision\n",
    "# W**2 = (p_n_4 + p_p_4)**2 = p_n_4**2 + p_p_4**2 + 2*p_n_4*p_p_4 = m_n**2 + m_p**2 + 2*E_n*E_p - 2*p_n*p_p*np.cos(α)\n",
    "\n",
    "m_p = 938.27231\n",
    "m_n = 939.56542\n",
    "\n",
    "p_p = 1030\n",
    "p_n = 403.3\n",
    "\n",
    "E_p = (m_p**2 + p_p**2)**(1/2)\n",
    "E_n = (m_n**2 + p_n**2)**(1/2)\n",
    "\n",
    "\n",
    "α = (58.2-11.4)*np.pi/180\n",
    "W = (m_n**2 + m_p**2 + 2*E_n*E_p - 2*p_n*p_p*np.cos(α))**(1/2)\n",
    "print(\"W after collision =\", W)"
   ]
  },
  {
   "cell_type": "code",
   "execution_count": null,
   "id": "e2c71da9-ee50-4962-bfa5-6eb1cc60fbfd",
   "metadata": {},
   "outputs": [],
   "source": []
  }
 ],
 "metadata": {
  "kernelspec": {
   "display_name": "Python 3 (ipykernel)",
   "language": "python",
   "name": "python3"
  },
  "language_info": {
   "codemirror_mode": {
    "name": "ipython",
    "version": 3
   },
   "file_extension": ".py",
   "mimetype": "text/x-python",
   "name": "python",
   "nbconvert_exporter": "python",
   "pygments_lexer": "ipython3",
   "version": "3.10.10"
  }
 },
 "nbformat": 4,
 "nbformat_minor": 5
}
