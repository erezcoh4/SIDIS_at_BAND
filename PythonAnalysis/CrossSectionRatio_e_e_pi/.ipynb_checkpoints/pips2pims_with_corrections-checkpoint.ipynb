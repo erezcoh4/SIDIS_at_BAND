{
 "cells": [
  {
   "cell_type": "markdown",
   "id": "1e30185d-b4cf-4059-b94e-9171f6fe8c0e",
   "metadata": {
    "tags": []
   },
   "source": [
    "# Unagged cross-section ratio of $d(e,e'\\pi^+)/d(e,e'\\pi^+)$ \n",
    "\n",
    "\n",
    "last edit Sep-26, 2023"
   ]
  },
  {
   "cell_type": "markdown",
   "id": "79a1f377-5bd5-43ba-8a4a-4cb54f37a6bc",
   "metadata": {
    "jp-MarkdownHeadingCollapsed": true,
    "tags": []
   },
   "source": [
    "## Imports and definitions"
   ]
  },
  {
   "cell_type": "code",
   "execution_count": 1,
   "id": "004e7dab-d231-4947-8ab5-4256ea735722",
   "metadata": {},
   "outputs": [
    {
     "name": "stdout",
     "output_type": "stream",
     "text": [
      "Welcome to JupyROOT 6.26/04\n"
     ]
    },
    {
     "name": "stderr",
     "output_type": "stream",
     "text": [
      "/Users/erezcohen/Desktop/Software//CLAS12/BAND/SIDIS_at_BAND/PythonAnalysis/python_auxiliary/sidis_analysis_tools.py:62: FutureWarning: Calling float on a single element Series is deprecated and will raise a TypeError in the future. Use float(ser.iloc[0]) instead\n",
      "  weight_per_run_rga[run] = 1./float(beam_charge_all_runs_rga[beam_charge_all_runs_rga.runnum==run].beam_charge);\n"
     ]
    },
    {
     "name": "stdout",
     "output_type": "stream",
     "text": [
      "Loaded bin migration and acceptance weights from MC calculations.\n"
     ]
    }
   ],
   "source": [
    "import sys; \n",
    "software_path = '/Users/erezcohen/Desktop/Software/'\n",
    "sys.path.insert(0, software_path + '/mySoftware/Python/');\n",
    "sys.path.insert(0, software_path + '/CLAS12/BAND/SIDIS_at_BAND/PythonAnalysis/AcceptanceCorrections/');\n",
    "sys.path.insert(0, software_path + '/CLAS12/BAND/SIDIS_at_BAND/PythonAnalysis/python_auxiliary/');\n",
    "from my_tools                     import *; \n",
    "from plot_tools                   import *;\n",
    "from my_data_analysis_tools       import *;\n",
    "from acceptance_correction_tools  import *;\n",
    "from sidis_analysis_tools         import *;"
   ]
  },
  {
   "cell_type": "code",
   "execution_count": 2,
   "id": "f2574d18-d52b-4015-bdf4-587d286f483d",
   "metadata": {},
   "outputs": [],
   "source": [
    "%config InlineBackend.figure_format = 'retina'\n",
    "plt.rcParams['mathtext.fontset']    = 'stix'\n",
    "plt.rcParams['font.family']         = 'STIXGeneral'"
   ]
  },
  {
   "cell_type": "markdown",
   "id": "64686df2-853e-4af6-8a73-3909b0743e0b",
   "metadata": {
    "jp-MarkdownHeadingCollapsed": true,
    "tags": []
   },
   "source": [
    "## (1) Load data"
   ]
  },
  {
   "cell_type": "code",
   "execution_count": 3,
   "id": "6c39591f-b29f-4220-be0f-b3618ae2a560",
   "metadata": {
    "tags": []
   },
   "outputs": [
    {
     "name": "stdout",
     "output_type": "stream",
     "text": [
      "Done loading files.\n"
     ]
    }
   ],
   "source": [
    "subdirname = \"sidisdvcs_24Mar2023_commit_cfbc431\" \n",
    "e_e_pi,_,_ = load_SIDIS_data( Nruns = -1,\n",
    "                             rgb_runs_filenames = [\"good_runs_10-2-final.txt\",\n",
    "                                                   \"good_runs_10-4.txt\",\n",
    "                                                   \"good_runs_10-6.txt\"], \n",
    "                             subdirname = subdirname,\n",
    "                             do_e_e_pi_n=False, do_e_e_pi_FreeP=False, \n",
    "                             fdebug=0 );"
   ]
  },
  {
   "cell_type": "markdown",
   "id": "76846275-06f0-410a-9620-374410566b19",
   "metadata": {
    "jp-MarkdownHeadingCollapsed": true,
    "tags": []
   },
   "source": [
    "## (2) Apply selection cuts not previously imposed"
   ]
  },
  {
   "cell_type": "code",
   "execution_count": 4,
   "id": "da52aa49-0100-4fa4-bf1b-e264ee5e6e11",
   "metadata": {},
   "outputs": [],
   "source": [
    "import time"
   ]
  },
  {
   "cell_type": "code",
   "execution_count": 5,
   "id": "94c8993d-72df-4d34-8441-e0003f0c9004",
   "metadata": {},
   "outputs": [
    {
     "name": "stdout",
     "output_type": "stream",
     "text": [
      "number of pi+ events: 60.3 M\n"
     ]
    }
   ],
   "source": [
    "print('number of pi+ events: %.1f'%(len(e_e_pi['piplus'])/1e6),'M')"
   ]
  },
  {
   "cell_type": "code",
   "execution_count": 6,
   "id": "2146b224-05c3-4096-a19e-20f100c9035f",
   "metadata": {},
   "outputs": [
    {
     "name": "stdout",
     "output_type": "stream",
     "text": [
      "Applying selection cuts not previously imposed\n",
      "Apply a π+/π- acceptance matching cut on the in p-theta plane\n"
     ]
    },
    {
     "ename": "AttributeError",
     "evalue": "'DataFrame' object has no attribute 'append'",
     "output_type": "error",
     "traceback": [
      "\u001b[0;31m---------------------------------------------------------------------------\u001b[0m",
      "\u001b[0;31mAttributeError\u001b[0m                            Traceback (most recent call last)",
      "\u001b[0;32m/var/folders/42/n5_htl9n34j9wpgd5rqsnmv40000gn/T/ipykernel_91687/2222036804.py\u001b[0m in \u001b[0;36m<module>\u001b[0;34m\u001b[0m\n\u001b[1;32m      3\u001b[0m \u001b[0mNevents\u001b[0m \u001b[0;34m=\u001b[0m \u001b[0;34m-\u001b[0m\u001b[0;36m1\u001b[0m\u001b[0;34m\u001b[0m\u001b[0;34m\u001b[0m\u001b[0m\n\u001b[1;32m      4\u001b[0m \u001b[0mt0\u001b[0m \u001b[0;34m=\u001b[0m \u001b[0mtime\u001b[0m\u001b[0;34m.\u001b[0m\u001b[0mtime\u001b[0m\u001b[0;34m(\u001b[0m\u001b[0;34m)\u001b[0m\u001b[0;34m\u001b[0m\u001b[0;34m\u001b[0m\u001b[0m\n\u001b[0;32m----> 5\u001b[0;31m e_e_pi_pass_cuts,_,_,_ = apply_further_selection_cuts_to_data(fdebug=0, \n\u001b[0m\u001b[1;32m      6\u001b[0m                                                               \u001b[0mNeventsMax\u001b[0m\u001b[0;34m=\u001b[0m\u001b[0mNevents\u001b[0m\u001b[0;34m,\u001b[0m\u001b[0;34m\u001b[0m\u001b[0;34m\u001b[0m\u001b[0m\n\u001b[1;32m      7\u001b[0m                                                               AcceptanceMatchingType = AcceptanceMatchingType);\n",
      "\u001b[0;32m~/Desktop/Software//CLAS12/BAND/SIDIS_at_BAND/PythonAnalysis/python_auxiliary/sidis_analysis_tools.py\u001b[0m in \u001b[0;36mapply_further_selection_cuts_to_data\u001b[0;34m(fdebug, NeventsMax, NMaxPerSubset, doAcceptanceMatchingCut, AcceptanceMatchingType, doApply_minPn_cut, doApply_Mx_cut, W_min)\u001b[0m\n\u001b[1;32m   2030\u001b[0m     \u001b[0;32mif\u001b[0m \u001b[0;34m(\u001b[0m\u001b[0me_e_pi\u001b[0m\u001b[0;34m==\u001b[0m\u001b[0;34m{\u001b[0m\u001b[0;34m}\u001b[0m\u001b[0;34m)\u001b[0m \u001b[0;32mis\u001b[0m \u001b[0;32mFalse\u001b[0m\u001b[0;34m:\u001b[0m\u001b[0;31m#{\u001b[0m\u001b[0;34m\u001b[0m\u001b[0;34m\u001b[0m\u001b[0m\n\u001b[1;32m   2031\u001b[0m         \u001b[0;32mif\u001b[0m \u001b[0mfdebug\u001b[0m\u001b[0;34m:\u001b[0m \u001b[0mprint\u001b[0m\u001b[0;34m(\u001b[0m\u001b[0;34m\"(1) Applying cuts to d(e,e'π) data\"\u001b[0m\u001b[0;34m)\u001b[0m\u001b[0;34m\u001b[0m\u001b[0;34m\u001b[0m\u001b[0m\n\u001b[0;32m-> 2032\u001b[0;31m         e_e_pi_pass_cuts = apply_cuts_to_e_e_pi(fdebug=fdebug,\n\u001b[0m\u001b[1;32m   2033\u001b[0m                                                 \u001b[0mNeventsMax\u001b[0m\u001b[0;34m=\u001b[0m\u001b[0mNeventsMax\u001b[0m\u001b[0;34m,\u001b[0m\u001b[0;34m\u001b[0m\u001b[0;34m\u001b[0m\u001b[0m\n\u001b[1;32m   2034\u001b[0m                                                 \u001b[0mdoAcceptanceMatchingCut\u001b[0m\u001b[0;34m=\u001b[0m\u001b[0mdoAcceptanceMatchingCut\u001b[0m\u001b[0;34m,\u001b[0m\u001b[0;34m\u001b[0m\u001b[0;34m\u001b[0m\u001b[0m\n",
      "\u001b[0;32m~/Desktop/Software//CLAS12/BAND/SIDIS_at_BAND/PythonAnalysis/python_auxiliary/sidis_analysis_tools.py\u001b[0m in \u001b[0;36mapply_cuts_to_e_e_pi\u001b[0;34m(fdebug, NeventsMax, doAcceptanceMatchingCut, AcceptanceMatchingType, doApply_Mx_cut, W_min)\u001b[0m\n\u001b[1;32m    590\u001b[0m     \u001b[0;32mif\u001b[0m \u001b[0mdoAcceptanceMatchingCut\u001b[0m\u001b[0;34m:\u001b[0m\u001b[0;31m#{\u001b[0m\u001b[0;34m\u001b[0m\u001b[0;34m\u001b[0m\u001b[0m\n\u001b[1;32m    591\u001b[0m         \u001b[0;32mif\u001b[0m \u001b[0mAcceptanceMatchingType\u001b[0m\u001b[0;34m==\u001b[0m\u001b[0;34m'p-theta'\u001b[0m\u001b[0;34m:\u001b[0m\u001b[0;34m\u001b[0m\u001b[0;34m\u001b[0m\u001b[0m\n\u001b[0;32m--> 592\u001b[0;31m             e_e_pi_after_p_theta_cut = apply_p_theta_acceptance_cut_single_set( e_e_pi,\n\u001b[0m\u001b[1;32m    593\u001b[0m                                                                       \u001b[0mNeventsMax\u001b[0m\u001b[0;34m=\u001b[0m\u001b[0mNeventsMax\u001b[0m\u001b[0;34m,\u001b[0m\u001b[0;34m\u001b[0m\u001b[0;34m\u001b[0m\u001b[0m\n\u001b[1;32m    594\u001b[0m                                                                       fdebug=fdebug )\n",
      "\u001b[0;32m~/Desktop/Software//CLAS12/BAND/SIDIS_at_BAND/PythonAnalysis/python_auxiliary/sidis_analysis_tools.py\u001b[0m in \u001b[0;36mapply_p_theta_acceptance_cut_single_set\u001b[0;34m(df_dict, NeventsMax, fdebug)\u001b[0m\n\u001b[1;32m   1766\u001b[0m             \u001b[0mtheta_min_pi\u001b[0m   \u001b[0;34m=\u001b[0m \u001b[0mpi_min_theta_cut\u001b[0m\u001b[0;34m(\u001b[0m \u001b[0mpi_charge\u001b[0m \u001b[0;34m=\u001b[0m \u001b[0;34m'any'\u001b[0m\u001b[0;34m,\u001b[0m \u001b[0msector\u001b[0m\u001b[0;34m=\u001b[0m\u001b[0msector\u001b[0m\u001b[0;34m,\u001b[0m \u001b[0mp\u001b[0m\u001b[0;34m=\u001b[0m\u001b[0mnp\u001b[0m\u001b[0;34m.\u001b[0m\u001b[0marray\u001b[0m\u001b[0;34m(\u001b[0m\u001b[0mdf_in_sector\u001b[0m\u001b[0;34m.\u001b[0m\u001b[0mpi_P\u001b[0m\u001b[0;34m)\u001b[0m \u001b[0;34m)\u001b[0m\u001b[0;34m\u001b[0m\u001b[0;34m\u001b[0m\u001b[0m\n\u001b[1;32m   1767\u001b[0m             \u001b[0mdf_in_sector_pass_cut\u001b[0m \u001b[0;34m=\u001b[0m \u001b[0mdf_in_sector\u001b[0m\u001b[0;34m[\u001b[0m \u001b[0mdf_in_sector\u001b[0m\u001b[0;34m.\u001b[0m\u001b[0mpi_Theta\u001b[0m\u001b[0;34m*\u001b[0m\u001b[0mr2d\u001b[0m \u001b[0;34m>\u001b[0m \u001b[0mtheta_min_pi\u001b[0m \u001b[0;34m]\u001b[0m\u001b[0;34m\u001b[0m\u001b[0;34m\u001b[0m\u001b[0m\n\u001b[0;32m-> 1768\u001b[0;31m             \u001b[0mdf_after_cut\u001b[0m \u001b[0;34m=\u001b[0m \u001b[0mdf_after_cut\u001b[0m\u001b[0;34m.\u001b[0m\u001b[0mappend\u001b[0m\u001b[0;34m(\u001b[0m\u001b[0mdf_in_sector_pass_cut\u001b[0m\u001b[0;34m)\u001b[0m\u001b[0;34m;\u001b[0m\u001b[0;34m\u001b[0m\u001b[0;34m\u001b[0m\u001b[0m\n\u001b[0m\u001b[1;32m   1769\u001b[0m         \u001b[0;31m#}\u001b[0m\u001b[0;34m\u001b[0m\u001b[0;34m\u001b[0m\u001b[0m\n\u001b[1;32m   1770\u001b[0m         \u001b[0mdf_dict_after_cut\u001b[0m\u001b[0;34m[\u001b[0m\u001b[0mpi_ch\u001b[0m\u001b[0;34m]\u001b[0m \u001b[0;34m=\u001b[0m \u001b[0mdf_after_cut\u001b[0m\u001b[0;34m\u001b[0m\u001b[0;34m\u001b[0m\u001b[0m\n",
      "\u001b[0;32m/usr/local/lib/python3.9/site-packages/pandas/core/generic.py\u001b[0m in \u001b[0;36m__getattr__\u001b[0;34m(self, name)\u001b[0m\n\u001b[1;32m   6200\u001b[0m         ):\n\u001b[1;32m   6201\u001b[0m             \u001b[0;32mreturn\u001b[0m \u001b[0mself\u001b[0m\u001b[0;34m[\u001b[0m\u001b[0mname\u001b[0m\u001b[0;34m]\u001b[0m\u001b[0;34m\u001b[0m\u001b[0;34m\u001b[0m\u001b[0m\n\u001b[0;32m-> 6202\u001b[0;31m         \u001b[0;32mreturn\u001b[0m \u001b[0mobject\u001b[0m\u001b[0;34m.\u001b[0m\u001b[0m__getattribute__\u001b[0m\u001b[0;34m(\u001b[0m\u001b[0mself\u001b[0m\u001b[0;34m,\u001b[0m \u001b[0mname\u001b[0m\u001b[0;34m)\u001b[0m\u001b[0;34m\u001b[0m\u001b[0;34m\u001b[0m\u001b[0m\n\u001b[0m\u001b[1;32m   6203\u001b[0m \u001b[0;34m\u001b[0m\u001b[0m\n\u001b[1;32m   6204\u001b[0m     \u001b[0;34m@\u001b[0m\u001b[0mfinal\u001b[0m\u001b[0;34m\u001b[0m\u001b[0;34m\u001b[0m\u001b[0m\n",
      "\u001b[0;31mAttributeError\u001b[0m: 'DataFrame' object has no attribute 'append'"
     ]
    }
   ],
   "source": [
    "# AcceptanceMatchingType  ='p-theta-phi'\n",
    "AcceptanceMatchingType  ='p-theta'\n",
    "Nevents = -1\n",
    "t0 = time.time()\n",
    "e_e_pi_pass_cuts,_,_,_ = apply_further_selection_cuts_to_data(fdebug=0, \n",
    "                                                              NeventsMax=Nevents,\n",
    "                                                              AcceptanceMatchingType = AcceptanceMatchingType);\n",
    "t1 = time.time() \n",
    "print(\"Time elapsed: %.2f\"%(t1 - t0), 'sec (%g us/event)'%((t0-t1)/Nevents*1.e6)) # CPU seconds elapsed (floating point)"
   ]
  },
  {
   "cell_type": "code",
   "execution_count": null,
   "id": "2ada605e-7795-407d-a008-ee59bf7145ca",
   "metadata": {},
   "outputs": [],
   "source": [
    "Nevents = -1\n",
    "t0= time.time()\n",
    "e_e_pi_pass_cuts_3DAcceptanceMatch,_,_,_ = apply_further_selection_cuts_to_data(fdebug=0, \n",
    "                                                                                NeventsMax=Nevents,\n",
    "                                                                                AcceptanceMatchingType  ='p-theta-phi');\n",
    "t1 = time.time() \n",
    "print(\"Time elapsed: %.2f\"%(t1 - t0), 'sec (%g us/event)'%((t0-t1)/Nevents*1.e6)) # CPU seconds elapsed (floating point)"
   ]
  },
  {
   "cell_type": "markdown",
   "id": "36cd99bc-210a-4f0a-9e1e-213fe9819cfa",
   "metadata": {
    "jp-MarkdownHeadingCollapsed": true,
    "tags": []
   },
   "source": [
    "## (3) Define binning for cross-section ratio as a function of Bjorken $x$, and results path\n",
    "For a standing proton use $x_B$, defined as\n",
    "$ x_B = Q^2/2m_p\\omega$"
   ]
  },
  {
   "cell_type": "code",
   "execution_count": null,
   "id": "efd61cf3-ee4f-4d75-a037-e27bb0591ac6",
   "metadata": {},
   "outputs": [],
   "source": [
    "z_bins   = np.arange(0.3,0.8,0.05)\n",
    "z_widths = 0.01*np.ones(len(z_bins))\n",
    "x_bins   = np.linspace(0.22,0.62,11)\n",
    "x        = (x_bins[1:] + x_bins[:-1])/2\n",
    "x_err    = (x_bins[1:] - x_bins[:-1])/2\n",
    "print('x bins:',x_bins,',\\nz bins:',z_bins)\n",
    "for z_bin,z_width in zip(z_bins,z_widths):\n",
    "    z_min,z_max = z_bin-z_width, z_bin+z_width\n",
    "    print('%.3f < z < %.3f:'%(z_min,z_max))"
   ]
  },
  {
   "cell_type": "code",
   "execution_count": null,
   "id": "36949ea3-6869-48bf-85ce-b6c8ae20c857",
   "metadata": {},
   "outputs": [],
   "source": [
    "var_label = \"standing proton x\"\n",
    "var    = 'xB'\n",
    "xlabel = \"Bjorken $x$\""
   ]
  },
  {
   "cell_type": "code",
   "execution_count": null,
   "id": "20e2820c-ea63-494c-b4b4-e6e31bada2a6",
   "metadata": {},
   "outputs": [],
   "source": [
    "results_path = '/Users/erezcohen/Desktop/data/BAND/Results/' + 'Results_10June2023/'"
   ]
  },
  {
   "cell_type": "markdown",
   "id": "9ce9f05e-ee5d-4a0c-b866-002cd77ca086",
   "metadata": {
    "jp-MarkdownHeadingCollapsed": true,
    "tags": []
   },
   "source": [
    "# (4) Extract cross-section ratio as a function of $x_B$ and save tabular data to results files"
   ]
  },
  {
   "cell_type": "markdown",
   "id": "315477fb-48ae-4606-b5b0-4fcb7e72f16a",
   "metadata": {
    "jp-MarkdownHeadingCollapsed": true,
    "tags": []
   },
   "source": [
    "## (4.0) Integrated on kinematics"
   ]
  },
  {
   "cell_type": "code",
   "execution_count": null,
   "id": "fc358694-caec-46a9-95ce-f2847c888566",
   "metadata": {},
   "outputs": [],
   "source": [
    "prefix = 'Untagged_SIDIS_ratio_'\n",
    "suffix = ''"
   ]
  },
  {
   "cell_type": "code",
   "execution_count": null,
   "id": "d944d525-684b-4982-ad8d-62e6cc99ac8d",
   "metadata": {},
   "outputs": [],
   "source": [
    "data_path = results_path + 'IntegratedOnKinematics/'\n",
    "if not os.path.exists(data_path): os.makedirs(data_path)\n",
    "extract_SIDIS_Xsec_ratio(df_dict  = e_e_pi_pass_cuts,                           \n",
    "                    x_var    = var ,                    \n",
    "                    data_path=data_path,                    \n",
    "                    x_bins   = x_bins,                                               \n",
    "                    z_bins   = z_bins,                                               \n",
    "                    z_widths = z_widths,                                               \n",
    "                    fdebug   = 0,                    \n",
    "                    W_min    = 2.5,                    \n",
    "                    prefix   = prefix,\n",
    "                    suffix   = suffix,\n",
    "                         # weight_option='bin migration + acceptance + meson subtraction'\n",
    "                         weight_option='bin migration + acceptance'\n",
    "                        )"
   ]
  },
  {
   "cell_type": "code",
   "execution_count": null,
   "id": "ada8429e-438b-45c6-a169-4550d8fc5383",
   "metadata": {},
   "outputs": [],
   "source": [
    "SIDIS_results = load_SIDIS_ratio(prefix = prefix, \n",
    "                                 suffix = suffix, \n",
    "                                 doPlotResults=True, \n",
    "                                 data_path=data_path,fdebug=3)\n",
    "ax = plt.gca()\n",
    "ax.set_ylim(1,2.5);"
   ]
  },
  {
   "cell_type": "markdown",
   "id": "922c887e-422c-459e-8714-34d15deb7ef4",
   "metadata": {
    "jp-MarkdownHeadingCollapsed": true,
    "tags": []
   },
   "source": [
    "## (4.1) Results in different bins of $Q^2$ integrated over $W$"
   ]
  },
  {
   "cell_type": "code",
   "execution_count": null,
   "id": "d9054129-9863-40ef-866c-06de07d5e7d2",
   "metadata": {},
   "outputs": [],
   "source": [
    "data_path= results_path + 'Q2_bins/'\n",
    "if not os.path.exists(data_path): os.makedirs(data_path)\n",
    "Q2_min_arr = np.arange(2,8,0.5)\n",
    "Q2_max_arr = Q2_min_arr + 0.5"
   ]
  },
  {
   "cell_type": "code",
   "execution_count": null,
   "id": "245936ac-0e2d-4d29-9186-bca68dd54d48",
   "metadata": {},
   "outputs": [],
   "source": [
    "for Q2_min,Q2_max,indcs in zip(Q2_min_arr,Q2_max_arr,range(10)):\n",
    "    suffix   = '_%.1f_Q2_%.1f'%(Q2_min,Q2_max)\n",
    "    print(suffix)\n",
    "    extract_SIDIS_Xsec_ratio(df_dict  = e_e_pi_pass_cuts, \n",
    "                        x_var    = var ,\n",
    "                        x_bins   = x_bins,\n",
    "                        z_bins   = z_bins,\n",
    "                        z_widths = z_widths,          \n",
    "                        fdebug   = 0,\n",
    "                        data_path= data_path,\n",
    "                        prefix   = 'Untagged_SIDIS_ratio_',                    \n",
    "                        suffix   = suffix,\n",
    "                        Q2_min   = Q2_min,\n",
    "                        Q2_max   = Q2_max, \n",
    "                             # weight_option='bin migration + acceptance + meson subtraction'\n",
    "                             weight_option='bin migration + acceptance'\n",
    "                       )\n",
    "print('done.')"
   ]
  },
  {
   "cell_type": "code",
   "execution_count": null,
   "id": "61e7ca4b-3350-4394-8a7d-c086d75c5972",
   "metadata": {},
   "outputs": [],
   "source": []
  },
  {
   "cell_type": "code",
   "execution_count": null,
   "id": "355e30be-2cd0-46d0-8ac8-6077d9900cdb",
   "metadata": {},
   "outputs": [],
   "source": [
    "data_path= results_path + 'Q2_bins_with_partial_corrections/'\n",
    "if not os.path.exists(data_path): os.makedirs(data_path)\n",
    "\n",
    "for Q2_min,Q2_max in zip([2,3,4],[2.5,3.5,4]):\n",
    "    for suffix_str,weight_option in zip(['meson_subtraction','bin_migration','acceptance','bin_migration_acceptance','bin_migration_acceptance_meson_subtraction'],                                   \n",
    "                                        ['meson subtraction','bin migration','acceptance','bin migration + acceptance','bin migration + acceptance + meson subtraction']):\n",
    "        suffix   = suffix_str +'_%.1f_Q2_%.1f'%(Q2_min,Q2_max)\n",
    "        print(suffix)\n",
    "        extract_SIDIS_Xsec_ratio(df_dict  = e_e_pi_pass_cuts, \n",
    "                            x_var    = var ,\n",
    "                            x_bins   = x_bins,\n",
    "                            z_bins   = z_bins,\n",
    "                            z_widths = z_widths,          \n",
    "                            fdebug   = 0,\n",
    "                            data_path= data_path,\n",
    "                            prefix   = 'Untagged_SIDIS_ratio_',                    \n",
    "                            suffix   = suffix,\n",
    "                            Q2_min   = Q2_min,\n",
    "                            Q2_max   = Q2_max, \n",
    "                                 weight_option=weight_option\n",
    "                           )\n",
    "print('done.')"
   ]
  },
  {
   "cell_type": "markdown",
   "id": "c7fadc00-ed76-4b30-9bd0-82fdc82bb457",
   "metadata": {
    "jp-MarkdownHeadingCollapsed": true,
    "tags": []
   },
   "source": [
    "## (4.2) $Q^2$ bins integrated over $W$, compare accetpance matching in $p-\\theta$ vs. $p-\\theta-\\phi$"
   ]
  },
  {
   "cell_type": "code",
   "execution_count": null,
   "id": "a777e963-ea6a-45e1-b125-329d2a9059b6",
   "metadata": {},
   "outputs": [],
   "source": [
    "data_path = results_path + 'Q2_bins_AcceptanceMatch3D/'\n",
    "if not os.path.exists(data_path): os.makedirs(data_path)"
   ]
  },
  {
   "cell_type": "code",
   "execution_count": null,
   "id": "59197844-52d5-4a41-b303-87c44fabc06a",
   "metadata": {},
   "outputs": [],
   "source": [
    "for Q2_min,Q2_max in zip(Q2_min_arr,Q2_max_arr):\n",
    "    suffix   = '_%.1f_Q2_%.1f'%(Q2_min,Q2_max)\n",
    "    print(suffix)\n",
    "    extract_SIDIS_Xsec_ratio(df_dict  = e_e_pi_pass_cuts_3DAcceptanceMatch, \n",
    "                        x_var    = var ,\n",
    "                        x_bins   = x_bins,\n",
    "                        z_bins   = z_bins,\n",
    "                        z_widths = z_widths,          \n",
    "                        fdebug   = 0,\n",
    "                        data_path= data_path,\n",
    "                        prefix   = 'Untagged_SIDIS_ratio_',                    \n",
    "                        suffix   = suffix,\n",
    "                        Q2_min   = Q2_min,\n",
    "                        Q2_max   = Q2_max,\n",
    "                        weight_option='bin migration + acceptance'\n",
    "                       )\n",
    "print('done.')"
   ]
  },
  {
   "cell_type": "code",
   "execution_count": null,
   "id": "e103c032-03f4-49f9-8fa7-146badeb929f",
   "metadata": {},
   "outputs": [],
   "source": []
  },
  {
   "cell_type": "markdown",
   "id": "227f5513-8435-47da-a427-ec705f4ead17",
   "metadata": {
    "tags": []
   },
   "source": [
    "# (5) Extract modified results\n",
    "E.g. in different kinematical bins "
   ]
  },
  {
   "cell_type": "markdown",
   "id": "9a0d5f96-030d-4754-aae2-e49a711608bc",
   "metadata": {
    "jp-MarkdownHeadingCollapsed": true,
    "tags": []
   },
   "source": [
    "## (5.1) Difference between different beam eneries\n",
    "\n",
    "Since there are slightly different kinematics - due to the different beam enegries,\n",
    "we match the $Q^2$ range for all energies to $3 < Q^2 < 4$ (GeV/c)$^2$"
   ]
  },
  {
   "cell_type": "code",
   "execution_count": null,
   "id": "87174d76-8dec-42d5-ad57-c81ae5e063c4",
   "metadata": {},
   "outputs": [],
   "source": [
    "data_path = results_path + 'DifferentBeamEnergies/'\n",
    "if not os.path.exists(data_path): os.makedirs(data_path)\n",
    "Q2_min = 4.0\n",
    "Q2_max = 4.5"
   ]
  },
  {
   "cell_type": "code",
   "execution_count": null,
   "id": "4d84fe83-61d9-4ab3-bde0-5396bebe6932",
   "metadata": {},
   "outputs": [],
   "source": [
    "indcs = dict()\n",
    "e_e_pi_pass_cuts_DifferentEbeam = dict()\n",
    "for E, rum_min, run_max in zip([10.2,10.4 ,10.6],\n",
    "                               [6400,11360,6160],\n",
    "                               [6600,11570,6400]):\n",
    "    e_e_pi_pass_cuts_DifferentEbeam[E] = dict()\n",
    "    for pi_ch in pi_charge_names:\n",
    "        indcs[pi_ch + '%.1f'%E] = np.where( (rum_min < e_e_pi_pass_cuts[pi_ch].runnum)                               \n",
    "                                           & \n",
    "                                           (e_e_pi_pass_cuts[pi_ch].runnum < run_max)) \n",
    "        e_e_pi_pass_cuts_DifferentEbeam[E][pi_ch] = e_e_pi_pass_cuts[pi_ch].iloc[indcs[pi_ch + '%.1f'%E]]\n",
    "        \n",
    "print('Done')        "
   ]
  },
  {
   "cell_type": "code",
   "execution_count": null,
   "id": "18efb859-a6c5-4637-b384-af6b7d632f6c",
   "metadata": {},
   "outputs": [],
   "source": [
    "for E, rum_min, run_max in zip([10.2,10.4 ,10.6],\n",
    "                               [6400,11360,6160],\n",
    "                               [6600,11570,6400]):\n",
    "\n",
    "    extract_SIDIS_Xsec_ratio(df_dict  = e_e_pi_pass_cuts_DifferentEbeam[E],\n",
    "                        x_var    = var ,\n",
    "                        x_bins   = x_bins,\n",
    "                        z_bins   = z_bins,\n",
    "                        z_widths = z_widths,          \n",
    "                        fdebug   = 0,\n",
    "                        data_path= data_path,\n",
    "                        prefix   = 'Untagged_SIDIS_ratio_',                    \n",
    "                        suffix   = '_E_%.1fGeV_%.1f_Q2_%.1f_GeV'%(E,Q2_min,Q2_max),\n",
    "                        Q2_min   = Q2_min,\n",
    "                        Q2_max   = Q2_max)\n",
    "print('Done extracting cross-sections for different E(beam)')"
   ]
  },
  {
   "cell_type": "markdown",
   "id": "99b185ff-1b04-4cbe-8e5c-3887611e81dd",
   "metadata": {
    "jp-MarkdownHeadingCollapsed": true,
    "tags": []
   },
   "source": [
    "## (5.2) Different electron sector"
   ]
  },
  {
   "cell_type": "code",
   "execution_count": null,
   "id": "cea979b5-4705-4c36-b5ad-da5ce1423f1d",
   "metadata": {},
   "outputs": [],
   "source": [
    "data_path = results_path + 'DifferentElectronSector/'\n",
    "if not os.path.exists(data_path): os.makedirs(data_path)\n",
    "Q2_min,Q2_max = 4.0, 4.5"
   ]
  },
  {
   "cell_type": "code",
   "execution_count": null,
   "id": "9c39f065-455c-4f3c-aa1d-da26103e980d",
   "metadata": {},
   "outputs": [],
   "source": [
    "indcs = dict()\n",
    "e_e_pi_pass_cuts_Different_eSector = dict()\n",
    "for eSector in np.arange(1,7,1):\n",
    "    e_e_pi_pass_cuts_Different_eSector[eSector] = dict()\n",
    "    for pi_ch in pi_charge_names:\n",
    "        indcs[pi_ch + '%d'%eSector] = np.where( e_e_pi_pass_cuts[pi_ch].e_DC_sector==eSector ) \n",
    "        e_e_pi_pass_cuts_Different_eSector[eSector][pi_ch] = e_e_pi_pass_cuts[pi_ch].iloc[indcs[pi_ch + '%d'%eSector]]\n",
    "        \n",
    "print('Done')        "
   ]
  },
  {
   "cell_type": "code",
   "execution_count": null,
   "id": "a205c91a-3c6c-4029-a349-6c5454694dd1",
   "metadata": {},
   "outputs": [],
   "source": [
    "for eSector in np.arange(1,7,1):\n",
    "\n",
    "    extract_SIDIS_Xsec_ratio(df_dict  = e_e_pi_pass_cuts_Different_eSector[eSector],\n",
    "                        x_var    = var ,\n",
    "                        x_bins   = x_bins,\n",
    "                        z_bins   = z_bins,\n",
    "                        z_widths = z_widths,          \n",
    "                        fdebug   = 0,\n",
    "                        data_path= data_path,\n",
    "                        prefix   = 'Untagged_SIDIS_ratio_',                    \n",
    "                        suffix   = '_e_Sector_%d_%.1f_Q2_%.1f_GeV'%(eSector,Q2_min,Q2_max),\n",
    "                        Q2_min   = Q2_min,\n",
    "                        Q2_max   = Q2_max)\n",
    "print('Done extracting cross-sections for different e-Sector')"
   ]
  },
  {
   "cell_type": "markdown",
   "id": "d04dd074-76bb-4c1c-9e0a-9eb7d9db3c26",
   "metadata": {
    "jp-MarkdownHeadingCollapsed": true,
    "tags": []
   },
   "source": [
    "## (5.3) Different pion sector"
   ]
  },
  {
   "cell_type": "code",
   "execution_count": null,
   "id": "409eb542-ad7f-4a8e-b56d-35dcbb2ffcdc",
   "metadata": {},
   "outputs": [],
   "source": [
    "data_path = results_path + 'DifferentPiSector/'\n",
    "if not os.path.exists(data_path): os.makedirs(data_path)\n",
    "Q2_min,Q2_max = 4.0, 4.5"
   ]
  },
  {
   "cell_type": "code",
   "execution_count": null,
   "id": "48dd2a90-4df1-447b-aa20-c4d745738d06",
   "metadata": {},
   "outputs": [],
   "source": [
    "indcs = dict()\n",
    "e_e_pi_pass_cuts_Different_PiSector = dict()\n",
    "for PiSector in np.arange(1,7,1):\n",
    "    e_e_pi_pass_cuts_Different_PiSector[PiSector] = dict()\n",
    "    for pi_ch in pi_charge_names:\n",
    "        indcs[pi_ch + '%d'%PiSector] = np.where( e_e_pi_pass_cuts[pi_ch].pi_DC_sector==PiSector ) \n",
    "        e_e_pi_pass_cuts_Different_PiSector[PiSector][pi_ch] = e_e_pi_pass_cuts[pi_ch].iloc[indcs[pi_ch + '%d'%PiSector]]\n",
    "        \n",
    "print('Done')        "
   ]
  },
  {
   "cell_type": "code",
   "execution_count": null,
   "id": "114e0f63-a716-410e-a6bd-ea213b286dcb",
   "metadata": {},
   "outputs": [],
   "source": [
    "for PiSector in np.arange(1,7,1):\n",
    "    extract_SIDIS_Xsec_ratio(df_dict  = e_e_pi_pass_cuts_Different_PiSector[PiSector],\n",
    "                        x_var    = var ,\n",
    "                        x_bins   = x_bins,\n",
    "                        z_bins   = z_bins,\n",
    "                        z_widths = z_widths,          \n",
    "                        fdebug   = 0,\n",
    "                        data_path= data_path,\n",
    "                        prefix   = 'Untagged_SIDIS_ratio_',                    \n",
    "                        suffix   = '_Pi_Sector_%d_%.1f_Q2_%.1f_GeV'%(PiSector,Q2_min,Q2_max),\n",
    "                        Q2_min   = Q2_min,\n",
    "                        Q2_max   = Q2_max)\n",
    "print('Done extracting cross-sections for different π-Sector')"
   ]
  },
  {
   "cell_type": "markdown",
   "id": "a2f53a75-d998-465b-a1de-09a98fab7b98",
   "metadata": {
    "jp-MarkdownHeadingCollapsed": true,
    "tags": []
   },
   "source": [
    "## (5.4) Different bins of $M_x$"
   ]
  },
  {
   "cell_type": "code",
   "execution_count": null,
   "id": "30e5ded4-ef0d-4d56-b405-735234b452fd",
   "metadata": {},
   "outputs": [],
   "source": [
    "data_path= results_path + 'Mx_bins/'\n",
    "if not os.path.exists(data_path): os.makedirs(data_path)\n",
    "M_x_min_arr = [1.7,2.0,2.5]\n",
    "M_x_max_arr = [2.5,3.0,3.5]"
   ]
  },
  {
   "cell_type": "code",
   "execution_count": null,
   "id": "6f7c8f9f-f993-4af4-8e91-29a7657a19f6",
   "metadata": {},
   "outputs": [],
   "source": [
    "for M_x_min,M_x_max in zip(M_x_min_arr,M_x_max_arr):\n",
    "    print(M_x_min,'<M_x<',M_x_max)\n",
    "    extract_SIDIS_Xsec_ratio(df_dict  = e_e_pi_pass_cuts,\n",
    "                        x_var    = var ,\n",
    "                        x_bins   = x_bins,\n",
    "                        z_bins   = z_bins,\n",
    "                        z_widths = z_widths,          \n",
    "                        fdebug   = 0,\n",
    "                        data_path= data_path,\n",
    "                        prefix   = 'Untagged_SIDIS_ratio_',                    \n",
    "                        suffix   = '_Mx_%.2f-%.2f_GeV'%(M_x_min,M_x_max),\n",
    "                        M_x_min  = M_x_min,\n",
    "                        M_x_max  = M_x_max)\n",
    "    \n",
    "print('done.')"
   ]
  },
  {
   "cell_type": "markdown",
   "id": "78fc6b70-3fd1-4df7-a23e-b83ed364edaa",
   "metadata": {
    "jp-MarkdownHeadingCollapsed": true,
    "tags": []
   },
   "source": [
    "### (5.4.1) bins of $M_x$ and $Q^2$"
   ]
  },
  {
   "cell_type": "code",
   "execution_count": null,
   "id": "c5f520fd-ee8d-43ff-a57d-26610a2036cc",
   "metadata": {},
   "outputs": [],
   "source": [
    "data_path= results_path + 'Mx_and_Q2_bins/'\n",
    "if not os.path.exists(data_path): os.makedirs(data_path)\n",
    "M_x_min_arr = [0.0,2.0]\n",
    "M_x_max_arr = [2.0,4.0]\n",
    "Q2_min_arr  = [2.0,4.0]\n",
    "Q2_max_arr  = [4.0,9.0]\n",
    "\n",
    "\n",
    "for Q2_min,Q2_max in zip(Q2_min_arr,Q2_max_arr):\n",
    "    print(Q2_min,'<Q2<',Q2_max)\n",
    "\n",
    "    for M_x_min,M_x_max in zip(M_x_min_arr,M_x_max_arr):\n",
    "        print('\\t',M_x_min,'<M_x<',M_x_max)\n",
    "\n",
    "        extract_SIDIS_Xsec_ratio(df_dict  = e_e_pi_pass_cuts,\n",
    "                            x_var    = var ,\n",
    "                            x_bins   = x_bins,\n",
    "                            z_bins   = z_bins,\n",
    "                            z_widths = z_widths,          \n",
    "                            fdebug   = 0,\n",
    "                            data_path= data_path,\n",
    "                            prefix   = 'Untagged_SIDIS_ratio_',                    \n",
    "                            suffix   = '_Mx_%.2f-%.2f_GeV_Q2_%.2f-%.2f_GeV'%(M_x_min,M_x_max,Q2_min,Q2_max),\n",
    "                            Q2_min   = Q2_min,\n",
    "                            Q2_max   = Q2_max,\n",
    "                            M_x_min  = M_x_min,\n",
    "                            M_x_max  = M_x_max)\n",
    "    \n",
    "print('done.')"
   ]
  },
  {
   "cell_type": "markdown",
   "id": "4d449694-f780-4da5-9289-766ba53acac5",
   "metadata": {
    "tags": []
   },
   "source": [
    "## (5.5) Results at high-$Q^2$ in different bins of $p_T$ or $\\phi_\\pi$"
   ]
  },
  {
   "cell_type": "markdown",
   "id": "cdad7eb0-f7f3-42e0-81c1-1004593402c4",
   "metadata": {},
   "source": [
    "### (5.5.1) depepence on $p_T$"
   ]
  },
  {
   "cell_type": "code",
   "execution_count": null,
   "id": "57795829-3e05-44a2-97d0-ae085173af5b",
   "metadata": {},
   "outputs": [],
   "source": [
    "# Q2_min,Q2_max = 4.0,4.5\n",
    "# Q2_min,Q2_max = 3.0,3.5\n",
    "# Q2_min,Q2_max = 2.0,2.5"
   ]
  },
  {
   "cell_type": "code",
   "execution_count": null,
   "id": "fbcb5eea-f1a5-4c47-9ccc-96f9e1b6d25a",
   "metadata": {},
   "outputs": [],
   "source": [
    "dpT = 0.25\n",
    "pT_min_arr = np.arange(0,1,dpT)\n",
    "pT_max_arr = pT_min_arr + dpT\n",
    "pT_min_arr, pT_max_arr"
   ]
  },
  {
   "cell_type": "code",
   "execution_count": null,
   "id": "0d7f3195-cc9a-4c23-a8d6-a92fa3b11044",
   "metadata": {},
   "outputs": [],
   "source": [
    "for Q2min,Q2max in zip([2.,3.,4.],[2.5,3.5,4.5]):\n",
    "    data_path= results_path + 'pT_bins_%.1f_Q2_%.1f/'%(Q2min,Q2max)\n",
    "    if not os.path.exists(data_path): os.makedirs(data_path)\n",
    "\n",
    "    for pT_min,pT_max in zip(pT_min_arr,pT_max_arr):\n",
    "        suffix   = '_%.2f_pT_%.2f'%(pT_min,pT_max)\n",
    "        print(suffix)\n",
    "        extract_SIDIS_Xsec_ratio(df_dict  = e_e_pi_pass_cuts, \n",
    "                            x_var    = var ,\n",
    "                            x_bins   = x_bins,\n",
    "                            z_bins   = z_bins,\n",
    "                            z_widths = z_widths,          \n",
    "                            fdebug   = 0,\n",
    "                            data_path= data_path,\n",
    "                            prefix   = 'Untagged_SIDIS_ratio_',                    \n",
    "                            suffix   = suffix,\n",
    "                            Q2_min   = Q2min,\n",
    "                            Q2_max   = Q2max,\n",
    "                            pT_min   = pT_min,\n",
    "                            pT_max   = pT_max,\n",
    "                           )\n",
    "    print('Done %.1f<Q2<%.1f'%(Q2min,Q2max))\n",
    "print('done.')"
   ]
  },
  {
   "cell_type": "code",
   "execution_count": null,
   "id": "7f88ecd8-8f86-46f6-9270-8adfb23c5cb3",
   "metadata": {},
   "outputs": [],
   "source": []
  },
  {
   "cell_type": "markdown",
   "id": "c1c75990-ad00-4c95-b446-79d560c18b34",
   "metadata": {},
   "source": [
    "### (5.5.2) depepence on $\\phi$\n",
    "First look a the coupling between $\\phi$ and $p_T$"
   ]
  },
  {
   "cell_type": "code",
   "execution_count": null,
   "id": "456c75e3-5fc0-4693-94a9-bedd43c19145",
   "metadata": {},
   "outputs": [],
   "source": [
    "for pi_ch,pi_idx in zip(pi_charge_,[1,2]):\n",
    "    e_e_pi_pass_cuts[pi_ch]"
   ]
  },
  {
   "cell_type": "code",
   "execution_count": null,
   "id": "60a6af74-fcbf-4e2b-8821-ee9ab9f2c2bb",
   "metadata": {},
   "outputs": [],
   "source": [
    "phi_min_arr = np.arange(-np.pi,np.pi-np.pi/3,np.pi/3)\n",
    "phi_max_arr = phi_min_arr + np.pi/3\n",
    "phi_min_arr, phi_max_arr"
   ]
  },
  {
   "cell_type": "code",
   "execution_count": null,
   "id": "20f261bb-21bd-40f8-b199-ea9ea9721451",
   "metadata": {},
   "outputs": [],
   "source": [
    "for Q2min,Q2max in zip([2.,3.,4.],[2.5,3.5,4.5]):\n",
    "    data_path= results_path + 'phi_bins_%.1f_Q2_%.1f/'%(Q2min,Q2max)\n",
    "    if not os.path.exists(data_path): os.makedirs(data_path)\n",
    "\n",
    "    for phi_min,phi_max in zip(phi_min_arr, phi_max_arr):\n",
    "        suffix   = '_%.2f_phi_%.2f'%(phi_min,phi_max)\n",
    "        print(suffix)\n",
    "        extract_SIDIS_Xsec_ratio(df_dict  = e_e_pi_pass_cuts, \n",
    "                            x_var    = var ,\n",
    "                            x_bins   = x_bins,\n",
    "                            z_bins   = z_bins,\n",
    "                            z_widths = z_widths,          \n",
    "                            fdebug   = 0,\n",
    "                            data_path= data_path,\n",
    "                            prefix   = 'Untagged_SIDIS_ratio_',                    \n",
    "                            suffix   = suffix,\n",
    "                            Q2_min   = Q2min,\n",
    "                            Q2_max   = Q2max,\n",
    "                            phi_min   = phi_min,\n",
    "                            phi_max   = phi_max,\n",
    "                           )\n",
    "    print('Done %.1f<Q2<%.1f'%(Q2min,Q2max))        \n",
    "print('done.')"
   ]
  },
  {
   "cell_type": "markdown",
   "id": "3ec11478-3428-483a-acd9-3fe2b194f329",
   "metadata": {
    "jp-MarkdownHeadingCollapsed": true,
    "tags": []
   },
   "source": [
    "## (5.6) Different bins of $Q^2$ and $W$"
   ]
  },
  {
   "cell_type": "code",
   "execution_count": null,
   "id": "5a6f80c2-77ca-4309-a6ed-daf886d9821e",
   "metadata": {},
   "outputs": [],
   "source": [
    "# from IPython.display import IFrame\n",
    "# IFrame('Q2.png', width=600, height=300)"
   ]
  },
  {
   "cell_type": "code",
   "execution_count": null,
   "id": "b42f286e-ecd1-4f18-b86c-340ca731a345",
   "metadata": {},
   "outputs": [],
   "source": [
    "# IFrame('W.png', width=600, height=300)"
   ]
  },
  {
   "cell_type": "code",
   "execution_count": null,
   "id": "8d79092d-410b-4abb-84ad-f7bbbfbe916e",
   "metadata": {},
   "outputs": [],
   "source": [
    "Q2_min_arr = [2.0, 2.8, 3.6]\n",
    "Q2_max_arr = [2.8, 3.6, 8.0]\n",
    "\n",
    "W_min_arr = np.linspace(2.5,3.1,3)\n",
    "W_max_arr = np.linspace(2.8,3.4,3)\n",
    "# print(W_min_arr)  # print(W_max_arr)\n",
    "\n",
    "z_bins   = np.arange(0.3,0.8,0.05)\n",
    "z_widths = 0.01*np.ones(len(z_bins))"
   ]
  },
  {
   "cell_type": "code",
   "execution_count": null,
   "id": "125045e6-33cb-408f-b9fb-655f78244411",
   "metadata": {},
   "outputs": [],
   "source": [
    "data_path= '/Users/erezcohen/Desktop/data/BAND/Results/Q2_and_W_bins/'\n",
    "if not os.path.exists(data_path): os.makedirs(data_path)\n",
    "\n",
    "\n",
    "for Q2_min,Q2_max in zip(Q2_min_arr,Q2_max_arr):\n",
    "    for W_min,W_max in zip(W_min_arr,W_max_arr):\n",
    "        suffix   = '_%.1f_Q2_%.1f____%.1f_W_%.1f'%(Q2_min,Q2_max,W_min,W_max)\n",
    "        print(suffix)\n",
    "        extract_SIDIS_Xsec_ratio(df_dict  = e_e_pi_pass_cuts, \n",
    "                            x_var    = var ,\n",
    "                            x_bins   = x_bins,\n",
    "                            z_bins   = z_bins,\n",
    "                            z_widths = z_widths,          \n",
    "                            fdebug   = 0,\n",
    "                            data_path= data_path,\n",
    "                            prefix   = 'Untagged_SIDIS_ratio_',                    \n",
    "                            suffix   = suffix,\n",
    "                            W_min    = W_min,\n",
    "                            W_max    = W_max,\n",
    "                            Q2_min   = Q2_min,\n",
    "                            Q2_max   = Q2_max\n",
    "                           )\n",
    "\n",
    "print('done.')"
   ]
  },
  {
   "cell_type": "code",
   "execution_count": null,
   "id": "6f0083f9-5cbe-41fb-8874-e35376c0256c",
   "metadata": {},
   "outputs": [],
   "source": [
    "NQ2 = len(Q2_min_arr)\n",
    "NW  = len(W_min_arr)\n",
    "fig = plt.figure(figsize=(16,16),tight_layout=True)\n",
    "for Q2_min,Q2_max,Q2_idx in zip(Q2_min_arr,Q2_max_arr, range(NQ2)):\n",
    "    for W_min,W_max,W_idx in zip(W_min_arr,W_max_arr, range(NW)):\n",
    "        suffix   = '_%.1f_Q2_%.1f____%.1f_W_%.1f'%(Q2_min,Q2_max,W_min,W_max)\n",
    "\n",
    "        axPlot = fig.add_subplot(NQ2, NW, Q2_idx*NW + W_idx + 1)\n",
    "        SIDIS_results = load_SIDIS_ratio(prefix = prefix, \n",
    "                                         fdebug=3,\n",
    "                                         axPlot = axPlot, \n",
    "                                         titlePlot = '$%.1f < Q^2 < %.1f$ (GeV/c)$^2$, $%.1f < W < %.1f$ GeV/c$^2$'%(Q2_min,Q2_max,W_min,W_max),\n",
    "                                         data_path= data_path,\n",
    "                                         suffix = suffix, \n",
    "                                         doPlotResults=True, \n",
    "                                         Nzbins2Plot=3)\n",
    "        axPlot.set_xticks([0.2,0.3,0.4,0.5]);"
   ]
  },
  {
   "cell_type": "markdown",
   "id": "748ae6bd-1ed7-424e-bbdb-72d7ffbe0884",
   "metadata": {
    "jp-MarkdownHeadingCollapsed": true,
    "tags": []
   },
   "source": [
    "## (5.7) Results for many more bins in $z$"
   ]
  },
  {
   "cell_type": "code",
   "execution_count": null,
   "id": "a26d94d6-e811-4e7b-9728-b2ca141a13c5",
   "metadata": {},
   "outputs": [],
   "source": [
    "# z_bins   = np.arange(0.3,0.8,0.01)\n",
    "# z_widths = 0.001*np.ones(len(z_bins))\n",
    "\n",
    "# prefix = 'Untagged_SIDIS_ratio_'\n",
    "# suffix = ''"
   ]
  },
  {
   "cell_type": "code",
   "execution_count": null,
   "id": "a13b2641-e22b-45de-aeaf-6e794d12588b",
   "metadata": {},
   "outputs": [],
   "source": [
    "# extract_SIDIS_ratio(df_dict  = e_e_pi_pass_cuts,                                \n",
    "#                            x_var    = var ,                           \n",
    "#                            x_bins   = x_bins,                           \n",
    "#                            z_bins   = z_bins,                           \n",
    "#                            z_widths = z_widths,                           \n",
    "#                            fdebug   = 0,\n",
    "#                            prefix   = 'Untagged_SIDIS_ratio_',\n",
    "#                             data_path= '/Users/erezcohen/Desktop/data/BAND/Results/Q2_and_W_bins/many_z_bins/',\n",
    "#                            suffix   = '')"
   ]
  },
  {
   "cell_type": "code",
   "execution_count": null,
   "id": "bb96905b-0927-444b-8f8e-80465ecb52e2",
   "metadata": {},
   "outputs": [],
   "source": [
    "# SIDIS_results = load_SIDIS_ratio_DataFrame(z_bins=z_bins,z_widths=z_widths,\n",
    "#                                            prefix = prefix, suffix = suffix, \n",
    "#                                            doPlotResults=True)"
   ]
  },
  {
   "cell_type": "markdown",
   "id": "6d88b42e-c2b6-44f0-826a-71a9155f7aec",
   "metadata": {
    "jp-MarkdownHeadingCollapsed": true,
    "tags": []
   },
   "source": [
    "# (6) Results with no acceptance matching cut in $p-\\theta$ "
   ]
  },
  {
   "cell_type": "code",
   "execution_count": null,
   "id": "de6e1222-acf6-438e-b421-2ed581efab0f",
   "metadata": {},
   "outputs": [],
   "source": [
    "Nevents = -1\n",
    "t0= time.time()\n",
    "e_e_pi_pass_cuts_no_p_theta_cut,_,_ = apply_further_selection_cuts_to_data(fdebug=2,\n",
    "                                                                           NeventsMax=Nevents, \n",
    "                                                                           doAcceptanceMatchingCut=False);\n",
    "t1 = time.time() \n",
    "print(\"Time elapsed: %.2f\"%(t1 - t0), 'sec (%g us/event)'%((t1 - t0)/Nevents*1.e6)) # CPU seconds elapsed (floating point)"
   ]
  },
  {
   "cell_type": "code",
   "execution_count": null,
   "id": "edc7c911-0a6f-42a7-a51a-00ea3e9f95b9",
   "metadata": {},
   "outputs": [],
   "source": [
    "save_SIDIS_ratio_DataFrame(df_dict  = e_e_pi_pass_cuts_no_p_theta_cut,                                \n",
    "                           x_var    = var ,                           \n",
    "                           x_bins   = x_bins,                           \n",
    "                           z_bins   = z_bins,                           \n",
    "                           z_widths = z_widths,                           \n",
    "                           fdebug   = 0,\n",
    "                           prefix   = 'Untagged_SIDIS_ratio_',                           \n",
    "                           suffix   = '_No_AcceptanceMatchingCut')"
   ]
  },
  {
   "cell_type": "code",
   "execution_count": null,
   "id": "5e634444-ff81-400e-8d0e-985aea3ed1cb",
   "metadata": {},
   "outputs": [],
   "source": [
    "prefix = 'Untagged_SIDIS_ratio_'\n",
    "suffix = '_No_AcceptanceMatchingCut'\n",
    "SIDIS_results = load_SIDIS_ratio_DataFrame(prefix = prefix, suffix = suffix, doPlotResults=True)"
   ]
  },
  {
   "cell_type": "code",
   "execution_count": null,
   "id": "1f982276-588b-47c0-8f29-6120d918f25b",
   "metadata": {},
   "outputs": [],
   "source": []
  },
  {
   "cell_type": "markdown",
   "id": "907f1735-40ec-4abf-8dbc-d8f6897d83b0",
   "metadata": {
    "tags": []
   },
   "source": [
    "# arxiv"
   ]
  },
  {
   "cell_type": "markdown",
   "id": "9946518b-f108-4d3d-ab26-a1f8b5a6b062",
   "metadata": {
    "tags": []
   },
   "source": [
    "## Check the impact of beam charge normalization on the data"
   ]
  },
  {
   "cell_type": "code",
   "execution_count": null,
   "id": "ed6e62a2-69ce-41e6-a30e-2551e87ab531",
   "metadata": {},
   "outputs": [],
   "source": [
    "e_e_pi_pass_cuts['piplus'].runnum"
   ]
  },
  {
   "cell_type": "code",
   "execution_count": null,
   "id": "4443383c-3be3-48a2-9fd9-a9e32b66bf2c",
   "metadata": {},
   "outputs": [],
   "source": []
  },
  {
   "cell_type": "code",
   "execution_count": null,
   "id": "3b5c7897-39cf-4983-a9e4-90c93cf9d77a",
   "metadata": {},
   "outputs": [],
   "source": []
  },
  {
   "cell_type": "code",
   "execution_count": null,
   "id": "6bf71934-a960-4ebd-8f04-e78636f52306",
   "metadata": {},
   "outputs": [],
   "source": []
  },
  {
   "cell_type": "code",
   "execution_count": null,
   "id": "d54cc354-77e1-4754-927e-e59bdaef3dd2",
   "metadata": {},
   "outputs": [],
   "source": [
    "\n",
    "# Rpips2pims, Rpips2pims_errup, Rpips2pims_errdw = dict(), dict(), dict()\n",
    "# Y, dY = dict(),dict()\n",
    "# for z_bin,z_width in zip(z_bins,z_widths):\n",
    "#     z_min,z_max = z_bin-z_width,z_bin+z_width\n",
    "#     (Rpips2pims[z_bin],\n",
    "#      Rpips2pims_errup[z_bin], \n",
    "#      Rpips2pims_errdw[z_bin],_,_) = compute_ratio_pips_to_pims(df_dict=e_e_pi_pass_cuts  , \n",
    "#                                                              var=var, \n",
    "#                                                              bins=x_bins, \n",
    "#                                                              z_min=z_min,z_max=z_max)\n",
    "\n",
    "#     # fit to a constant \n",
    "#     y    = Rpips2pims[z_bin]\n",
    "#     y_err= (Rpips2pims_errup[z_bin],Rpips2pims_errdw[z_bin])\n",
    "#     p,cov = np.polyfit(x,y,deg=0,cov=True)\n",
    "#     Y[z_bin],dY[z_bin] = p[0],cov[0,0]\n",
    "\n",
    "#     # print(z_bin,Rpips2pims_n[z_bin],Rpips2pims_n_errup[z_bin],Rpips2pims_n_errdw[z_bin])\n",
    "# print('done') "
   ]
  },
  {
   "cell_type": "code",
   "execution_count": null,
   "id": "6a168637-adb6-4849-ab86-b7f2e6e17c49",
   "metadata": {},
   "outputs": [],
   "source": [
    "# fig = plt.figure(figsize=(9,6))\n",
    "# ax  = fig.add_subplot(1,1,1)\n",
    "# for z_bin,z_width in zip(z_bins,z_widths):\n",
    "#     y    = Rpips2pims[z_bin]\n",
    "#     y_err= (Rpips2pims_errup[z_bin],Rpips2pims_errdw[z_bin])\n",
    "#     x_fit = np.linspace(np.min(x),np.max(x),100)\n",
    "#     y_dw = (Y[z_bin]-dY[z_bin])*np.ones(len(x_fit))\n",
    "#     y_up = (Y[z_bin]+dY[z_bin])*np.ones(len(x_fit))\n",
    "\n",
    "#     # plot\n",
    "#     l=ax.errorbar(x=x, xerr=x_err,  y=y, yerr=y_err,\n",
    "#                 marker='o',markeredgecolor='k',\n",
    "#                 label='$z=%.2f\\pm%.2f, (\\pi^+/\\pi^-)=%.2f\\pm%.2f$'%(z_bin,z_width,Y[z_bin],dY[z_bin]))\n",
    "    \n",
    "#     ax.fill_between( x_fit, y_dw, y_up, color=l[0].get_color(), alpha=0.1)\n",
    "# set_axes(ax,xlabel,\"$N(e,e'\\pi^+)/N(e,e'\\pi^-)$\",\n",
    "#          title=\"$\\pi^+/\\pi^-$ ratio as a function of $x_B$ without a tagged neutron\",\n",
    "#          do_add_grid=True, do_add_legend=True, fontsize=18,\n",
    "#         );\n",
    "# plt.legend(bbox_to_anchor=(1,1.05),loc='best',fontsize=18)"
   ]
  },
  {
   "cell_type": "markdown",
   "id": "22f08aa8-e420-478c-84da-10e722f876ca",
   "metadata": {
    "tags": []
   },
   "source": [
    "### Improve analysis timing with a focus on apply_further_selection_cuts_to_data()\n",
    "Check timing of the function and improve it, as well as memory usage"
   ]
  },
  {
   "cell_type": "code",
   "execution_count": null,
   "id": "f4b0417c-e688-4c84-b20b-eccc6228d188",
   "metadata": {},
   "outputs": [],
   "source": [
    "import timeit\n",
    "timeit.timeit(\"apply_further_selection_cuts_to_data(fdebug=2, NeventsMax=-1)\", \n",
    "              setup=\"from __main__ import apply_further_selection_cuts_to_data\",number=1)"
   ]
  },
  {
   "cell_type": "code",
   "execution_count": null,
   "id": "ff5a323f-f94f-4c55-a27b-8ebfb9031a6d",
   "metadata": {},
   "outputs": [],
   "source": [
    "e_e_pi[pi_ch].keys()\n",
    "# retain only the most important features to reduce memory usage by a large pandas DataFrame\n",
    "reduced_e_e_pi = dict()\n",
    "for pi_ch in pi_charge_names:\n",
    "    reduced_e_e_pi[pi_ch] = e_e_pi[pi_ch][['runnum','evnum',\n",
    "                                           'e_P','e_Theta','e_Phi', \n",
    "                                           'pi_P', 'pi_Theta', 'pi_Phi', \n",
    "                                           'Q2', 'W', 'xB', 'Zpi',\n",
    "                                           'M_X', 'e_DC_sector', 'pi_DC_sector']]\n",
    "    reduced_e_e_pi[pi_ch] = reduced_e_e_pi[pi_ch].astype({\"evnum\": int,\n",
    "                                                          \"e_P\":np.half,\"e_Theta\":np.half,\"e_Phi\":np.half,\n",
    "                                                          \"pi_P\":np.half,'pi_Theta':np.half, 'pi_Phi':np.half,\n",
    "                                                          'Q2':np.half, 'W':np.half, 'xB':np.half, 'Zpi':np.half,\n",
    "                                                          'M_X':np.half, })\n",
    "\n",
    "reduced_e_e_pi[pi_ch][0:5]"
   ]
  },
  {
   "cell_type": "code",
   "execution_count": null,
   "id": "55df75cd-900b-4f70-9b31-b67170dc97ab",
   "metadata": {
    "tags": []
   },
   "outputs": [],
   "source": [
    "for pi_ch in pi_charge_names:\n",
    "    print(pi_ch)\n",
    "    print('before cuts')\n",
    "    print(e_e_pi[pi_ch].info(memory_usage=\"deep\",verbose=False))\n",
    "    print(' ')    \n",
    "    # print('reduced dataframe before cuts')\n",
    "    # print(reduced_e_e_pi[pi_ch].info(memory_usage=\"deep\",verbose=False))\n",
    "    # print(' ')\n",
    "    print('after cuts')\n",
    "    print(e_e_pi_pass_cuts[pi_ch].info(memory_usage=\"deep\",verbose=False))\n",
    "    print(' ')"
   ]
  },
  {
   "cell_type": "code",
   "execution_count": null,
   "id": "5bf958ca-e2a5-4d8a-b937-f2713b4e7a36",
   "metadata": {},
   "outputs": [],
   "source": [
    "e_e_pi_pass_cuts[pi_ch].index"
   ]
  },
  {
   "cell_type": "code",
   "execution_count": null,
   "id": "2578dc1b-6c08-4d65-8d92-58cfa3b61327",
   "metadata": {},
   "outputs": [],
   "source": []
  }
 ],
 "metadata": {
  "kernelspec": {
   "display_name": "Python 3 (ipykernel)",
   "language": "python",
   "name": "python3"
  },
  "language_info": {
   "codemirror_mode": {
    "name": "ipython",
    "version": 3
   },
   "file_extension": ".py",
   "mimetype": "text/x-python",
   "name": "python",
   "nbconvert_exporter": "python",
   "pygments_lexer": "ipython3",
   "version": "3.9.13"
  }
 },
 "nbformat": 4,
 "nbformat_minor": 5
}
