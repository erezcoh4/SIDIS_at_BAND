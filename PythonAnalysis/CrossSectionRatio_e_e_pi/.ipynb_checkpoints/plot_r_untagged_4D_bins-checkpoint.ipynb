{
 "cells": [
  {
   "cell_type": "markdown",
   "id": "1e30185d-b4cf-4059-b94e-9171f6fe8c0e",
   "metadata": {
    "tags": []
   },
   "source": [
    "# Plot fragmentation ratio in 4D bins of $Q^2,x_B,z,p_T$\n",
    "\n",
    "\n",
    "last edit Oct-4, 2023"
   ]
  },
  {
   "cell_type": "markdown",
   "id": "79a1f377-5bd5-43ba-8a4a-4cb54f37a6bc",
   "metadata": {
    "jp-MarkdownHeadingCollapsed": true,
    "tags": []
   },
   "source": [
    "## Imports and definitions"
   ]
  },
  {
   "cell_type": "code",
   "execution_count": 1,
   "id": "004e7dab-d231-4947-8ab5-4256ea735722",
   "metadata": {},
   "outputs": [
    {
     "name": "stdout",
     "output_type": "stream",
     "text": [
      "Welcome to JupyROOT 6.26/06\n",
      "Loaded bin migration and acceptance weights from MC calculations.\n"
     ]
    }
   ],
   "source": [
    "import sys; \n",
    "software_path = '/Users/erezcohen/Desktop/Software/'\n",
    "sys.path.insert(0, software_path + '/mySoftware/Python/');\n",
    "sys.path.insert(0, software_path + '/CLAS12/BAND/SIDIS_at_BAND/PythonAnalysis/AcceptanceCorrections/');\n",
    "sys.path.insert(0, software_path + '/CLAS12/BAND/SIDIS_at_BAND/PythonAnalysis/python_auxiliary/');\n",
    "from my_tools                     import *; \n",
    "from plot_tools                   import *;\n",
    "from my_data_analysis_tools       import *;\n",
    "from acceptance_correction_tools  import *;\n",
    "from sidis_analysis_tools         import *;"
   ]
  },
  {
   "cell_type": "code",
   "execution_count": 2,
   "id": "f2574d18-d52b-4015-bdf4-587d286f483d",
   "metadata": {},
   "outputs": [],
   "source": [
    "%config InlineBackend.figure_format = 'retina'\n",
    "plt.rcParams['mathtext.fontset']    = 'stix'\n",
    "plt.rcParams['font.family']         = 'STIXGeneral'"
   ]
  },
  {
   "cell_type": "code",
   "execution_count": 3,
   "id": "8f6237b4-1457-4cdb-bf02-a8d95b1eaf00",
   "metadata": {},
   "outputs": [],
   "source": [
    "results_path = '/Users/erezcohen/Desktop/data/BAND/Results/' + 'Results_1Oct2023/' + '4Dbins_Q2_xB_z_pT/'\n",
    "figures_path = '/Users/erezcohen/Desktop/Projects/SIDIS/FragmentationAnalysis/AnalysisNote/Figures/Results_rSIDIS/'"
   ]
  },
  {
   "cell_type": "markdown",
   "id": "64686df2-853e-4af6-8a73-3909b0743e0b",
   "metadata": {
    "tags": []
   },
   "source": [
    "## (1) Load data"
   ]
  },
  {
   "cell_type": "code",
   "execution_count": 4,
   "id": "6c39591f-b29f-4220-be0f-b3618ae2a560",
   "metadata": {
    "tags": []
   },
   "outputs": [],
   "source": [
    "df_raw_numbers_4D       = pd.read_csv( results_path + 'raw_numbers_4D.csv')\n",
    "df_corrected_numbers_4D = pd.read_csv( results_path + 'xsec_ratios_4D.csv')\n",
    "df_fragmentation_4D     = pd.read_csv( results_path + 'fragmentation_4D.csv')"
   ]
  },
  {
   "cell_type": "markdown",
   "id": "76846275-06f0-410a-9620-374410566b19",
   "metadata": {
    "tags": []
   },
   "source": [
    "# (2) Make plots"
   ]
  },
  {
   "cell_type": "markdown",
   "id": "6a689189-a8de-4c98-bde3-dd9dcf03bf97",
   "metadata": {},
   "source": [
    "## (2.1) $r(z)$ integrated over $x_B$ for different $Q^2$ bins"
   ]
  },
  {
   "cell_type": "code",
   "execution_count": 5,
   "id": "47d46647-9cdf-4c20-a056-5410bf800388",
   "metadata": {},
   "outputs": [],
   "source": [
    "Q2_min_arr,Q2_max_arr = [2],  [3];\n",
    "pT_min_arr,pT_max_arr = [0],  [0.3];\n",
    "z_min_arr ,z_max_arr  = [0.3],[0.4];"
   ]
  },
  {
   "cell_type": "code",
   "execution_count": 15,
   "id": "7fbb877f-7ee6-424e-81c2-786104a300e4",
   "metadata": {},
   "outputs": [
    {
     "data": {
      "text/html": [
       "<div>\n",
       "<style scoped>\n",
       "    .dataframe tbody tr th:only-of-type {\n",
       "        vertical-align: middle;\n",
       "    }\n",
       "\n",
       "    .dataframe tbody tr th {\n",
       "        vertical-align: top;\n",
       "    }\n",
       "\n",
       "    .dataframe thead th {\n",
       "        text-align: right;\n",
       "    }\n",
       "</style>\n",
       "<table border=\"1\" class=\"dataframe\">\n",
       "  <thead>\n",
       "    <tr style=\"text-align: right;\">\n",
       "      <th></th>\n",
       "      <th>Unnamed: 0</th>\n",
       "      <th>$Q^2_{min}$</th>\n",
       "      <th>$Q^2_{max}$</th>\n",
       "      <th>$x_B^{min}$</th>\n",
       "      <th>$x_B^{max}$</th>\n",
       "      <th>$z_{min}$</th>\n",
       "      <th>$z_{max}$</th>\n",
       "      <th>$p_T^{min}$</th>\n",
       "      <th>$p_T^{max}$</th>\n",
       "      <th>$N^{+}_w/10^3$</th>\n",
       "      <th>$N^{-}_w/10^3$</th>\n",
       "      <th>$\\Delta N^{+}_w/10^3$</th>\n",
       "      <th>$\\Delta N^{-}_w/10^3$</th>\n",
       "    </tr>\n",
       "  </thead>\n",
       "  <tbody>\n",
       "    <tr>\n",
       "      <th>0</th>\n",
       "      <td>0</td>\n",
       "      <td>2</td>\n",
       "      <td>3</td>\n",
       "      <td>0.1</td>\n",
       "      <td>0.2</td>\n",
       "      <td>0.3</td>\n",
       "      <td>0.4</td>\n",
       "      <td>0.0</td>\n",
       "      <td>0.3</td>\n",
       "      <td>123.339</td>\n",
       "      <td>75.326</td>\n",
       "      <td>0.332</td>\n",
       "      <td>0.261</td>\n",
       "    </tr>\n",
       "    <tr>\n",
       "      <th>1</th>\n",
       "      <td>1</td>\n",
       "      <td>2</td>\n",
       "      <td>3</td>\n",
       "      <td>0.2</td>\n",
       "      <td>0.3</td>\n",
       "      <td>0.3</td>\n",
       "      <td>0.4</td>\n",
       "      <td>0.0</td>\n",
       "      <td>0.3</td>\n",
       "      <td>1103.942</td>\n",
       "      <td>704.198</td>\n",
       "      <td>1.045</td>\n",
       "      <td>0.838</td>\n",
       "    </tr>\n",
       "    <tr>\n",
       "      <th>2</th>\n",
       "      <td>2</td>\n",
       "      <td>2</td>\n",
       "      <td>3</td>\n",
       "      <td>0.3</td>\n",
       "      <td>0.4</td>\n",
       "      <td>0.3</td>\n",
       "      <td>0.4</td>\n",
       "      <td>0.0</td>\n",
       "      <td>0.3</td>\n",
       "      <td>316.058</td>\n",
       "      <td>210.598</td>\n",
       "      <td>0.756</td>\n",
       "      <td>0.622</td>\n",
       "    </tr>\n",
       "    <tr>\n",
       "      <th>3</th>\n",
       "      <td>3</td>\n",
       "      <td>2</td>\n",
       "      <td>3</td>\n",
       "      <td>0.4</td>\n",
       "      <td>0.5</td>\n",
       "      <td>0.3</td>\n",
       "      <td>0.4</td>\n",
       "      <td>0.0</td>\n",
       "      <td>0.3</td>\n",
       "      <td>0.000</td>\n",
       "      <td>0.000</td>\n",
       "      <td>0.000</td>\n",
       "      <td>0.000</td>\n",
       "    </tr>\n",
       "    <tr>\n",
       "      <th>4</th>\n",
       "      <td>4</td>\n",
       "      <td>2</td>\n",
       "      <td>3</td>\n",
       "      <td>0.5</td>\n",
       "      <td>0.6</td>\n",
       "      <td>0.3</td>\n",
       "      <td>0.4</td>\n",
       "      <td>0.0</td>\n",
       "      <td>0.3</td>\n",
       "      <td>0.000</td>\n",
       "      <td>0.000</td>\n",
       "      <td>0.000</td>\n",
       "      <td>0.000</td>\n",
       "    </tr>\n",
       "    <tr>\n",
       "      <th>5</th>\n",
       "      <td>5</td>\n",
       "      <td>2</td>\n",
       "      <td>3</td>\n",
       "      <td>0.6</td>\n",
       "      <td>0.7</td>\n",
       "      <td>0.3</td>\n",
       "      <td>0.4</td>\n",
       "      <td>0.0</td>\n",
       "      <td>0.3</td>\n",
       "      <td>0.000</td>\n",
       "      <td>0.000</td>\n",
       "      <td>0.000</td>\n",
       "      <td>0.000</td>\n",
       "    </tr>\n",
       "    <tr>\n",
       "      <th>6</th>\n",
       "      <td>6</td>\n",
       "      <td>2</td>\n",
       "      <td>3</td>\n",
       "      <td>0.7</td>\n",
       "      <td>0.8</td>\n",
       "      <td>0.3</td>\n",
       "      <td>0.4</td>\n",
       "      <td>0.0</td>\n",
       "      <td>0.3</td>\n",
       "      <td>0.000</td>\n",
       "      <td>0.000</td>\n",
       "      <td>0.000</td>\n",
       "      <td>0.000</td>\n",
       "    </tr>\n",
       "  </tbody>\n",
       "</table>\n",
       "</div>"
      ],
      "text/plain": [
       "   Unnamed: 0  $Q^2_{min}$  $Q^2_{max}$  $x_B^{min}$  $x_B^{max}$  $z_{min}$  \\\n",
       "0           0            2            3          0.1          0.2        0.3   \n",
       "1           1            2            3          0.2          0.3        0.3   \n",
       "2           2            2            3          0.3          0.4        0.3   \n",
       "3           3            2            3          0.4          0.5        0.3   \n",
       "4           4            2            3          0.5          0.6        0.3   \n",
       "5           5            2            3          0.6          0.7        0.3   \n",
       "6           6            2            3          0.7          0.8        0.3   \n",
       "\n",
       "   $z_{max}$  $p_T^{min}$  $p_T^{max}$  $N^{+}_w/10^3$  $N^{-}_w/10^3$  \\\n",
       "0        0.4          0.0          0.3         123.339          75.326   \n",
       "1        0.4          0.0          0.3        1103.942         704.198   \n",
       "2        0.4          0.0          0.3         316.058         210.598   \n",
       "3        0.4          0.0          0.3           0.000           0.000   \n",
       "4        0.4          0.0          0.3           0.000           0.000   \n",
       "5        0.4          0.0          0.3           0.000           0.000   \n",
       "6        0.4          0.0          0.3           0.000           0.000   \n",
       "\n",
       "   $\\Delta N^{+}_w/10^3$  $\\Delta N^{-}_w/10^3$  \n",
       "0                  0.332                  0.261  \n",
       "1                  1.045                  0.838  \n",
       "2                  0.756                  0.622  \n",
       "3                  0.000                  0.000  \n",
       "4                  0.000                  0.000  \n",
       "5                  0.000                  0.000  \n",
       "6                  0.000                  0.000  "
      ]
     },
     "metadata": {},
     "output_type": "display_data"
    },
    {
     "name": "stdout",
     "output_type": "stream",
     "text": [
      "r: 0.466+/-0.001\n"
     ]
    }
   ],
   "source": [
    "df = df_corrected_numbers_4D;\n",
    "\n",
    "for pT_min,pT_max in zip(pT_min_arr,pT_max_arr):\n",
    "    df_pT = df[(df['$p_T^{min}$']==pT_min) & (df['$p_T^{max}$']==pT_max)]\n",
    "\n",
    "    for Q2_min,Q2_max in zip(Q2_min_arr,Q2_max_arr):\n",
    "\n",
    "        df_pT_Q2 = df_pT[(df_pT['$Q^2_{min}$']==Q2_min) & (df_pT['$Q^2_{max}$']==Q2_max)]\n",
    "\n",
    "        for z_min,z_max in zip(z_min_arr,z_max_arr):\n",
    "\n",
    "            df_pT_Q2_z = df_pT_Q2[(df_pT_Q2['$z_{min}$']==z_min)]\n",
    "\n",
    "            Npips  = 1e3 * np.sum(df_pT_Q2_z['$N^{+}_w/10^3$'])\n",
    "            dNpips = 1e3 * np.sqrt(np.sum( np.square(df_pT_Q2_z['$\\\\Delta N^{+}_w/10^3$']) ))\n",
    "\n",
    "            Npims  = 1e3 * np.sum(df_pT_Q2_z['$N^{-}_w/10^3$'])\n",
    "            dNpims = 1e3 * np.sqrt(np.sum( np.square(df_pT_Q2_z['$\\\\Delta N^{-}_w/10^3$']) ))\n",
    "            \n",
    "            # cross-section ratio in each bin\n",
    "            R, dR           = get_XsecRatio_from_Npi( Npips, Npims, dNpips, dNpims )\n",
    "            r, dr_up, dr_dw = get_r_from_CrossSectionRatio(R, dR, dR )\n",
    "            \n",
    "            display(df_pT_Q2_z)\n",
    "\n",
    "\n",
    "            print('r: %.3f+/-%.3f'%(r, dr_up))"
   ]
  },
  {
   "cell_type": "code",
   "execution_count": 11,
   "id": "4f69a3b8-d782-488f-9833-f75badd7a632",
   "metadata": {},
   "outputs": [
    {
     "data": {
      "text/plain": [
       "Index(['Unnamed: 0', '$Q^2_{min}$', '$Q^2_{max}$', '$x_B^{min}$',\n",
       "       '$x_B^{max}$', '$z_{min}$', '$z_{max}$', '$p_T^{min}$', '$p_T^{max}$',\n",
       "       '$N^{+}_w/10^3$', '$N^{-}_w/10^3$', '$\\Delta N^{+}_w/10^3$',\n",
       "       '$\\Delta N^{-}_w/10^3$'],\n",
       "      dtype='object')"
      ]
     },
     "execution_count": 11,
     "metadata": {},
     "output_type": "execute_result"
    }
   ],
   "source": [
    "df_pT_Q2_z.keys()"
   ]
  },
  {
   "cell_type": "markdown",
   "id": "c775782b-b70e-4a4f-99f0-e9ae36dadace",
   "metadata": {},
   "source": [
    "## (2.2)"
   ]
  },
  {
   "cell_type": "code",
   "execution_count": 8,
   "id": "f13586b5-39cd-4160-b260-f621ed1750cf",
   "metadata": {
    "tags": []
   },
   "outputs": [
    {
     "ename": "NameError",
     "evalue": "name 'xB_min_arr' is not defined",
     "output_type": "error",
     "traceback": [
      "\u001b[0;31m---------------------------------------------------------------------------\u001b[0m",
      "\u001b[0;31mNameError\u001b[0m                                 Traceback (most recent call last)",
      "Cell \u001b[0;32mIn [8], line 2\u001b[0m\n\u001b[1;32m      1\u001b[0m \u001b[38;5;28;01mfor\u001b[39;00m Q2_min,Q2_max \u001b[38;5;129;01min\u001b[39;00m \u001b[38;5;28mzip\u001b[39m(Q2_min_arr, Q2_max_arr): \u001b[38;5;66;03m# zip([Q2_min_arr[0]], [Q2_max_arr[0]]): # \u001b[39;00m\n\u001b[0;32m----> 2\u001b[0m     \u001b[38;5;28;01mfor\u001b[39;00m xB_min,xB_max \u001b[38;5;129;01min\u001b[39;00m \u001b[38;5;28mzip\u001b[39m(\u001b[43mxB_min_arr\u001b[49m, xB_max_arr):\n\u001b[1;32m      3\u001b[0m         \u001b[38;5;66;03m# print('Q2_min:',Q2_min,',xB_min:',xB_min)\u001b[39;00m\n\u001b[1;32m      4\u001b[0m         df_in_bin \u001b[38;5;241m=\u001b[39m df_results_4D[ (np\u001b[38;5;241m.\u001b[39mabs(df_results_4D[\u001b[38;5;124m'\u001b[39m\u001b[38;5;124m$Q^2_\u001b[39m\u001b[38;5;132;01m{min}\u001b[39;00m\u001b[38;5;124m$\u001b[39m\u001b[38;5;124m'\u001b[39m]\u001b[38;5;241m-\u001b[39mQ2_min)\u001b[38;5;241m<\u001b[39m\u001b[38;5;241m0.01\u001b[39m) \n\u001b[1;32m      5\u001b[0m                                              \u001b[38;5;241m&\u001b[39m (np\u001b[38;5;241m.\u001b[39mabs(df_results_4D[\u001b[38;5;124m'\u001b[39m\u001b[38;5;124m$x_B^\u001b[39m\u001b[38;5;132;01m{min}\u001b[39;00m\u001b[38;5;124m$\u001b[39m\u001b[38;5;124m'\u001b[39m]\u001b[38;5;241m-\u001b[39mxB_min)\u001b[38;5;241m<\u001b[39m\u001b[38;5;241m0.01\u001b[39m)]\n\u001b[1;32m      7\u001b[0m         fig \u001b[38;5;241m=\u001b[39m plt\u001b[38;5;241m.\u001b[39mfigure(figsize\u001b[38;5;241m=\u001b[39m(\u001b[38;5;241m12\u001b[39m,\u001b[38;5;241m6\u001b[39m));\n",
      "\u001b[0;31mNameError\u001b[0m: name 'xB_min_arr' is not defined"
     ]
    }
   ],
   "source": [
    "for Q2_min,Q2_max in zip(Q2_min_arr, Q2_max_arr): # zip([Q2_min_arr[0]], [Q2_max_arr[0]]): # \n",
    "    for xB_min,xB_max in zip(xB_min_arr, xB_max_arr):\n",
    "        # print('Q2_min:',Q2_min,',xB_min:',xB_min)\n",
    "        df_in_bin = df_results_4D[ (np.abs(df_results_4D['$Q^2_{min}$']-Q2_min)<0.01) \n",
    "                                             & (np.abs(df_results_4D['$x_B^{min}$']-xB_min)<0.01)]\n",
    "\n",
    "        fig = plt.figure(figsize=(12,6));\n",
    "        ax = fig.add_subplot(1,1,1)\n",
    "        plot_FF_expectation(ax=ax,formula='(1-z)/(1-z+z/0.46)')\n",
    "\n",
    "        for pT_min,pT_max in zip(pT_min_arr, pT_max_arr):\n",
    "            # print('pT_min:',pT_min)\n",
    "            \n",
    "            df    = df_in_bin[df_in_bin['$p_T^{min}$']==pT_min]\n",
    "            z     = (df['$z_{min}$'] + df['$z_{max}$'])/2\n",
    "            z_err = (df['$z_{max}$'] - df['$z_{min}$'])/2\n",
    "            r     = df['$r$']\n",
    "            r_err = df['$\\\\Delta r$']\n",
    "            \n",
    "            # if np.abs(Q2_min-3)<0.01 and np.abs(xB_min-0.3)<0.01: print(df)\n",
    "            if len(r)>0:\n",
    "                plot_r_vs_z_and_fit_to_rFF( z, z_err, r, r_err, \n",
    "                                           ax=ax, label='$%.1f<p_T<%.1f$ GeV/c'%(pT_min,pT_max), \n",
    "                                           do_plot_fit=False, do_add_fit_to_label=False )\n",
    "\n",
    "\n",
    "        set_axes(ax,'$z=E_\\pi/\\omega$ ','$r=D^-/D^+$ ',\n",
    "                     title='$%.1f < Q^2 < %.1f$ (GeV/c)$^2$ and $%.1f < x_B < %.1f$'%(Q2_min,Q2_max,xB_min,xB_max),do_add_grid=True, do_add_legend=True,fontsize=14, \n",
    "                 xlim=(0.29,0.81), ylim=(0.01,1));\n",
    "        \n",
    "        save_figure( filename = figures_path + 'fragmentation_r_%.1f_Q2_%.1f_and_%.1f_xB_%.1f'%(Q2_min,Q2_max,xB_min,xB_max) + '.pdf' )"
   ]
  },
  {
   "cell_type": "code",
   "execution_count": null,
   "id": "84c32691-c4c3-4f68-87a3-f01d656668be",
   "metadata": {},
   "outputs": [],
   "source": [
    "import seaborn as sns"
   ]
  },
  {
   "cell_type": "code",
   "execution_count": null,
   "id": "d1b3093c-4614-489f-acff-21ca63f7c948",
   "metadata": {},
   "outputs": [],
   "source": [
    "for pT_min in [0,0.3,0.6,0.9]:\n",
    "    for z_min in [0.3,0.6]:\n",
    "        z_max  = z_min + 0.1; pT_max = pT_min + 0.3\n",
    "        \n",
    "        fig = plt.figure(figsize=(12,4),tight_layout=True); \n",
    "        \n",
    "        df = df_results_4D\n",
    "        \n",
    "        df = df[(np.abs(df['$z_{min}$'] - z_min)<0.01) & (np.abs(df['$p_T^{min}$'] - pT_min)<0.01)]\n",
    "        Q2 = (df['$Q^2_{min}$'] + df['$Q^2_{max}$'])/2\n",
    "        xB = (df['$x_B^{min}$'] + df['$x_B^{max}$'])/2\n",
    "        z  = (df['$z_{min}$'] + df['$z_{min}$'])/2\n",
    "\n",
    "        r = df['$r$'];    \n",
    "        r_relerr_pct = 100.*df['$\\\\Delta r$']/r\n",
    "        \n",
    "        ax = fig.add_subplot(1,2,1);\n",
    "        df = pd.DataFrame.from_dict(np.array([Q2, xB, r]).T)\n",
    "        df.columns = ['X','Y','Z']\n",
    "        pivotted = df.pivot('Y','X','Z')\n",
    "        mask = (pivotted == 0)\n",
    "        sns.heatmap(pivotted,\n",
    "                    cmap='hot_r', annot=True,  mask = mask,\n",
    "                    vmin = 0, vmax = 2,\n",
    "                    xticklabels=np.arange(2.5,8,1), yticklabels=[0.25, 0.35, 0.45, 0.55], fmt='.2f',\n",
    "                    cbar=False)\n",
    "        ax.invert_yaxis()\n",
    "\n",
    "        set_axes(ax,'$Q^2$  [(GeV/c)$^2$]','$x_B$ ',\n",
    "                 title='$r=D^-/D^+$, $%.1f<p_T<%.1f$ GeV/c, $%.1f<z<%.1f$'%(pT_min, pT_max, z_min, z_max), fontsize=16)\n",
    "        \n",
    "        \n",
    "        ax = fig.add_subplot(1,2,2);\n",
    "        df = pd.DataFrame.from_dict(np.array([Q2, xB, r_relerr_pct]).T)\n",
    "        df.columns = ['X','Y','Z']\n",
    "        pivotted = df.pivot('Y','X','Z')\n",
    "        mask = (pivotted == 0)\n",
    "        sns.heatmap(pivotted,\n",
    "                    cmap='hot_r', annot=True,  mask = mask,\n",
    "                    vmin = 0, vmax = 100,\n",
    "                    xticklabels=np.arange(2.5,8,1), yticklabels=[0.25, 0.35, 0.45, 0.55], fmt='.0f',\n",
    "                    cbar=False)\n",
    "        ax.invert_yaxis()\n",
    "\n",
    "        set_axes(ax,'$Q^2$  [(GeV/c)$^2$]','$x_B$ ',\n",
    "                 title='relative uncertainty $\\\\Delta r / r$ [%]' , fontsize=16)        \n",
    "        # save_figure( filename = figures_path + '_%.1f_pT_%.1f_and_%.1f_z_%.1f'%(pT_min,pT_max,z_min, z_max) + '.pdf' )"
   ]
  },
  {
   "cell_type": "code",
   "execution_count": null,
   "id": "333961d4-d14c-4057-8eaa-4bf747c3bc7c",
   "metadata": {},
   "outputs": [],
   "source": []
  },
  {
   "cell_type": "code",
   "execution_count": null,
   "id": "018726a1-67ac-44b8-9eb3-6f130616185c",
   "metadata": {},
   "outputs": [],
   "source": []
  },
  {
   "cell_type": "markdown",
   "id": "d43664fa-bb83-4533-8e92-1a9bbbd78d4f",
   "metadata": {},
   "source": [
    "### Quick check of the kinematic distribution of bins with 0 eventshist2d"
   ]
  },
  {
   "cell_type": "code",
   "execution_count": null,
   "id": "ac53cf72-5942-46d8-b4a4-644139dbf7ad",
   "metadata": {},
   "outputs": [],
   "source": [
    "df_pips = e_e_pi_pass_cuts['piplus']"
   ]
  },
  {
   "cell_type": "code",
   "execution_count": null,
   "id": "a362d3f8-014c-457c-b5dd-eabe73ede805",
   "metadata": {},
   "outputs": [],
   "source": [
    "W_min = 2.5\n",
    "W_max = np.inf\n",
    "df_pips = df_pips[  (z_min   < df_pips.Zpi)   & (df_pips.Zpi < z_max  ) \n",
    "                  & (W_min   < df_pips.W  )   & (df_pips.W   < W_max  )   ]\n",
    "\n",
    "print('after %.2f<%s<%.2f and W cuts: '%(z_min,'Zpi',z_max), len(df_pips),'π+')\n",
    "df_pips = df_pips[ (Q2_min < df_pips.Q2) & (df_pips.Q2 < Q2_max) ]\n",
    "print('after %.1f<Q2<%.1f cut: '%(Q2_min,Q2_max), len(df_pips),'π+')\n",
    "df_pips = df_pips[ (pT_min < df_pips.pi_qFrame_pT) & (df_pips.pi_qFrame_pT < pT_max) ]\n",
    "print('after pT cut: ', len(df_pips),'π+')\n",
    "# df_pips = df_pips[ (phi_min < df_pips.pi_qFrame_Phi) & (df_pips.pi_qFrame_Phi < phi_max) ]"
   ]
  },
  {
   "cell_type": "code",
   "execution_count": null,
   "id": "c7934891-10fb-4adf-b722-243c6a4ebf7a",
   "metadata": {},
   "outputs": [],
   "source": [
    "fig,ax = plt.subplots(figsize=(9,6));\n",
    "ax.hist2d(df_pips.xB, df_pips.Q2, bins=(np.linspace(0.1,0.7,100),np.linspace(2,8,100)), cmap='hot_r')\n",
    "set_axes(ax,'$x_B$ ', '$Q^2$ [(GeV/c)$^2$]',do_add_grid=True,fontsize=16);"
   ]
  }
 ],
 "metadata": {
  "kernelspec": {
   "display_name": "Python 3 (ipykernel)",
   "language": "python",
   "name": "python3"
  },
  "language_info": {
   "codemirror_mode": {
    "name": "ipython",
    "version": 3
   },
   "file_extension": ".py",
   "mimetype": "text/x-python",
   "name": "python",
   "nbconvert_exporter": "python",
   "pygments_lexer": "ipython3",
   "version": "3.10.10"
  }
 },
 "nbformat": 4,
 "nbformat_minor": 5
}
