{
 "cells": [
  {
   "cell_type": "markdown",
   "id": "1e30185d-b4cf-4059-b94e-9171f6fe8c0e",
   "metadata": {
    "tags": []
   },
   "source": [
    "# Unagged cross-section ratio of $(e,e'\\pi^+)/(e,e'\\pi^+)$ \n",
    "\n",
    "$$\\left(\\frac{\\sigma(e,e'\\pi^+)}{\\sigma(e,e'\\pi^+)}\\right)$$\n",
    "\n",
    "last edit June-10, 2022"
   ]
  },
  {
   "cell_type": "markdown",
   "id": "79a1f377-5bd5-43ba-8a4a-4cb54f37a6bc",
   "metadata": {
    "jp-MarkdownHeadingCollapsed": true,
    "tags": []
   },
   "source": [
    "## Imports and definitions"
   ]
  },
  {
   "cell_type": "code",
   "execution_count": 1,
   "id": "004e7dab-d231-4947-8ab5-4256ea735722",
   "metadata": {},
   "outputs": [],
   "source": [
    "import numpy as np, pandas as pd, matplotlib.pyplot as plt, matplotlib as mpl\n",
    "import sys; \n",
    "sys.path.insert(0, '/Users/erezcohen/Desktop/Software/mySoftware/Python/'); \n",
    "sys.path.insert(0, '/Users/erezcohen/Desktop/Software/CLAS12/BAND/SIDIS_at_BAND/PythonAnalysis/AcceptanceCorrections/'); \n",
    "from my_tools                     import *; \n",
    "from plot_tools                   import *;\n",
    "from my_data_analysis_tools       import *;\n",
    "from acceptance_correction_tools  import *;\n",
    "%config InlineBackend.figure_format = 'retina'\n",
    "plt.rcParams['mathtext.fontset']    = 'stix'\n",
    "plt.rcParams['font.family']         = 'STIXGeneral'"
   ]
  },
  {
   "cell_type": "markdown",
   "id": "64686df2-853e-4af6-8a73-3909b0743e0b",
   "metadata": {
    "tags": []
   },
   "source": [
    "## (1) Load data"
   ]
  },
  {
   "cell_type": "code",
   "execution_count": 171,
   "id": "6c39591f-b29f-4220-be0f-b3618ae2a560",
   "metadata": {},
   "outputs": [
    {
     "name": "stdout",
     "output_type": "stream",
     "text": [
      "Run number  6421 (1/86 runs)\n",
      "Loaded 632087  (e,e'π+) events\n",
      "Loaded 272140  (e,e'π-) events\n",
      "Run number  6422 (2/86 runs)\n",
      "Loaded 601973  (e,e'π+) events\n",
      "Loaded 257778  (e,e'π-) events\n",
      "Run number  6426 (3/86 runs)\n",
      "Loaded 534955  (e,e'π+) events\n",
      "Loaded 229279  (e,e'π-) events\n",
      "Run number  6429 (4/86 runs)\n",
      "Loaded 675433  (e,e'π+) events\n",
      "Loaded 289018  (e,e'π-) events\n",
      "Run number  6430 (5/86 runs)\n",
      "Loaded 129435  (e,e'π+) events\n",
      "Loaded 55524  (e,e'π-) events\n",
      "Run number  6431 (6/86 runs)\n",
      "Loaded 527395  (e,e'π+) events\n",
      "Loaded 226502  (e,e'π-) events\n",
      "Run number  6432 (7/86 runs)\n",
      "Loaded 658456  (e,e'π+) events\n",
      "Loaded 282291  (e,e'π-) events\n",
      "Run number  6433 (8/86 runs)\n",
      "Loaded 740198  (e,e'π+) events\n",
      "Loaded 313208  (e,e'π-) events\n",
      "Run number  6437 (9/86 runs)\n",
      "Loaded 258946  (e,e'π+) events\n",
      "Loaded 109952  (e,e'π-) events\n",
      "Run number  6442 (10/86 runs)\n",
      "Loaded 702201  (e,e'π+) events\n",
      "Loaded 298126  (e,e'π-) events\n",
      "Run number  6444 (11/86 runs)\n",
      "Loaded 125666  (e,e'π+) events\n",
      "Loaded 53726  (e,e'π-) events\n",
      "Run number  6445 (12/86 runs)\n",
      "Loaded 644767  (e,e'π+) events\n",
      "Loaded 272760  (e,e'π-) events\n",
      "Run number  6449 (13/86 runs)\n",
      "Loaded 632979  (e,e'π+) events\n",
      "Loaded 268751  (e,e'π-) events\n",
      "Run number  6450 (14/86 runs)\n",
      "Loaded 653454  (e,e'π+) events\n",
      "Loaded 277404  (e,e'π-) events\n",
      "Run number  6451 (15/86 runs)\n",
      "Loaded 649401  (e,e'π+) events\n",
      "Loaded 276214  (e,e'π-) events\n",
      "Run number  6452 (16/86 runs)\n",
      "Loaded 696718  (e,e'π+) events\n",
      "Loaded 297799  (e,e'π-) events\n",
      "Run number  6453 (17/86 runs)\n",
      "Loaded 649620  (e,e'π+) events\n",
      "Loaded 275416  (e,e'π-) events\n",
      "Run number  6454 (18/86 runs)\n",
      "Loaded 221761  (e,e'π+) events\n",
      "Loaded 94459  (e,e'π-) events\n",
      "Run number  6455 (19/86 runs)\n",
      "Loaded 659670  (e,e'π+) events\n",
      "Loaded 280151  (e,e'π-) events\n",
      "Run number  6456 (20/86 runs)\n",
      "Loaded 649547  (e,e'π+) events\n",
      "Loaded 275220  (e,e'π-) events\n",
      "Run number  6457 (21/86 runs)\n",
      "Loaded 260083  (e,e'π+) events\n",
      "Loaded 110059  (e,e'π-) events\n",
      "Run number  6461 (22/86 runs)\n",
      "Loaded 610052  (e,e'π+) events\n",
      "Loaded 259841  (e,e'π-) events\n",
      "Run number  6462 (23/86 runs)\n",
      "Loaded 678921  (e,e'π+) events\n",
      "Loaded 289232  (e,e'π-) events\n",
      "Run number  6463 (24/86 runs)\n",
      "Loaded 588960  (e,e'π+) events\n",
      "Loaded 250411  (e,e'π-) events\n",
      "Run number  6464 (25/86 runs)\n",
      "Loaded 302800  (e,e'π+) events\n",
      "Loaded 128650  (e,e'π-) events\n",
      "Run number  6465 (26/86 runs)\n",
      "Loaded 710176  (e,e'π+) events\n",
      "Loaded 300894  (e,e'π-) events\n",
      "Run number  6466 (27/86 runs)\n",
      "Loaded 654264  (e,e'π+) events\n",
      "Loaded 278819  (e,e'π-) events\n",
      "Run number  6467 (28/86 runs)\n",
      "Loaded 655477  (e,e'π+) events\n",
      "Loaded 278092  (e,e'π-) events\n",
      "Run number  6468 (29/86 runs)\n",
      "Loaded 189533  (e,e'π+) events\n",
      "Loaded 80797  (e,e'π-) events\n",
      "Run number  6470 (30/86 runs)\n",
      "Loaded 342333  (e,e'π+) events\n",
      "Loaded 145720  (e,e'π-) events\n",
      "Run number  6472 (31/86 runs)\n",
      "Loaded 707159  (e,e'π+) events\n",
      "Loaded 299968  (e,e'π-) events\n",
      "Run number  6473 (32/86 runs)\n",
      "Loaded 183160  (e,e'π+) events\n",
      "Loaded 77958  (e,e'π-) events\n",
      "Run number  6474 (33/86 runs)\n"
     ]
    },
    {
     "ename": "ValueError",
     "evalue": "cannot safely convert passed user dtype of int64 for float64 dtyped data in column 27",
     "output_type": "error",
     "traceback": [
      "\u001b[0;31m---------------------------------------------------------------------------\u001b[0m",
      "\u001b[0;31mTypeError\u001b[0m                                 Traceback (most recent call last)",
      "\u001b[0;32m/usr/local/lib/python3.9/site-packages/pandas/_libs/parsers.pyx\u001b[0m in \u001b[0;36mpandas._libs.parsers.TextReader._convert_tokens\u001b[0;34m()\u001b[0m\n",
      "\u001b[0;31mTypeError\u001b[0m: Cannot cast array data from dtype('float64') to dtype('int64') according to the rule 'safe'",
      "\nDuring handling of the above exception, another exception occurred:\n",
      "\u001b[0;31mValueError\u001b[0m                                Traceback (most recent call last)",
      "\u001b[0;32m/var/folders/42/n5_htl9n34j9wpgd5rqsnmv40000gn/T/ipykernel_1761/3120334020.py\u001b[0m in \u001b[0;36m<module>\u001b[0;34m\u001b[0m\n\u001b[0;32m----> 1\u001b[0;31m \u001b[0mload_SIDIS_data\u001b[0m\u001b[0;34m(\u001b[0m \u001b[0mNruns\u001b[0m \u001b[0;34m=\u001b[0m \u001b[0;34m-\u001b[0m\u001b[0;36m1\u001b[0m\u001b[0;34m,\u001b[0m \u001b[0mdo_e_e_pi_n\u001b[0m\u001b[0;34m=\u001b[0m\u001b[0;32mFalse\u001b[0m \u001b[0;34m)\u001b[0m\u001b[0;34m\u001b[0m\u001b[0;34m\u001b[0m\u001b[0m\n\u001b[0m",
      "\u001b[0;32m/var/folders/42/n5_htl9n34j9wpgd5rqsnmv40000gn/T/ipykernel_1761/1003958166.py\u001b[0m in \u001b[0;36mload_SIDIS_data\u001b[0;34m(runs_filename, main_data_path, Nruns, do_e_e_pi, do_e_e_pi_n, fdebug)\u001b[0m\n\u001b[1;32m     46\u001b[0m         \u001b[0;32mfor\u001b[0m \u001b[0mpi_charge_name\u001b[0m\u001b[0;34m,\u001b[0m\u001b[0mpi_print\u001b[0m \u001b[0;32min\u001b[0m \u001b[0mzip\u001b[0m\u001b[0;34m(\u001b[0m\u001b[0mpi_charge_names\u001b[0m\u001b[0;34m,\u001b[0m\u001b[0mpi_prints\u001b[0m\u001b[0;34m)\u001b[0m\u001b[0;34m:\u001b[0m\u001b[0;34m\u001b[0m\u001b[0;34m\u001b[0m\u001b[0m\n\u001b[1;32m     47\u001b[0m             \u001b[0;32mif\u001b[0m \u001b[0mdo_e_e_pi\u001b[0m\u001b[0;34m:\u001b[0m\u001b[0;31m#{\u001b[0m\u001b[0;34m\u001b[0m\u001b[0;34m\u001b[0m\u001b[0m\n\u001b[0;32m---> 48\u001b[0;31m                 eepi   = pd.read_csv(e_e_pi_data_path\n\u001b[0m\u001b[1;32m     49\u001b[0m                                      \u001b[0;34m+\u001b[0m\u001b[0;34m'skimmed_SIDIS_inc_00%d_e_%s_selected_eepi_kinematics.csv'\u001b[0m\u001b[0;34m%\u001b[0m\u001b[0;34m\u001b[0m\u001b[0;34m\u001b[0m\u001b[0m\n\u001b[1;32m     50\u001b[0m                                      \u001b[0;34m(\u001b[0m\u001b[0mrunnum\u001b[0m\u001b[0;34m,\u001b[0m\u001b[0mpi_charge_name\u001b[0m\u001b[0;34m)\u001b[0m\u001b[0;34m,\u001b[0m\u001b[0;34m\u001b[0m\u001b[0;34m\u001b[0m\u001b[0m\n",
      "\u001b[0;32m/usr/local/lib/python3.9/site-packages/pandas/util/_decorators.py\u001b[0m in \u001b[0;36mwrapper\u001b[0;34m(*args, **kwargs)\u001b[0m\n\u001b[1;32m    309\u001b[0m                     \u001b[0mstacklevel\u001b[0m\u001b[0;34m=\u001b[0m\u001b[0mstacklevel\u001b[0m\u001b[0;34m,\u001b[0m\u001b[0;34m\u001b[0m\u001b[0;34m\u001b[0m\u001b[0m\n\u001b[1;32m    310\u001b[0m                 )\n\u001b[0;32m--> 311\u001b[0;31m             \u001b[0;32mreturn\u001b[0m \u001b[0mfunc\u001b[0m\u001b[0;34m(\u001b[0m\u001b[0;34m*\u001b[0m\u001b[0margs\u001b[0m\u001b[0;34m,\u001b[0m \u001b[0;34m**\u001b[0m\u001b[0mkwargs\u001b[0m\u001b[0;34m)\u001b[0m\u001b[0;34m\u001b[0m\u001b[0;34m\u001b[0m\u001b[0m\n\u001b[0m\u001b[1;32m    312\u001b[0m \u001b[0;34m\u001b[0m\u001b[0m\n\u001b[1;32m    313\u001b[0m         \u001b[0;32mreturn\u001b[0m \u001b[0mwrapper\u001b[0m\u001b[0;34m\u001b[0m\u001b[0;34m\u001b[0m\u001b[0m\n",
      "\u001b[0;32m/usr/local/lib/python3.9/site-packages/pandas/io/parsers/readers.py\u001b[0m in \u001b[0;36mread_csv\u001b[0;34m(filepath_or_buffer, sep, delimiter, header, names, index_col, usecols, squeeze, prefix, mangle_dupe_cols, dtype, engine, converters, true_values, false_values, skipinitialspace, skiprows, skipfooter, nrows, na_values, keep_default_na, na_filter, verbose, skip_blank_lines, parse_dates, infer_datetime_format, keep_date_col, date_parser, dayfirst, cache_dates, iterator, chunksize, compression, thousands, decimal, lineterminator, quotechar, quoting, doublequote, escapechar, comment, encoding, encoding_errors, dialect, error_bad_lines, warn_bad_lines, on_bad_lines, delim_whitespace, low_memory, memory_map, float_precision, storage_options)\u001b[0m\n\u001b[1;32m    584\u001b[0m     \u001b[0mkwds\u001b[0m\u001b[0;34m.\u001b[0m\u001b[0mupdate\u001b[0m\u001b[0;34m(\u001b[0m\u001b[0mkwds_defaults\u001b[0m\u001b[0;34m)\u001b[0m\u001b[0;34m\u001b[0m\u001b[0;34m\u001b[0m\u001b[0m\n\u001b[1;32m    585\u001b[0m \u001b[0;34m\u001b[0m\u001b[0m\n\u001b[0;32m--> 586\u001b[0;31m     \u001b[0;32mreturn\u001b[0m \u001b[0m_read\u001b[0m\u001b[0;34m(\u001b[0m\u001b[0mfilepath_or_buffer\u001b[0m\u001b[0;34m,\u001b[0m \u001b[0mkwds\u001b[0m\u001b[0;34m)\u001b[0m\u001b[0;34m\u001b[0m\u001b[0;34m\u001b[0m\u001b[0m\n\u001b[0m\u001b[1;32m    587\u001b[0m \u001b[0;34m\u001b[0m\u001b[0m\n\u001b[1;32m    588\u001b[0m \u001b[0;34m\u001b[0m\u001b[0m\n",
      "\u001b[0;32m/usr/local/lib/python3.9/site-packages/pandas/io/parsers/readers.py\u001b[0m in \u001b[0;36m_read\u001b[0;34m(filepath_or_buffer, kwds)\u001b[0m\n\u001b[1;32m    486\u001b[0m \u001b[0;34m\u001b[0m\u001b[0m\n\u001b[1;32m    487\u001b[0m     \u001b[0;32mwith\u001b[0m \u001b[0mparser\u001b[0m\u001b[0;34m:\u001b[0m\u001b[0;34m\u001b[0m\u001b[0;34m\u001b[0m\u001b[0m\n\u001b[0;32m--> 488\u001b[0;31m         \u001b[0;32mreturn\u001b[0m \u001b[0mparser\u001b[0m\u001b[0;34m.\u001b[0m\u001b[0mread\u001b[0m\u001b[0;34m(\u001b[0m\u001b[0mnrows\u001b[0m\u001b[0;34m)\u001b[0m\u001b[0;34m\u001b[0m\u001b[0;34m\u001b[0m\u001b[0m\n\u001b[0m\u001b[1;32m    489\u001b[0m \u001b[0;34m\u001b[0m\u001b[0m\n\u001b[1;32m    490\u001b[0m \u001b[0;34m\u001b[0m\u001b[0m\n",
      "\u001b[0;32m/usr/local/lib/python3.9/site-packages/pandas/io/parsers/readers.py\u001b[0m in \u001b[0;36mread\u001b[0;34m(self, nrows)\u001b[0m\n\u001b[1;32m   1045\u001b[0m     \u001b[0;32mdef\u001b[0m \u001b[0mread\u001b[0m\u001b[0;34m(\u001b[0m\u001b[0mself\u001b[0m\u001b[0;34m,\u001b[0m \u001b[0mnrows\u001b[0m\u001b[0;34m=\u001b[0m\u001b[0;32mNone\u001b[0m\u001b[0;34m)\u001b[0m\u001b[0;34m:\u001b[0m\u001b[0;34m\u001b[0m\u001b[0;34m\u001b[0m\u001b[0m\n\u001b[1;32m   1046\u001b[0m         \u001b[0mnrows\u001b[0m \u001b[0;34m=\u001b[0m \u001b[0mvalidate_integer\u001b[0m\u001b[0;34m(\u001b[0m\u001b[0;34m\"nrows\"\u001b[0m\u001b[0;34m,\u001b[0m \u001b[0mnrows\u001b[0m\u001b[0;34m)\u001b[0m\u001b[0;34m\u001b[0m\u001b[0;34m\u001b[0m\u001b[0m\n\u001b[0;32m-> 1047\u001b[0;31m         \u001b[0mindex\u001b[0m\u001b[0;34m,\u001b[0m \u001b[0mcolumns\u001b[0m\u001b[0;34m,\u001b[0m \u001b[0mcol_dict\u001b[0m \u001b[0;34m=\u001b[0m \u001b[0mself\u001b[0m\u001b[0;34m.\u001b[0m\u001b[0m_engine\u001b[0m\u001b[0;34m.\u001b[0m\u001b[0mread\u001b[0m\u001b[0;34m(\u001b[0m\u001b[0mnrows\u001b[0m\u001b[0;34m)\u001b[0m\u001b[0;34m\u001b[0m\u001b[0;34m\u001b[0m\u001b[0m\n\u001b[0m\u001b[1;32m   1048\u001b[0m \u001b[0;34m\u001b[0m\u001b[0m\n\u001b[1;32m   1049\u001b[0m         \u001b[0;32mif\u001b[0m \u001b[0mindex\u001b[0m \u001b[0;32mis\u001b[0m \u001b[0;32mNone\u001b[0m\u001b[0;34m:\u001b[0m\u001b[0;34m\u001b[0m\u001b[0;34m\u001b[0m\u001b[0m\n",
      "\u001b[0;32m/usr/local/lib/python3.9/site-packages/pandas/io/parsers/c_parser_wrapper.py\u001b[0m in \u001b[0;36mread\u001b[0;34m(self, nrows)\u001b[0m\n\u001b[1;32m    221\u001b[0m         \u001b[0;32mtry\u001b[0m\u001b[0;34m:\u001b[0m\u001b[0;34m\u001b[0m\u001b[0;34m\u001b[0m\u001b[0m\n\u001b[1;32m    222\u001b[0m             \u001b[0;32mif\u001b[0m \u001b[0mself\u001b[0m\u001b[0;34m.\u001b[0m\u001b[0mlow_memory\u001b[0m\u001b[0;34m:\u001b[0m\u001b[0;34m\u001b[0m\u001b[0;34m\u001b[0m\u001b[0m\n\u001b[0;32m--> 223\u001b[0;31m                 \u001b[0mchunks\u001b[0m \u001b[0;34m=\u001b[0m \u001b[0mself\u001b[0m\u001b[0;34m.\u001b[0m\u001b[0m_reader\u001b[0m\u001b[0;34m.\u001b[0m\u001b[0mread_low_memory\u001b[0m\u001b[0;34m(\u001b[0m\u001b[0mnrows\u001b[0m\u001b[0;34m)\u001b[0m\u001b[0;34m\u001b[0m\u001b[0;34m\u001b[0m\u001b[0m\n\u001b[0m\u001b[1;32m    224\u001b[0m                 \u001b[0;31m# destructive to chunks\u001b[0m\u001b[0;34m\u001b[0m\u001b[0;34m\u001b[0m\u001b[0m\n\u001b[1;32m    225\u001b[0m                 \u001b[0mdata\u001b[0m \u001b[0;34m=\u001b[0m \u001b[0m_concatenate_chunks\u001b[0m\u001b[0;34m(\u001b[0m\u001b[0mchunks\u001b[0m\u001b[0;34m)\u001b[0m\u001b[0;34m\u001b[0m\u001b[0;34m\u001b[0m\u001b[0m\n",
      "\u001b[0;32m/usr/local/lib/python3.9/site-packages/pandas/_libs/parsers.pyx\u001b[0m in \u001b[0;36mpandas._libs.parsers.TextReader.read_low_memory\u001b[0;34m()\u001b[0m\n",
      "\u001b[0;32m/usr/local/lib/python3.9/site-packages/pandas/_libs/parsers.pyx\u001b[0m in \u001b[0;36mpandas._libs.parsers.TextReader._read_rows\u001b[0;34m()\u001b[0m\n",
      "\u001b[0;32m/usr/local/lib/python3.9/site-packages/pandas/_libs/parsers.pyx\u001b[0m in \u001b[0;36mpandas._libs.parsers.TextReader._convert_column_data\u001b[0;34m()\u001b[0m\n",
      "\u001b[0;32m/usr/local/lib/python3.9/site-packages/pandas/_libs/parsers.pyx\u001b[0m in \u001b[0;36mpandas._libs.parsers.TextReader._convert_tokens\u001b[0;34m()\u001b[0m\n",
      "\u001b[0;31mValueError\u001b[0m: cannot safely convert passed user dtype of int64 for float64 dtyped data in column 27"
     ]
    }
   ],
   "source": [
    "load_SIDIS_data( Nruns = -1, do_e_e_pi_n=False )"
   ]
  },
  {
   "cell_type": "markdown",
   "id": "76846275-06f0-410a-9620-374410566b19",
   "metadata": {
    "tags": []
   },
   "source": [
    "## (2) Apply selection cuts not previously imposed"
   ]
  },
  {
   "cell_type": "code",
   "execution_count": null,
   "id": "2ada605e-7795-407d-a008-ee59bf7145ca",
   "metadata": {},
   "outputs": [],
   "source": [
    "e_e_pi_pass_cuts,_,_ = apply_further_selection_cuts_to_data(fdebug=2, NeventsMax=-1);"
   ]
  },
  {
   "cell_type": "markdown",
   "id": "36cd99bc-210a-4f0a-9e1e-213fe9819cfa",
   "metadata": {
    "tags": []
   },
   "source": [
    "## (3) Extract cross-section ratio as a function of Bjorken $x$\n",
    "For a standing proton use $x_B$, defined as\n",
    "$ x_B = Q^2/2m_p\\omega$"
   ]
  },
  {
   "cell_type": "code",
   "execution_count": null,
   "id": "efd61cf3-ee4f-4d75-a037-e27bb0591ac6",
   "metadata": {},
   "outputs": [],
   "source": [
    "z_bins   = np.arange(0.3,0.8,0.1)\n",
    "z_widths = 0.01*np.ones(len(z_bins))\n",
    "x_bins   = np.linspace(0.2,0.6,11)\n",
    "x        = (x_bins[1:] + x_bins[:-1])/2\n",
    "x_err    = (x_bins[1:] - x_bins[:-1])/2\n",
    "x_bins"
   ]
  },
  {
   "cell_type": "code",
   "execution_count": null,
   "id": "36949ea3-6869-48bf-85ce-b6c8ae20c857",
   "metadata": {},
   "outputs": [],
   "source": [
    "var_label = \"standing proton x\"\n",
    "# var_label = \"moving proton x\"\n",
    "\n",
    "if   var_label == \"standing proton x\":\n",
    "    var    = 'xB'\n",
    "    xlabel = \"Bjorken $x$\"\n",
    "    \n",
    "elif var_label == \"moving proton x\":\n",
    "    var    = 'xPrime2'\n",
    "    xlabel = \"$x' = Q^2/(W'^2 - m_N^2 + Q^2)$\"    "
   ]
  },
  {
   "cell_type": "code",
   "execution_count": null,
   "id": "bcb7c30a-52c7-42b2-abf2-39aca280e515",
   "metadata": {},
   "outputs": [],
   "source": [
    "\n",
    "Rpips2pims, Rpips2pims_errup, Rpips2pims_errdw = dict(), dict(), dict()\n",
    "Y, dY = dict(),dict()\n",
    "for z_bin,z_width in zip(z_bins,z_widths):\n",
    "    z_min,z_max = z_bin-z_width,z_bin+z_width\n",
    "    (Rpips2pims[z_bin],\n",
    "     Rpips2pims_errup[z_bin], \n",
    "     Rpips2pims_errdw[z_bin]) = compute_ratio_pips_to_pims(df_dict=e_e_pi_pass_cuts  , \n",
    "                                                             var=var, \n",
    "                                                             bins=x_bins, \n",
    "                                                             z_min=z_min,z_max=z_max)\n",
    "\n",
    "    # fit to a constant \n",
    "    y    = Rpips2pims[z_bin]\n",
    "    y_err= (Rpips2pims_errup[z_bin],Rpips2pims_errdw[z_bin])\n",
    "    p,cov = np.polyfit(x,y,deg=0,cov=True)\n",
    "    Y[z_bin],dY[z_bin] = p[0],cov[0,0]\n",
    "\n",
    "    # print(z_bin,Rpips2pims_n[z_bin],Rpips2pims_n_errup[z_bin],Rpips2pims_n_errdw[z_bin])\n",
    "print('done') "
   ]
  },
  {
   "cell_type": "code",
   "execution_count": null,
   "id": "bdc890c1-f20c-4a0b-9c7c-93145197e092",
   "metadata": {},
   "outputs": [],
   "source": [
    "fig = plt.figure(figsize=(9,6))\n",
    "ax  = fig.add_subplot(1,1,1)\n",
    "for z_bin,z_width in zip(z_bins,z_widths):\n",
    "    y    = Rpips2pims[z_bin]\n",
    "    y_err= (Rpips2pims_errup[z_bin],Rpips2pims_errdw[z_bin])\n",
    "    x_fit = np.linspace(np.min(x),np.max(x),100)\n",
    "    y_dw = (Y[z_bin]-dY[z_bin])*np.ones(len(x_fit))\n",
    "    y_up = (Y[z_bin]+dY[z_bin])*np.ones(len(x_fit))\n",
    "\n",
    "    # plot\n",
    "    l=ax.errorbar(x=x, xerr=x_err,  y=y, yerr=y_err,\n",
    "                marker='o',markeredgecolor='k',\n",
    "                label='$z=%.2f\\pm%.2f, (\\pi^+/\\pi^-)=%.2f\\pm%.2f$'%(z_bin,z_width,Y[z_bin],dY[z_bin]))\n",
    "    \n",
    "    ax.fill_between( x_fit, y_dw, y_up, color=l[0].get_color(), alpha=0.1)\n",
    "set_axes(ax,xlabel,\"$N(e,e'\\pi^+)/N(e,e'\\pi^-)$\",\n",
    "         title=\"$\\pi^+/\\pi^-$ ratio as a function of $x'$ with a tagged neutron\",\n",
    "         do_add_grid=True, do_add_legend=True, fontsize=18,\n",
    "        );\n",
    "plt.legend(bbox_to_anchor=(1,1.05),loc='best',fontsize=18)"
   ]
  },
  {
   "cell_type": "markdown",
   "id": "9ce9f05e-ee5d-4a0c-b866-002cd77ca086",
   "metadata": {
    "tags": []
   },
   "source": [
    "# (4) Save results to file"
   ]
  },
  {
   "cell_type": "code",
   "execution_count": null,
   "id": "2c141d31-cb0a-4ff1-918b-4d88b337b183",
   "metadata": {},
   "outputs": [],
   "source": [
    "main_data_path = '/Users/erezcohen/Desktop/data/BAND/'\n",
    "results_data_path = main_data_path + '/' + 'Results' + '/'\n",
    "for z_bin,z_width in zip(z_bins,z_widths):\n",
    "    y    = Rpips2pims[z_bin]\n",
    "    y_err_up = Rpips2pims_errup[z_bin]\n",
    "    y_err_dw = Rpips2pims_errdw[z_bin]\n",
    "    df_to_save = pd.DataFrame({\"$x_B$\":x,\"$\\Delta x_B$\":x_err,\n",
    "                               '$R$':y,\n",
    "                               '$\\Delta R_{+}$':y_err_up,'$\\Delta R_{-}$':y_err_dw})\n",
    "    print('$z=%.2f\\pm%.2f$'%(z_bin,z_width))\n",
    "    filelabel = 'z_%.2f-%.2f'%(z_bin-z_width,z_bin+z_width)\n",
    "    filename  =  results_data_path + 'Untagged_SIDIS_ratio_' + filelabel + '.csv'\n",
    "    print(filename)\n",
    "    \n",
    "    display(df_to_save)\n",
    "    df_to_save.to_csv(filename)\n",
    "    print('saved',filename)"
   ]
  },
  {
   "cell_type": "code",
   "execution_count": null,
   "id": "bdf41773-e05a-49a5-97ba-f4bb9a96c633",
   "metadata": {},
   "outputs": [],
   "source": []
  },
  {
   "cell_type": "markdown",
   "id": "907f1735-40ec-4abf-8dbc-d8f6897d83b0",
   "metadata": {
    "jp-MarkdownHeadingCollapsed": true,
    "tags": []
   },
   "source": [
    "# arxiv"
   ]
  },
  {
   "cell_type": "markdown",
   "id": "22f08aa8-e420-478c-84da-10e722f876ca",
   "metadata": {
    "tags": []
   },
   "source": [
    "### Improve analysis timing with a focus on apply_further_selection_cuts_to_data()\n",
    "Check timing of the function and improve it, as well as memory usage"
   ]
  },
  {
   "cell_type": "code",
   "execution_count": 146,
   "id": "f4b0417c-e688-4c84-b20b-eccc6228d188",
   "metadata": {},
   "outputs": [
    {
     "name": "stdout",
     "output_type": "stream",
     "text": [
      "Applying selection cuts not previously imposed\n",
      "(1) DATA\n",
      "(e,e'π)\n",
      "Apply a π+/π- acceptance matching cut on the in p-theta plane\n",
      "849943\n",
      "564052\n",
      "applying p-theta cut only to 1234060 events\n",
      "513369\n",
      "271407\n",
      "Apply a cut on the missing mass of a (e,e'π) reaction: 2.5<Mx<5.0 GeV/c2\n",
      "(e,e π+ )\n",
      "1234060 events before cut\n",
      "1679299 events after p-theta cut (136.1 %)\n",
      "1536045 events after M_X cut (124.5 %)\n",
      "(e,e π- )\n",
      "529918 events before cut\n",
      "1012857 events after p-theta cut (191.1 %)\n",
      "937092 events after M_X cut (176.8 %)\n",
      " \n",
      "Done applying selection cuts not previously imposed\n"
     ]
    },
    {
     "data": {
      "text/plain": [
       "13.38524674799919"
      ]
     },
     "execution_count": 146,
     "metadata": {},
     "output_type": "execute_result"
    }
   ],
   "source": [
    "import timeit\n",
    "timeit.timeit(\"apply_further_selection_cuts_to_data(fdebug=2, NeventsMax=-1)\", \n",
    "              setup=\"from __main__ import apply_further_selection_cuts_to_data\",number=1)"
   ]
  },
  {
   "cell_type": "code",
   "execution_count": 48,
   "id": "ff5a323f-f94f-4c55-a27b-8ebfb9031a6d",
   "metadata": {},
   "outputs": [
    {
     "data": {
      "text/html": [
       "<div>\n",
       "<style scoped>\n",
       "    .dataframe tbody tr th:only-of-type {\n",
       "        vertical-align: middle;\n",
       "    }\n",
       "\n",
       "    .dataframe tbody tr th {\n",
       "        vertical-align: top;\n",
       "    }\n",
       "\n",
       "    .dataframe thead th {\n",
       "        text-align: right;\n",
       "    }\n",
       "</style>\n",
       "<table border=\"1\" class=\"dataframe\">\n",
       "  <thead>\n",
       "    <tr style=\"text-align: right;\">\n",
       "      <th></th>\n",
       "      <th>runnum</th>\n",
       "      <th>evnum</th>\n",
       "      <th>e_P</th>\n",
       "      <th>e_Theta</th>\n",
       "      <th>e_Phi</th>\n",
       "      <th>pi_P</th>\n",
       "      <th>pi_Theta</th>\n",
       "      <th>pi_Phi</th>\n",
       "      <th>Q2</th>\n",
       "      <th>W</th>\n",
       "      <th>xB</th>\n",
       "      <th>Zpi</th>\n",
       "      <th>M_X</th>\n",
       "      <th>e_DC_sector</th>\n",
       "      <th>pi_DC_sector</th>\n",
       "    </tr>\n",
       "  </thead>\n",
       "  <tbody>\n",
       "    <tr>\n",
       "      <th>0</th>\n",
       "      <td>6420</td>\n",
       "      <td>993</td>\n",
       "      <td>6.335938</td>\n",
       "      <td>0.175537</td>\n",
       "      <td>1.181641</td>\n",
       "      <td>1.421875</td>\n",
       "      <td>0.355469</td>\n",
       "      <td>-0.781250</td>\n",
       "      <td>1.985352</td>\n",
       "      <td>2.480469</td>\n",
       "      <td>0.273682</td>\n",
       "      <td>0.369629</td>\n",
       "      <td>3.259766</td>\n",
       "      <td>2</td>\n",
       "      <td>6</td>\n",
       "    </tr>\n",
       "    <tr>\n",
       "      <th>1</th>\n",
       "      <td>6420</td>\n",
       "      <td>1655</td>\n",
       "      <td>4.992188</td>\n",
       "      <td>0.206055</td>\n",
       "      <td>-1.996094</td>\n",
       "      <td>2.199219</td>\n",
       "      <td>0.415039</td>\n",
       "      <td>1.062500</td>\n",
       "      <td>2.154297</td>\n",
       "      <td>2.916016</td>\n",
       "      <td>0.220337</td>\n",
       "      <td>0.423340</td>\n",
       "      <td>3.589844</td>\n",
       "      <td>5</td>\n",
       "      <td>2</td>\n",
       "    </tr>\n",
       "    <tr>\n",
       "      <th>2</th>\n",
       "      <td>6420</td>\n",
       "      <td>2441</td>\n",
       "      <td>3.058594</td>\n",
       "      <td>0.283691</td>\n",
       "      <td>3.062500</td>\n",
       "      <td>4.175781</td>\n",
       "      <td>0.191284</td>\n",
       "      <td>-0.098450</td>\n",
       "      <td>2.492188</td>\n",
       "      <td>3.435547</td>\n",
       "      <td>0.185913</td>\n",
       "      <td>0.584961</td>\n",
       "      <td>3.662109</td>\n",
       "      <td>4</td>\n",
       "      <td>1</td>\n",
       "    </tr>\n",
       "    <tr>\n",
       "      <th>3</th>\n",
       "      <td>6420</td>\n",
       "      <td>3793</td>\n",
       "      <td>3.445312</td>\n",
       "      <td>0.339600</td>\n",
       "      <td>2.103516</td>\n",
       "      <td>3.009766</td>\n",
       "      <td>0.212036</td>\n",
       "      <td>0.062195</td>\n",
       "      <td>4.011719</td>\n",
       "      <td>3.089844</td>\n",
       "      <td>0.316406</td>\n",
       "      <td>0.446045</td>\n",
       "      <td>3.798828</td>\n",
       "      <td>3</td>\n",
       "      <td>1</td>\n",
       "    </tr>\n",
       "    <tr>\n",
       "      <th>4</th>\n",
       "      <td>6420</td>\n",
       "      <td>4165</td>\n",
       "      <td>4.324219</td>\n",
       "      <td>0.272461</td>\n",
       "      <td>0.204468</td>\n",
       "      <td>2.564453</td>\n",
       "      <td>0.572266</td>\n",
       "      <td>-2.738281</td>\n",
       "      <td>3.255859</td>\n",
       "      <td>2.943359</td>\n",
       "      <td>0.295166</td>\n",
       "      <td>0.437012</td>\n",
       "      <td>3.421875</td>\n",
       "      <td>1</td>\n",
       "      <td>4</td>\n",
       "    </tr>\n",
       "  </tbody>\n",
       "</table>\n",
       "</div>"
      ],
      "text/plain": [
       "   runnum  evnum       e_P   e_Theta     e_Phi      pi_P  pi_Theta    pi_Phi  \\\n",
       "0    6420    993  6.335938  0.175537  1.181641  1.421875  0.355469 -0.781250   \n",
       "1    6420   1655  4.992188  0.206055 -1.996094  2.199219  0.415039  1.062500   \n",
       "2    6420   2441  3.058594  0.283691  3.062500  4.175781  0.191284 -0.098450   \n",
       "3    6420   3793  3.445312  0.339600  2.103516  3.009766  0.212036  0.062195   \n",
       "4    6420   4165  4.324219  0.272461  0.204468  2.564453  0.572266 -2.738281   \n",
       "\n",
       "         Q2         W        xB       Zpi       M_X  e_DC_sector  pi_DC_sector  \n",
       "0  1.985352  2.480469  0.273682  0.369629  3.259766            2             6  \n",
       "1  2.154297  2.916016  0.220337  0.423340  3.589844            5             2  \n",
       "2  2.492188  3.435547  0.185913  0.584961  3.662109            4             1  \n",
       "3  4.011719  3.089844  0.316406  0.446045  3.798828            3             1  \n",
       "4  3.255859  2.943359  0.295166  0.437012  3.421875            1             4  "
      ]
     },
     "execution_count": 48,
     "metadata": {},
     "output_type": "execute_result"
    }
   ],
   "source": [
    "e_e_pi[pi_ch].keys()\n",
    "# retain only the most important features to reduce memory usage by a large pandas DataFrame\n",
    "reduced_e_e_pi = dict()\n",
    "for pi_ch in pi_charge_names:\n",
    "    reduced_e_e_pi[pi_ch] = e_e_pi[pi_ch][['runnum','evnum',\n",
    "                                           'e_P','e_Theta','e_Phi', \n",
    "                                           'pi_P', 'pi_Theta', 'pi_Phi', \n",
    "                                           'Q2', 'W', 'xB', 'Zpi',\n",
    "                                           'M_X', 'e_DC_sector', 'pi_DC_sector']]\n",
    "    reduced_e_e_pi[pi_ch] = reduced_e_e_pi[pi_ch].astype({\"evnum\": int,\n",
    "                                                          \"e_P\":np.half,\"e_Theta\":np.half,\"e_Phi\":np.half,\n",
    "                                                          \"pi_P\":np.half,'pi_Theta':np.half, 'pi_Phi':np.half,\n",
    "                                                          'Q2':np.half, 'W':np.half, 'xB':np.half, 'Zpi':np.half,\n",
    "                                                          'M_X':np.half, })\n",
    "\n",
    "reduced_e_e_pi[pi_ch][0:5]"
   ]
  },
  {
   "cell_type": "code",
   "execution_count": 157,
   "id": "55df75cd-900b-4f70-9b31-b67170dc97ab",
   "metadata": {
    "tags": []
   },
   "outputs": [
    {
     "name": "stdout",
     "output_type": "stream",
     "text": [
      "piplus\n",
      "before cuts\n",
      "<class 'pandas.core.frame.DataFrame'>\n",
      "Int64Index: 1234060 entries, 0 to 601972\n",
      "Columns: 15 entries, runnum to pi_DC_sector\n",
      "dtypes: float16(11), int64(4)\n",
      "memory usage: 73.0 MB\n",
      "None\n",
      " \n",
      "after cuts\n",
      "<class 'pandas.core.frame.DataFrame'>\n",
      "Int64Index: 1019530 entries, 0 to 632085\n",
      "Columns: 15 entries, runnum to pi_DC_sector\n",
      "dtypes: float16(11), int64(4)\n",
      "memory usage: 60.3 MB\n",
      "None\n",
      " \n",
      "piminus\n",
      "before cuts\n",
      "<class 'pandas.core.frame.DataFrame'>\n",
      "Int64Index: 529918 entries, 0 to 257777\n",
      "Columns: 15 entries, runnum to pi_DC_sector\n",
      "dtypes: float16(11), int64(4)\n",
      "memory usage: 31.3 MB\n",
      "None\n",
      " \n",
      "after cuts\n",
      "<class 'pandas.core.frame.DataFrame'>\n",
      "Int64Index: 489627 entries, 0 to 272139\n",
      "Columns: 15 entries, runnum to pi_DC_sector\n",
      "dtypes: float16(11), int64(4)\n",
      "memory usage: 29.0 MB\n",
      "None\n",
      " \n"
     ]
    }
   ],
   "source": [
    "for pi_ch in pi_charge_names:\n",
    "    print(pi_ch)\n",
    "    print('before cuts')\n",
    "    print(e_e_pi[pi_ch].info(memory_usage=\"deep\",verbose=False))\n",
    "    print(' ')    \n",
    "    # print('reduced dataframe before cuts')\n",
    "    # print(reduced_e_e_pi[pi_ch].info(memory_usage=\"deep\",verbose=False))\n",
    "    # print(' ')\n",
    "    print('after cuts')\n",
    "    print(e_e_pi_pass_cuts[pi_ch].info(memory_usage=\"deep\",verbose=False))\n",
    "    print(' ')"
   ]
  },
  {
   "cell_type": "code",
   "execution_count": 154,
   "id": "5bf958ca-e2a5-4d8a-b937-f2713b4e7a36",
   "metadata": {},
   "outputs": [
    {
     "data": {
      "text/plain": [
       "Int64Index([    11,     11,     30,     30,     31,     31,     46,     46,\n",
       "                55,     56,\n",
       "            ...\n",
       "            257738, 257742, 257742, 257745, 257748, 257748, 257771, 257771,\n",
       "            257772, 257772],\n",
       "           dtype='int64', length=937092)"
      ]
     },
     "execution_count": 154,
     "metadata": {},
     "output_type": "execute_result"
    }
   ],
   "source": [
    "e_e_pi_pass_cuts[pi_ch].index"
   ]
  },
  {
   "cell_type": "code",
   "execution_count": null,
   "id": "2578dc1b-6c08-4d65-8d92-58cfa3b61327",
   "metadata": {},
   "outputs": [],
   "source": []
  }
 ],
 "metadata": {
  "kernelspec": {
   "display_name": "Python 3 (ipykernel)",
   "language": "python",
   "name": "python3"
  },
  "language_info": {
   "codemirror_mode": {
    "name": "ipython",
    "version": 3
   },
   "file_extension": ".py",
   "mimetype": "text/x-python",
   "name": "python",
   "nbconvert_exporter": "python",
   "pygments_lexer": "ipython3",
   "version": "3.9.10"
  }
 },
 "nbformat": 4,
 "nbformat_minor": 5
}
