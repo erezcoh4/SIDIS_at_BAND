{
 "cells": [
  {
   "cell_type": "markdown",
   "id": "1e30185d-b4cf-4059-b94e-9171f6fe8c0e",
   "metadata": {
    "tags": []
   },
   "source": [
    "# Unagged cross-section ratio of $(e,e'\\pi^+)/(e,e'\\pi^+)$ \n",
    "\n",
    "$$\\left(\\frac{\\sigma(e,e'\\pi^+)}{\\sigma(e,e'\\pi^+)}\\right)$$\n",
    "\n",
    "last edit Aug-29, 2022"
   ]
  },
  {
   "cell_type": "markdown",
   "id": "79a1f377-5bd5-43ba-8a4a-4cb54f37a6bc",
   "metadata": {
    "jp-MarkdownHeadingCollapsed": true,
    "tags": []
   },
   "source": [
    "## Imports and definitions"
   ]
  },
  {
   "cell_type": "code",
   "execution_count": 1,
   "id": "004e7dab-d231-4947-8ab5-4256ea735722",
   "metadata": {},
   "outputs": [],
   "source": [
    "import sys; \n",
    "software_path = '/Users/erezcohen/Desktop/Software/'\n",
    "sys.path.insert(0, software_path + '/mySoftware/Python/');\n",
    "sys.path.insert(0, software_path + '/CLAS12/BAND/SIDIS_at_BAND/PythonAnalysis/AcceptanceCorrections/');\n",
    "sys.path.insert(0, software_path + '/CLAS12/BAND/SIDIS_at_BAND/PythonAnalysis/python_auxiliary/');\n",
    "from my_tools                     import *; \n",
    "from plot_tools                   import *;\n",
    "from my_data_analysis_tools       import *;\n",
    "from acceptance_correction_tools  import *;\n",
    "from sidis_analysis_tools         import *;"
   ]
  },
  {
   "cell_type": "code",
   "execution_count": 2,
   "id": "f2574d18-d52b-4015-bdf4-587d286f483d",
   "metadata": {},
   "outputs": [],
   "source": [
    "%config InlineBackend.figure_format = 'retina'\n",
    "plt.rcParams['mathtext.fontset']    = 'stix'\n",
    "plt.rcParams['font.family']         = 'STIXGeneral'"
   ]
  },
  {
   "cell_type": "markdown",
   "id": "64686df2-853e-4af6-8a73-3909b0743e0b",
   "metadata": {
    "tags": []
   },
   "source": [
    "## (1) Load data"
   ]
  },
  {
   "cell_type": "code",
   "execution_count": null,
   "id": "931f315e-9551-4fda-93a6-d597b7a017c4",
   "metadata": {},
   "outputs": [],
   "source": [
    "\n",
    "# ----------------------- #\n",
    "def load_SIDIS_data(runs_filename  = \"good_runs_10-2-final.txt\",\n",
    "                    main_data_path = '/Users/erezcohen/Desktop/data/BAND/',\n",
    "                    Nruns          = 1,\n",
    "                    do_e_e_pi      = True,\n",
    "                    do_e_e_pi_n    = True,\n",
    "                    do_e_e_pi_FreeP= True,\n",
    "                    do_all_vars    = False,\n",
    "                    fdebug         = 2,\n",
    "                    prefix         = \"sidisdvcs\",\n",
    "                    subdirname     = \"\",\n",
    "                    FreeP_prefix   = \"ntupleNew\"):#{\n",
    "    '''\n",
    "    Load SIDIS data, and fill e_e_pi and e_e_pi_n with data\n",
    "    last update Sep-8, 2022\n",
    "    \n",
    "    input:\n",
    "    -------------\n",
    "    do_e_e_pi       flag to read d(e,e'π) data  from RGB - takes much time for a large number of runs\n",
    "    do_e_e_pi_n     flag to read d(e,e'πn) data from RGB - takes less time\n",
    "    do_e_e_pi_FreeP flag to read p(e,e'π) data from RGA  - takes much time\n",
    "    prefix          \"sidisdvcs\" / \"inc\"      - inclusive skimming train\n",
    "    subdirname      \"With_W0.5cut\" / \"With_W2.5cut\"\n",
    "    \n",
    "    Comments:\n",
    "    -------------\n",
    "    e_e_pi, e_e_pi_n, e_e_pi_FreeP       dict(['piplus','piminus'])\n",
    "    e.g. :\n",
    "    e_e_pi['piplus'] = pandas.DataFrame( (e,e'π) events data )\n",
    "    \n",
    "    '''\n",
    "    global e_e_pi, e_e_pi_n, e_e_pi_FreeP;\n",
    "\n",
    "    e_e_pi_data_path       = main_data_path + 'SIDIS_skimming/' + prefix + '/' + subdirname + '/'\n",
    "    e_e_pi_n_data_path     = main_data_path + 'merged_SIDIS_and_BAND_skimming/'\n",
    "    e_e_pi_FreeP_data_path = main_data_path + 'RGA_Free_proton/'\n",
    "\n",
    "    runs = read_run_nunmbers(runs_filename=runs_filename,Nruns=Nruns)\n",
    "    \n",
    "    for runnum,runIdx in zip(runs,range(len(runs))):#{\n",
    "        if fdebug>1: print('Run number ',runnum,'(%d/%d runs)'%(runIdx+1,len(runs)))\n",
    "        for pi_charge_name,pi_print in zip(pi_charge_names,pi_prints):\n",
    "            if do_e_e_pi:#{\n",
    "                if do_all_vars:\n",
    "                    eepi   = pd.read_csv(e_e_pi_data_path\n",
    "                                     +'skimmed_SIDIS_'\n",
    "                                     +prefix + '_'\n",
    "                                     +'00%d_e_%s_selected_eepi_kinematics.csv'%(runnum,pi_charge_name))\n",
    "\n",
    "                else: # more economic\n",
    "                    eepi   = pd.read_csv(e_e_pi_data_path\n",
    "                                     +'skimmed_SIDIS_'\n",
    "                                     +prefix + '_'\n",
    "                                     +'00%d_e_%s_selected_eepi_kinematics.csv'%(runnum,pi_charge_name),\n",
    "                                     usecols=['runnum','evnum',\n",
    "                                              'e_P','e_Theta','e_Phi',\n",
    "                                              'pi_P', 'pi_Theta', 'pi_Phi',\n",
    "                                              'Q2', 'W',\n",
    "                                              'xB', 'Zpi',\n",
    "                                              'M_x', 'e_DC_sector',\n",
    "                                              'pi_DC_sector','pi_qFrame_pT','pi_qFrame_pL'],\n",
    "                                     dtype={'runnum':int,'evnum': int,\n",
    "                                            'e_DC_sector':int, 'pi_DC_sector':int,\n",
    "                                            'e_P':np.half,'e_Theta':np.half,'e_Phi':np.half,\n",
    "                                            'pi_P':np.half,'pi_Theta':np.half, 'pi_Phi':np.half,\n",
    "                                            'Q2':np.half,  'W':np.half,\n",
    "                                            'xB':np.half, 'Zpi':np.half,\n",
    "                                            'M_x':np.half,\n",
    "                                            'pi_qFrame_pT':np.half,'pi_qFrame_pL':np.half})\n",
    "                \n",
    "                if runIdx==0: e_e_pi[pi_charge_name] = eepi\n",
    "                else:         e_e_pi[pi_charge_name] = pd.concat([e_e_pi[pi_charge_name],eepi])\n",
    "\n",
    "                \n",
    "                if fdebug>1: print('Loaded',len(eepi),\" d(e,e'\"+pi_print+\") events\")\n",
    "\n",
    "            #}\n",
    "            if do_e_e_pi_n:#{\n",
    "                eepin = pd.read_csv(e_e_pi_n_data_path\n",
    "                                    + 'skimmed_SIDIS_and_BAND_'\n",
    "                                    + prefix + '_'\n",
    "                                    + '00%d_e_%s_n.csv'%(runnum,pi_charge_name))\n",
    "                \n",
    "                if fdebug>1: print('Loaded',len(eepin),\" d(e,e'\"+pi_print+\"n) events\")\n",
    "\n",
    "                if runIdx==0: e_e_pi_n[pi_charge_name] = eepin\n",
    "                else:         e_e_pi_n[pi_charge_name] = pd.concat([e_e_pi_n[pi_charge_name],eepin])\n",
    "            #}\n",
    "        #}\n",
    "    #}\n",
    "    if do_e_e_pi_FreeP:#{\n",
    "        for pi_charge_name,pi_print in zip(pi_charge_names,pi_prints):\n",
    "            if do_all_vars:\n",
    "                eepi   = pd.read_csv(e_e_pi_FreeP_data_path\n",
    "                                 +FreeP_prefix\n",
    "                                 +'_e_e_%s_selected_eepi_kinematics.csv'%(pi_charge_name))\n",
    "\n",
    "            else: # more economic\n",
    "                eepi   = pd.read_csv(e_e_pi_FreeP_data_path\n",
    "                                 +FreeP_prefix\n",
    "                                 +'_e_e_%s_selected_eepi_kinematics.csv'%(pi_charge_name),\n",
    "                                 usecols=['runnum','evnum',\n",
    "                                          'e_P','e_Theta','e_Phi',\n",
    "                                          'pi_P', 'pi_Theta', 'pi_Phi',\n",
    "                                          'Q2', 'W',\n",
    "                                          'xB', 'Zpi',\n",
    "                                          'M_x', 'e_DC_sector', 'pi_DC_sector','pi_qFrame_pT','pi_qFrame_pL'],\n",
    "                                 dtype={'runnum':int,'evnum': int,\n",
    "                                        'e_DC_sector':int, 'pi_DC_sector':int,\n",
    "                                        'e_P':np.half,'e_Theta':np.half,'e_Phi':np.half,\n",
    "                                        'pi_P':np.half,'pi_Theta':np.half, 'pi_Phi':np.half,\n",
    "                                        'Q2':np.half,  'W':np.half,\n",
    "                                        'xB':np.half, 'Zpi':np.half,\n",
    "                                        'M_x':np.half,\n",
    "                                        'pi_qFrame_pT':np.half,'pi_qFrame_pL':np.half})\n",
    "            \n",
    "            # Aug-2022: in e_e_pi_FreeP we only have 1 data-file\n",
    "            e_e_pi_FreeP[pi_charge_name] = eepi\n",
    "#            if runIdx==0: e_e_pi_FreeP[pi_charge_name] = eepi\n",
    "#            else:         e_e_pi_FreeP[pi_charge_name] = pd.concat([e_e_pi_FreeP[pi_charge_name],eepi])\n",
    "            if fdebug>1: print('Loaded',len(eepi),\" p(e,e'\"+pi_print+\") events\")\n",
    "        #}\n",
    "    #}\n",
    "       \n",
    "    print('Done loading files.')\n",
    "    \n",
    "    if fdebug>0:\n",
    "        print('')\n",
    "        print('Total statistics:')\n",
    "        for pi_charge_name,pi_print in zip(pi_charge_names,pi_prints):\n",
    "            if do_e_e_pi:       print(len(e_e_pi[pi_charge_name])      ,\" d(e,e'\"+pi_print+\")  events\")\n",
    "            if do_e_e_pi_n:     print(len(e_e_pi_n[pi_charge_name])    ,\" d(e,e'\"+pi_print+\"n) events\")\n",
    "            if do_e_e_pi_FreeP: print(len(e_e_pi_FreeP[pi_charge_name]),\" p(e,e'\"+pi_print+\")  events\")\n",
    "    #}\n",
    "#}\n",
    "# ----------------------- #\n",
    "\n",
    "\n"
   ]
  },
  {
   "cell_type": "code",
   "execution_count": 3,
   "id": "6c39591f-b29f-4220-be0f-b3618ae2a560",
   "metadata": {
    "tags": []
   },
   "outputs": [
    {
     "ename": "ValueError",
     "evalue": "Usecols do not match columns, columns expected but not found: ['W_d', 'M_x_d']",
     "output_type": "error",
     "traceback": [
      "\u001b[0;31m---------------------------------------------------------------------------\u001b[0m",
      "\u001b[0;31mValueError\u001b[0m                                Traceback (most recent call last)",
      "\u001b[0;32m/var/folders/42/n5_htl9n34j9wpgd5rqsnmv40000gn/T/ipykernel_95012/2550194559.py\u001b[0m in \u001b[0;36m<module>\u001b[0;34m\u001b[0m\n\u001b[0;32m----> 1\u001b[0;31m \u001b[0mload_SIDIS_data\u001b[0m\u001b[0;34m(\u001b[0m \u001b[0mNruns\u001b[0m \u001b[0;34m=\u001b[0m \u001b[0;34m-\u001b[0m\u001b[0;36m1\u001b[0m\u001b[0;34m,\u001b[0m \u001b[0mdo_e_e_pi_n\u001b[0m\u001b[0;34m=\u001b[0m\u001b[0;32mFalse\u001b[0m\u001b[0;34m,\u001b[0m \u001b[0mdo_e_e_pi_FreeP\u001b[0m\u001b[0;34m=\u001b[0m\u001b[0;32mFalse\u001b[0m\u001b[0;34m,\u001b[0m \u001b[0mfdebug\u001b[0m\u001b[0;34m=\u001b[0m\u001b[0;36m0\u001b[0m\u001b[0;34m,\u001b[0m \u001b[0;34m)\u001b[0m\u001b[0;34m\u001b[0m\u001b[0;34m\u001b[0m\u001b[0m\n\u001b[0m",
      "\u001b[0;32m~/Desktop/Software//CLAS12/BAND/SIDIS_at_BAND/PythonAnalysis/python_auxiliary/sidis_analysis_tools.py\u001b[0m in \u001b[0;36mload_SIDIS_data\u001b[0;34m(runs_filename, main_data_path, Nruns, do_e_e_pi, do_e_e_pi_n, do_e_e_pi_FreeP, do_all_vars, fdebug, prefix, subdirname, FreeP_prefix)\u001b[0m\n\u001b[1;32m    452\u001b[0m \u001b[0;34m\u001b[0m\u001b[0m\n\u001b[1;32m    453\u001b[0m                 \u001b[0;32melse\u001b[0m\u001b[0;34m:\u001b[0m \u001b[0;31m# more economic\u001b[0m\u001b[0;34m\u001b[0m\u001b[0;34m\u001b[0m\u001b[0m\n\u001b[0;32m--> 454\u001b[0;31m                     eepi   = pd.read_csv(e_e_pi_data_path\n\u001b[0m\u001b[1;32m    455\u001b[0m                                      \u001b[0;34m+\u001b[0m\u001b[0;34m'skimmed_SIDIS_'\u001b[0m\u001b[0;34m\u001b[0m\u001b[0;34m\u001b[0m\u001b[0m\n\u001b[1;32m    456\u001b[0m                                      \u001b[0;34m+\u001b[0m\u001b[0mprefix\u001b[0m \u001b[0;34m+\u001b[0m \u001b[0;34m'_'\u001b[0m\u001b[0;34m\u001b[0m\u001b[0;34m\u001b[0m\u001b[0m\n",
      "\u001b[0;32m/usr/local/lib/python3.9/site-packages/pandas/util/_decorators.py\u001b[0m in \u001b[0;36mwrapper\u001b[0;34m(*args, **kwargs)\u001b[0m\n\u001b[1;32m    309\u001b[0m                     \u001b[0mstacklevel\u001b[0m\u001b[0;34m=\u001b[0m\u001b[0mstacklevel\u001b[0m\u001b[0;34m,\u001b[0m\u001b[0;34m\u001b[0m\u001b[0;34m\u001b[0m\u001b[0m\n\u001b[1;32m    310\u001b[0m                 )\n\u001b[0;32m--> 311\u001b[0;31m             \u001b[0;32mreturn\u001b[0m \u001b[0mfunc\u001b[0m\u001b[0;34m(\u001b[0m\u001b[0;34m*\u001b[0m\u001b[0margs\u001b[0m\u001b[0;34m,\u001b[0m \u001b[0;34m**\u001b[0m\u001b[0mkwargs\u001b[0m\u001b[0;34m)\u001b[0m\u001b[0;34m\u001b[0m\u001b[0;34m\u001b[0m\u001b[0m\n\u001b[0m\u001b[1;32m    312\u001b[0m \u001b[0;34m\u001b[0m\u001b[0m\n\u001b[1;32m    313\u001b[0m         \u001b[0;32mreturn\u001b[0m \u001b[0mwrapper\u001b[0m\u001b[0;34m\u001b[0m\u001b[0;34m\u001b[0m\u001b[0m\n",
      "\u001b[0;32m/usr/local/lib/python3.9/site-packages/pandas/io/parsers/readers.py\u001b[0m in \u001b[0;36mread_csv\u001b[0;34m(filepath_or_buffer, sep, delimiter, header, names, index_col, usecols, squeeze, prefix, mangle_dupe_cols, dtype, engine, converters, true_values, false_values, skipinitialspace, skiprows, skipfooter, nrows, na_values, keep_default_na, na_filter, verbose, skip_blank_lines, parse_dates, infer_datetime_format, keep_date_col, date_parser, dayfirst, cache_dates, iterator, chunksize, compression, thousands, decimal, lineterminator, quotechar, quoting, doublequote, escapechar, comment, encoding, encoding_errors, dialect, error_bad_lines, warn_bad_lines, on_bad_lines, delim_whitespace, low_memory, memory_map, float_precision, storage_options)\u001b[0m\n\u001b[1;32m    584\u001b[0m     \u001b[0mkwds\u001b[0m\u001b[0;34m.\u001b[0m\u001b[0mupdate\u001b[0m\u001b[0;34m(\u001b[0m\u001b[0mkwds_defaults\u001b[0m\u001b[0;34m)\u001b[0m\u001b[0;34m\u001b[0m\u001b[0;34m\u001b[0m\u001b[0m\n\u001b[1;32m    585\u001b[0m \u001b[0;34m\u001b[0m\u001b[0m\n\u001b[0;32m--> 586\u001b[0;31m     \u001b[0;32mreturn\u001b[0m \u001b[0m_read\u001b[0m\u001b[0;34m(\u001b[0m\u001b[0mfilepath_or_buffer\u001b[0m\u001b[0;34m,\u001b[0m \u001b[0mkwds\u001b[0m\u001b[0;34m)\u001b[0m\u001b[0;34m\u001b[0m\u001b[0;34m\u001b[0m\u001b[0m\n\u001b[0m\u001b[1;32m    587\u001b[0m \u001b[0;34m\u001b[0m\u001b[0m\n\u001b[1;32m    588\u001b[0m \u001b[0;34m\u001b[0m\u001b[0m\n",
      "\u001b[0;32m/usr/local/lib/python3.9/site-packages/pandas/io/parsers/readers.py\u001b[0m in \u001b[0;36m_read\u001b[0;34m(filepath_or_buffer, kwds)\u001b[0m\n\u001b[1;32m    480\u001b[0m \u001b[0;34m\u001b[0m\u001b[0m\n\u001b[1;32m    481\u001b[0m     \u001b[0;31m# Create the parser.\u001b[0m\u001b[0;34m\u001b[0m\u001b[0;34m\u001b[0m\u001b[0m\n\u001b[0;32m--> 482\u001b[0;31m     \u001b[0mparser\u001b[0m \u001b[0;34m=\u001b[0m \u001b[0mTextFileReader\u001b[0m\u001b[0;34m(\u001b[0m\u001b[0mfilepath_or_buffer\u001b[0m\u001b[0;34m,\u001b[0m \u001b[0;34m**\u001b[0m\u001b[0mkwds\u001b[0m\u001b[0;34m)\u001b[0m\u001b[0;34m\u001b[0m\u001b[0;34m\u001b[0m\u001b[0m\n\u001b[0m\u001b[1;32m    483\u001b[0m \u001b[0;34m\u001b[0m\u001b[0m\n\u001b[1;32m    484\u001b[0m     \u001b[0;32mif\u001b[0m \u001b[0mchunksize\u001b[0m \u001b[0;32mor\u001b[0m \u001b[0miterator\u001b[0m\u001b[0;34m:\u001b[0m\u001b[0;34m\u001b[0m\u001b[0;34m\u001b[0m\u001b[0m\n",
      "\u001b[0;32m/usr/local/lib/python3.9/site-packages/pandas/io/parsers/readers.py\u001b[0m in \u001b[0;36m__init__\u001b[0;34m(self, f, engine, **kwds)\u001b[0m\n\u001b[1;32m    809\u001b[0m             \u001b[0mself\u001b[0m\u001b[0;34m.\u001b[0m\u001b[0moptions\u001b[0m\u001b[0;34m[\u001b[0m\u001b[0;34m\"has_index_names\"\u001b[0m\u001b[0;34m]\u001b[0m \u001b[0;34m=\u001b[0m \u001b[0mkwds\u001b[0m\u001b[0;34m[\u001b[0m\u001b[0;34m\"has_index_names\"\u001b[0m\u001b[0;34m]\u001b[0m\u001b[0;34m\u001b[0m\u001b[0;34m\u001b[0m\u001b[0m\n\u001b[1;32m    810\u001b[0m \u001b[0;34m\u001b[0m\u001b[0m\n\u001b[0;32m--> 811\u001b[0;31m         \u001b[0mself\u001b[0m\u001b[0;34m.\u001b[0m\u001b[0m_engine\u001b[0m \u001b[0;34m=\u001b[0m \u001b[0mself\u001b[0m\u001b[0;34m.\u001b[0m\u001b[0m_make_engine\u001b[0m\u001b[0;34m(\u001b[0m\u001b[0mself\u001b[0m\u001b[0;34m.\u001b[0m\u001b[0mengine\u001b[0m\u001b[0;34m)\u001b[0m\u001b[0;34m\u001b[0m\u001b[0;34m\u001b[0m\u001b[0m\n\u001b[0m\u001b[1;32m    812\u001b[0m \u001b[0;34m\u001b[0m\u001b[0m\n\u001b[1;32m    813\u001b[0m     \u001b[0;32mdef\u001b[0m \u001b[0mclose\u001b[0m\u001b[0;34m(\u001b[0m\u001b[0mself\u001b[0m\u001b[0;34m)\u001b[0m\u001b[0;34m:\u001b[0m\u001b[0;34m\u001b[0m\u001b[0;34m\u001b[0m\u001b[0m\n",
      "\u001b[0;32m/usr/local/lib/python3.9/site-packages/pandas/io/parsers/readers.py\u001b[0m in \u001b[0;36m_make_engine\u001b[0;34m(self, engine)\u001b[0m\n\u001b[1;32m   1038\u001b[0m             )\n\u001b[1;32m   1039\u001b[0m         \u001b[0;31m# error: Too many arguments for \"ParserBase\"\u001b[0m\u001b[0;34m\u001b[0m\u001b[0;34m\u001b[0m\u001b[0m\n\u001b[0;32m-> 1040\u001b[0;31m         \u001b[0;32mreturn\u001b[0m \u001b[0mmapping\u001b[0m\u001b[0;34m[\u001b[0m\u001b[0mengine\u001b[0m\u001b[0;34m]\u001b[0m\u001b[0;34m(\u001b[0m\u001b[0mself\u001b[0m\u001b[0;34m.\u001b[0m\u001b[0mf\u001b[0m\u001b[0;34m,\u001b[0m \u001b[0;34m**\u001b[0m\u001b[0mself\u001b[0m\u001b[0;34m.\u001b[0m\u001b[0moptions\u001b[0m\u001b[0;34m)\u001b[0m  \u001b[0;31m# type: ignore[call-arg]\u001b[0m\u001b[0;34m\u001b[0m\u001b[0;34m\u001b[0m\u001b[0m\n\u001b[0m\u001b[1;32m   1041\u001b[0m \u001b[0;34m\u001b[0m\u001b[0m\n\u001b[1;32m   1042\u001b[0m     \u001b[0;32mdef\u001b[0m \u001b[0m_failover_to_python\u001b[0m\u001b[0;34m(\u001b[0m\u001b[0mself\u001b[0m\u001b[0;34m)\u001b[0m\u001b[0;34m:\u001b[0m\u001b[0;34m\u001b[0m\u001b[0;34m\u001b[0m\u001b[0m\n",
      "\u001b[0;32m/usr/local/lib/python3.9/site-packages/pandas/io/parsers/c_parser_wrapper.py\u001b[0m in \u001b[0;36m__init__\u001b[0;34m(self, src, **kwds)\u001b[0m\n\u001b[1;32m    133\u001b[0m                 \u001b[0mself\u001b[0m\u001b[0;34m.\u001b[0m\u001b[0morig_names\u001b[0m\u001b[0;34m\u001b[0m\u001b[0;34m\u001b[0m\u001b[0m\n\u001b[1;32m    134\u001b[0m             ):\n\u001b[0;32m--> 135\u001b[0;31m                 \u001b[0mself\u001b[0m\u001b[0;34m.\u001b[0m\u001b[0m_validate_usecols_names\u001b[0m\u001b[0;34m(\u001b[0m\u001b[0musecols\u001b[0m\u001b[0;34m,\u001b[0m \u001b[0mself\u001b[0m\u001b[0;34m.\u001b[0m\u001b[0morig_names\u001b[0m\u001b[0;34m)\u001b[0m\u001b[0;34m\u001b[0m\u001b[0;34m\u001b[0m\u001b[0m\n\u001b[0m\u001b[1;32m    136\u001b[0m \u001b[0;34m\u001b[0m\u001b[0m\n\u001b[1;32m    137\u001b[0m             \u001b[0;31m# error: Cannot determine type of 'names'\u001b[0m\u001b[0;34m\u001b[0m\u001b[0;34m\u001b[0m\u001b[0m\n",
      "\u001b[0;32m/usr/local/lib/python3.9/site-packages/pandas/io/parsers/base_parser.py\u001b[0m in \u001b[0;36m_validate_usecols_names\u001b[0;34m(self, usecols, names)\u001b[0m\n\u001b[1;32m    864\u001b[0m         \u001b[0mmissing\u001b[0m \u001b[0;34m=\u001b[0m \u001b[0;34m[\u001b[0m\u001b[0mc\u001b[0m \u001b[0;32mfor\u001b[0m \u001b[0mc\u001b[0m \u001b[0;32min\u001b[0m \u001b[0musecols\u001b[0m \u001b[0;32mif\u001b[0m \u001b[0mc\u001b[0m \u001b[0;32mnot\u001b[0m \u001b[0;32min\u001b[0m \u001b[0mnames\u001b[0m\u001b[0;34m]\u001b[0m\u001b[0;34m\u001b[0m\u001b[0;34m\u001b[0m\u001b[0m\n\u001b[1;32m    865\u001b[0m         \u001b[0;32mif\u001b[0m \u001b[0mlen\u001b[0m\u001b[0;34m(\u001b[0m\u001b[0mmissing\u001b[0m\u001b[0;34m)\u001b[0m \u001b[0;34m>\u001b[0m \u001b[0;36m0\u001b[0m\u001b[0;34m:\u001b[0m\u001b[0;34m\u001b[0m\u001b[0;34m\u001b[0m\u001b[0m\n\u001b[0;32m--> 866\u001b[0;31m             raise ValueError(\n\u001b[0m\u001b[1;32m    867\u001b[0m                 \u001b[0;34mf\"Usecols do not match columns, columns expected but not found: \"\u001b[0m\u001b[0;34m\u001b[0m\u001b[0;34m\u001b[0m\u001b[0m\n\u001b[1;32m    868\u001b[0m                 \u001b[0;34mf\"{missing}\"\u001b[0m\u001b[0;34m\u001b[0m\u001b[0;34m\u001b[0m\u001b[0m\n",
      "\u001b[0;31mValueError\u001b[0m: Usecols do not match columns, columns expected but not found: ['W_d', 'M_x_d']"
     ]
    }
   ],
   "source": [
    "load_SIDIS_data( Nruns = -1, do_e_e_pi_n=False, do_e_e_pi_FreeP=False, fdebug=0, )"
   ]
  },
  {
   "cell_type": "markdown",
   "id": "76846275-06f0-410a-9620-374410566b19",
   "metadata": {
    "jp-MarkdownHeadingCollapsed": true,
    "tags": []
   },
   "source": [
    "## (2) Apply selection cuts not previously imposed"
   ]
  },
  {
   "cell_type": "code",
   "execution_count": null,
   "id": "da52aa49-0100-4fa4-bf1b-e264ee5e6e11",
   "metadata": {},
   "outputs": [],
   "source": [
    "import time"
   ]
  },
  {
   "cell_type": "code",
   "execution_count": null,
   "id": "94c8993d-72df-4d34-8441-e0003f0c9004",
   "metadata": {},
   "outputs": [],
   "source": [
    "print('number of pi+ events: %.1f'%(len(e_e_pi['piplus'])/1e6),'M')"
   ]
  },
  {
   "cell_type": "code",
   "execution_count": null,
   "id": "2ada605e-7795-407d-a008-ee59bf7145ca",
   "metadata": {},
   "outputs": [],
   "source": [
    "Nevents = -1\n",
    "t0= time.time()\n",
    "e_e_pi_pass_cuts,_,_,_ = apply_further_selection_cuts_to_data(fdebug=1, \n",
    "                                                            NeventsMax=Nevents,\n",
    "                                                            NMaxPerSubset=500000);\n",
    "t1 = time.time() \n",
    "print(\"Time elapsed: %.2f\"%(t1 - t0), 'sec (%g us/event)'%((t1 - t0)/Nevents*1.e6)) # CPU seconds elapsed (floating point)"
   ]
  },
  {
   "cell_type": "markdown",
   "id": "36cd99bc-210a-4f0a-9e1e-213fe9819cfa",
   "metadata": {
    "jp-MarkdownHeadingCollapsed": true,
    "tags": []
   },
   "source": [
    "## (3) Extract cross-section ratio as a function of Bjorken $x$\n",
    "For a standing proton use $x_B$, defined as\n",
    "$ x_B = Q^2/2m_p\\omega$"
   ]
  },
  {
   "cell_type": "code",
   "execution_count": null,
   "id": "efd61cf3-ee4f-4d75-a037-e27bb0591ac6",
   "metadata": {},
   "outputs": [],
   "source": [
    "z_bins   = np.arange(0.3,0.85,0.05)\n",
    "z_widths = 0.01*np.ones(len(z_bins))\n",
    "x_bins   = np.linspace(0.2,0.6,11)\n",
    "x        = (x_bins[1:] + x_bins[:-1])/2\n",
    "x_err    = (x_bins[1:] - x_bins[:-1])/2\n",
    "print('x bins:',x_bins)\n",
    "print('z bins:',z_bins)\n",
    "for z_bin,z_width in zip(z_bins,z_widths):\n",
    "    z_min,z_max = z_bin-z_width, z_bin+z_width\n",
    "    print('%.3f < z < %.3f:'%(z_min,z_max))"
   ]
  },
  {
   "cell_type": "code",
   "execution_count": null,
   "id": "36949ea3-6869-48bf-85ce-b6c8ae20c857",
   "metadata": {},
   "outputs": [],
   "source": [
    "var_label = \"standing proton x\"\n",
    "# var_label = \"moving proton x\"\n",
    "\n",
    "if   var_label == \"standing proton x\":\n",
    "    var    = 'xB'\n",
    "    xlabel = \"Bjorken $x$\"\n",
    "    \n",
    "elif var_label == \"moving proton x\":\n",
    "    var    = 'xPrime2'\n",
    "    xlabel = \"$x' = Q^2/(W'^2 - m_N^2 + Q^2)$\"    "
   ]
  },
  {
   "cell_type": "markdown",
   "id": "9ce9f05e-ee5d-4a0c-b866-002cd77ca086",
   "metadata": {
    "tags": []
   },
   "source": [
    "# (4) Extract tabular data and save results to file"
   ]
  },
  {
   "cell_type": "code",
   "execution_count": null,
   "id": "d944d525-684b-4982-ad8d-62e6cc99ac8d",
   "metadata": {},
   "outputs": [],
   "source": [
    "extract_SIDIS_ratio(df_dict  = e_e_pi_pass_cuts,\n",
    "                           x_var    = var ,                           \n",
    "                           x_bins   = x_bins,                           \n",
    "                           z_bins   = z_bins,                           \n",
    "                           z_widths = z_widths,                           \n",
    "                           fdebug   = 0,\n",
    "                           W_min    = 2.5,\n",
    "                           prefix   = 'Untagged_SIDIS_ratio_',                           \n",
    "                           suffix   = '')"
   ]
  },
  {
   "cell_type": "markdown",
   "id": "8ecac7c8-45cb-462c-9e16-e4059958cc28",
   "metadata": {
    "tags": []
   },
   "source": [
    "## load results and plot them"
   ]
  },
  {
   "cell_type": "code",
   "execution_count": null,
   "id": "0091c2d3-4a93-48af-93ad-278735abb2b5",
   "metadata": {},
   "outputs": [],
   "source": [
    "prefix = 'Untagged_SIDIS_ratio_'\n",
    "suffix = ''\n",
    "SIDIS_results = load_SIDIS_ratio(#z_bins=z_bins,z_widths=z_widths,\n",
    "                                           prefix = prefix, suffix = suffix, doPlotResults=True)\n",
    "ax = plt.gca()\n",
    "ax.set_ylim(1,2.5);"
   ]
  },
  {
   "cell_type": "code",
   "execution_count": null,
   "id": "3041fde7-0d8d-4dd1-abcb-9c156a6781e7",
   "metadata": {},
   "outputs": [],
   "source": []
  },
  {
   "cell_type": "markdown",
   "id": "227f5513-8435-47da-a427-ec705f4ead17",
   "metadata": {
    "tags": []
   },
   "source": [
    "# (5) Extract modified results\n",
    "With no acceptance matching cut in $p-\\theta$ plane"
   ]
  },
  {
   "cell_type": "markdown",
   "id": "e09e278b-0bbc-4ea9-a209-c45133bab242",
   "metadata": {
    "jp-MarkdownHeadingCollapsed": true,
    "tags": []
   },
   "source": [
    "## (5.1) Results in different bins of M_x"
   ]
  },
  {
   "cell_type": "code",
   "execution_count": null,
   "id": "30e5ded4-ef0d-4d56-b405-735234b452fd",
   "metadata": {},
   "outputs": [],
   "source": [
    "M_x_min_arr = [0.5,1.0,1.5,2.0,2.5]\n",
    "M_x_max_arr = [1.0,1.5,2.0,2.5,3.0]"
   ]
  },
  {
   "cell_type": "code",
   "execution_count": null,
   "id": "6f7c8f9f-f993-4af4-8e91-29a7657a19f6",
   "metadata": {},
   "outputs": [],
   "source": [
    "for M_x_min,M_x_max in zip(M_x_min_arr,M_x_max_arr):\n",
    "    print(M_x_min,M_x_max)\n",
    "    extract_SIDIS_ratio(df_dict  = e_e_pi_pass_cuts,\n",
    "                        x_var    = var ,\n",
    "                        x_bins   = x_bins,\n",
    "                        z_bins   = z_bins,\n",
    "                        z_widths = z_widths,          \n",
    "                        fdebug   = 0,\n",
    "                        data_path= '/Users/erezcohen/Desktop/data/BAND/Results/Mx_bins/',\n",
    "                        prefix   = 'Untagged_SIDIS_ratio_',                    \n",
    "                        suffix   = '_Mx_%.2f-%.2f_GeV'%(M_x_min,M_x_max),\n",
    "                        M_x_min  = M_x_min,\n",
    "                        M_x_max  = M_x_max)\n",
    "    \n",
    "print('done.')"
   ]
  },
  {
   "cell_type": "code",
   "execution_count": null,
   "id": "ae74b792-907b-405e-be94-64e057a3c951",
   "metadata": {},
   "outputs": [],
   "source": []
  },
  {
   "cell_type": "markdown",
   "id": "748ae6bd-1ed7-424e-bbdb-72d7ffbe0884",
   "metadata": {
    "jp-MarkdownHeadingCollapsed": true,
    "tags": []
   },
   "source": [
    "## (5.2) extract results for many more bins in $z$"
   ]
  },
  {
   "cell_type": "code",
   "execution_count": null,
   "id": "a26d94d6-e811-4e7b-9728-b2ca141a13c5",
   "metadata": {},
   "outputs": [],
   "source": [
    "z_bins   = np.arange(0.3,0.8,0.01)\n",
    "z_widths = 0.001*np.ones(len(z_bins))\n",
    "\n",
    "prefix = 'Untagged_SIDIS_ratio_'\n",
    "suffix = ''"
   ]
  },
  {
   "cell_type": "code",
   "execution_count": null,
   "id": "a13b2641-e22b-45de-aeaf-6e794d12588b",
   "metadata": {},
   "outputs": [],
   "source": [
    "extract_SIDIS_ratio(df_dict  = e_e_pi_pass_cuts,                                \n",
    "                           x_var    = var ,                           \n",
    "                           x_bins   = x_bins,                           \n",
    "                           z_bins   = z_bins,                           \n",
    "                           z_widths = z_widths,                           \n",
    "                           fdebug   = 0,\n",
    "                           prefix   = 'Untagged_SIDIS_ratio_',                           \n",
    "                           suffix   = '')"
   ]
  },
  {
   "cell_type": "code",
   "execution_count": null,
   "id": "bb96905b-0927-444b-8f8e-80465ecb52e2",
   "metadata": {},
   "outputs": [],
   "source": [
    "SIDIS_results = load_SIDIS_ratio_DataFrame(z_bins=z_bins,z_widths=z_widths,\n",
    "                                           prefix = prefix, suffix = suffix, \n",
    "                                           doPlotResults=True)"
   ]
  },
  {
   "cell_type": "markdown",
   "id": "6d88b42e-c2b6-44f0-826a-71a9155f7aec",
   "metadata": {
    "jp-MarkdownHeadingCollapsed": true,
    "tags": []
   },
   "source": [
    "## (5.3) Results with no acceptance matching cut in $p-\\theta$ "
   ]
  },
  {
   "cell_type": "code",
   "execution_count": null,
   "id": "de6e1222-acf6-438e-b421-2ed581efab0f",
   "metadata": {},
   "outputs": [],
   "source": [
    "Nevents = -1\n",
    "t0= time.time()\n",
    "e_e_pi_pass_cuts_no_p_theta_cut,_,_ = apply_further_selection_cuts_to_data(fdebug=2,\n",
    "                                                                           NeventsMax=Nevents, \n",
    "                                                                           doAcceptanceMatchingCut=False);\n",
    "t1 = time.time() \n",
    "print(\"Time elapsed: %.2f\"%(t1 - t0), 'sec (%g us/event)'%((t1 - t0)/Nevents*1.e6)) # CPU seconds elapsed (floating point)"
   ]
  },
  {
   "cell_type": "code",
   "execution_count": null,
   "id": "edc7c911-0a6f-42a7-a51a-00ea3e9f95b9",
   "metadata": {},
   "outputs": [],
   "source": [
    "save_SIDIS_ratio_DataFrame(df_dict  = e_e_pi_pass_cuts_no_p_theta_cut,                                \n",
    "                           x_var    = var ,                           \n",
    "                           x_bins   = x_bins,                           \n",
    "                           z_bins   = z_bins,                           \n",
    "                           z_widths = z_widths,                           \n",
    "                           fdebug   = 0,\n",
    "                           prefix   = 'Untagged_SIDIS_ratio_',                           \n",
    "                           suffix   = '_No_AcceptanceMatchingCut')"
   ]
  },
  {
   "cell_type": "code",
   "execution_count": null,
   "id": "5e634444-ff81-400e-8d0e-985aea3ed1cb",
   "metadata": {},
   "outputs": [],
   "source": [
    "prefix = 'Untagged_SIDIS_ratio_'\n",
    "suffix = '_No_AcceptanceMatchingCut'\n",
    "SIDIS_results = load_SIDIS_ratio_DataFrame(prefix = prefix, suffix = suffix, doPlotResults=True)"
   ]
  },
  {
   "cell_type": "code",
   "execution_count": null,
   "id": "1f982276-588b-47c0-8f29-6120d918f25b",
   "metadata": {},
   "outputs": [],
   "source": []
  },
  {
   "cell_type": "markdown",
   "id": "907f1735-40ec-4abf-8dbc-d8f6897d83b0",
   "metadata": {
    "tags": []
   },
   "source": [
    "# arxiv"
   ]
  },
  {
   "cell_type": "code",
   "execution_count": null,
   "id": "d1e344bc-dbd5-40f1-824e-86c8744fc33d",
   "metadata": {},
   "outputs": [],
   "source": []
  },
  {
   "cell_type": "code",
   "execution_count": null,
   "id": "d54cc354-77e1-4754-927e-e59bdaef3dd2",
   "metadata": {},
   "outputs": [],
   "source": [
    "\n",
    "# Rpips2pims, Rpips2pims_errup, Rpips2pims_errdw = dict(), dict(), dict()\n",
    "# Y, dY = dict(),dict()\n",
    "# for z_bin,z_width in zip(z_bins,z_widths):\n",
    "#     z_min,z_max = z_bin-z_width,z_bin+z_width\n",
    "#     (Rpips2pims[z_bin],\n",
    "#      Rpips2pims_errup[z_bin], \n",
    "#      Rpips2pims_errdw[z_bin],_,_) = compute_ratio_pips_to_pims(df_dict=e_e_pi_pass_cuts  , \n",
    "#                                                              var=var, \n",
    "#                                                              bins=x_bins, \n",
    "#                                                              z_min=z_min,z_max=z_max)\n",
    "\n",
    "#     # fit to a constant \n",
    "#     y    = Rpips2pims[z_bin]\n",
    "#     y_err= (Rpips2pims_errup[z_bin],Rpips2pims_errdw[z_bin])\n",
    "#     p,cov = np.polyfit(x,y,deg=0,cov=True)\n",
    "#     Y[z_bin],dY[z_bin] = p[0],cov[0,0]\n",
    "\n",
    "#     # print(z_bin,Rpips2pims_n[z_bin],Rpips2pims_n_errup[z_bin],Rpips2pims_n_errdw[z_bin])\n",
    "# print('done') "
   ]
  },
  {
   "cell_type": "code",
   "execution_count": null,
   "id": "6a168637-adb6-4849-ab86-b7f2e6e17c49",
   "metadata": {},
   "outputs": [],
   "source": [
    "# fig = plt.figure(figsize=(9,6))\n",
    "# ax  = fig.add_subplot(1,1,1)\n",
    "# for z_bin,z_width in zip(z_bins,z_widths):\n",
    "#     y    = Rpips2pims[z_bin]\n",
    "#     y_err= (Rpips2pims_errup[z_bin],Rpips2pims_errdw[z_bin])\n",
    "#     x_fit = np.linspace(np.min(x),np.max(x),100)\n",
    "#     y_dw = (Y[z_bin]-dY[z_bin])*np.ones(len(x_fit))\n",
    "#     y_up = (Y[z_bin]+dY[z_bin])*np.ones(len(x_fit))\n",
    "\n",
    "#     # plot\n",
    "#     l=ax.errorbar(x=x, xerr=x_err,  y=y, yerr=y_err,\n",
    "#                 marker='o',markeredgecolor='k',\n",
    "#                 label='$z=%.2f\\pm%.2f, (\\pi^+/\\pi^-)=%.2f\\pm%.2f$'%(z_bin,z_width,Y[z_bin],dY[z_bin]))\n",
    "    \n",
    "#     ax.fill_between( x_fit, y_dw, y_up, color=l[0].get_color(), alpha=0.1)\n",
    "# set_axes(ax,xlabel,\"$N(e,e'\\pi^+)/N(e,e'\\pi^-)$\",\n",
    "#          title=\"$\\pi^+/\\pi^-$ ratio as a function of $x_B$ without a tagged neutron\",\n",
    "#          do_add_grid=True, do_add_legend=True, fontsize=18,\n",
    "#         );\n",
    "# plt.legend(bbox_to_anchor=(1,1.05),loc='best',fontsize=18)"
   ]
  },
  {
   "cell_type": "markdown",
   "id": "22f08aa8-e420-478c-84da-10e722f876ca",
   "metadata": {
    "tags": []
   },
   "source": [
    "### Improve analysis timing with a focus on apply_further_selection_cuts_to_data()\n",
    "Check timing of the function and improve it, as well as memory usage"
   ]
  },
  {
   "cell_type": "code",
   "execution_count": null,
   "id": "f4b0417c-e688-4c84-b20b-eccc6228d188",
   "metadata": {},
   "outputs": [],
   "source": [
    "import timeit\n",
    "timeit.timeit(\"apply_further_selection_cuts_to_data(fdebug=2, NeventsMax=-1)\", \n",
    "              setup=\"from __main__ import apply_further_selection_cuts_to_data\",number=1)"
   ]
  },
  {
   "cell_type": "code",
   "execution_count": null,
   "id": "ff5a323f-f94f-4c55-a27b-8ebfb9031a6d",
   "metadata": {},
   "outputs": [],
   "source": [
    "e_e_pi[pi_ch].keys()\n",
    "# retain only the most important features to reduce memory usage by a large pandas DataFrame\n",
    "reduced_e_e_pi = dict()\n",
    "for pi_ch in pi_charge_names:\n",
    "    reduced_e_e_pi[pi_ch] = e_e_pi[pi_ch][['runnum','evnum',\n",
    "                                           'e_P','e_Theta','e_Phi', \n",
    "                                           'pi_P', 'pi_Theta', 'pi_Phi', \n",
    "                                           'Q2', 'W', 'xB', 'Zpi',\n",
    "                                           'M_X', 'e_DC_sector', 'pi_DC_sector']]\n",
    "    reduced_e_e_pi[pi_ch] = reduced_e_e_pi[pi_ch].astype({\"evnum\": int,\n",
    "                                                          \"e_P\":np.half,\"e_Theta\":np.half,\"e_Phi\":np.half,\n",
    "                                                          \"pi_P\":np.half,'pi_Theta':np.half, 'pi_Phi':np.half,\n",
    "                                                          'Q2':np.half, 'W':np.half, 'xB':np.half, 'Zpi':np.half,\n",
    "                                                          'M_X':np.half, })\n",
    "\n",
    "reduced_e_e_pi[pi_ch][0:5]"
   ]
  },
  {
   "cell_type": "code",
   "execution_count": null,
   "id": "55df75cd-900b-4f70-9b31-b67170dc97ab",
   "metadata": {
    "tags": []
   },
   "outputs": [],
   "source": [
    "for pi_ch in pi_charge_names:\n",
    "    print(pi_ch)\n",
    "    print('before cuts')\n",
    "    print(e_e_pi[pi_ch].info(memory_usage=\"deep\",verbose=False))\n",
    "    print(' ')    \n",
    "    # print('reduced dataframe before cuts')\n",
    "    # print(reduced_e_e_pi[pi_ch].info(memory_usage=\"deep\",verbose=False))\n",
    "    # print(' ')\n",
    "    print('after cuts')\n",
    "    print(e_e_pi_pass_cuts[pi_ch].info(memory_usage=\"deep\",verbose=False))\n",
    "    print(' ')"
   ]
  },
  {
   "cell_type": "code",
   "execution_count": null,
   "id": "5bf958ca-e2a5-4d8a-b937-f2713b4e7a36",
   "metadata": {},
   "outputs": [],
   "source": [
    "e_e_pi_pass_cuts[pi_ch].index"
   ]
  },
  {
   "cell_type": "code",
   "execution_count": null,
   "id": "2578dc1b-6c08-4d65-8d92-58cfa3b61327",
   "metadata": {},
   "outputs": [],
   "source": []
  }
 ],
 "metadata": {
  "kernelspec": {
   "display_name": "Python 3 (ipykernel)",
   "language": "python",
   "name": "python3"
  },
  "language_info": {
   "codemirror_mode": {
    "name": "ipython",
    "version": 3
   },
   "file_extension": ".py",
   "mimetype": "text/x-python",
   "name": "python",
   "nbconvert_exporter": "python",
   "pygments_lexer": "ipython3",
   "version": "3.9.13"
  }
 },
 "nbformat": 4,
 "nbformat_minor": 5
}
