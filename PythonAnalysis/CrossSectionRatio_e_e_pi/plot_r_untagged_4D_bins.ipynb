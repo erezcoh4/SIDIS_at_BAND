{
 "cells": [
  {
   "cell_type": "markdown",
   "id": "1e30185d-b4cf-4059-b94e-9171f6fe8c0e",
   "metadata": {
    "tags": []
   },
   "source": [
    "# Plot fragmentation ratio in 4D bins of $Q^2,x_B,z,p_T$\n",
    "\n",
    "\n",
    "last edit Oct-4, 2023"
   ]
  },
  {
   "cell_type": "markdown",
   "id": "79a1f377-5bd5-43ba-8a4a-4cb54f37a6bc",
   "metadata": {
    "jp-MarkdownHeadingCollapsed": true,
    "tags": []
   },
   "source": [
    "## Imports and definitions"
   ]
  },
  {
   "cell_type": "code",
   "execution_count": 1,
   "id": "004e7dab-d231-4947-8ab5-4256ea735722",
   "metadata": {},
   "outputs": [
    {
     "name": "stdout",
     "output_type": "stream",
     "text": [
      "Welcome to JupyROOT 6.26/06\n",
      "Loaded bin migration and acceptance weights from MC calculations.\n"
     ]
    }
   ],
   "source": [
    "import sys; \n",
    "software_path = '/Users/erezcohen/Desktop/Software/'\n",
    "sys.path.insert(0, software_path + '/mySoftware/Python/');\n",
    "sys.path.insert(0, software_path + '/CLAS12/BAND/SIDIS_at_BAND/PythonAnalysis/AcceptanceCorrections/');\n",
    "sys.path.insert(0, software_path + '/CLAS12/BAND/SIDIS_at_BAND/PythonAnalysis/python_auxiliary/');\n",
    "from my_tools                     import *; \n",
    "from plot_tools                   import *;\n",
    "from my_data_analysis_tools       import *;\n",
    "from acceptance_correction_tools  import *;\n",
    "from sidis_analysis_tools         import *;"
   ]
  },
  {
   "cell_type": "code",
   "execution_count": 2,
   "id": "f2574d18-d52b-4015-bdf4-587d286f483d",
   "metadata": {},
   "outputs": [],
   "source": [
    "%config InlineBackend.figure_format = 'retina'\n",
    "plt.rcParams['mathtext.fontset']    = 'stix'\n",
    "plt.rcParams['font.family']         = 'STIXGeneral'"
   ]
  },
  {
   "cell_type": "code",
   "execution_count": 3,
   "id": "8f6237b4-1457-4cdb-bf02-a8d95b1eaf00",
   "metadata": {},
   "outputs": [],
   "source": [
    "results_path = '/Users/erezcohen/Desktop/data/BAND/Results/' + 'Results_1Oct2023/' + '4Dbins_Q2_xB_z_pT/'\n",
    "figures_path = '/Users/erezcohen/Desktop/Projects/SIDIS/FragmentationAnalysis/AnalysisNote/Figures/Results_rSIDIS/'"
   ]
  },
  {
   "cell_type": "markdown",
   "id": "64686df2-853e-4af6-8a73-3909b0743e0b",
   "metadata": {
    "tags": []
   },
   "source": [
    "## (1) Load data"
   ]
  },
  {
   "cell_type": "code",
   "execution_count": 4,
   "id": "6c39591f-b29f-4220-be0f-b3618ae2a560",
   "metadata": {
    "tags": []
   },
   "outputs": [],
   "source": [
    "df_raw_numbers_4D       = pd.read_csv( results_path + 'raw_numbers_4D.csv')\n",
    "df_corrected_numbers_4D = pd.read_csv( results_path + 'xsec_ratios_4D.csv')\n",
    "df_fragmentation_4D     = pd.read_csv( results_path + 'fragmentation_4D.csv')"
   ]
  },
  {
   "cell_type": "markdown",
   "id": "76846275-06f0-410a-9620-374410566b19",
   "metadata": {
    "tags": []
   },
   "source": [
    "# (2) Make plots"
   ]
  },
  {
   "cell_type": "markdown",
   "id": "6a689189-a8de-4c98-bde3-dd9dcf03bf97",
   "metadata": {},
   "source": [
    "## (2.1) $r(z)$ integrated over $x_B$ for different $Q^2$ bins"
   ]
  },
  {
   "cell_type": "code",
   "execution_count": 5,
   "id": "47d46647-9cdf-4c20-a056-5410bf800388",
   "metadata": {},
   "outputs": [],
   "source": [
    "Q2_min_arr,Q2_max_arr = [2],  [3];\n",
    "pT_min_arr,pT_max_arr = [0],  [0.3];\n",
    "z_min_arr ,z_max_arr  = [0.3],[0.4];"
   ]
  },
  {
   "cell_type": "code",
   "execution_count": 15,
   "id": "7fbb877f-7ee6-424e-81c2-786104a300e4",
   "metadata": {},
   "outputs": [
    {
     "data": {
      "text/html": [
       "<div>\n",
       "<style scoped>\n",
       "    .dataframe tbody tr th:only-of-type {\n",
       "        vertical-align: middle;\n",
       "    }\n",
       "\n",
       "    .dataframe tbody tr th {\n",
       "        vertical-align: top;\n",
       "    }\n",
       "\n",
       "    .dataframe thead th {\n",
       "        text-align: right;\n",
       "    }\n",
       "</style>\n",
       "<table border=\"1\" class=\"dataframe\">\n",
       "  <thead>\n",
       "    <tr style=\"text-align: right;\">\n",
       "      <th></th>\n",
       "      <th>Unnamed: 0</th>\n",
       "      <th>$Q^2_{min}$</th>\n",
       "      <th>$Q^2_{max}$</th>\n",
       "      <th>$x_B^{min}$</th>\n",
       "      <th>$x_B^{max}$</th>\n",
       "      <th>$z_{min}$</th>\n",
       "      <th>$z_{max}$</th>\n",
       "      <th>$p_T^{min}$</th>\n",
       "      <th>$p_T^{max}$</th>\n",
       "      <th>$N^{+}_w/10^3$</th>\n",
       "      <th>$N^{-}_w/10^3$</th>\n",
       "      <th>$\\Delta N^{+}_w/10^3$</th>\n",
       "      <th>$\\Delta N^{-}_w/10^3$</th>\n",
       "    </tr>\n",
       "  </thead>\n",
       "  <tbody>\n",
       "    <tr>\n",
       "      <th>0</th>\n",
       "      <td>0</td>\n",
       "      <td>2</td>\n",
       "      <td>3</td>\n",
       "      <td>0.1</td>\n",
       "      <td>0.2</td>\n",
       "      <td>0.3</td>\n",
       "      <td>0.4</td>\n",
       "      <td>0.0</td>\n",
       "      <td>0.3</td>\n",
       "      <td>123.339</td>\n",
       "      <td>75.326</td>\n",
       "      <td>0.332</td>\n",
       "      <td>0.261</td>\n",
       "    </tr>\n",
       "    <tr>\n",
       "      <th>1</th>\n",
       "      <td>1</td>\n",
       "      <td>2</td>\n",
       "      <td>3</td>\n",
       "      <td>0.2</td>\n",
       "      <td>0.3</td>\n",
       "      <td>0.3</td>\n",
       "      <td>0.4</td>\n",
       "      <td>0.0</td>\n",
       "      <td>0.3</td>\n",
       "      <td>1103.942</td>\n",
       "      <td>704.198</td>\n",
       "      <td>1.045</td>\n",
       "      <td>0.838</td>\n",
       "    </tr>\n",
       "    <tr>\n",
       "      <th>2</th>\n",
       "      <td>2</td>\n",
       "      <td>2</td>\n",
       "      <td>3</td>\n",
       "      <td>0.3</td>\n",
       "      <td>0.4</td>\n",
       "      <td>0.3</td>\n",
       "      <td>0.4</td>\n",
       "      <td>0.0</td>\n",
       "      <td>0.3</td>\n",
       "      <td>316.058</td>\n",
       "      <td>210.598</td>\n",
       "      <td>0.756</td>\n",
       "      <td>0.622</td>\n",
       "    </tr>\n",
       "    <tr>\n",
       "      <th>3</th>\n",
       "      <td>3</td>\n",
       "      <td>2</td>\n",
       "      <td>3</td>\n",
       "      <td>0.4</td>\n",
       "      <td>0.5</td>\n",
       "      <td>0.3</td>\n",
       "      <td>0.4</td>\n",
       "      <td>0.0</td>\n",
       "      <td>0.3</td>\n",
       "      <td>0.000</td>\n",
       "      <td>0.000</td>\n",
       "      <td>0.000</td>\n",
       "      <td>0.000</td>\n",
       "    </tr>\n",
       "    <tr>\n",
       "      <th>4</th>\n",
       "      <td>4</td>\n",
       "      <td>2</td>\n",
       "      <td>3</td>\n",
       "      <td>0.5</td>\n",
       "      <td>0.6</td>\n",
       "      <td>0.3</td>\n",
       "      <td>0.4</td>\n",
       "      <td>0.0</td>\n",
       "      <td>0.3</td>\n",
       "      <td>0.000</td>\n",
       "      <td>0.000</td>\n",
       "      <td>0.000</td>\n",
       "      <td>0.000</td>\n",
       "    </tr>\n",
       "    <tr>\n",
       "      <th>5</th>\n",
       "      <td>5</td>\n",
       "      <td>2</td>\n",
       "      <td>3</td>\n",
       "      <td>0.6</td>\n",
       "      <td>0.7</td>\n",
       "      <td>0.3</td>\n",
       "      <td>0.4</td>\n",
       "      <td>0.0</td>\n",
       "      <td>0.3</td>\n",
       "      <td>0.000</td>\n",
       "      <td>0.000</td>\n",
       "      <td>0.000</td>\n",
       "      <td>0.000</td>\n",
       "    </tr>\n",
       "    <tr>\n",
       "      <th>6</th>\n",
       "      <td>6</td>\n",
       "      <td>2</td>\n",
       "      <td>3</td>\n",
       "      <td>0.7</td>\n",
       "      <td>0.8</td>\n",
       "      <td>0.3</td>\n",
       "      <td>0.4</td>\n",
       "      <td>0.0</td>\n",
       "      <td>0.3</td>\n",
       "      <td>0.000</td>\n",
       "      <td>0.000</td>\n",
       "      <td>0.000</td>\n",
       "      <td>0.000</td>\n",
       "    </tr>\n",
       "  </tbody>\n",
       "</table>\n",
       "</div>"
      ],
      "text/plain": [
       "   Unnamed: 0  $Q^2_{min}$  $Q^2_{max}$  $x_B^{min}$  $x_B^{max}$  $z_{min}$  \\\n",
       "0           0            2            3          0.1          0.2        0.3   \n",
       "1           1            2            3          0.2          0.3        0.3   \n",
       "2           2            2            3          0.3          0.4        0.3   \n",
       "3           3            2            3          0.4          0.5        0.3   \n",
       "4           4            2            3          0.5          0.6        0.3   \n",
       "5           5            2            3          0.6          0.7        0.3   \n",
       "6           6            2            3          0.7          0.8        0.3   \n",
       "\n",
       "   $z_{max}$  $p_T^{min}$  $p_T^{max}$  $N^{+}_w/10^3$  $N^{-}_w/10^3$  \\\n",
       "0        0.4          0.0          0.3         123.339          75.326   \n",
       "1        0.4          0.0          0.3        1103.942         704.198   \n",
       "2        0.4          0.0          0.3         316.058         210.598   \n",
       "3        0.4          0.0          0.3           0.000           0.000   \n",
       "4        0.4          0.0          0.3           0.000           0.000   \n",
       "5        0.4          0.0          0.3           0.000           0.000   \n",
       "6        0.4          0.0          0.3           0.000           0.000   \n",
       "\n",
       "   $\\Delta N^{+}_w/10^3$  $\\Delta N^{-}_w/10^3$  \n",
       "0                  0.332                  0.261  \n",
       "1                  1.045                  0.838  \n",
       "2                  0.756                  0.622  \n",
       "3                  0.000                  0.000  \n",
       "4                  0.000                  0.000  \n",
       "5                  0.000                  0.000  \n",
       "6                  0.000                  0.000  "
      ]
     },
     "metadata": {},
     "output_type": "display_data"
    },
    {
     "name": "stdout",
     "output_type": "stream",
     "text": [
      "r: 0.466+/-0.001\n"
     ]
    }
   ],
   "source": [
    "df = df_corrected_numbers_4D;\n",
    "\n",
    "for pT_min,pT_max in zip(pT_min_arr,pT_max_arr):\n",
    "    df_pT = df[(df['$p_T^{min}$']==pT_min) & (df['$p_T^{max}$']==pT_max)]\n",
    "\n",
    "    for Q2_min,Q2_max in zip(Q2_min_arr,Q2_max_arr):\n",
    "\n",
    "        df_pT_Q2 = df_pT[(df_pT['$Q^2_{min}$']==Q2_min) & (df_pT['$Q^2_{max}$']==Q2_max)]\n",
    "\n",
    "        for z_min,z_max in zip(z_min_arr,z_max_arr):\n",
    "\n",
    "            df_pT_Q2_z = df_pT_Q2[(df_pT_Q2['$z_{min}$']==z_min)]\n",
    "\n",
    "            Npips  = 1e3 * np.sum(df_pT_Q2_z['$N^{+}_w/10^3$'])\n",
    "            dNpips = 1e3 * np.sqrt(np.sum( np.square(df_pT_Q2_z['$\\\\Delta N^{+}_w/10^3$']) ))\n",
    "\n",
    "            Npims  = 1e3 * np.sum(df_pT_Q2_z['$N^{-}_w/10^3$'])\n",
    "            dNpims = 1e3 * np.sqrt(np.sum( np.square(df_pT_Q2_z['$\\\\Delta N^{-}_w/10^3$']) ))\n",
    "            \n",
    "            # cross-section ratio in each bin\n",
    "            R, dR           = get_XsecRatio_from_Npi( Npips, Npims, dNpips, dNpims )\n",
    "            r, dr_up, dr_dw = get_r_from_CrossSectionRatio(R, dR, dR )\n",
    "            \n",
    "            display(df_pT_Q2_z)\n",
    "\n",
    "\n",
    "            print('r: %.3f+/-%.3f'%(r, dr_up))"
   ]
  },
  {
   "cell_type": "code",
   "execution_count": 11,
   "id": "4f69a3b8-d782-488f-9833-f75badd7a632",
   "metadata": {},
   "outputs": [
    {
     "data": {
      "text/plain": [
       "Index(['Unnamed: 0', '$Q^2_{min}$', '$Q^2_{max}$', '$x_B^{min}$',\n",
       "       '$x_B^{max}$', '$z_{min}$', '$z_{max}$', '$p_T^{min}$', '$p_T^{max}$',\n",
       "       '$N^{+}_w/10^3$', '$N^{-}_w/10^3$', '$\\Delta N^{+}_w/10^3$',\n",
       "       '$\\Delta N^{-}_w/10^3$'],\n",
       "      dtype='object')"
      ]
     },
     "execution_count": 11,
     "metadata": {},
     "output_type": "execute_result"
    }
   ],
   "source": [
    "df_pT_Q2_z.keys()"
   ]
  }
 ],
 "metadata": {
  "kernelspec": {
   "display_name": "Python 3 (ipykernel)",
   "language": "python",
   "name": "python3"
  },
  "language_info": {
   "codemirror_mode": {
    "name": "ipython",
    "version": 3
   },
   "file_extension": ".py",
   "mimetype": "text/x-python",
   "name": "python",
   "nbconvert_exporter": "python",
   "pygments_lexer": "ipython3",
   "version": "3.9.13"
  }
 },
 "nbformat": 4,
 "nbformat_minor": 5
}
