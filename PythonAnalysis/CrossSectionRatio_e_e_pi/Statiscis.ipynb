{
 "cells": [
  {
   "cell_type": "markdown",
   "id": "f1c61904-423c-4210-a343-4b739966d5b3",
   "metadata": {
    "tags": []
   },
   "source": [
    "# Statistics of unagged data\n",
    "\n",
    "last edit Mar-16, 2023"
   ]
  },
  {
   "cell_type": "markdown",
   "id": "2a036ee3-adfd-4741-b2b2-40bbeb11913a",
   "metadata": {
    "jp-MarkdownHeadingCollapsed": true,
    "tags": []
   },
   "source": [
    "## Imports and definitions"
   ]
  },
  {
   "cell_type": "code",
   "execution_count": 1,
   "id": "40928fae-e86d-4354-b7d5-6695b173a4c7",
   "metadata": {},
   "outputs": [],
   "source": [
    "import sys; \n",
    "software_path = '/Users/erezcohen/Desktop/Software/'\n",
    "sys.path.insert(0, software_path + '/mySoftware/Python/');\n",
    "sys.path.insert(0, software_path + '/CLAS12/BAND/SIDIS_at_BAND/PythonAnalysis/AcceptanceCorrections/');\n",
    "sys.path.insert(0, software_path + '/CLAS12/BAND/SIDIS_at_BAND/PythonAnalysis/python_auxiliary/');\n",
    "from my_tools                     import *; \n",
    "from plot_tools                   import *;\n",
    "from my_data_analysis_tools       import *;\n",
    "from acceptance_correction_tools  import *;\n",
    "from sidis_analysis_tools         import *;"
   ]
  },
  {
   "cell_type": "code",
   "execution_count": 2,
   "id": "5af9bc99-b35e-44e6-a1ae-702dc55df072",
   "metadata": {},
   "outputs": [],
   "source": [
    "%config InlineBackend.figure_format = 'retina'\n",
    "plt.rcParams['mathtext.fontset']    = 'stix'\n",
    "plt.rcParams['font.family']         = 'STIXGeneral'"
   ]
  },
  {
   "cell_type": "markdown",
   "id": "49f33200-05af-4a90-a333-f4a3a7575689",
   "metadata": {
    "tags": []
   },
   "source": [
    "## (1) Load data"
   ]
  },
  {
   "cell_type": "code",
   "execution_count": 3,
   "id": "f4843674-b8f8-4527-a6ff-ebaab2e5efa3",
   "metadata": {
    "tags": []
   },
   "outputs": [
    {
     "name": "stdout",
     "output_type": "stream",
     "text": [
      "Done loading files.\n"
     ]
    }
   ],
   "source": [
    "subdirname = \"sidisdvcs_24Mar2023_commit_cfbc431\" \n",
    "e_e_pi,_,_ = load_SIDIS_data( Nruns = -1,\n",
    "                             rgb_runs_filenames = [\"good_runs_10-2-final.txt\",\n",
    "                                                   \"good_runs_10-4.txt\",\n",
    "                                                   \"good_runs_10-6.txt\"], \n",
    "                             subdirname = subdirname,\n",
    "                             do_e_e_pi_n=False, do_e_e_pi_FreeP=False, \n",
    "                             fdebug=0 );"
   ]
  },
  {
   "cell_type": "markdown",
   "id": "99a7a20e-7198-486c-b30e-589442608e73",
   "metadata": {
    "tags": []
   },
   "source": [
    "## (2) Apply selection cuts not previously imposed"
   ]
  },
  {
   "cell_type": "code",
   "execution_count": 4,
   "id": "513b20c8-f237-4842-b682-04fa3ffc41fd",
   "metadata": {},
   "outputs": [],
   "source": [
    "import time"
   ]
  },
  {
   "cell_type": "code",
   "execution_count": 5,
   "id": "1a4b0f94-5660-435a-bafb-1487a80017f2",
   "metadata": {},
   "outputs": [
    {
     "name": "stdout",
     "output_type": "stream",
     "text": [
      "number of pi+ events: 60.3 M\n"
     ]
    }
   ],
   "source": [
    "print('number of pi+ events: %.1f'%(len(e_e_pi['piplus'])/1e6),'M')"
   ]
  },
  {
   "cell_type": "code",
   "execution_count": 6,
   "id": "4ff319ee-aaa2-4ee4-aaf6-b307670101dc",
   "metadata": {},
   "outputs": [
    {
     "name": "stdout",
     "output_type": "stream",
     "text": [
      "Applying selection cuts not previously imposed\n",
      "Apply a π+/π- acceptance matching cut on the in p-theta plane\n"
     ]
    },
    {
     "name": "stderr",
     "output_type": "stream",
     "text": [
      "/Users/erezcohen/Desktop/Software//CLAS12/BAND/SIDIS_at_BAND/PythonAnalysis/python_auxiliary/sidis_analysis_tools.py:934: FutureWarning: The frame.append method is deprecated and will be removed from pandas in a future version. Use pandas.concat instead.\n",
      "  df_after_cut = df_after_cut.append(df_in_sector_pass_cut);\n",
      "/Users/erezcohen/Desktop/Software//CLAS12/BAND/SIDIS_at_BAND/PythonAnalysis/python_auxiliary/sidis_analysis_tools.py:934: FutureWarning: The frame.append method is deprecated and will be removed from pandas in a future version. Use pandas.concat instead.\n",
      "  df_after_cut = df_after_cut.append(df_in_sector_pass_cut);\n",
      "/Users/erezcohen/Desktop/Software//CLAS12/BAND/SIDIS_at_BAND/PythonAnalysis/python_auxiliary/sidis_analysis_tools.py:934: FutureWarning: The frame.append method is deprecated and will be removed from pandas in a future version. Use pandas.concat instead.\n",
      "  df_after_cut = df_after_cut.append(df_in_sector_pass_cut);\n",
      "/Users/erezcohen/Desktop/Software//CLAS12/BAND/SIDIS_at_BAND/PythonAnalysis/python_auxiliary/sidis_analysis_tools.py:934: FutureWarning: The frame.append method is deprecated and will be removed from pandas in a future version. Use pandas.concat instead.\n",
      "  df_after_cut = df_after_cut.append(df_in_sector_pass_cut);\n",
      "/Users/erezcohen/Desktop/Software//CLAS12/BAND/SIDIS_at_BAND/PythonAnalysis/python_auxiliary/sidis_analysis_tools.py:934: FutureWarning: The frame.append method is deprecated and will be removed from pandas in a future version. Use pandas.concat instead.\n",
      "  df_after_cut = df_after_cut.append(df_in_sector_pass_cut);\n",
      "/Users/erezcohen/Desktop/Software//CLAS12/BAND/SIDIS_at_BAND/PythonAnalysis/python_auxiliary/sidis_analysis_tools.py:934: FutureWarning: The frame.append method is deprecated and will be removed from pandas in a future version. Use pandas.concat instead.\n",
      "  df_after_cut = df_after_cut.append(df_in_sector_pass_cut);\n",
      "/Users/erezcohen/Desktop/Software//CLAS12/BAND/SIDIS_at_BAND/PythonAnalysis/python_auxiliary/sidis_analysis_tools.py:934: FutureWarning: The frame.append method is deprecated and will be removed from pandas in a future version. Use pandas.concat instead.\n",
      "  df_after_cut = df_after_cut.append(df_in_sector_pass_cut);\n",
      "/Users/erezcohen/Desktop/Software//CLAS12/BAND/SIDIS_at_BAND/PythonAnalysis/python_auxiliary/sidis_analysis_tools.py:934: FutureWarning: The frame.append method is deprecated and will be removed from pandas in a future version. Use pandas.concat instead.\n",
      "  df_after_cut = df_after_cut.append(df_in_sector_pass_cut);\n",
      "/Users/erezcohen/Desktop/Software//CLAS12/BAND/SIDIS_at_BAND/PythonAnalysis/python_auxiliary/sidis_analysis_tools.py:934: FutureWarning: The frame.append method is deprecated and will be removed from pandas in a future version. Use pandas.concat instead.\n",
      "  df_after_cut = df_after_cut.append(df_in_sector_pass_cut);\n",
      "/Users/erezcohen/Desktop/Software//CLAS12/BAND/SIDIS_at_BAND/PythonAnalysis/python_auxiliary/sidis_analysis_tools.py:934: FutureWarning: The frame.append method is deprecated and will be removed from pandas in a future version. Use pandas.concat instead.\n",
      "  df_after_cut = df_after_cut.append(df_in_sector_pass_cut);\n",
      "/Users/erezcohen/Desktop/Software//CLAS12/BAND/SIDIS_at_BAND/PythonAnalysis/python_auxiliary/sidis_analysis_tools.py:934: FutureWarning: The frame.append method is deprecated and will be removed from pandas in a future version. Use pandas.concat instead.\n",
      "  df_after_cut = df_after_cut.append(df_in_sector_pass_cut);\n",
      "/Users/erezcohen/Desktop/Software//CLAS12/BAND/SIDIS_at_BAND/PythonAnalysis/python_auxiliary/sidis_analysis_tools.py:934: FutureWarning: The frame.append method is deprecated and will be removed from pandas in a future version. Use pandas.concat instead.\n",
      "  df_after_cut = df_after_cut.append(df_in_sector_pass_cut);\n"
     ]
    },
    {
     "name": "stdout",
     "output_type": "stream",
     "text": [
      "Apply a cut on the missing mass of a (e,e'π) reaction: 1.7<Mx<5.0 GeV/c2\n",
      "(e,e π+ )\n",
      "60284747 events after original cut (100.0 %)\n",
      "40927825 events after p-theta cut (67.9 %)\n",
      "33371890 events after Mx cut (55.4 %)\n",
      "33311918 events after Kinematical cut (55.3 %)\n",
      "(e,e π- )\n",
      "25164298 events after original cut (100.0 %)\n",
      "24375936 events after p-theta cut (96.9 %)\n",
      "20614743 events after Mx cut (81.9 %)\n",
      "20576698 events after Kinematical cut (81.8 %)\n",
      " \n",
      "Done applying event-selection cuts\n",
      "Time elapsed: 230.93 sec (2.30933e+08 us/event)\n"
     ]
    }
   ],
   "source": [
    "Nevents = -1\n",
    "t0= time.time()\n",
    "e_e_pi_pass_cuts,_,_,_ = apply_further_selection_cuts_to_data(fdebug=0, \n",
    "                                                            NeventsMax=Nevents);\n",
    "t1 = time.time() \n",
    "print(\"Time elapsed: %.2f\"%(t1 - t0), 'sec (%g us/event)'%((t0-t1)/Nevents*1.e6)) # CPU seconds elapsed (floating point)"
   ]
  },
  {
   "cell_type": "markdown",
   "id": "18b4c454-e3e2-4dec-8c99-94f53b421d92",
   "metadata": {},
   "source": [
    "# (3) Subdivide statistics by run number"
   ]
  },
  {
   "cell_type": "code",
   "execution_count": 7,
   "id": "c93d8ca1-332e-430b-af90-a88585d757e2",
   "metadata": {},
   "outputs": [
    {
     "name": "stdout",
     "output_type": "stream",
     "text": [
      "piplus\n",
      "10.2 12.5 M events\n",
      "10.4 11.0 M events\n",
      "10.6 9.8 M events\n",
      "Total 33.3 M\n",
      "piminus\n",
      "10.2 7.7 M events\n",
      "10.4 6.8 M events\n",
      "10.6 6.1 M events\n",
      "Total 20.6 M\n"
     ]
    }
   ],
   "source": [
    "for pi_ch in pi_charge_names:\n",
    "    print(pi_ch)\n",
    "    df = e_e_pi_pass_cuts[pi_ch];\n",
    "    Ebeam = beam_energy_from_run(df.runnum)\n",
    "    for E in [10.2,10.4,10.6]:\n",
    "        N = len(Ebeam[Ebeam==E])\n",
    "        print(E,'%.1f'%(N/1e6),'M events')\n",
    "    print('Total','%.1f'%(len(Ebeam)/1e6),'M') "
   ]
  },
  {
   "cell_type": "code",
   "execution_count": null,
   "id": "a9ef021b-2357-4f2c-a4b7-f7dfd8a4e108",
   "metadata": {},
   "outputs": [],
   "source": []
  },
  {
   "cell_type": "code",
   "execution_count": null,
   "id": "1e9c253d-d925-47a4-91e7-b6df5881e63e",
   "metadata": {},
   "outputs": [],
   "source": []
  }
 ],
 "metadata": {
  "kernelspec": {
   "display_name": "Python 3 (ipykernel)",
   "language": "python",
   "name": "python3"
  },
  "language_info": {
   "codemirror_mode": {
    "name": "ipython",
    "version": 3
   },
   "file_extension": ".py",
   "mimetype": "text/x-python",
   "name": "python",
   "nbconvert_exporter": "python",
   "pygments_lexer": "ipython3",
   "version": "3.10.10"
  }
 },
 "nbformat": 4,
 "nbformat_minor": 5
}
